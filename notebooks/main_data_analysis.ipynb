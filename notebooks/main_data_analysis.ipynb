{
 "cells": [
  {
   "cell_type": "code",
   "execution_count": 21,
   "metadata": {},
   "outputs": [],
   "source": [
    "import pandas as pd"
   ]
  },
  {
   "cell_type": "code",
   "execution_count": 30,
   "metadata": {},
   "outputs": [
    {
     "data": {
      "text/html": [
       "<div>\n",
       "<style scoped>\n",
       "    .dataframe tbody tr th:only-of-type {\n",
       "        vertical-align: middle;\n",
       "    }\n",
       "\n",
       "    .dataframe tbody tr th {\n",
       "        vertical-align: top;\n",
       "    }\n",
       "\n",
       "    .dataframe thead th {\n",
       "        text-align: right;\n",
       "    }\n",
       "</style>\n",
       "<table border=\"1\" class=\"dataframe\">\n",
       "  <thead>\n",
       "    <tr style=\"text-align: right;\">\n",
       "      <th></th>\n",
       "      <th>year</th>\n",
       "      <th>Life Ladder</th>\n",
       "      <th>Log GDP per capita</th>\n",
       "      <th>Social support</th>\n",
       "      <th>Healthy life expectancy at birth</th>\n",
       "      <th>Freedom to make life choices</th>\n",
       "      <th>Generosity</th>\n",
       "      <th>Perceptions of corruption</th>\n",
       "      <th>Positive affect</th>\n",
       "      <th>Negative affect</th>\n",
       "      <th>Confidence in national government</th>\n",
       "    </tr>\n",
       "  </thead>\n",
       "  <tbody>\n",
       "    <tr>\n",
       "      <th>count</th>\n",
       "      <td>2089.000000</td>\n",
       "      <td>2089.000000</td>\n",
       "      <td>2062.000000</td>\n",
       "      <td>2076.000000</td>\n",
       "      <td>2031.000000</td>\n",
       "      <td>2057.000000</td>\n",
       "      <td>2009.000000</td>\n",
       "      <td>1976.000000</td>\n",
       "      <td>2065.000000</td>\n",
       "      <td>2073.000000</td>\n",
       "      <td>1873.000000</td>\n",
       "    </tr>\n",
       "    <tr>\n",
       "      <th>mean</th>\n",
       "      <td>2013.727621</td>\n",
       "      <td>5.473747</td>\n",
       "      <td>9.378408</td>\n",
       "      <td>0.811542</td>\n",
       "      <td>63.180326</td>\n",
       "      <td>0.745462</td>\n",
       "      <td>0.000102</td>\n",
       "      <td>0.746474</td>\n",
       "      <td>0.651421</td>\n",
       "      <td>0.270544</td>\n",
       "      <td>0.483914</td>\n",
       "    </tr>\n",
       "    <tr>\n",
       "      <th>std</th>\n",
       "      <td>4.455614</td>\n",
       "      <td>1.115567</td>\n",
       "      <td>1.143520</td>\n",
       "      <td>0.118935</td>\n",
       "      <td>6.948546</td>\n",
       "      <td>0.140751</td>\n",
       "      <td>0.161082</td>\n",
       "      <td>0.186136</td>\n",
       "      <td>0.105954</td>\n",
       "      <td>0.085849</td>\n",
       "      <td>0.191515</td>\n",
       "    </tr>\n",
       "    <tr>\n",
       "      <th>min</th>\n",
       "      <td>2005.000000</td>\n",
       "      <td>2.178809</td>\n",
       "      <td>5.526723</td>\n",
       "      <td>0.290184</td>\n",
       "      <td>6.720000</td>\n",
       "      <td>0.257534</td>\n",
       "      <td>-0.335739</td>\n",
       "      <td>0.035198</td>\n",
       "      <td>0.178886</td>\n",
       "      <td>0.082737</td>\n",
       "      <td>0.068769</td>\n",
       "    </tr>\n",
       "    <tr>\n",
       "      <th>25%</th>\n",
       "      <td>2010.000000</td>\n",
       "      <td>4.651972</td>\n",
       "      <td>8.473547</td>\n",
       "      <td>0.747664</td>\n",
       "      <td>58.965000</td>\n",
       "      <td>0.651689</td>\n",
       "      <td>-0.113172</td>\n",
       "      <td>0.689840</td>\n",
       "      <td>0.570057</td>\n",
       "      <td>0.207652</td>\n",
       "      <td>0.334808</td>\n",
       "    </tr>\n",
       "    <tr>\n",
       "      <th>50%</th>\n",
       "      <td>2014.000000</td>\n",
       "      <td>5.405246</td>\n",
       "      <td>9.463269</td>\n",
       "      <td>0.834770</td>\n",
       "      <td>64.980003</td>\n",
       "      <td>0.767357</td>\n",
       "      <td>-0.023366</td>\n",
       "      <td>0.801339</td>\n",
       "      <td>0.662837</td>\n",
       "      <td>0.260328</td>\n",
       "      <td>0.467046</td>\n",
       "    </tr>\n",
       "    <tr>\n",
       "      <th>75%</th>\n",
       "      <td>2017.000000</td>\n",
       "      <td>6.294282</td>\n",
       "      <td>10.347656</td>\n",
       "      <td>0.904682</td>\n",
       "      <td>68.362499</td>\n",
       "      <td>0.857677</td>\n",
       "      <td>0.090584</td>\n",
       "      <td>0.870789</td>\n",
       "      <td>0.737176</td>\n",
       "      <td>0.321706</td>\n",
       "      <td>0.616302</td>\n",
       "    </tr>\n",
       "    <tr>\n",
       "      <th>max</th>\n",
       "      <td>2021.000000</td>\n",
       "      <td>8.018934</td>\n",
       "      <td>11.665803</td>\n",
       "      <td>0.987343</td>\n",
       "      <td>74.349998</td>\n",
       "      <td>0.985178</td>\n",
       "      <td>0.706377</td>\n",
       "      <td>0.983276</td>\n",
       "      <td>0.883586</td>\n",
       "      <td>0.704590</td>\n",
       "      <td>0.993604</td>\n",
       "    </tr>\n",
       "  </tbody>\n",
       "</table>\n",
       "</div>"
      ],
      "text/plain": [
       "              year  Life Ladder  Log GDP per capita  Social support  \\\n",
       "count  2089.000000  2089.000000         2062.000000     2076.000000   \n",
       "mean   2013.727621     5.473747            9.378408        0.811542   \n",
       "std       4.455614     1.115567            1.143520        0.118935   \n",
       "min    2005.000000     2.178809            5.526723        0.290184   \n",
       "25%    2010.000000     4.651972            8.473547        0.747664   \n",
       "50%    2014.000000     5.405246            9.463269        0.834770   \n",
       "75%    2017.000000     6.294282           10.347656        0.904682   \n",
       "max    2021.000000     8.018934           11.665803        0.987343   \n",
       "\n",
       "       Healthy life expectancy at birth  Freedom to make life choices  \\\n",
       "count                       2031.000000                   2057.000000   \n",
       "mean                          63.180326                      0.745462   \n",
       "std                            6.948546                      0.140751   \n",
       "min                            6.720000                      0.257534   \n",
       "25%                           58.965000                      0.651689   \n",
       "50%                           64.980003                      0.767357   \n",
       "75%                           68.362499                      0.857677   \n",
       "max                           74.349998                      0.985178   \n",
       "\n",
       "        Generosity  Perceptions of corruption  Positive affect  \\\n",
       "count  2009.000000                1976.000000      2065.000000   \n",
       "mean      0.000102                   0.746474         0.651421   \n",
       "std       0.161082                   0.186136         0.105954   \n",
       "min      -0.335739                   0.035198         0.178886   \n",
       "25%      -0.113172                   0.689840         0.570057   \n",
       "50%      -0.023366                   0.801339         0.662837   \n",
       "75%       0.090584                   0.870789         0.737176   \n",
       "max       0.706377                   0.983276         0.883586   \n",
       "\n",
       "       Negative affect  Confidence in national government  \n",
       "count      2073.000000                        1873.000000  \n",
       "mean          0.270544                           0.483914  \n",
       "std           0.085849                           0.191515  \n",
       "min           0.082737                           0.068769  \n",
       "25%           0.207652                           0.334808  \n",
       "50%           0.260328                           0.467046  \n",
       "75%           0.321706                           0.616302  \n",
       "max           0.704590                           0.993604  "
      ]
     },
     "execution_count": 30,
     "metadata": {},
     "output_type": "execute_result"
    }
   ],
   "source": [
    "# read the csv files \n",
    "df = pd.read_csv(\"../Datasets/all_years_happiness_data.csv\")\n",
    "df.describe()"
   ]
  },
  {
   "cell_type": "code",
   "execution_count": 31,
   "metadata": {},
   "outputs": [
    {
     "data": {
      "text/plain": [
       "Country name                           0\n",
       "year                                   0\n",
       "Life Ladder                            0\n",
       "Log GDP per capita                    27\n",
       "Social support                        13\n",
       "Healthy life expectancy at birth      58\n",
       "Freedom to make life choices          32\n",
       "Generosity                            80\n",
       "Perceptions of corruption            113\n",
       "Positive affect                       24\n",
       "Negative affect                       16\n",
       "Confidence in national government    216\n",
       "dtype: int64"
      ]
     },
     "execution_count": 31,
     "metadata": {},
     "output_type": "execute_result"
    }
   ],
   "source": [
    "# checking how many null values are there in each column\n",
    "\n",
    "df.isnull().sum()"
   ]
  },
  {
   "cell_type": "code",
   "execution_count": 32,
   "metadata": {},
   "outputs": [],
   "source": [
    "# remove entries (rows) which have empty values in a cell\n",
    "df.dropna(how='any',inplace=True)"
   ]
  },
  {
   "cell_type": "code",
   "execution_count": 33,
   "metadata": {},
   "outputs": [
    {
     "data": {
      "text/plain": [
       "Country name                         0\n",
       "year                                 0\n",
       "Life Ladder                          0\n",
       "Log GDP per capita                   0\n",
       "Social support                       0\n",
       "Healthy life expectancy at birth     0\n",
       "Freedom to make life choices         0\n",
       "Generosity                           0\n",
       "Perceptions of corruption            0\n",
       "Positive affect                      0\n",
       "Negative affect                      0\n",
       "Confidence in national government    0\n",
       "dtype: int64"
      ]
     },
     "execution_count": 33,
     "metadata": {},
     "output_type": "execute_result"
    }
   ],
   "source": [
    "# re-check\n",
    "df.isnull().sum()"
   ]
  },
  {
   "cell_type": "code",
   "execution_count": 37,
   "metadata": {},
   "outputs": [],
   "source": [
    "# make a new dataframe that stores entries from 2017 onwards only \n",
    "df_new = df[df['year']>2016]"
   ]
  }
 ],
 "metadata": {
  "kernelspec": {
   "display_name": "Python 3",
   "language": "python",
   "name": "python3"
  },
  "language_info": {
   "codemirror_mode": {
    "name": "ipython",
    "version": 3
   },
   "file_extension": ".py",
   "mimetype": "text/x-python",
   "name": "python",
   "nbconvert_exporter": "python",
   "pygments_lexer": "ipython3",
   "version": "3.8.10"
  },
  "orig_nbformat": 4,
  "vscode": {
   "interpreter": {
    "hash": "188060ed87c606142eed8fccff1b02af0c3bfeabb1c2fb1407a94670f4f55631"
   }
  }
 },
 "nbformat": 4,
 "nbformat_minor": 2
}
