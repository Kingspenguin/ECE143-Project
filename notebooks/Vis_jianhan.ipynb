{
 "cells": [
  {
   "cell_type": "code",
   "execution_count": 49,
   "id": "97e066f3",
   "metadata": {},
   "outputs": [],
   "source": [
    "import numpy as np\n",
    "import pandas as pd"
   ]
  },
  {
   "cell_type": "code",
   "execution_count": 50,
   "id": "a3b8c860",
   "metadata": {},
   "outputs": [
    {
     "data": {
      "text/html": [
       "<div>\n",
       "<style scoped>\n",
       "    .dataframe tbody tr th:only-of-type {\n",
       "        vertical-align: middle;\n",
       "    }\n",
       "\n",
       "    .dataframe tbody tr th {\n",
       "        vertical-align: top;\n",
       "    }\n",
       "\n",
       "    .dataframe thead th {\n",
       "        text-align: right;\n",
       "    }\n",
       "</style>\n",
       "<table border=\"1\" class=\"dataframe\">\n",
       "  <thead>\n",
       "    <tr style=\"text-align: right;\">\n",
       "      <th></th>\n",
       "      <th>Country</th>\n",
       "      <th>year</th>\n",
       "      <th>Happiness Rank</th>\n",
       "      <th>Happiness Score</th>\n",
       "      <th>Economy (GDP per Capita)</th>\n",
       "      <th>Family</th>\n",
       "      <th>Health (Life Expectancy)</th>\n",
       "      <th>Generosity</th>\n",
       "    </tr>\n",
       "  </thead>\n",
       "  <tbody>\n",
       "    <tr>\n",
       "      <th>0</th>\n",
       "      <td>Switzerland</td>\n",
       "      <td>2015</td>\n",
       "      <td>1</td>\n",
       "      <td>7.587</td>\n",
       "      <td>1.39651</td>\n",
       "      <td>1.34951</td>\n",
       "      <td>0.94143</td>\n",
       "      <td>0.29678</td>\n",
       "    </tr>\n",
       "    <tr>\n",
       "      <th>1</th>\n",
       "      <td>Iceland</td>\n",
       "      <td>2015</td>\n",
       "      <td>2</td>\n",
       "      <td>7.561</td>\n",
       "      <td>1.30232</td>\n",
       "      <td>1.40223</td>\n",
       "      <td>0.94784</td>\n",
       "      <td>0.43630</td>\n",
       "    </tr>\n",
       "    <tr>\n",
       "      <th>2</th>\n",
       "      <td>Denmark</td>\n",
       "      <td>2015</td>\n",
       "      <td>3</td>\n",
       "      <td>7.527</td>\n",
       "      <td>1.32548</td>\n",
       "      <td>1.36058</td>\n",
       "      <td>0.87464</td>\n",
       "      <td>0.34139</td>\n",
       "    </tr>\n",
       "    <tr>\n",
       "      <th>3</th>\n",
       "      <td>Norway</td>\n",
       "      <td>2015</td>\n",
       "      <td>4</td>\n",
       "      <td>7.522</td>\n",
       "      <td>1.45900</td>\n",
       "      <td>1.33095</td>\n",
       "      <td>0.88521</td>\n",
       "      <td>0.34699</td>\n",
       "    </tr>\n",
       "    <tr>\n",
       "      <th>4</th>\n",
       "      <td>Canada</td>\n",
       "      <td>2015</td>\n",
       "      <td>5</td>\n",
       "      <td>7.427</td>\n",
       "      <td>1.32629</td>\n",
       "      <td>1.32261</td>\n",
       "      <td>0.90563</td>\n",
       "      <td>0.45811</td>\n",
       "    </tr>\n",
       "  </tbody>\n",
       "</table>\n",
       "</div>"
      ],
      "text/plain": [
       "       Country  year  Happiness Rank  Happiness Score  \\\n",
       "0  Switzerland  2015               1            7.587   \n",
       "1      Iceland  2015               2            7.561   \n",
       "2      Denmark  2015               3            7.527   \n",
       "3       Norway  2015               4            7.522   \n",
       "4       Canada  2015               5            7.427   \n",
       "\n",
       "   Economy (GDP per Capita)   Family  Health (Life Expectancy)  Generosity  \n",
       "0                   1.39651  1.34951                   0.94143     0.29678  \n",
       "1                   1.30232  1.40223                   0.94784     0.43630  \n",
       "2                   1.32548  1.36058                   0.87464     0.34139  \n",
       "3                   1.45900  1.33095                   0.88521     0.34699  \n",
       "4                   1.32629  1.32261                   0.90563     0.45811  "
      ]
     },
     "execution_count": 50,
     "metadata": {},
     "output_type": "execute_result"
    }
   ],
   "source": [
    "df = pd.read_csv(\"./Happiness_data_from_2015_to_2022.csv\")\n",
    "df.head()"
   ]
  },
  {
   "cell_type": "code",
   "execution_count": null,
   "id": "1eb24e5d",
   "metadata": {},
   "outputs": [],
   "source": []
  },
  {
   "cell_type": "code",
   "execution_count": 51,
   "id": "a24b53ac",
   "metadata": {},
   "outputs": [],
   "source": [
    "from dataprep.eda import plot, plot_correlation, plot_missing,create_db_report,create_report"
   ]
  },
  {
   "cell_type": "code",
   "execution_count": 52,
   "id": "aafe22b3",
   "metadata": {},
   "outputs": [
    {
     "data": {
      "application/vnd.jupyter.widget-view+json": {
       "model_id": "",
       "version_major": 2,
       "version_minor": 0
      },
      "text/plain": [
       "  0%|          | 0/1360 [00:00<?, ?it/s]"
      ]
     },
     "metadata": {},
     "output_type": "display_data"
    }
   ],
   "source": [
    "world_report = create_report(df)"
   ]
  },
  {
   "cell_type": "code",
   "execution_count": 53,
   "id": "3cf1efb6",
   "metadata": {},
   "outputs": [],
   "source": [
    "import pandas as pd\n",
    "import numpy as np \n",
    "import seaborn as sns\n",
    "import matplotlib.pyplot as plt\n",
    "%matplotlib inline\n",
    "import plotly.graph_objs as go\n",
    "from plotly.offline import iplot"
   ]
  },
  {
   "cell_type": "code",
   "execution_count": 54,
   "id": "e58b4cf8",
   "metadata": {},
   "outputs": [],
   "source": [
    "sns.set_style('dark')"
   ]
  },
  {
   "cell_type": "code",
   "execution_count": 55,
   "id": "f796c5c2",
   "metadata": {},
   "outputs": [],
   "source": [
    "import warnings\n",
    "warnings.filterwarnings('ignore')"
   ]
  },
  {
   "cell_type": "code",
   "execution_count": null,
   "id": "63e5231c",
   "metadata": {},
   "outputs": [],
   "source": []
  },
  {
   "cell_type": "code",
   "execution_count": null,
   "id": "28821f06",
   "metadata": {},
   "outputs": [],
   "source": []
  },
  {
   "cell_type": "code",
   "execution_count": 56,
   "id": "39e87936",
   "metadata": {},
   "outputs": [],
   "source": [
    "\n",
    "data_2015=df.loc[df['year'] == 2015]\n",
    "data_2016=df.loc[df['year'] == 2016]\n",
    "data_2017=df.loc[df['year'] == 2017]\n",
    "data_2018=df.loc[df['year'] == 2018]\n",
    "data_2019=df.loc[df['year'] == 2019]\n",
    "data_2020=df.loc[df['year'] == 2020]\n",
    "data_2021=df.loc[df['year'] == 2021]\n",
    "data_2022=df.loc[df['year'] == 2022]"
   ]
  },
  {
   "cell_type": "code",
   "execution_count": 64,
   "id": "53ef052e",
   "metadata": {},
   "outputs": [],
   "source": [
    "import pandas as pd\n",
    "import numpy as np\n",
    "import matplotlib.pyplot as plt\n",
    "import seaborn as sns\n",
    "import folium"
   ]
  },
  {
   "cell_type": "code",
   "execution_count": 111,
   "id": "62871f43",
   "metadata": {},
   "outputs": [],
   "source": [
    "import plotly.express as px\n",
    "\n",
    "# We choose our top 50 countries\n",
    "# happy = world_happiness_report_2020.head(50)\n",
    "happy =data_2022\n",
    "# information to be given when mouse over the country\n",
    "# hover_data = world_happiness_report_2020[[\"Overall rank\",\"Regional indicator\",\"Ladder score\",\"Logged GDP per capita\",\"Social support\",\"Generosity\"]]\n",
    "hover_data = happy[[\"Happiness Rank\",\"Country\",\"Happiness Score\",\"Economy (GDP per Capita)\",\"Family\",\"Health (Life Expectancy)\",\"Generosity\"]]\n",
    "fig = px.choropleth(happy,\n",
    "                    locations=happy[\"Country\"],\n",
    "                    locationmode=\"country names\",\n",
    "                    projection=\"natural earth\",\n",
    "                    hover_data=hover_data,\n",
    "                    hover_name=happy[\"Country\"],\n",
    "                    color=\"Happiness Rank\",\n",
    "                    color_continuous_scale=px.colors.sequential.Rainbow,\n",
    "                    scope=\"world\")\n",
    "# fig.show()"
   ]
  },
  {
   "cell_type": "code",
   "execution_count": 110,
   "id": "7010ecaf",
   "metadata": {},
   "outputs": [
    {
     "data": {
      "application/vnd.plotly.v1+json": {
       "config": {
        "plotlyServerURL": "https://plot.ly"
       },
       "data": [
        {
         "coloraxis": "coloraxis",
         "customdata": [
          [
           1,
           "Finland",
           7.821,
           1.892,
           1.258,
           77.5,
           0.109
          ],
          [
           2,
           "Denmark",
           7.636,
           1.953,
           1.243,
           77.7,
           0.188
          ],
          [
           3,
           "Iceland",
           7.557,
           1.936,
           1.32,
           80.30000000000001,
           0.27
          ],
          [
           4,
           "Switzerland",
           7.512,
           2.026,
           1.226,
           82.19999999999999,
           0.147
          ],
          [
           5,
           "Netherlands",
           7.415,
           1.945,
           1.206,
           78.7,
           0.271
          ],
          [
           7,
           "Sweden",
           7.384,
           1.92,
           1.204,
           80.30000000000001,
           0.218
          ],
          [
           8,
           "Norway",
           7.365,
           1.997,
           1.239,
           78.60000000000001,
           0.217
          ],
          [
           9,
           "Israel",
           7.364,
           1.826,
           1.221,
           81.8,
           0.155
          ],
          [
           10,
           "New Zealand",
           7.2,
           1.852,
           1.235,
           75.2,
           0.245
          ],
          [
           11,
           "Austria",
           7.163,
           1.931,
           1.165,
           77.4,
           0.193
          ],
          [
           12,
           "Australia",
           7.162,
           1.9,
           1.203,
           77.2,
           0.258
          ],
          [
           13,
           "Ireland",
           7.041,
           2.129,
           1.166,
           77.9,
           0.19
          ],
          [
           14,
           "Germany",
           7.034,
           1.924,
           1.088,
           77.60000000000001,
           0.163
          ],
          [
           15,
           "Canada",
           7.025,
           1.886,
           1.188,
           78.3,
           0.217
          ],
          [
           16,
           "United States",
           6.977,
           1.982,
           1.182,
           62.8,
           0.22
          ],
          [
           17,
           "United Kingdom",
           6.943,
           1.867,
           1.143,
           75,
           0.289
          ],
          [
           19,
           "Belgium",
           6.805,
           1.907,
           1.106,
           76.4,
           0.049
          ],
          [
           20,
           "France",
           6.687,
           1.863,
           1.219,
           80.80000000000001,
           0.07
          ],
          [
           21,
           "Bahrain",
           6.647,
           1.854,
           1.029,
           62.5,
           0.199
          ],
          [
           22,
           "Slovenia",
           6.63,
           1.81,
           1.249,
           76.9,
           0.118
          ],
          [
           23,
           "Costa Rica",
           6.582,
           1.584,
           1.054,
           74.4,
           0.089
          ],
          [
           24,
           "United Arab Emirates",
           6.576,
           1.998,
           0.98,
           63.3,
           0.204
          ],
          [
           25,
           "Saudi Arabia",
           6.523,
           1.87,
           1.092,
           57.7,
           0.078
          ],
          [
           27,
           "Singapore",
           6.48,
           2.149,
           1.127,
           85.1,
           0.163
          ],
          [
           28,
           "Romania",
           6.477,
           1.719,
           1.006,
           65.5,
           0.039
          ],
          [
           29,
           "Spain",
           6.476,
           1.808,
           1.211,
           80.80000000000001,
           0.101
          ],
          [
           30,
           "Uruguay",
           6.474,
           1.615,
           1.18,
           67.2,
           0.103
          ],
          [
           31,
           "Italy",
           6.467,
           1.834,
           1.052,
           80.10000000000001,
           0.085
          ],
          [
           32,
           "Kosovo",
           6.455,
           1.362,
           0.949,
           56.89999999999999,
           0.309
          ],
          [
           33,
           "Malta",
           6.447,
           1.838,
           1.169,
           78.9,
           0.174
          ],
          [
           34,
           "Lithuania",
           6.446,
           1.804,
           1.204,
           65.9,
           0.053
          ],
          [
           35,
           "Slovakia",
           6.391,
           1.736,
           1.232,
           70.7,
           0.118
          ],
          [
           36,
           "Estonia",
           6.341,
           1.793,
           1.232,
           72.8,
           0.123
          ],
          [
           37,
           "Panama",
           6.309,
           1.715,
           1.107,
           70.89999999999999,
           0.049
          ],
          [
           38,
           "Brazil",
           6.293,
           1.462,
           1.044,
           61.5,
           0.131
          ],
          [
           40,
           "Kazakhstan",
           6.234,
           1.668,
           1.22,
           61.1,
           0.134
          ],
          [
           41,
           "Cyprus",
           6.221,
           1.815,
           0.909,
           81.89999999999999,
           0.123
          ],
          [
           42,
           "Latvia",
           6.18,
           1.732,
           1.221,
           63.7,
           0.075
          ],
          [
           43,
           "Serbia",
           6.178,
           1.55,
           1.086,
           65.8,
           0.219
          ],
          [
           44,
           "Chile",
           6.172,
           1.651,
           1.08,
           74.8,
           0.124
          ],
          [
           45,
           "Nicaragua",
           6.165,
           1.105,
           1.029,
           61.7,
           0.168
          ],
          [
           46,
           "Mexico",
           6.128,
           1.552,
           0.886,
           62.3,
           0.092
          ],
          [
           47,
           "Croatia",
           6.125,
           1.705,
           1.183,
           70.89999999999999,
           0.109
          ],
          [
           48,
           "Poland",
           6.123,
           1.758,
           1.174,
           71.2,
           0.124
          ],
          [
           49,
           "El Salvador",
           6.12,
           1.265,
           0.768,
           60.7,
           0.089
          ],
          [
           51,
           "Hungary",
           6.086,
           1.748,
           1.233,
           66.8,
           0.078
          ],
          [
           52,
           "Mauritius",
           6.071,
           1.591,
           1.116,
           56.8,
           0.131
          ],
          [
           53,
           "Uzbekistan",
           6.063,
           1.219,
           1.092,
           60,
           0.283
          ],
          [
           54,
           "Japan",
           6.039,
           1.835,
           1.089,
           86.6,
           0.007
          ],
          [
           55,
           "Honduras",
           6.022,
           1.111,
           0.885,
           55.50000000000001,
           0.202
          ],
          [
           56,
           "Portugal",
           6.016,
           1.76,
           1.078,
           77.7,
           0.016
          ],
          [
           57,
           "Argentina",
           5.967,
           1.592,
           1.102,
           66.2,
           0.081
          ],
          [
           58,
           "Greece",
           5.948,
           1.703,
           0.98,
           77.4,
           0.015
          ],
          [
           59,
           "South Korea",
           5.935,
           1.851,
           0.886,
           84.1,
           0.111
          ],
          [
           60,
           "Philippines",
           5.904,
           1.268,
           0.912,
           51.4,
           0.107
          ],
          [
           61,
           "Thailand",
           5.891,
           1.535,
           1.096,
           69.69999999999999,
           0.321
          ],
          [
           62,
           "Moldova",
           5.857,
           1.417,
           1.008,
           59.7,
           0.102
          ],
          [
           63,
           "Jamaica",
           5.85,
           1.296,
           1.045,
           64.60000000000001,
           0.08
          ],
          [
           64,
           "Kyrgyzstan",
           5.828,
           1.069,
           1.109,
           63.8,
           0.208
          ],
          [
           66,
           "Colombia",
           5.781,
           1.452,
           0.929,
           72,
           0.087
          ],
          [
           67,
           "Bosnia and Herzegovina",
           5.768,
           1.468,
           1.068,
           66.5,
           0.244
          ],
          [
           68,
           "Mongolia",
           5.761,
           1.393,
           1.197,
           46.7,
           0.247
          ],
          [
           69,
           "Dominican Republic",
           5.737,
           1.538,
           1.003,
           57.7,
           0.084
          ],
          [
           70,
           "Malaysia",
           5.711,
           1.689,
           0.938,
           62,
           0.213
          ],
          [
           71,
           "Bolivia",
           5.6,
           1.256,
           0.88,
           55.50000000000001,
           0.112
          ],
          [
           72,
           "China",
           5.585,
           1.508,
           0.958,
           70.5,
           0.099
          ],
          [
           73,
           "Paraguay",
           5.578,
           1.409,
           1.13,
           62.4,
           0.171
          ],
          [
           74,
           "Peru",
           5.559,
           1.397,
           0.865,
           73.5,
           0.09
          ],
          [
           75,
           "Montenegro",
           5.547,
           1.573,
           1.023,
           65.9,
           0.135
          ],
          [
           76,
           "Ecuador",
           5.533,
           1.352,
           0.879,
           70.8,
           0.08
          ],
          [
           77,
           "Vietnam",
           5.485,
           1.252,
           0.932,
           61.1,
           0.143
          ],
          [
           80,
           "Russia",
           5.459,
           1.685,
           1.095,
           58.6,
           0.117
          ],
          [
           82,
           "Armenia",
           5.399,
           1.434,
           0.82,
           66.8,
           0.054
          ],
          [
           83,
           "Tajikistan",
           5.377,
           0.966,
           1.005,
           51.8,
           0.118
          ],
          [
           84,
           "Nepal",
           5.377,
           0.984,
           0.784,
           49.9,
           0.237
          ],
          [
           85,
           "Bulgaria",
           5.371,
           1.625,
           1.163,
           64,
           0.123
          ],
          [
           87,
           "Indonesia",
           5.24,
           1.382,
           0.883,
           53.900000000000006,
           0.468
          ],
          [
           88,
           "Ivory Coast",
           5.235,
           1.094,
           0.442,
           32.2,
           0.149
          ],
          [
           90,
           "Albania",
           5.199,
           1.439,
           0.646,
           71.89999999999999,
           0.138
          ],
          [
           91,
           "South Africa",
           5.194,
           1.425,
           1.088,
           36.1,
           0.089
          ],
          [
           94,
           "Bangladesh",
           5.155,
           1.06,
           0.614,
           58.1,
           0.125
          ],
          [
           96,
           "Algeria",
           5.122,
           1.363,
           0.97,
           64.3,
           0.106
          ],
          [
           98,
           "Ukraine",
           5.084,
           1.411,
           1.081,
           58.3,
           0.188
          ],
          [
           100,
           "Morocco",
           5.06,
           1.208,
           0.268,
           56.49999999999999,
           0.02
          ],
          [
           102,
           "Cameroon",
           5.048,
           0.968,
           0.672,
           31.7,
           0.152
          ],
          [
           103,
           "Senegal",
           5.046,
           0.933,
           0.53,
           44.7,
           0.143
          ],
          [
           105,
           "Georgia",
           4.973,
           1.467,
           0.612,
           59.5,
           0
          ],
          [
           106,
           "Gabon",
           4.958,
           1.459,
           0.738,
           39.6,
           0.032
          ],
          [
           107,
           "Iraq",
           4.941,
           1.289,
           0.682,
           55.400000000000006,
           0.147
          ],
          [
           108,
           "Venezuela",
           4.925,
           0,
           0.968,
           57.8,
           0.225
          ],
          [
           109,
           "Guinea",
           4.891,
           0.848,
           0.566,
           27.500000000000004,
           0.214
          ],
          [
           110,
           "Iran",
           4.888,
           1.41,
           0.741,
           64.2,
           0.241
          ],
          [
           111,
           "Ghana",
           4.872,
           1.112,
           0.595,
           40.9,
           0.23
          ],
          [
           112,
           "Turkey",
           4.744,
           1.707,
           0.865,
           70.19999999999999,
           0.087
          ],
          [
           113,
           "Burkina Faso",
           4.67,
           0.779,
           0.565,
           32,
           0.186
          ],
          [
           114,
           "Cambodia",
           4.64,
           1.019,
           0.732,
           50.5,
           0.166
          ],
          [
           115,
           "Benin",
           4.623,
           0.932,
           0.064,
           33.5,
           0.127
          ],
          [
           117,
           "Uganda",
           4.603,
           0.777,
           0.875,
           41.8,
           0.222
          ],
          [
           118,
           "Nigeria",
           4.552,
           1.079,
           0.732,
           30,
           0.175
          ],
          [
           119,
           "Kenya",
           4.543,
           1.032,
           0.605,
           40.1,
           0.322
          ],
          [
           120,
           "Tunisia",
           4.516,
           1.35,
           0.596,
           65.60000000000001,
           0.029
          ],
          [
           121,
           "Pakistan",
           4.516,
           1.049,
           0.413,
           37.4,
           0.181
          ],
          [
           123,
           "Mali",
           4.479,
           0.792,
           0.483,
           31.1,
           0.128
          ],
          [
           126,
           "Myanmar",
           4.394,
           1.038,
           0.829,
           49.1,
           0.452
          ],
          [
           127,
           "Sri Lanka",
           4.362,
           1.415,
           0.934,
           66,
           0.15
          ],
          [
           129,
           "Egypt",
           4.288,
           1.388,
           0.732,
           54.8,
           0.041
          ],
          [
           131,
           "Ethiopia",
           4.241,
           0.788,
           0.809,
           45.7,
           0.205
          ],
          [
           134,
           "Jordan",
           4.152,
           1.324,
           0.724,
           67.5,
           0.058
          ],
          [
           135,
           "Togo",
           4.112,
           0.771,
           0.322,
           36,
           0.174
          ],
          [
           136,
           "India",
           3.777,
           1.167,
           0.376,
           47.1,
           0.198
          ],
          [
           137,
           "Zambia",
           3.76,
           0.93,
           0.577,
           30.6,
           0.203
          ],
          [
           138,
           "Malawi",
           3.75,
           0.648,
           0.279,
           38.8,
           0.14
          ],
          [
           139,
           "Tanzania",
           3.702,
           0.848,
           0.597,
           42.5,
           0.248
          ],
          [
           140,
           "Sierra Leone",
           3.574,
           0.686,
           0.416,
           27.3,
           0.202
          ],
          [
           144,
           "Zimbabwe",
           2.995,
           0.947,
           0.69,
           27,
           0.106
          ],
          [
           145,
           "Lebanon",
           2.955,
           1.392,
           0.498,
           63.1,
           0.082
          ],
          [
           146,
           "Afghanistan",
           2.404,
           0.758,
           0,
           28.9,
           0.089
          ]
         ],
         "geo": "geo",
         "hovertemplate": "<b>%{hovertext}</b><br><br>Country=%{customdata[1]}<br>Happiness Rank=%{z}<br>Happiness Score=%{customdata[2]}<br>Economy (GDP per Capita)=%{customdata[3]}<br>Family=%{customdata[4]}<br>Health (Life Expectancy)=%{customdata[5]}<br>Generosity=%{customdata[6]}<extra></extra>",
         "hovertext": [
          "Finland",
          "Denmark",
          "Iceland",
          "Switzerland",
          "Netherlands",
          "Sweden",
          "Norway",
          "Israel",
          "New Zealand",
          "Austria",
          "Australia",
          "Ireland",
          "Germany",
          "Canada",
          "United States",
          "United Kingdom",
          "Belgium",
          "France",
          "Bahrain",
          "Slovenia",
          "Costa Rica",
          "United Arab Emirates",
          "Saudi Arabia",
          "Singapore",
          "Romania",
          "Spain",
          "Uruguay",
          "Italy",
          "Kosovo",
          "Malta",
          "Lithuania",
          "Slovakia",
          "Estonia",
          "Panama",
          "Brazil",
          "Kazakhstan",
          "Cyprus",
          "Latvia",
          "Serbia",
          "Chile",
          "Nicaragua",
          "Mexico",
          "Croatia",
          "Poland",
          "El Salvador",
          "Hungary",
          "Mauritius",
          "Uzbekistan",
          "Japan",
          "Honduras",
          "Portugal",
          "Argentina",
          "Greece",
          "South Korea",
          "Philippines",
          "Thailand",
          "Moldova",
          "Jamaica",
          "Kyrgyzstan",
          "Colombia",
          "Bosnia and Herzegovina",
          "Mongolia",
          "Dominican Republic",
          "Malaysia",
          "Bolivia",
          "China",
          "Paraguay",
          "Peru",
          "Montenegro",
          "Ecuador",
          "Vietnam",
          "Russia",
          "Armenia",
          "Tajikistan",
          "Nepal",
          "Bulgaria",
          "Indonesia",
          "Ivory Coast",
          "Albania",
          "South Africa",
          "Bangladesh",
          "Algeria",
          "Ukraine",
          "Morocco",
          "Cameroon",
          "Senegal",
          "Georgia",
          "Gabon",
          "Iraq",
          "Venezuela",
          "Guinea",
          "Iran",
          "Ghana",
          "Turkey",
          "Burkina Faso",
          "Cambodia",
          "Benin",
          "Uganda",
          "Nigeria",
          "Kenya",
          "Tunisia",
          "Pakistan",
          "Mali",
          "Myanmar",
          "Sri Lanka",
          "Egypt",
          "Ethiopia",
          "Jordan",
          "Togo",
          "India",
          "Zambia",
          "Malawi",
          "Tanzania",
          "Sierra Leone",
          "Zimbabwe",
          "Lebanon",
          "Afghanistan"
         ],
         "locationmode": "country names",
         "locations": [
          "Finland",
          "Denmark",
          "Iceland",
          "Switzerland",
          "Netherlands",
          "Sweden",
          "Norway",
          "Israel",
          "New Zealand",
          "Austria",
          "Australia",
          "Ireland",
          "Germany",
          "Canada",
          "United States",
          "United Kingdom",
          "Belgium",
          "France",
          "Bahrain",
          "Slovenia",
          "Costa Rica",
          "United Arab Emirates",
          "Saudi Arabia",
          "Singapore",
          "Romania",
          "Spain",
          "Uruguay",
          "Italy",
          "Kosovo",
          "Malta",
          "Lithuania",
          "Slovakia",
          "Estonia",
          "Panama",
          "Brazil",
          "Kazakhstan",
          "Cyprus",
          "Latvia",
          "Serbia",
          "Chile",
          "Nicaragua",
          "Mexico",
          "Croatia",
          "Poland",
          "El Salvador",
          "Hungary",
          "Mauritius",
          "Uzbekistan",
          "Japan",
          "Honduras",
          "Portugal",
          "Argentina",
          "Greece",
          "South Korea",
          "Philippines",
          "Thailand",
          "Moldova",
          "Jamaica",
          "Kyrgyzstan",
          "Colombia",
          "Bosnia and Herzegovina",
          "Mongolia",
          "Dominican Republic",
          "Malaysia",
          "Bolivia",
          "China",
          "Paraguay",
          "Peru",
          "Montenegro",
          "Ecuador",
          "Vietnam",
          "Russia",
          "Armenia",
          "Tajikistan",
          "Nepal",
          "Bulgaria",
          "Indonesia",
          "Ivory Coast",
          "Albania",
          "South Africa",
          "Bangladesh",
          "Algeria",
          "Ukraine",
          "Morocco",
          "Cameroon",
          "Senegal",
          "Georgia",
          "Gabon",
          "Iraq",
          "Venezuela",
          "Guinea",
          "Iran",
          "Ghana",
          "Turkey",
          "Burkina Faso",
          "Cambodia",
          "Benin",
          "Uganda",
          "Nigeria",
          "Kenya",
          "Tunisia",
          "Pakistan",
          "Mali",
          "Myanmar",
          "Sri Lanka",
          "Egypt",
          "Ethiopia",
          "Jordan",
          "Togo",
          "India",
          "Zambia",
          "Malawi",
          "Tanzania",
          "Sierra Leone",
          "Zimbabwe",
          "Lebanon",
          "Afghanistan"
         ],
         "name": "",
         "type": "choropleth",
         "z": [
          1,
          2,
          3,
          4,
          5,
          7,
          8,
          9,
          10,
          11,
          12,
          13,
          14,
          15,
          16,
          17,
          19,
          20,
          21,
          22,
          23,
          24,
          25,
          27,
          28,
          29,
          30,
          31,
          32,
          33,
          34,
          35,
          36,
          37,
          38,
          40,
          41,
          42,
          43,
          44,
          45,
          46,
          47,
          48,
          49,
          51,
          52,
          53,
          54,
          55,
          56,
          57,
          58,
          59,
          60,
          61,
          62,
          63,
          64,
          66,
          67,
          68,
          69,
          70,
          71,
          72,
          73,
          74,
          75,
          76,
          77,
          80,
          82,
          83,
          84,
          85,
          87,
          88,
          90,
          91,
          94,
          96,
          98,
          100,
          102,
          103,
          105,
          106,
          107,
          108,
          109,
          110,
          111,
          112,
          113,
          114,
          115,
          117,
          118,
          119,
          120,
          121,
          123,
          126,
          127,
          129,
          131,
          134,
          135,
          136,
          137,
          138,
          139,
          140,
          144,
          145,
          146
         ]
        }
       ],
       "layout": {
        "coloraxis": {
         "colorbar": {
          "title": {
           "text": "Happiness Rank"
          }
         },
         "colorscale": [
          [
           0,
           "rgb(150,0,90)"
          ],
          [
           0.125,
           "rgb(0,0,200)"
          ],
          [
           0.25,
           "rgb(0,25,255)"
          ],
          [
           0.375,
           "rgb(0,152,255)"
          ],
          [
           0.5,
           "rgb(44,255,150)"
          ],
          [
           0.625,
           "rgb(151,255,0)"
          ],
          [
           0.75,
           "rgb(255,234,0)"
          ],
          [
           0.875,
           "rgb(255,111,0)"
          ],
          [
           1,
           "rgb(255,0,0)"
          ]
         ]
        },
        "geo": {
         "center": {},
         "domain": {
          "x": [
           0,
           1
          ],
          "y": [
           0,
           1
          ]
         },
         "projection": {
          "type": "natural earth"
         },
         "scope": "world"
        },
        "legend": {
         "tracegroupgap": 0
        },
        "margin": {
         "t": 60
        },
        "template": {
         "data": {
          "bar": [
           {
            "error_x": {
             "color": "#2a3f5f"
            },
            "error_y": {
             "color": "#2a3f5f"
            },
            "marker": {
             "line": {
              "color": "#E5ECF6",
              "width": 0.5
             },
             "pattern": {
              "fillmode": "overlay",
              "size": 10,
              "solidity": 0.2
             }
            },
            "type": "bar"
           }
          ],
          "barpolar": [
           {
            "marker": {
             "line": {
              "color": "#E5ECF6",
              "width": 0.5
             },
             "pattern": {
              "fillmode": "overlay",
              "size": 10,
              "solidity": 0.2
             }
            },
            "type": "barpolar"
           }
          ],
          "carpet": [
           {
            "aaxis": {
             "endlinecolor": "#2a3f5f",
             "gridcolor": "white",
             "linecolor": "white",
             "minorgridcolor": "white",
             "startlinecolor": "#2a3f5f"
            },
            "baxis": {
             "endlinecolor": "#2a3f5f",
             "gridcolor": "white",
             "linecolor": "white",
             "minorgridcolor": "white",
             "startlinecolor": "#2a3f5f"
            },
            "type": "carpet"
           }
          ],
          "choropleth": [
           {
            "colorbar": {
             "outlinewidth": 0,
             "ticks": ""
            },
            "type": "choropleth"
           }
          ],
          "contour": [
           {
            "colorbar": {
             "outlinewidth": 0,
             "ticks": ""
            },
            "colorscale": [
             [
              0,
              "#0d0887"
             ],
             [
              0.1111111111111111,
              "#46039f"
             ],
             [
              0.2222222222222222,
              "#7201a8"
             ],
             [
              0.3333333333333333,
              "#9c179e"
             ],
             [
              0.4444444444444444,
              "#bd3786"
             ],
             [
              0.5555555555555556,
              "#d8576b"
             ],
             [
              0.6666666666666666,
              "#ed7953"
             ],
             [
              0.7777777777777778,
              "#fb9f3a"
             ],
             [
              0.8888888888888888,
              "#fdca26"
             ],
             [
              1,
              "#f0f921"
             ]
            ],
            "type": "contour"
           }
          ],
          "contourcarpet": [
           {
            "colorbar": {
             "outlinewidth": 0,
             "ticks": ""
            },
            "type": "contourcarpet"
           }
          ],
          "heatmap": [
           {
            "colorbar": {
             "outlinewidth": 0,
             "ticks": ""
            },
            "colorscale": [
             [
              0,
              "#0d0887"
             ],
             [
              0.1111111111111111,
              "#46039f"
             ],
             [
              0.2222222222222222,
              "#7201a8"
             ],
             [
              0.3333333333333333,
              "#9c179e"
             ],
             [
              0.4444444444444444,
              "#bd3786"
             ],
             [
              0.5555555555555556,
              "#d8576b"
             ],
             [
              0.6666666666666666,
              "#ed7953"
             ],
             [
              0.7777777777777778,
              "#fb9f3a"
             ],
             [
              0.8888888888888888,
              "#fdca26"
             ],
             [
              1,
              "#f0f921"
             ]
            ],
            "type": "heatmap"
           }
          ],
          "heatmapgl": [
           {
            "colorbar": {
             "outlinewidth": 0,
             "ticks": ""
            },
            "colorscale": [
             [
              0,
              "#0d0887"
             ],
             [
              0.1111111111111111,
              "#46039f"
             ],
             [
              0.2222222222222222,
              "#7201a8"
             ],
             [
              0.3333333333333333,
              "#9c179e"
             ],
             [
              0.4444444444444444,
              "#bd3786"
             ],
             [
              0.5555555555555556,
              "#d8576b"
             ],
             [
              0.6666666666666666,
              "#ed7953"
             ],
             [
              0.7777777777777778,
              "#fb9f3a"
             ],
             [
              0.8888888888888888,
              "#fdca26"
             ],
             [
              1,
              "#f0f921"
             ]
            ],
            "type": "heatmapgl"
           }
          ],
          "histogram": [
           {
            "marker": {
             "pattern": {
              "fillmode": "overlay",
              "size": 10,
              "solidity": 0.2
             }
            },
            "type": "histogram"
           }
          ],
          "histogram2d": [
           {
            "colorbar": {
             "outlinewidth": 0,
             "ticks": ""
            },
            "colorscale": [
             [
              0,
              "#0d0887"
             ],
             [
              0.1111111111111111,
              "#46039f"
             ],
             [
              0.2222222222222222,
              "#7201a8"
             ],
             [
              0.3333333333333333,
              "#9c179e"
             ],
             [
              0.4444444444444444,
              "#bd3786"
             ],
             [
              0.5555555555555556,
              "#d8576b"
             ],
             [
              0.6666666666666666,
              "#ed7953"
             ],
             [
              0.7777777777777778,
              "#fb9f3a"
             ],
             [
              0.8888888888888888,
              "#fdca26"
             ],
             [
              1,
              "#f0f921"
             ]
            ],
            "type": "histogram2d"
           }
          ],
          "histogram2dcontour": [
           {
            "colorbar": {
             "outlinewidth": 0,
             "ticks": ""
            },
            "colorscale": [
             [
              0,
              "#0d0887"
             ],
             [
              0.1111111111111111,
              "#46039f"
             ],
             [
              0.2222222222222222,
              "#7201a8"
             ],
             [
              0.3333333333333333,
              "#9c179e"
             ],
             [
              0.4444444444444444,
              "#bd3786"
             ],
             [
              0.5555555555555556,
              "#d8576b"
             ],
             [
              0.6666666666666666,
              "#ed7953"
             ],
             [
              0.7777777777777778,
              "#fb9f3a"
             ],
             [
              0.8888888888888888,
              "#fdca26"
             ],
             [
              1,
              "#f0f921"
             ]
            ],
            "type": "histogram2dcontour"
           }
          ],
          "mesh3d": [
           {
            "colorbar": {
             "outlinewidth": 0,
             "ticks": ""
            },
            "type": "mesh3d"
           }
          ],
          "parcoords": [
           {
            "line": {
             "colorbar": {
              "outlinewidth": 0,
              "ticks": ""
             }
            },
            "type": "parcoords"
           }
          ],
          "pie": [
           {
            "automargin": true,
            "type": "pie"
           }
          ],
          "scatter": [
           {
            "marker": {
             "colorbar": {
              "outlinewidth": 0,
              "ticks": ""
             }
            },
            "type": "scatter"
           }
          ],
          "scatter3d": [
           {
            "line": {
             "colorbar": {
              "outlinewidth": 0,
              "ticks": ""
             }
            },
            "marker": {
             "colorbar": {
              "outlinewidth": 0,
              "ticks": ""
             }
            },
            "type": "scatter3d"
           }
          ],
          "scattercarpet": [
           {
            "marker": {
             "colorbar": {
              "outlinewidth": 0,
              "ticks": ""
             }
            },
            "type": "scattercarpet"
           }
          ],
          "scattergeo": [
           {
            "marker": {
             "colorbar": {
              "outlinewidth": 0,
              "ticks": ""
             }
            },
            "type": "scattergeo"
           }
          ],
          "scattergl": [
           {
            "marker": {
             "colorbar": {
              "outlinewidth": 0,
              "ticks": ""
             }
            },
            "type": "scattergl"
           }
          ],
          "scattermapbox": [
           {
            "marker": {
             "colorbar": {
              "outlinewidth": 0,
              "ticks": ""
             }
            },
            "type": "scattermapbox"
           }
          ],
          "scatterpolar": [
           {
            "marker": {
             "colorbar": {
              "outlinewidth": 0,
              "ticks": ""
             }
            },
            "type": "scatterpolar"
           }
          ],
          "scatterpolargl": [
           {
            "marker": {
             "colorbar": {
              "outlinewidth": 0,
              "ticks": ""
             }
            },
            "type": "scatterpolargl"
           }
          ],
          "scatterternary": [
           {
            "marker": {
             "colorbar": {
              "outlinewidth": 0,
              "ticks": ""
             }
            },
            "type": "scatterternary"
           }
          ],
          "surface": [
           {
            "colorbar": {
             "outlinewidth": 0,
             "ticks": ""
            },
            "colorscale": [
             [
              0,
              "#0d0887"
             ],
             [
              0.1111111111111111,
              "#46039f"
             ],
             [
              0.2222222222222222,
              "#7201a8"
             ],
             [
              0.3333333333333333,
              "#9c179e"
             ],
             [
              0.4444444444444444,
              "#bd3786"
             ],
             [
              0.5555555555555556,
              "#d8576b"
             ],
             [
              0.6666666666666666,
              "#ed7953"
             ],
             [
              0.7777777777777778,
              "#fb9f3a"
             ],
             [
              0.8888888888888888,
              "#fdca26"
             ],
             [
              1,
              "#f0f921"
             ]
            ],
            "type": "surface"
           }
          ],
          "table": [
           {
            "cells": {
             "fill": {
              "color": "#EBF0F8"
             },
             "line": {
              "color": "white"
             }
            },
            "header": {
             "fill": {
              "color": "#C8D4E3"
             },
             "line": {
              "color": "white"
             }
            },
            "type": "table"
           }
          ]
         },
         "layout": {
          "annotationdefaults": {
           "arrowcolor": "#2a3f5f",
           "arrowhead": 0,
           "arrowwidth": 1
          },
          "autotypenumbers": "strict",
          "coloraxis": {
           "colorbar": {
            "outlinewidth": 0,
            "ticks": ""
           }
          },
          "colorscale": {
           "diverging": [
            [
             0,
             "#8e0152"
            ],
            [
             0.1,
             "#c51b7d"
            ],
            [
             0.2,
             "#de77ae"
            ],
            [
             0.3,
             "#f1b6da"
            ],
            [
             0.4,
             "#fde0ef"
            ],
            [
             0.5,
             "#f7f7f7"
            ],
            [
             0.6,
             "#e6f5d0"
            ],
            [
             0.7,
             "#b8e186"
            ],
            [
             0.8,
             "#7fbc41"
            ],
            [
             0.9,
             "#4d9221"
            ],
            [
             1,
             "#276419"
            ]
           ],
           "sequential": [
            [
             0,
             "#0d0887"
            ],
            [
             0.1111111111111111,
             "#46039f"
            ],
            [
             0.2222222222222222,
             "#7201a8"
            ],
            [
             0.3333333333333333,
             "#9c179e"
            ],
            [
             0.4444444444444444,
             "#bd3786"
            ],
            [
             0.5555555555555556,
             "#d8576b"
            ],
            [
             0.6666666666666666,
             "#ed7953"
            ],
            [
             0.7777777777777778,
             "#fb9f3a"
            ],
            [
             0.8888888888888888,
             "#fdca26"
            ],
            [
             1,
             "#f0f921"
            ]
           ],
           "sequentialminus": [
            [
             0,
             "#0d0887"
            ],
            [
             0.1111111111111111,
             "#46039f"
            ],
            [
             0.2222222222222222,
             "#7201a8"
            ],
            [
             0.3333333333333333,
             "#9c179e"
            ],
            [
             0.4444444444444444,
             "#bd3786"
            ],
            [
             0.5555555555555556,
             "#d8576b"
            ],
            [
             0.6666666666666666,
             "#ed7953"
            ],
            [
             0.7777777777777778,
             "#fb9f3a"
            ],
            [
             0.8888888888888888,
             "#fdca26"
            ],
            [
             1,
             "#f0f921"
            ]
           ]
          },
          "colorway": [
           "#636efa",
           "#EF553B",
           "#00cc96",
           "#ab63fa",
           "#FFA15A",
           "#19d3f3",
           "#FF6692",
           "#B6E880",
           "#FF97FF",
           "#FECB52"
          ],
          "font": {
           "color": "#2a3f5f"
          },
          "geo": {
           "bgcolor": "white",
           "lakecolor": "white",
           "landcolor": "#E5ECF6",
           "showlakes": true,
           "showland": true,
           "subunitcolor": "white"
          },
          "hoverlabel": {
           "align": "left"
          },
          "hovermode": "closest",
          "mapbox": {
           "style": "light"
          },
          "paper_bgcolor": "white",
          "plot_bgcolor": "#E5ECF6",
          "polar": {
           "angularaxis": {
            "gridcolor": "white",
            "linecolor": "white",
            "ticks": ""
           },
           "bgcolor": "#E5ECF6",
           "radialaxis": {
            "gridcolor": "white",
            "linecolor": "white",
            "ticks": ""
           }
          },
          "scene": {
           "xaxis": {
            "backgroundcolor": "#E5ECF6",
            "gridcolor": "white",
            "gridwidth": 2,
            "linecolor": "white",
            "showbackground": true,
            "ticks": "",
            "zerolinecolor": "white"
           },
           "yaxis": {
            "backgroundcolor": "#E5ECF6",
            "gridcolor": "white",
            "gridwidth": 2,
            "linecolor": "white",
            "showbackground": true,
            "ticks": "",
            "zerolinecolor": "white"
           },
           "zaxis": {
            "backgroundcolor": "#E5ECF6",
            "gridcolor": "white",
            "gridwidth": 2,
            "linecolor": "white",
            "showbackground": true,
            "ticks": "",
            "zerolinecolor": "white"
           }
          },
          "shapedefaults": {
           "line": {
            "color": "#2a3f5f"
           }
          },
          "ternary": {
           "aaxis": {
            "gridcolor": "white",
            "linecolor": "white",
            "ticks": ""
           },
           "baxis": {
            "gridcolor": "white",
            "linecolor": "white",
            "ticks": ""
           },
           "bgcolor": "#E5ECF6",
           "caxis": {
            "gridcolor": "white",
            "linecolor": "white",
            "ticks": ""
           }
          },
          "title": {
           "x": 0.05
          },
          "xaxis": {
           "automargin": true,
           "gridcolor": "white",
           "linecolor": "white",
           "ticks": "",
           "title": {
            "standoff": 15
           },
           "zerolinecolor": "white",
           "zerolinewidth": 2
          },
          "yaxis": {
           "automargin": true,
           "gridcolor": "white",
           "linecolor": "white",
           "ticks": "",
           "title": {
            "standoff": 15
           },
           "zerolinecolor": "white",
           "zerolinewidth": 2
          }
         }
        },
        "title": {
         "text": "Hapiness Rankings in 2022 "
        }
       }
      },
      "text/html": [
       "<div>                            <div id=\"be3a7063-7b0d-421e-96be-3c291434717b\" class=\"plotly-graph-div\" style=\"height:525px; width:100%;\"></div>            <script type=\"text/javascript\">                require([\"plotly\"], function(Plotly) {                    window.PLOTLYENV=window.PLOTLYENV || {};                                    if (document.getElementById(\"be3a7063-7b0d-421e-96be-3c291434717b\")) {                    Plotly.newPlot(                        \"be3a7063-7b0d-421e-96be-3c291434717b\",                        [{\"coloraxis\":\"coloraxis\",\"customdata\":[[1,\"Finland\",7.821,1.892,1.258,77.5,0.109],[2,\"Denmark\",7.636,1.953,1.243,77.7,0.188],[3,\"Iceland\",7.557,1.936,1.32,80.30000000000001,0.27],[4,\"Switzerland\",7.512,2.026,1.226,82.19999999999999,0.147],[5,\"Netherlands\",7.415,1.945,1.206,78.7,0.271],[7,\"Sweden\",7.384,1.92,1.204,80.30000000000001,0.218],[8,\"Norway\",7.365,1.997,1.239,78.60000000000001,0.217],[9,\"Israel\",7.364,1.826,1.221,81.8,0.155],[10,\"New Zealand\",7.2,1.852,1.235,75.2,0.245],[11,\"Austria\",7.163,1.931,1.165,77.4,0.193],[12,\"Australia\",7.162,1.9,1.203,77.2,0.258],[13,\"Ireland\",7.041,2.129,1.166,77.9,0.19],[14,\"Germany\",7.034,1.924,1.088,77.60000000000001,0.163],[15,\"Canada\",7.025,1.886,1.188,78.3,0.217],[16,\"United States\",6.977,1.982,1.182,62.8,0.22],[17,\"United Kingdom\",6.943,1.867,1.143,75.0,0.289],[19,\"Belgium\",6.805,1.907,1.106,76.4,0.049],[20,\"France\",6.687,1.863,1.219,80.80000000000001,0.07],[21,\"Bahrain\",6.647,1.854,1.029,62.5,0.199],[22,\"Slovenia\",6.63,1.81,1.249,76.9,0.118],[23,\"Costa Rica\",6.582,1.584,1.054,74.4,0.089],[24,\"United Arab Emirates\",6.576,1.998,0.98,63.3,0.204],[25,\"Saudi Arabia\",6.523,1.87,1.092,57.7,0.078],[27,\"Singapore\",6.48,2.149,1.127,85.1,0.163],[28,\"Romania\",6.477,1.719,1.006,65.5,0.039],[29,\"Spain\",6.476,1.808,1.211,80.80000000000001,0.101],[30,\"Uruguay\",6.474,1.615,1.18,67.2,0.103],[31,\"Italy\",6.467,1.834,1.052,80.10000000000001,0.085],[32,\"Kosovo\",6.455,1.362,0.949,56.89999999999999,0.309],[33,\"Malta\",6.447,1.838,1.169,78.9,0.174],[34,\"Lithuania\",6.446,1.804,1.204,65.9,0.053],[35,\"Slovakia\",6.391,1.736,1.232,70.7,0.118],[36,\"Estonia\",6.341,1.793,1.232,72.8,0.123],[37,\"Panama\",6.309,1.715,1.107,70.89999999999999,0.049],[38,\"Brazil\",6.293,1.462,1.044,61.5,0.131],[40,\"Kazakhstan\",6.234,1.668,1.22,61.1,0.134],[41,\"Cyprus\",6.221,1.815,0.909,81.89999999999999,0.123],[42,\"Latvia\",6.18,1.732,1.221,63.7,0.075],[43,\"Serbia\",6.178,1.55,1.086,65.8,0.219],[44,\"Chile\",6.172,1.651,1.08,74.8,0.124],[45,\"Nicaragua\",6.165,1.105,1.029,61.7,0.168],[46,\"Mexico\",6.128,1.552,0.886,62.3,0.092],[47,\"Croatia\",6.125,1.705,1.183,70.89999999999999,0.109],[48,\"Poland\",6.123,1.758,1.174,71.2,0.124],[49,\"El Salvador\",6.12,1.265,0.768,60.7,0.089],[51,\"Hungary\",6.086,1.748,1.233,66.8,0.078],[52,\"Mauritius\",6.071,1.591,1.116,56.8,0.131],[53,\"Uzbekistan\",6.063,1.219,1.092,60.0,0.283],[54,\"Japan\",6.039,1.835,1.089,86.6,0.007],[55,\"Honduras\",6.022,1.111,0.885,55.50000000000001,0.202],[56,\"Portugal\",6.016,1.76,1.078,77.7,0.016],[57,\"Argentina\",5.967,1.592,1.102,66.2,0.081],[58,\"Greece\",5.948,1.703,0.98,77.4,0.015],[59,\"South Korea\",5.935,1.851,0.886,84.1,0.111],[60,\"Philippines\",5.904,1.268,0.912,51.4,0.107],[61,\"Thailand\",5.891,1.535,1.096,69.69999999999999,0.321],[62,\"Moldova\",5.857,1.417,1.008,59.7,0.102],[63,\"Jamaica\",5.85,1.296,1.045,64.60000000000001,0.08],[64,\"Kyrgyzstan\",5.828,1.069,1.109,63.8,0.208],[66,\"Colombia\",5.781,1.452,0.929,72.0,0.087],[67,\"Bosnia and Herzegovina\",5.768,1.468,1.068,66.5,0.244],[68,\"Mongolia\",5.761,1.393,1.197,46.7,0.247],[69,\"Dominican Republic\",5.737,1.538,1.003,57.7,0.084],[70,\"Malaysia\",5.711,1.689,0.938,62.0,0.213],[71,\"Bolivia\",5.6,1.256,0.88,55.50000000000001,0.112],[72,\"China\",5.585,1.508,0.958,70.5,0.099],[73,\"Paraguay\",5.578,1.409,1.13,62.4,0.171],[74,\"Peru\",5.559,1.397,0.865,73.5,0.09],[75,\"Montenegro\",5.547,1.573,1.023,65.9,0.135],[76,\"Ecuador\",5.533,1.352,0.879,70.8,0.08],[77,\"Vietnam\",5.485,1.252,0.932,61.1,0.143],[80,\"Russia\",5.459,1.685,1.095,58.6,0.117],[82,\"Armenia\",5.399,1.434,0.82,66.8,0.054],[83,\"Tajikistan\",5.377,0.966,1.005,51.8,0.118],[84,\"Nepal\",5.377,0.984,0.784,49.9,0.237],[85,\"Bulgaria\",5.371,1.625,1.163,64.0,0.123],[87,\"Indonesia\",5.24,1.382,0.883,53.900000000000006,0.468],[88,\"Ivory Coast\",5.235,1.094,0.442,32.2,0.149],[90,\"Albania\",5.199,1.439,0.646,71.89999999999999,0.138],[91,\"South Africa\",5.194,1.425,1.088,36.1,0.089],[94,\"Bangladesh\",5.155,1.06,0.614,58.1,0.125],[96,\"Algeria\",5.122,1.363,0.97,64.3,0.106],[98,\"Ukraine\",5.084,1.411,1.081,58.3,0.188],[100,\"Morocco\",5.06,1.208,0.268,56.49999999999999,0.02],[102,\"Cameroon\",5.048,0.968,0.672,31.7,0.152],[103,\"Senegal\",5.046,0.933,0.53,44.7,0.143],[105,\"Georgia\",4.973,1.467,0.612,59.5,0.0],[106,\"Gabon\",4.958,1.459,0.738,39.6,0.032],[107,\"Iraq\",4.941,1.289,0.682,55.400000000000006,0.147],[108,\"Venezuela\",4.925,0.0,0.968,57.8,0.225],[109,\"Guinea\",4.891,0.848,0.566,27.500000000000004,0.214],[110,\"Iran\",4.888,1.41,0.741,64.2,0.241],[111,\"Ghana\",4.872,1.112,0.595,40.9,0.23],[112,\"Turkey\",4.744,1.707,0.865,70.19999999999999,0.087],[113,\"Burkina Faso\",4.67,0.779,0.565,32.0,0.186],[114,\"Cambodia\",4.64,1.019,0.732,50.5,0.166],[115,\"Benin\",4.623,0.932,0.064,33.5,0.127],[117,\"Uganda\",4.603,0.777,0.875,41.8,0.222],[118,\"Nigeria\",4.552,1.079,0.732,30.0,0.175],[119,\"Kenya\",4.543,1.032,0.605,40.1,0.322],[120,\"Tunisia\",4.516,1.35,0.596,65.60000000000001,0.029],[121,\"Pakistan\",4.516,1.049,0.413,37.4,0.181],[123,\"Mali\",4.479,0.792,0.483,31.1,0.128],[126,\"Myanmar\",4.394,1.038,0.829,49.1,0.452],[127,\"Sri Lanka\",4.362,1.415,0.934,66.0,0.15],[129,\"Egypt\",4.288,1.388,0.732,54.8,0.041],[131,\"Ethiopia\",4.241,0.788,0.809,45.7,0.205],[134,\"Jordan\",4.152,1.324,0.724,67.5,0.058],[135,\"Togo\",4.112,0.771,0.322,36.0,0.174],[136,\"India\",3.777,1.167,0.376,47.1,0.198],[137,\"Zambia\",3.76,0.93,0.577,30.6,0.203],[138,\"Malawi\",3.75,0.648,0.279,38.8,0.14],[139,\"Tanzania\",3.702,0.848,0.597,42.5,0.248],[140,\"Sierra Leone\",3.574,0.686,0.416,27.3,0.202],[144,\"Zimbabwe\",2.995,0.947,0.69,27.0,0.106],[145,\"Lebanon\",2.955,1.392,0.498,63.1,0.082],[146,\"Afghanistan\",2.404,0.758,0.0,28.9,0.089]],\"geo\":\"geo\",\"hovertemplate\":\"<b>%{hovertext}</b><br><br>Country=%{customdata[1]}<br>Happiness Rank=%{z}<br>Happiness Score=%{customdata[2]}<br>Economy (GDP per Capita)=%{customdata[3]}<br>Family=%{customdata[4]}<br>Health (Life Expectancy)=%{customdata[5]}<br>Generosity=%{customdata[6]}<extra></extra>\",\"hovertext\":[\"Finland\",\"Denmark\",\"Iceland\",\"Switzerland\",\"Netherlands\",\"Sweden\",\"Norway\",\"Israel\",\"New Zealand\",\"Austria\",\"Australia\",\"Ireland\",\"Germany\",\"Canada\",\"United States\",\"United Kingdom\",\"Belgium\",\"France\",\"Bahrain\",\"Slovenia\",\"Costa Rica\",\"United Arab Emirates\",\"Saudi Arabia\",\"Singapore\",\"Romania\",\"Spain\",\"Uruguay\",\"Italy\",\"Kosovo\",\"Malta\",\"Lithuania\",\"Slovakia\",\"Estonia\",\"Panama\",\"Brazil\",\"Kazakhstan\",\"Cyprus\",\"Latvia\",\"Serbia\",\"Chile\",\"Nicaragua\",\"Mexico\",\"Croatia\",\"Poland\",\"El Salvador\",\"Hungary\",\"Mauritius\",\"Uzbekistan\",\"Japan\",\"Honduras\",\"Portugal\",\"Argentina\",\"Greece\",\"South Korea\",\"Philippines\",\"Thailand\",\"Moldova\",\"Jamaica\",\"Kyrgyzstan\",\"Colombia\",\"Bosnia and Herzegovina\",\"Mongolia\",\"Dominican Republic\",\"Malaysia\",\"Bolivia\",\"China\",\"Paraguay\",\"Peru\",\"Montenegro\",\"Ecuador\",\"Vietnam\",\"Russia\",\"Armenia\",\"Tajikistan\",\"Nepal\",\"Bulgaria\",\"Indonesia\",\"Ivory Coast\",\"Albania\",\"South Africa\",\"Bangladesh\",\"Algeria\",\"Ukraine\",\"Morocco\",\"Cameroon\",\"Senegal\",\"Georgia\",\"Gabon\",\"Iraq\",\"Venezuela\",\"Guinea\",\"Iran\",\"Ghana\",\"Turkey\",\"Burkina Faso\",\"Cambodia\",\"Benin\",\"Uganda\",\"Nigeria\",\"Kenya\",\"Tunisia\",\"Pakistan\",\"Mali\",\"Myanmar\",\"Sri Lanka\",\"Egypt\",\"Ethiopia\",\"Jordan\",\"Togo\",\"India\",\"Zambia\",\"Malawi\",\"Tanzania\",\"Sierra Leone\",\"Zimbabwe\",\"Lebanon\",\"Afghanistan\"],\"locationmode\":\"country names\",\"locations\":[\"Finland\",\"Denmark\",\"Iceland\",\"Switzerland\",\"Netherlands\",\"Sweden\",\"Norway\",\"Israel\",\"New Zealand\",\"Austria\",\"Australia\",\"Ireland\",\"Germany\",\"Canada\",\"United States\",\"United Kingdom\",\"Belgium\",\"France\",\"Bahrain\",\"Slovenia\",\"Costa Rica\",\"United Arab Emirates\",\"Saudi Arabia\",\"Singapore\",\"Romania\",\"Spain\",\"Uruguay\",\"Italy\",\"Kosovo\",\"Malta\",\"Lithuania\",\"Slovakia\",\"Estonia\",\"Panama\",\"Brazil\",\"Kazakhstan\",\"Cyprus\",\"Latvia\",\"Serbia\",\"Chile\",\"Nicaragua\",\"Mexico\",\"Croatia\",\"Poland\",\"El Salvador\",\"Hungary\",\"Mauritius\",\"Uzbekistan\",\"Japan\",\"Honduras\",\"Portugal\",\"Argentina\",\"Greece\",\"South Korea\",\"Philippines\",\"Thailand\",\"Moldova\",\"Jamaica\",\"Kyrgyzstan\",\"Colombia\",\"Bosnia and Herzegovina\",\"Mongolia\",\"Dominican Republic\",\"Malaysia\",\"Bolivia\",\"China\",\"Paraguay\",\"Peru\",\"Montenegro\",\"Ecuador\",\"Vietnam\",\"Russia\",\"Armenia\",\"Tajikistan\",\"Nepal\",\"Bulgaria\",\"Indonesia\",\"Ivory Coast\",\"Albania\",\"South Africa\",\"Bangladesh\",\"Algeria\",\"Ukraine\",\"Morocco\",\"Cameroon\",\"Senegal\",\"Georgia\",\"Gabon\",\"Iraq\",\"Venezuela\",\"Guinea\",\"Iran\",\"Ghana\",\"Turkey\",\"Burkina Faso\",\"Cambodia\",\"Benin\",\"Uganda\",\"Nigeria\",\"Kenya\",\"Tunisia\",\"Pakistan\",\"Mali\",\"Myanmar\",\"Sri Lanka\",\"Egypt\",\"Ethiopia\",\"Jordan\",\"Togo\",\"India\",\"Zambia\",\"Malawi\",\"Tanzania\",\"Sierra Leone\",\"Zimbabwe\",\"Lebanon\",\"Afghanistan\"],\"name\":\"\",\"z\":[1,2,3,4,5,7,8,9,10,11,12,13,14,15,16,17,19,20,21,22,23,24,25,27,28,29,30,31,32,33,34,35,36,37,38,40,41,42,43,44,45,46,47,48,49,51,52,53,54,55,56,57,58,59,60,61,62,63,64,66,67,68,69,70,71,72,73,74,75,76,77,80,82,83,84,85,87,88,90,91,94,96,98,100,102,103,105,106,107,108,109,110,111,112,113,114,115,117,118,119,120,121,123,126,127,129,131,134,135,136,137,138,139,140,144,145,146],\"type\":\"choropleth\"}],                        {\"template\":{\"data\":{\"bar\":[{\"error_x\":{\"color\":\"#2a3f5f\"},\"error_y\":{\"color\":\"#2a3f5f\"},\"marker\":{\"line\":{\"color\":\"#E5ECF6\",\"width\":0.5},\"pattern\":{\"fillmode\":\"overlay\",\"size\":10,\"solidity\":0.2}},\"type\":\"bar\"}],\"barpolar\":[{\"marker\":{\"line\":{\"color\":\"#E5ECF6\",\"width\":0.5},\"pattern\":{\"fillmode\":\"overlay\",\"size\":10,\"solidity\":0.2}},\"type\":\"barpolar\"}],\"carpet\":[{\"aaxis\":{\"endlinecolor\":\"#2a3f5f\",\"gridcolor\":\"white\",\"linecolor\":\"white\",\"minorgridcolor\":\"white\",\"startlinecolor\":\"#2a3f5f\"},\"baxis\":{\"endlinecolor\":\"#2a3f5f\",\"gridcolor\":\"white\",\"linecolor\":\"white\",\"minorgridcolor\":\"white\",\"startlinecolor\":\"#2a3f5f\"},\"type\":\"carpet\"}],\"choropleth\":[{\"colorbar\":{\"outlinewidth\":0,\"ticks\":\"\"},\"type\":\"choropleth\"}],\"contour\":[{\"colorbar\":{\"outlinewidth\":0,\"ticks\":\"\"},\"colorscale\":[[0.0,\"#0d0887\"],[0.1111111111111111,\"#46039f\"],[0.2222222222222222,\"#7201a8\"],[0.3333333333333333,\"#9c179e\"],[0.4444444444444444,\"#bd3786\"],[0.5555555555555556,\"#d8576b\"],[0.6666666666666666,\"#ed7953\"],[0.7777777777777778,\"#fb9f3a\"],[0.8888888888888888,\"#fdca26\"],[1.0,\"#f0f921\"]],\"type\":\"contour\"}],\"contourcarpet\":[{\"colorbar\":{\"outlinewidth\":0,\"ticks\":\"\"},\"type\":\"contourcarpet\"}],\"heatmap\":[{\"colorbar\":{\"outlinewidth\":0,\"ticks\":\"\"},\"colorscale\":[[0.0,\"#0d0887\"],[0.1111111111111111,\"#46039f\"],[0.2222222222222222,\"#7201a8\"],[0.3333333333333333,\"#9c179e\"],[0.4444444444444444,\"#bd3786\"],[0.5555555555555556,\"#d8576b\"],[0.6666666666666666,\"#ed7953\"],[0.7777777777777778,\"#fb9f3a\"],[0.8888888888888888,\"#fdca26\"],[1.0,\"#f0f921\"]],\"type\":\"heatmap\"}],\"heatmapgl\":[{\"colorbar\":{\"outlinewidth\":0,\"ticks\":\"\"},\"colorscale\":[[0.0,\"#0d0887\"],[0.1111111111111111,\"#46039f\"],[0.2222222222222222,\"#7201a8\"],[0.3333333333333333,\"#9c179e\"],[0.4444444444444444,\"#bd3786\"],[0.5555555555555556,\"#d8576b\"],[0.6666666666666666,\"#ed7953\"],[0.7777777777777778,\"#fb9f3a\"],[0.8888888888888888,\"#fdca26\"],[1.0,\"#f0f921\"]],\"type\":\"heatmapgl\"}],\"histogram\":[{\"marker\":{\"pattern\":{\"fillmode\":\"overlay\",\"size\":10,\"solidity\":0.2}},\"type\":\"histogram\"}],\"histogram2d\":[{\"colorbar\":{\"outlinewidth\":0,\"ticks\":\"\"},\"colorscale\":[[0.0,\"#0d0887\"],[0.1111111111111111,\"#46039f\"],[0.2222222222222222,\"#7201a8\"],[0.3333333333333333,\"#9c179e\"],[0.4444444444444444,\"#bd3786\"],[0.5555555555555556,\"#d8576b\"],[0.6666666666666666,\"#ed7953\"],[0.7777777777777778,\"#fb9f3a\"],[0.8888888888888888,\"#fdca26\"],[1.0,\"#f0f921\"]],\"type\":\"histogram2d\"}],\"histogram2dcontour\":[{\"colorbar\":{\"outlinewidth\":0,\"ticks\":\"\"},\"colorscale\":[[0.0,\"#0d0887\"],[0.1111111111111111,\"#46039f\"],[0.2222222222222222,\"#7201a8\"],[0.3333333333333333,\"#9c179e\"],[0.4444444444444444,\"#bd3786\"],[0.5555555555555556,\"#d8576b\"],[0.6666666666666666,\"#ed7953\"],[0.7777777777777778,\"#fb9f3a\"],[0.8888888888888888,\"#fdca26\"],[1.0,\"#f0f921\"]],\"type\":\"histogram2dcontour\"}],\"mesh3d\":[{\"colorbar\":{\"outlinewidth\":0,\"ticks\":\"\"},\"type\":\"mesh3d\"}],\"parcoords\":[{\"line\":{\"colorbar\":{\"outlinewidth\":0,\"ticks\":\"\"}},\"type\":\"parcoords\"}],\"pie\":[{\"automargin\":true,\"type\":\"pie\"}],\"scatter\":[{\"marker\":{\"colorbar\":{\"outlinewidth\":0,\"ticks\":\"\"}},\"type\":\"scatter\"}],\"scatter3d\":[{\"line\":{\"colorbar\":{\"outlinewidth\":0,\"ticks\":\"\"}},\"marker\":{\"colorbar\":{\"outlinewidth\":0,\"ticks\":\"\"}},\"type\":\"scatter3d\"}],\"scattercarpet\":[{\"marker\":{\"colorbar\":{\"outlinewidth\":0,\"ticks\":\"\"}},\"type\":\"scattercarpet\"}],\"scattergeo\":[{\"marker\":{\"colorbar\":{\"outlinewidth\":0,\"ticks\":\"\"}},\"type\":\"scattergeo\"}],\"scattergl\":[{\"marker\":{\"colorbar\":{\"outlinewidth\":0,\"ticks\":\"\"}},\"type\":\"scattergl\"}],\"scattermapbox\":[{\"marker\":{\"colorbar\":{\"outlinewidth\":0,\"ticks\":\"\"}},\"type\":\"scattermapbox\"}],\"scatterpolar\":[{\"marker\":{\"colorbar\":{\"outlinewidth\":0,\"ticks\":\"\"}},\"type\":\"scatterpolar\"}],\"scatterpolargl\":[{\"marker\":{\"colorbar\":{\"outlinewidth\":0,\"ticks\":\"\"}},\"type\":\"scatterpolargl\"}],\"scatterternary\":[{\"marker\":{\"colorbar\":{\"outlinewidth\":0,\"ticks\":\"\"}},\"type\":\"scatterternary\"}],\"surface\":[{\"colorbar\":{\"outlinewidth\":0,\"ticks\":\"\"},\"colorscale\":[[0.0,\"#0d0887\"],[0.1111111111111111,\"#46039f\"],[0.2222222222222222,\"#7201a8\"],[0.3333333333333333,\"#9c179e\"],[0.4444444444444444,\"#bd3786\"],[0.5555555555555556,\"#d8576b\"],[0.6666666666666666,\"#ed7953\"],[0.7777777777777778,\"#fb9f3a\"],[0.8888888888888888,\"#fdca26\"],[1.0,\"#f0f921\"]],\"type\":\"surface\"}],\"table\":[{\"cells\":{\"fill\":{\"color\":\"#EBF0F8\"},\"line\":{\"color\":\"white\"}},\"header\":{\"fill\":{\"color\":\"#C8D4E3\"},\"line\":{\"color\":\"white\"}},\"type\":\"table\"}]},\"layout\":{\"annotationdefaults\":{\"arrowcolor\":\"#2a3f5f\",\"arrowhead\":0,\"arrowwidth\":1},\"autotypenumbers\":\"strict\",\"coloraxis\":{\"colorbar\":{\"outlinewidth\":0,\"ticks\":\"\"}},\"colorscale\":{\"diverging\":[[0,\"#8e0152\"],[0.1,\"#c51b7d\"],[0.2,\"#de77ae\"],[0.3,\"#f1b6da\"],[0.4,\"#fde0ef\"],[0.5,\"#f7f7f7\"],[0.6,\"#e6f5d0\"],[0.7,\"#b8e186\"],[0.8,\"#7fbc41\"],[0.9,\"#4d9221\"],[1,\"#276419\"]],\"sequential\":[[0.0,\"#0d0887\"],[0.1111111111111111,\"#46039f\"],[0.2222222222222222,\"#7201a8\"],[0.3333333333333333,\"#9c179e\"],[0.4444444444444444,\"#bd3786\"],[0.5555555555555556,\"#d8576b\"],[0.6666666666666666,\"#ed7953\"],[0.7777777777777778,\"#fb9f3a\"],[0.8888888888888888,\"#fdca26\"],[1.0,\"#f0f921\"]],\"sequentialminus\":[[0.0,\"#0d0887\"],[0.1111111111111111,\"#46039f\"],[0.2222222222222222,\"#7201a8\"],[0.3333333333333333,\"#9c179e\"],[0.4444444444444444,\"#bd3786\"],[0.5555555555555556,\"#d8576b\"],[0.6666666666666666,\"#ed7953\"],[0.7777777777777778,\"#fb9f3a\"],[0.8888888888888888,\"#fdca26\"],[1.0,\"#f0f921\"]]},\"colorway\":[\"#636efa\",\"#EF553B\",\"#00cc96\",\"#ab63fa\",\"#FFA15A\",\"#19d3f3\",\"#FF6692\",\"#B6E880\",\"#FF97FF\",\"#FECB52\"],\"font\":{\"color\":\"#2a3f5f\"},\"geo\":{\"bgcolor\":\"white\",\"lakecolor\":\"white\",\"landcolor\":\"#E5ECF6\",\"showlakes\":true,\"showland\":true,\"subunitcolor\":\"white\"},\"hoverlabel\":{\"align\":\"left\"},\"hovermode\":\"closest\",\"mapbox\":{\"style\":\"light\"},\"paper_bgcolor\":\"white\",\"plot_bgcolor\":\"#E5ECF6\",\"polar\":{\"angularaxis\":{\"gridcolor\":\"white\",\"linecolor\":\"white\",\"ticks\":\"\"},\"bgcolor\":\"#E5ECF6\",\"radialaxis\":{\"gridcolor\":\"white\",\"linecolor\":\"white\",\"ticks\":\"\"}},\"scene\":{\"xaxis\":{\"backgroundcolor\":\"#E5ECF6\",\"gridcolor\":\"white\",\"gridwidth\":2,\"linecolor\":\"white\",\"showbackground\":true,\"ticks\":\"\",\"zerolinecolor\":\"white\"},\"yaxis\":{\"backgroundcolor\":\"#E5ECF6\",\"gridcolor\":\"white\",\"gridwidth\":2,\"linecolor\":\"white\",\"showbackground\":true,\"ticks\":\"\",\"zerolinecolor\":\"white\"},\"zaxis\":{\"backgroundcolor\":\"#E5ECF6\",\"gridcolor\":\"white\",\"gridwidth\":2,\"linecolor\":\"white\",\"showbackground\":true,\"ticks\":\"\",\"zerolinecolor\":\"white\"}},\"shapedefaults\":{\"line\":{\"color\":\"#2a3f5f\"}},\"ternary\":{\"aaxis\":{\"gridcolor\":\"white\",\"linecolor\":\"white\",\"ticks\":\"\"},\"baxis\":{\"gridcolor\":\"white\",\"linecolor\":\"white\",\"ticks\":\"\"},\"bgcolor\":\"#E5ECF6\",\"caxis\":{\"gridcolor\":\"white\",\"linecolor\":\"white\",\"ticks\":\"\"}},\"title\":{\"x\":0.05},\"xaxis\":{\"automargin\":true,\"gridcolor\":\"white\",\"linecolor\":\"white\",\"ticks\":\"\",\"title\":{\"standoff\":15},\"zerolinecolor\":\"white\",\"zerolinewidth\":2},\"yaxis\":{\"automargin\":true,\"gridcolor\":\"white\",\"linecolor\":\"white\",\"ticks\":\"\",\"title\":{\"standoff\":15},\"zerolinecolor\":\"white\",\"zerolinewidth\":2}}},\"geo\":{\"domain\":{\"x\":[0.0,1.0],\"y\":[0.0,1.0]},\"projection\":{\"type\":\"natural earth\"},\"center\":{},\"scope\":\"world\"},\"coloraxis\":{\"colorbar\":{\"title\":{\"text\":\"Happiness Rank\"}},\"colorscale\":[[0.0,\"rgb(150,0,90)\"],[0.125,\"rgb(0,0,200)\"],[0.25,\"rgb(0,25,255)\"],[0.375,\"rgb(0,152,255)\"],[0.5,\"rgb(44,255,150)\"],[0.625,\"rgb(151,255,0)\"],[0.75,\"rgb(255,234,0)\"],[0.875,\"rgb(255,111,0)\"],[1.0,\"rgb(255,0,0)\"]]},\"legend\":{\"tracegroupgap\":0},\"margin\":{\"t\":60},\"title\":{\"text\":\"Hapiness Rankings in 2022 \"}},                        {\"responsive\": true}                    ).then(function(){\n",
       "                            \n",
       "var gd = document.getElementById('be3a7063-7b0d-421e-96be-3c291434717b');\n",
       "var x = new MutationObserver(function (mutations, observer) {{\n",
       "        var display = window.getComputedStyle(gd).display;\n",
       "        if (!display || display === 'none') {{\n",
       "            console.log([gd, 'removed!']);\n",
       "            Plotly.purge(gd);\n",
       "            observer.disconnect();\n",
       "        }}\n",
       "}});\n",
       "\n",
       "// Listen for the removal of the full notebook cells\n",
       "var notebookContainer = gd.closest('#notebook-container');\n",
       "if (notebookContainer) {{\n",
       "    x.observe(notebookContainer, {childList: true});\n",
       "}}\n",
       "\n",
       "// Listen for the clearing of the current output cell\n",
       "var outputEl = gd.closest('.output');\n",
       "if (outputEl) {{\n",
       "    x.observe(outputEl, {childList: true});\n",
       "}}\n",
       "\n",
       "                        })                };                });            </script>        </div>"
      ]
     },
     "metadata": {},
     "output_type": "display_data"
    }
   ],
   "source": [
    "fig.update_layout(geo_scope='world',\n",
    "#                               colorscale=True,\n",
    "                              title_text='Hapiness Rankings in 2022 '\n",
    "                               )"
   ]
  },
  {
   "cell_type": "code",
   "execution_count": 171,
   "id": "a16a2ec4",
   "metadata": {},
   "outputs": [
    {
     "data": {
      "application/vnd.plotly.v1+json": {
       "config": {
        "plotlyServerURL": "https://plot.ly"
       },
       "data": [
        {
         "coloraxis": "coloraxis",
         "customdata": [
          [
           1,
           "Finland",
           7.821,
           1.892,
           1.258,
           77.5,
           0.109
          ],
          [
           2,
           "Denmark",
           7.636,
           1.953,
           1.243,
           77.7,
           0.188
          ],
          [
           3,
           "Iceland",
           7.557,
           1.936,
           1.32,
           80.30000000000001,
           0.27
          ],
          [
           4,
           "Switzerland",
           7.512,
           2.026,
           1.226,
           82.19999999999999,
           0.147
          ],
          [
           5,
           "Netherlands",
           7.415,
           1.945,
           1.206,
           78.7,
           0.271
          ],
          [
           7,
           "Sweden",
           7.384,
           1.92,
           1.204,
           80.30000000000001,
           0.218
          ],
          [
           8,
           "Norway",
           7.365,
           1.997,
           1.239,
           78.60000000000001,
           0.217
          ],
          [
           9,
           "Israel",
           7.364,
           1.826,
           1.221,
           81.8,
           0.155
          ],
          [
           10,
           "New Zealand",
           7.2,
           1.852,
           1.235,
           75.2,
           0.245
          ],
          [
           11,
           "Austria",
           7.163,
           1.931,
           1.165,
           77.4,
           0.193
          ],
          [
           12,
           "Australia",
           7.162,
           1.9,
           1.203,
           77.2,
           0.258
          ],
          [
           13,
           "Ireland",
           7.041,
           2.129,
           1.166,
           77.9,
           0.19
          ],
          [
           14,
           "Germany",
           7.034,
           1.924,
           1.088,
           77.60000000000001,
           0.163
          ],
          [
           15,
           "Canada",
           7.025,
           1.886,
           1.188,
           78.3,
           0.217
          ],
          [
           16,
           "United States",
           6.977,
           1.982,
           1.182,
           62.8,
           0.22
          ],
          [
           17,
           "United Kingdom",
           6.943,
           1.867,
           1.143,
           75,
           0.289
          ],
          [
           19,
           "Belgium",
           6.805,
           1.907,
           1.106,
           76.4,
           0.049
          ],
          [
           20,
           "France",
           6.687,
           1.863,
           1.219,
           80.80000000000001,
           0.07
          ],
          [
           21,
           "Bahrain",
           6.647,
           1.854,
           1.029,
           62.5,
           0.199
          ],
          [
           22,
           "Slovenia",
           6.63,
           1.81,
           1.249,
           76.9,
           0.118
          ],
          [
           23,
           "Costa Rica",
           6.582,
           1.584,
           1.054,
           74.4,
           0.089
          ],
          [
           24,
           "United Arab Emirates",
           6.576,
           1.998,
           0.98,
           63.3,
           0.204
          ],
          [
           25,
           "Saudi Arabia",
           6.523,
           1.87,
           1.092,
           57.7,
           0.078
          ],
          [
           27,
           "Singapore",
           6.48,
           2.149,
           1.127,
           85.1,
           0.163
          ],
          [
           28,
           "Romania",
           6.477,
           1.719,
           1.006,
           65.5,
           0.039
          ],
          [
           29,
           "Spain",
           6.476,
           1.808,
           1.211,
           80.80000000000001,
           0.101
          ],
          [
           30,
           "Uruguay",
           6.474,
           1.615,
           1.18,
           67.2,
           0.103
          ],
          [
           31,
           "Italy",
           6.467,
           1.834,
           1.052,
           80.10000000000001,
           0.085
          ],
          [
           32,
           "Kosovo",
           6.455,
           1.362,
           0.949,
           56.89999999999999,
           0.309
          ],
          [
           33,
           "Malta",
           6.447,
           1.838,
           1.169,
           78.9,
           0.174
          ],
          [
           34,
           "Lithuania",
           6.446,
           1.804,
           1.204,
           65.9,
           0.053
          ],
          [
           35,
           "Slovakia",
           6.391,
           1.736,
           1.232,
           70.7,
           0.118
          ],
          [
           36,
           "Estonia",
           6.341,
           1.793,
           1.232,
           72.8,
           0.123
          ],
          [
           37,
           "Panama",
           6.309,
           1.715,
           1.107,
           70.89999999999999,
           0.049
          ],
          [
           38,
           "Brazil",
           6.293,
           1.462,
           1.044,
           61.5,
           0.131
          ],
          [
           40,
           "Kazakhstan",
           6.234,
           1.668,
           1.22,
           61.1,
           0.134
          ],
          [
           41,
           "Cyprus",
           6.221,
           1.815,
           0.909,
           81.89999999999999,
           0.123
          ],
          [
           42,
           "Latvia",
           6.18,
           1.732,
           1.221,
           63.7,
           0.075
          ],
          [
           43,
           "Serbia",
           6.178,
           1.55,
           1.086,
           65.8,
           0.219
          ],
          [
           44,
           "Chile",
           6.172,
           1.651,
           1.08,
           74.8,
           0.124
          ],
          [
           45,
           "Nicaragua",
           6.165,
           1.105,
           1.029,
           61.7,
           0.168
          ],
          [
           46,
           "Mexico",
           6.128,
           1.552,
           0.886,
           62.3,
           0.092
          ],
          [
           47,
           "Croatia",
           6.125,
           1.705,
           1.183,
           70.89999999999999,
           0.109
          ],
          [
           48,
           "Poland",
           6.123,
           1.758,
           1.174,
           71.2,
           0.124
          ],
          [
           49,
           "El Salvador",
           6.12,
           1.265,
           0.768,
           60.7,
           0.089
          ],
          [
           51,
           "Hungary",
           6.086,
           1.748,
           1.233,
           66.8,
           0.078
          ],
          [
           52,
           "Mauritius",
           6.071,
           1.591,
           1.116,
           56.8,
           0.131
          ],
          [
           53,
           "Uzbekistan",
           6.063,
           1.219,
           1.092,
           60,
           0.283
          ],
          [
           54,
           "Japan",
           6.039,
           1.835,
           1.089,
           86.6,
           0.007
          ],
          [
           55,
           "Honduras",
           6.022,
           1.111,
           0.885,
           55.50000000000001,
           0.202
          ],
          [
           56,
           "Portugal",
           6.016,
           1.76,
           1.078,
           77.7,
           0.016
          ],
          [
           57,
           "Argentina",
           5.967,
           1.592,
           1.102,
           66.2,
           0.081
          ],
          [
           58,
           "Greece",
           5.948,
           1.703,
           0.98,
           77.4,
           0.015
          ],
          [
           59,
           "South Korea",
           5.935,
           1.851,
           0.886,
           84.1,
           0.111
          ],
          [
           60,
           "Philippines",
           5.904,
           1.268,
           0.912,
           51.4,
           0.107
          ],
          [
           61,
           "Thailand",
           5.891,
           1.535,
           1.096,
           69.69999999999999,
           0.321
          ],
          [
           62,
           "Moldova",
           5.857,
           1.417,
           1.008,
           59.7,
           0.102
          ],
          [
           63,
           "Jamaica",
           5.85,
           1.296,
           1.045,
           64.60000000000001,
           0.08
          ],
          [
           64,
           "Kyrgyzstan",
           5.828,
           1.069,
           1.109,
           63.8,
           0.208
          ],
          [
           66,
           "Colombia",
           5.781,
           1.452,
           0.929,
           72,
           0.087
          ],
          [
           67,
           "Bosnia and Herzegovina",
           5.768,
           1.468,
           1.068,
           66.5,
           0.244
          ],
          [
           68,
           "Mongolia",
           5.761,
           1.393,
           1.197,
           46.7,
           0.247
          ],
          [
           69,
           "Dominican Republic",
           5.737,
           1.538,
           1.003,
           57.7,
           0.084
          ],
          [
           70,
           "Malaysia",
           5.711,
           1.689,
           0.938,
           62,
           0.213
          ],
          [
           71,
           "Bolivia",
           5.6,
           1.256,
           0.88,
           55.50000000000001,
           0.112
          ],
          [
           72,
           "China",
           5.585,
           1.508,
           0.958,
           70.5,
           0.099
          ],
          [
           73,
           "Paraguay",
           5.578,
           1.409,
           1.13,
           62.4,
           0.171
          ],
          [
           74,
           "Peru",
           5.559,
           1.397,
           0.865,
           73.5,
           0.09
          ],
          [
           75,
           "Montenegro",
           5.547,
           1.573,
           1.023,
           65.9,
           0.135
          ],
          [
           76,
           "Ecuador",
           5.533,
           1.352,
           0.879,
           70.8,
           0.08
          ],
          [
           77,
           "Vietnam",
           5.485,
           1.252,
           0.932,
           61.1,
           0.143
          ],
          [
           80,
           "Russia",
           5.459,
           1.685,
           1.095,
           58.6,
           0.117
          ],
          [
           82,
           "Armenia",
           5.399,
           1.434,
           0.82,
           66.8,
           0.054
          ],
          [
           83,
           "Tajikistan",
           5.377,
           0.966,
           1.005,
           51.8,
           0.118
          ],
          [
           84,
           "Nepal",
           5.377,
           0.984,
           0.784,
           49.9,
           0.237
          ],
          [
           85,
           "Bulgaria",
           5.371,
           1.625,
           1.163,
           64,
           0.123
          ],
          [
           87,
           "Indonesia",
           5.24,
           1.382,
           0.883,
           53.900000000000006,
           0.468
          ],
          [
           88,
           "Ivory Coast",
           5.235,
           1.094,
           0.442,
           32.2,
           0.149
          ],
          [
           90,
           "Albania",
           5.199,
           1.439,
           0.646,
           71.89999999999999,
           0.138
          ],
          [
           91,
           "South Africa",
           5.194,
           1.425,
           1.088,
           36.1,
           0.089
          ],
          [
           94,
           "Bangladesh",
           5.155,
           1.06,
           0.614,
           58.1,
           0.125
          ],
          [
           96,
           "Algeria",
           5.122,
           1.363,
           0.97,
           64.3,
           0.106
          ],
          [
           98,
           "Ukraine",
           5.084,
           1.411,
           1.081,
           58.3,
           0.188
          ],
          [
           100,
           "Morocco",
           5.06,
           1.208,
           0.268,
           56.49999999999999,
           0.02
          ],
          [
           102,
           "Cameroon",
           5.048,
           0.968,
           0.672,
           31.7,
           0.152
          ],
          [
           103,
           "Senegal",
           5.046,
           0.933,
           0.53,
           44.7,
           0.143
          ],
          [
           105,
           "Georgia",
           4.973,
           1.467,
           0.612,
           59.5,
           0
          ],
          [
           106,
           "Gabon",
           4.958,
           1.459,
           0.738,
           39.6,
           0.032
          ],
          [
           107,
           "Iraq",
           4.941,
           1.289,
           0.682,
           55.400000000000006,
           0.147
          ],
          [
           108,
           "Venezuela",
           4.925,
           0,
           0.968,
           57.8,
           0.225
          ],
          [
           109,
           "Guinea",
           4.891,
           0.848,
           0.566,
           27.500000000000004,
           0.214
          ],
          [
           110,
           "Iran",
           4.888,
           1.41,
           0.741,
           64.2,
           0.241
          ],
          [
           111,
           "Ghana",
           4.872,
           1.112,
           0.595,
           40.9,
           0.23
          ],
          [
           112,
           "Turkey",
           4.744,
           1.707,
           0.865,
           70.19999999999999,
           0.087
          ],
          [
           113,
           "Burkina Faso",
           4.67,
           0.779,
           0.565,
           32,
           0.186
          ],
          [
           114,
           "Cambodia",
           4.64,
           1.019,
           0.732,
           50.5,
           0.166
          ],
          [
           115,
           "Benin",
           4.623,
           0.932,
           0.064,
           33.5,
           0.127
          ],
          [
           117,
           "Uganda",
           4.603,
           0.777,
           0.875,
           41.8,
           0.222
          ],
          [
           118,
           "Nigeria",
           4.552,
           1.079,
           0.732,
           30,
           0.175
          ],
          [
           119,
           "Kenya",
           4.543,
           1.032,
           0.605,
           40.1,
           0.322
          ],
          [
           120,
           "Tunisia",
           4.516,
           1.35,
           0.596,
           65.60000000000001,
           0.029
          ],
          [
           121,
           "Pakistan",
           4.516,
           1.049,
           0.413,
           37.4,
           0.181
          ],
          [
           123,
           "Mali",
           4.479,
           0.792,
           0.483,
           31.1,
           0.128
          ],
          [
           126,
           "Myanmar",
           4.394,
           1.038,
           0.829,
           49.1,
           0.452
          ],
          [
           127,
           "Sri Lanka",
           4.362,
           1.415,
           0.934,
           66,
           0.15
          ],
          [
           129,
           "Egypt",
           4.288,
           1.388,
           0.732,
           54.8,
           0.041
          ],
          [
           131,
           "Ethiopia",
           4.241,
           0.788,
           0.809,
           45.7,
           0.205
          ],
          [
           134,
           "Jordan",
           4.152,
           1.324,
           0.724,
           67.5,
           0.058
          ],
          [
           135,
           "Togo",
           4.112,
           0.771,
           0.322,
           36,
           0.174
          ],
          [
           136,
           "India",
           3.777,
           1.167,
           0.376,
           47.1,
           0.198
          ],
          [
           137,
           "Zambia",
           3.76,
           0.93,
           0.577,
           30.6,
           0.203
          ],
          [
           138,
           "Malawi",
           3.75,
           0.648,
           0.279,
           38.8,
           0.14
          ],
          [
           139,
           "Tanzania",
           3.702,
           0.848,
           0.597,
           42.5,
           0.248
          ],
          [
           140,
           "Sierra Leone",
           3.574,
           0.686,
           0.416,
           27.3,
           0.202
          ],
          [
           144,
           "Zimbabwe",
           2.995,
           0.947,
           0.69,
           27,
           0.106
          ],
          [
           145,
           "Lebanon",
           2.955,
           1.392,
           0.498,
           63.1,
           0.082
          ],
          [
           146,
           "Afghanistan",
           2.404,
           0.758,
           0,
           28.9,
           0.089
          ]
         ],
         "geo": "geo",
         "hovertemplate": "<b>%{hovertext}</b><br><br>Country=%{customdata[1]}<br>Happiness Rank=%{customdata[0]}<br>Happiness Score=%{z}<br>Economy (GDP per Capita)=%{customdata[3]}<br>Family=%{customdata[4]}<br>Health (Life Expectancy)=%{customdata[5]}<br>Generosity=%{customdata[6]}<extra></extra>",
         "hovertext": [
          "Finland",
          "Denmark",
          "Iceland",
          "Switzerland",
          "Netherlands",
          "Sweden",
          "Norway",
          "Israel",
          "New Zealand",
          "Austria",
          "Australia",
          "Ireland",
          "Germany",
          "Canada",
          "United States",
          "United Kingdom",
          "Belgium",
          "France",
          "Bahrain",
          "Slovenia",
          "Costa Rica",
          "United Arab Emirates",
          "Saudi Arabia",
          "Singapore",
          "Romania",
          "Spain",
          "Uruguay",
          "Italy",
          "Kosovo",
          "Malta",
          "Lithuania",
          "Slovakia",
          "Estonia",
          "Panama",
          "Brazil",
          "Kazakhstan",
          "Cyprus",
          "Latvia",
          "Serbia",
          "Chile",
          "Nicaragua",
          "Mexico",
          "Croatia",
          "Poland",
          "El Salvador",
          "Hungary",
          "Mauritius",
          "Uzbekistan",
          "Japan",
          "Honduras",
          "Portugal",
          "Argentina",
          "Greece",
          "South Korea",
          "Philippines",
          "Thailand",
          "Moldova",
          "Jamaica",
          "Kyrgyzstan",
          "Colombia",
          "Bosnia and Herzegovina",
          "Mongolia",
          "Dominican Republic",
          "Malaysia",
          "Bolivia",
          "China",
          "Paraguay",
          "Peru",
          "Montenegro",
          "Ecuador",
          "Vietnam",
          "Russia",
          "Armenia",
          "Tajikistan",
          "Nepal",
          "Bulgaria",
          "Indonesia",
          "Ivory Coast",
          "Albania",
          "South Africa",
          "Bangladesh",
          "Algeria",
          "Ukraine",
          "Morocco",
          "Cameroon",
          "Senegal",
          "Georgia",
          "Gabon",
          "Iraq",
          "Venezuela",
          "Guinea",
          "Iran",
          "Ghana",
          "Turkey",
          "Burkina Faso",
          "Cambodia",
          "Benin",
          "Uganda",
          "Nigeria",
          "Kenya",
          "Tunisia",
          "Pakistan",
          "Mali",
          "Myanmar",
          "Sri Lanka",
          "Egypt",
          "Ethiopia",
          "Jordan",
          "Togo",
          "India",
          "Zambia",
          "Malawi",
          "Tanzania",
          "Sierra Leone",
          "Zimbabwe",
          "Lebanon",
          "Afghanistan"
         ],
         "locationmode": "country names",
         "locations": [
          "Finland",
          "Denmark",
          "Iceland",
          "Switzerland",
          "Netherlands",
          "Sweden",
          "Norway",
          "Israel",
          "New Zealand",
          "Austria",
          "Australia",
          "Ireland",
          "Germany",
          "Canada",
          "United States",
          "United Kingdom",
          "Belgium",
          "France",
          "Bahrain",
          "Slovenia",
          "Costa Rica",
          "United Arab Emirates",
          "Saudi Arabia",
          "Singapore",
          "Romania",
          "Spain",
          "Uruguay",
          "Italy",
          "Kosovo",
          "Malta",
          "Lithuania",
          "Slovakia",
          "Estonia",
          "Panama",
          "Brazil",
          "Kazakhstan",
          "Cyprus",
          "Latvia",
          "Serbia",
          "Chile",
          "Nicaragua",
          "Mexico",
          "Croatia",
          "Poland",
          "El Salvador",
          "Hungary",
          "Mauritius",
          "Uzbekistan",
          "Japan",
          "Honduras",
          "Portugal",
          "Argentina",
          "Greece",
          "South Korea",
          "Philippines",
          "Thailand",
          "Moldova",
          "Jamaica",
          "Kyrgyzstan",
          "Colombia",
          "Bosnia and Herzegovina",
          "Mongolia",
          "Dominican Republic",
          "Malaysia",
          "Bolivia",
          "China",
          "Paraguay",
          "Peru",
          "Montenegro",
          "Ecuador",
          "Vietnam",
          "Russia",
          "Armenia",
          "Tajikistan",
          "Nepal",
          "Bulgaria",
          "Indonesia",
          "Ivory Coast",
          "Albania",
          "South Africa",
          "Bangladesh",
          "Algeria",
          "Ukraine",
          "Morocco",
          "Cameroon",
          "Senegal",
          "Georgia",
          "Gabon",
          "Iraq",
          "Venezuela",
          "Guinea",
          "Iran",
          "Ghana",
          "Turkey",
          "Burkina Faso",
          "Cambodia",
          "Benin",
          "Uganda",
          "Nigeria",
          "Kenya",
          "Tunisia",
          "Pakistan",
          "Mali",
          "Myanmar",
          "Sri Lanka",
          "Egypt",
          "Ethiopia",
          "Jordan",
          "Togo",
          "India",
          "Zambia",
          "Malawi",
          "Tanzania",
          "Sierra Leone",
          "Zimbabwe",
          "Lebanon",
          "Afghanistan"
         ],
         "name": "",
         "type": "choropleth",
         "z": [
          7.821,
          7.636,
          7.557,
          7.512,
          7.415,
          7.384,
          7.365,
          7.364,
          7.2,
          7.163,
          7.162,
          7.041,
          7.034,
          7.025,
          6.977,
          6.943,
          6.805,
          6.687,
          6.647,
          6.63,
          6.582,
          6.576,
          6.523,
          6.48,
          6.477,
          6.476,
          6.474,
          6.467,
          6.455,
          6.447,
          6.446,
          6.391,
          6.341,
          6.309,
          6.293,
          6.234,
          6.221,
          6.18,
          6.178,
          6.172,
          6.165,
          6.128,
          6.125,
          6.123,
          6.12,
          6.086,
          6.071,
          6.063,
          6.039,
          6.022,
          6.016,
          5.967,
          5.948,
          5.935,
          5.904,
          5.891,
          5.857,
          5.85,
          5.828,
          5.781,
          5.768,
          5.761,
          5.737,
          5.711,
          5.6,
          5.585,
          5.578,
          5.559,
          5.547,
          5.533,
          5.485,
          5.459,
          5.399,
          5.377,
          5.377,
          5.371,
          5.24,
          5.235,
          5.199,
          5.194,
          5.155,
          5.122,
          5.084,
          5.06,
          5.048,
          5.046,
          4.973,
          4.958,
          4.941,
          4.925,
          4.891,
          4.888,
          4.872,
          4.744,
          4.67,
          4.64,
          4.623,
          4.603,
          4.552,
          4.543,
          4.516,
          4.516,
          4.479,
          4.394,
          4.362,
          4.288,
          4.241,
          4.152,
          4.112,
          3.777,
          3.76,
          3.75,
          3.702,
          3.574,
          2.995,
          2.955,
          2.404
         ]
        }
       ],
       "layout": {
        "coloraxis": {
         "colorbar": {
          "title": {
           "text": "Happiness Score"
          }
         },
         "colorscale": [
          [
           0,
           "rgb(150,0,90)"
          ],
          [
           0.125,
           "rgb(0,0,200)"
          ],
          [
           0.25,
           "rgb(0,25,255)"
          ],
          [
           0.375,
           "rgb(0,152,255)"
          ],
          [
           0.5,
           "rgb(44,255,150)"
          ],
          [
           0.625,
           "rgb(151,255,0)"
          ],
          [
           0.75,
           "rgb(255,234,0)"
          ],
          [
           0.875,
           "rgb(255,111,0)"
          ],
          [
           1,
           "rgb(255,0,0)"
          ]
         ]
        },
        "geo": {
         "center": {},
         "domain": {
          "x": [
           0,
           1
          ],
          "y": [
           0,
           1
          ]
         },
         "projection": {
          "type": "natural earth"
         },
         "scope": "world"
        },
        "legend": {
         "tracegroupgap": 0
        },
        "margin": {
         "t": 60
        },
        "template": {
         "data": {
          "bar": [
           {
            "error_x": {
             "color": "#2a3f5f"
            },
            "error_y": {
             "color": "#2a3f5f"
            },
            "marker": {
             "line": {
              "color": "#E5ECF6",
              "width": 0.5
             },
             "pattern": {
              "fillmode": "overlay",
              "size": 10,
              "solidity": 0.2
             }
            },
            "type": "bar"
           }
          ],
          "barpolar": [
           {
            "marker": {
             "line": {
              "color": "#E5ECF6",
              "width": 0.5
             },
             "pattern": {
              "fillmode": "overlay",
              "size": 10,
              "solidity": 0.2
             }
            },
            "type": "barpolar"
           }
          ],
          "carpet": [
           {
            "aaxis": {
             "endlinecolor": "#2a3f5f",
             "gridcolor": "white",
             "linecolor": "white",
             "minorgridcolor": "white",
             "startlinecolor": "#2a3f5f"
            },
            "baxis": {
             "endlinecolor": "#2a3f5f",
             "gridcolor": "white",
             "linecolor": "white",
             "minorgridcolor": "white",
             "startlinecolor": "#2a3f5f"
            },
            "type": "carpet"
           }
          ],
          "choropleth": [
           {
            "colorbar": {
             "outlinewidth": 0,
             "ticks": ""
            },
            "type": "choropleth"
           }
          ],
          "contour": [
           {
            "colorbar": {
             "outlinewidth": 0,
             "ticks": ""
            },
            "colorscale": [
             [
              0,
              "#0d0887"
             ],
             [
              0.1111111111111111,
              "#46039f"
             ],
             [
              0.2222222222222222,
              "#7201a8"
             ],
             [
              0.3333333333333333,
              "#9c179e"
             ],
             [
              0.4444444444444444,
              "#bd3786"
             ],
             [
              0.5555555555555556,
              "#d8576b"
             ],
             [
              0.6666666666666666,
              "#ed7953"
             ],
             [
              0.7777777777777778,
              "#fb9f3a"
             ],
             [
              0.8888888888888888,
              "#fdca26"
             ],
             [
              1,
              "#f0f921"
             ]
            ],
            "type": "contour"
           }
          ],
          "contourcarpet": [
           {
            "colorbar": {
             "outlinewidth": 0,
             "ticks": ""
            },
            "type": "contourcarpet"
           }
          ],
          "heatmap": [
           {
            "colorbar": {
             "outlinewidth": 0,
             "ticks": ""
            },
            "colorscale": [
             [
              0,
              "#0d0887"
             ],
             [
              0.1111111111111111,
              "#46039f"
             ],
             [
              0.2222222222222222,
              "#7201a8"
             ],
             [
              0.3333333333333333,
              "#9c179e"
             ],
             [
              0.4444444444444444,
              "#bd3786"
             ],
             [
              0.5555555555555556,
              "#d8576b"
             ],
             [
              0.6666666666666666,
              "#ed7953"
             ],
             [
              0.7777777777777778,
              "#fb9f3a"
             ],
             [
              0.8888888888888888,
              "#fdca26"
             ],
             [
              1,
              "#f0f921"
             ]
            ],
            "type": "heatmap"
           }
          ],
          "heatmapgl": [
           {
            "colorbar": {
             "outlinewidth": 0,
             "ticks": ""
            },
            "colorscale": [
             [
              0,
              "#0d0887"
             ],
             [
              0.1111111111111111,
              "#46039f"
             ],
             [
              0.2222222222222222,
              "#7201a8"
             ],
             [
              0.3333333333333333,
              "#9c179e"
             ],
             [
              0.4444444444444444,
              "#bd3786"
             ],
             [
              0.5555555555555556,
              "#d8576b"
             ],
             [
              0.6666666666666666,
              "#ed7953"
             ],
             [
              0.7777777777777778,
              "#fb9f3a"
             ],
             [
              0.8888888888888888,
              "#fdca26"
             ],
             [
              1,
              "#f0f921"
             ]
            ],
            "type": "heatmapgl"
           }
          ],
          "histogram": [
           {
            "marker": {
             "pattern": {
              "fillmode": "overlay",
              "size": 10,
              "solidity": 0.2
             }
            },
            "type": "histogram"
           }
          ],
          "histogram2d": [
           {
            "colorbar": {
             "outlinewidth": 0,
             "ticks": ""
            },
            "colorscale": [
             [
              0,
              "#0d0887"
             ],
             [
              0.1111111111111111,
              "#46039f"
             ],
             [
              0.2222222222222222,
              "#7201a8"
             ],
             [
              0.3333333333333333,
              "#9c179e"
             ],
             [
              0.4444444444444444,
              "#bd3786"
             ],
             [
              0.5555555555555556,
              "#d8576b"
             ],
             [
              0.6666666666666666,
              "#ed7953"
             ],
             [
              0.7777777777777778,
              "#fb9f3a"
             ],
             [
              0.8888888888888888,
              "#fdca26"
             ],
             [
              1,
              "#f0f921"
             ]
            ],
            "type": "histogram2d"
           }
          ],
          "histogram2dcontour": [
           {
            "colorbar": {
             "outlinewidth": 0,
             "ticks": ""
            },
            "colorscale": [
             [
              0,
              "#0d0887"
             ],
             [
              0.1111111111111111,
              "#46039f"
             ],
             [
              0.2222222222222222,
              "#7201a8"
             ],
             [
              0.3333333333333333,
              "#9c179e"
             ],
             [
              0.4444444444444444,
              "#bd3786"
             ],
             [
              0.5555555555555556,
              "#d8576b"
             ],
             [
              0.6666666666666666,
              "#ed7953"
             ],
             [
              0.7777777777777778,
              "#fb9f3a"
             ],
             [
              0.8888888888888888,
              "#fdca26"
             ],
             [
              1,
              "#f0f921"
             ]
            ],
            "type": "histogram2dcontour"
           }
          ],
          "mesh3d": [
           {
            "colorbar": {
             "outlinewidth": 0,
             "ticks": ""
            },
            "type": "mesh3d"
           }
          ],
          "parcoords": [
           {
            "line": {
             "colorbar": {
              "outlinewidth": 0,
              "ticks": ""
             }
            },
            "type": "parcoords"
           }
          ],
          "pie": [
           {
            "automargin": true,
            "type": "pie"
           }
          ],
          "scatter": [
           {
            "marker": {
             "colorbar": {
              "outlinewidth": 0,
              "ticks": ""
             }
            },
            "type": "scatter"
           }
          ],
          "scatter3d": [
           {
            "line": {
             "colorbar": {
              "outlinewidth": 0,
              "ticks": ""
             }
            },
            "marker": {
             "colorbar": {
              "outlinewidth": 0,
              "ticks": ""
             }
            },
            "type": "scatter3d"
           }
          ],
          "scattercarpet": [
           {
            "marker": {
             "colorbar": {
              "outlinewidth": 0,
              "ticks": ""
             }
            },
            "type": "scattercarpet"
           }
          ],
          "scattergeo": [
           {
            "marker": {
             "colorbar": {
              "outlinewidth": 0,
              "ticks": ""
             }
            },
            "type": "scattergeo"
           }
          ],
          "scattergl": [
           {
            "marker": {
             "colorbar": {
              "outlinewidth": 0,
              "ticks": ""
             }
            },
            "type": "scattergl"
           }
          ],
          "scattermapbox": [
           {
            "marker": {
             "colorbar": {
              "outlinewidth": 0,
              "ticks": ""
             }
            },
            "type": "scattermapbox"
           }
          ],
          "scatterpolar": [
           {
            "marker": {
             "colorbar": {
              "outlinewidth": 0,
              "ticks": ""
             }
            },
            "type": "scatterpolar"
           }
          ],
          "scatterpolargl": [
           {
            "marker": {
             "colorbar": {
              "outlinewidth": 0,
              "ticks": ""
             }
            },
            "type": "scatterpolargl"
           }
          ],
          "scatterternary": [
           {
            "marker": {
             "colorbar": {
              "outlinewidth": 0,
              "ticks": ""
             }
            },
            "type": "scatterternary"
           }
          ],
          "surface": [
           {
            "colorbar": {
             "outlinewidth": 0,
             "ticks": ""
            },
            "colorscale": [
             [
              0,
              "#0d0887"
             ],
             [
              0.1111111111111111,
              "#46039f"
             ],
             [
              0.2222222222222222,
              "#7201a8"
             ],
             [
              0.3333333333333333,
              "#9c179e"
             ],
             [
              0.4444444444444444,
              "#bd3786"
             ],
             [
              0.5555555555555556,
              "#d8576b"
             ],
             [
              0.6666666666666666,
              "#ed7953"
             ],
             [
              0.7777777777777778,
              "#fb9f3a"
             ],
             [
              0.8888888888888888,
              "#fdca26"
             ],
             [
              1,
              "#f0f921"
             ]
            ],
            "type": "surface"
           }
          ],
          "table": [
           {
            "cells": {
             "fill": {
              "color": "#EBF0F8"
             },
             "line": {
              "color": "white"
             }
            },
            "header": {
             "fill": {
              "color": "#C8D4E3"
             },
             "line": {
              "color": "white"
             }
            },
            "type": "table"
           }
          ]
         },
         "layout": {
          "annotationdefaults": {
           "arrowcolor": "#2a3f5f",
           "arrowhead": 0,
           "arrowwidth": 1
          },
          "autotypenumbers": "strict",
          "coloraxis": {
           "colorbar": {
            "outlinewidth": 0,
            "ticks": ""
           }
          },
          "colorscale": {
           "diverging": [
            [
             0,
             "#8e0152"
            ],
            [
             0.1,
             "#c51b7d"
            ],
            [
             0.2,
             "#de77ae"
            ],
            [
             0.3,
             "#f1b6da"
            ],
            [
             0.4,
             "#fde0ef"
            ],
            [
             0.5,
             "#f7f7f7"
            ],
            [
             0.6,
             "#e6f5d0"
            ],
            [
             0.7,
             "#b8e186"
            ],
            [
             0.8,
             "#7fbc41"
            ],
            [
             0.9,
             "#4d9221"
            ],
            [
             1,
             "#276419"
            ]
           ],
           "sequential": [
            [
             0,
             "#0d0887"
            ],
            [
             0.1111111111111111,
             "#46039f"
            ],
            [
             0.2222222222222222,
             "#7201a8"
            ],
            [
             0.3333333333333333,
             "#9c179e"
            ],
            [
             0.4444444444444444,
             "#bd3786"
            ],
            [
             0.5555555555555556,
             "#d8576b"
            ],
            [
             0.6666666666666666,
             "#ed7953"
            ],
            [
             0.7777777777777778,
             "#fb9f3a"
            ],
            [
             0.8888888888888888,
             "#fdca26"
            ],
            [
             1,
             "#f0f921"
            ]
           ],
           "sequentialminus": [
            [
             0,
             "#0d0887"
            ],
            [
             0.1111111111111111,
             "#46039f"
            ],
            [
             0.2222222222222222,
             "#7201a8"
            ],
            [
             0.3333333333333333,
             "#9c179e"
            ],
            [
             0.4444444444444444,
             "#bd3786"
            ],
            [
             0.5555555555555556,
             "#d8576b"
            ],
            [
             0.6666666666666666,
             "#ed7953"
            ],
            [
             0.7777777777777778,
             "#fb9f3a"
            ],
            [
             0.8888888888888888,
             "#fdca26"
            ],
            [
             1,
             "#f0f921"
            ]
           ]
          },
          "colorway": [
           "#636efa",
           "#EF553B",
           "#00cc96",
           "#ab63fa",
           "#FFA15A",
           "#19d3f3",
           "#FF6692",
           "#B6E880",
           "#FF97FF",
           "#FECB52"
          ],
          "font": {
           "color": "#2a3f5f"
          },
          "geo": {
           "bgcolor": "white",
           "lakecolor": "white",
           "landcolor": "#E5ECF6",
           "showlakes": true,
           "showland": true,
           "subunitcolor": "white"
          },
          "hoverlabel": {
           "align": "left"
          },
          "hovermode": "closest",
          "mapbox": {
           "style": "light"
          },
          "paper_bgcolor": "white",
          "plot_bgcolor": "#E5ECF6",
          "polar": {
           "angularaxis": {
            "gridcolor": "white",
            "linecolor": "white",
            "ticks": ""
           },
           "bgcolor": "#E5ECF6",
           "radialaxis": {
            "gridcolor": "white",
            "linecolor": "white",
            "ticks": ""
           }
          },
          "scene": {
           "xaxis": {
            "backgroundcolor": "#E5ECF6",
            "gridcolor": "white",
            "gridwidth": 2,
            "linecolor": "white",
            "showbackground": true,
            "ticks": "",
            "zerolinecolor": "white"
           },
           "yaxis": {
            "backgroundcolor": "#E5ECF6",
            "gridcolor": "white",
            "gridwidth": 2,
            "linecolor": "white",
            "showbackground": true,
            "ticks": "",
            "zerolinecolor": "white"
           },
           "zaxis": {
            "backgroundcolor": "#E5ECF6",
            "gridcolor": "white",
            "gridwidth": 2,
            "linecolor": "white",
            "showbackground": true,
            "ticks": "",
            "zerolinecolor": "white"
           }
          },
          "shapedefaults": {
           "line": {
            "color": "#2a3f5f"
           }
          },
          "ternary": {
           "aaxis": {
            "gridcolor": "white",
            "linecolor": "white",
            "ticks": ""
           },
           "baxis": {
            "gridcolor": "white",
            "linecolor": "white",
            "ticks": ""
           },
           "bgcolor": "#E5ECF6",
           "caxis": {
            "gridcolor": "white",
            "linecolor": "white",
            "ticks": ""
           }
          },
          "title": {
           "x": 0.05
          },
          "xaxis": {
           "automargin": true,
           "gridcolor": "white",
           "linecolor": "white",
           "ticks": "",
           "title": {
            "standoff": 15
           },
           "zerolinecolor": "white",
           "zerolinewidth": 2
          },
          "yaxis": {
           "automargin": true,
           "gridcolor": "white",
           "linecolor": "white",
           "ticks": "",
           "title": {
            "standoff": 15
           },
           "zerolinecolor": "white",
           "zerolinewidth": 2
          }
         }
        },
        "title": {
         "text": "Hapiness Scores in 2022 "
        }
       }
      },
      "text/html": [
       "<div>                            <div id=\"a644677b-c9d1-466a-a906-d033987c4214\" class=\"plotly-graph-div\" style=\"height:525px; width:100%;\"></div>            <script type=\"text/javascript\">                require([\"plotly\"], function(Plotly) {                    window.PLOTLYENV=window.PLOTLYENV || {};                                    if (document.getElementById(\"a644677b-c9d1-466a-a906-d033987c4214\")) {                    Plotly.newPlot(                        \"a644677b-c9d1-466a-a906-d033987c4214\",                        [{\"coloraxis\":\"coloraxis\",\"customdata\":[[1,\"Finland\",7.821,1.892,1.258,77.5,0.109],[2,\"Denmark\",7.636,1.953,1.243,77.7,0.188],[3,\"Iceland\",7.557,1.936,1.32,80.30000000000001,0.27],[4,\"Switzerland\",7.512,2.026,1.226,82.19999999999999,0.147],[5,\"Netherlands\",7.415,1.945,1.206,78.7,0.271],[7,\"Sweden\",7.384,1.92,1.204,80.30000000000001,0.218],[8,\"Norway\",7.365,1.997,1.239,78.60000000000001,0.217],[9,\"Israel\",7.364,1.826,1.221,81.8,0.155],[10,\"New Zealand\",7.2,1.852,1.235,75.2,0.245],[11,\"Austria\",7.163,1.931,1.165,77.4,0.193],[12,\"Australia\",7.162,1.9,1.203,77.2,0.258],[13,\"Ireland\",7.041,2.129,1.166,77.9,0.19],[14,\"Germany\",7.034,1.924,1.088,77.60000000000001,0.163],[15,\"Canada\",7.025,1.886,1.188,78.3,0.217],[16,\"United States\",6.977,1.982,1.182,62.8,0.22],[17,\"United Kingdom\",6.943,1.867,1.143,75.0,0.289],[19,\"Belgium\",6.805,1.907,1.106,76.4,0.049],[20,\"France\",6.687,1.863,1.219,80.80000000000001,0.07],[21,\"Bahrain\",6.647,1.854,1.029,62.5,0.199],[22,\"Slovenia\",6.63,1.81,1.249,76.9,0.118],[23,\"Costa Rica\",6.582,1.584,1.054,74.4,0.089],[24,\"United Arab Emirates\",6.576,1.998,0.98,63.3,0.204],[25,\"Saudi Arabia\",6.523,1.87,1.092,57.7,0.078],[27,\"Singapore\",6.48,2.149,1.127,85.1,0.163],[28,\"Romania\",6.477,1.719,1.006,65.5,0.039],[29,\"Spain\",6.476,1.808,1.211,80.80000000000001,0.101],[30,\"Uruguay\",6.474,1.615,1.18,67.2,0.103],[31,\"Italy\",6.467,1.834,1.052,80.10000000000001,0.085],[32,\"Kosovo\",6.455,1.362,0.949,56.89999999999999,0.309],[33,\"Malta\",6.447,1.838,1.169,78.9,0.174],[34,\"Lithuania\",6.446,1.804,1.204,65.9,0.053],[35,\"Slovakia\",6.391,1.736,1.232,70.7,0.118],[36,\"Estonia\",6.341,1.793,1.232,72.8,0.123],[37,\"Panama\",6.309,1.715,1.107,70.89999999999999,0.049],[38,\"Brazil\",6.293,1.462,1.044,61.5,0.131],[40,\"Kazakhstan\",6.234,1.668,1.22,61.1,0.134],[41,\"Cyprus\",6.221,1.815,0.909,81.89999999999999,0.123],[42,\"Latvia\",6.18,1.732,1.221,63.7,0.075],[43,\"Serbia\",6.178,1.55,1.086,65.8,0.219],[44,\"Chile\",6.172,1.651,1.08,74.8,0.124],[45,\"Nicaragua\",6.165,1.105,1.029,61.7,0.168],[46,\"Mexico\",6.128,1.552,0.886,62.3,0.092],[47,\"Croatia\",6.125,1.705,1.183,70.89999999999999,0.109],[48,\"Poland\",6.123,1.758,1.174,71.2,0.124],[49,\"El Salvador\",6.12,1.265,0.768,60.7,0.089],[51,\"Hungary\",6.086,1.748,1.233,66.8,0.078],[52,\"Mauritius\",6.071,1.591,1.116,56.8,0.131],[53,\"Uzbekistan\",6.063,1.219,1.092,60.0,0.283],[54,\"Japan\",6.039,1.835,1.089,86.6,0.007],[55,\"Honduras\",6.022,1.111,0.885,55.50000000000001,0.202],[56,\"Portugal\",6.016,1.76,1.078,77.7,0.016],[57,\"Argentina\",5.967,1.592,1.102,66.2,0.081],[58,\"Greece\",5.948,1.703,0.98,77.4,0.015],[59,\"South Korea\",5.935,1.851,0.886,84.1,0.111],[60,\"Philippines\",5.904,1.268,0.912,51.4,0.107],[61,\"Thailand\",5.891,1.535,1.096,69.69999999999999,0.321],[62,\"Moldova\",5.857,1.417,1.008,59.7,0.102],[63,\"Jamaica\",5.85,1.296,1.045,64.60000000000001,0.08],[64,\"Kyrgyzstan\",5.828,1.069,1.109,63.8,0.208],[66,\"Colombia\",5.781,1.452,0.929,72.0,0.087],[67,\"Bosnia and Herzegovina\",5.768,1.468,1.068,66.5,0.244],[68,\"Mongolia\",5.761,1.393,1.197,46.7,0.247],[69,\"Dominican Republic\",5.737,1.538,1.003,57.7,0.084],[70,\"Malaysia\",5.711,1.689,0.938,62.0,0.213],[71,\"Bolivia\",5.6,1.256,0.88,55.50000000000001,0.112],[72,\"China\",5.585,1.508,0.958,70.5,0.099],[73,\"Paraguay\",5.578,1.409,1.13,62.4,0.171],[74,\"Peru\",5.559,1.397,0.865,73.5,0.09],[75,\"Montenegro\",5.547,1.573,1.023,65.9,0.135],[76,\"Ecuador\",5.533,1.352,0.879,70.8,0.08],[77,\"Vietnam\",5.485,1.252,0.932,61.1,0.143],[80,\"Russia\",5.459,1.685,1.095,58.6,0.117],[82,\"Armenia\",5.399,1.434,0.82,66.8,0.054],[83,\"Tajikistan\",5.377,0.966,1.005,51.8,0.118],[84,\"Nepal\",5.377,0.984,0.784,49.9,0.237],[85,\"Bulgaria\",5.371,1.625,1.163,64.0,0.123],[87,\"Indonesia\",5.24,1.382,0.883,53.900000000000006,0.468],[88,\"Ivory Coast\",5.235,1.094,0.442,32.2,0.149],[90,\"Albania\",5.199,1.439,0.646,71.89999999999999,0.138],[91,\"South Africa\",5.194,1.425,1.088,36.1,0.089],[94,\"Bangladesh\",5.155,1.06,0.614,58.1,0.125],[96,\"Algeria\",5.122,1.363,0.97,64.3,0.106],[98,\"Ukraine\",5.084,1.411,1.081,58.3,0.188],[100,\"Morocco\",5.06,1.208,0.268,56.49999999999999,0.02],[102,\"Cameroon\",5.048,0.968,0.672,31.7,0.152],[103,\"Senegal\",5.046,0.933,0.53,44.7,0.143],[105,\"Georgia\",4.973,1.467,0.612,59.5,0.0],[106,\"Gabon\",4.958,1.459,0.738,39.6,0.032],[107,\"Iraq\",4.941,1.289,0.682,55.400000000000006,0.147],[108,\"Venezuela\",4.925,0.0,0.968,57.8,0.225],[109,\"Guinea\",4.891,0.848,0.566,27.500000000000004,0.214],[110,\"Iran\",4.888,1.41,0.741,64.2,0.241],[111,\"Ghana\",4.872,1.112,0.595,40.9,0.23],[112,\"Turkey\",4.744,1.707,0.865,70.19999999999999,0.087],[113,\"Burkina Faso\",4.67,0.779,0.565,32.0,0.186],[114,\"Cambodia\",4.64,1.019,0.732,50.5,0.166],[115,\"Benin\",4.623,0.932,0.064,33.5,0.127],[117,\"Uganda\",4.603,0.777,0.875,41.8,0.222],[118,\"Nigeria\",4.552,1.079,0.732,30.0,0.175],[119,\"Kenya\",4.543,1.032,0.605,40.1,0.322],[120,\"Tunisia\",4.516,1.35,0.596,65.60000000000001,0.029],[121,\"Pakistan\",4.516,1.049,0.413,37.4,0.181],[123,\"Mali\",4.479,0.792,0.483,31.1,0.128],[126,\"Myanmar\",4.394,1.038,0.829,49.1,0.452],[127,\"Sri Lanka\",4.362,1.415,0.934,66.0,0.15],[129,\"Egypt\",4.288,1.388,0.732,54.8,0.041],[131,\"Ethiopia\",4.241,0.788,0.809,45.7,0.205],[134,\"Jordan\",4.152,1.324,0.724,67.5,0.058],[135,\"Togo\",4.112,0.771,0.322,36.0,0.174],[136,\"India\",3.777,1.167,0.376,47.1,0.198],[137,\"Zambia\",3.76,0.93,0.577,30.6,0.203],[138,\"Malawi\",3.75,0.648,0.279,38.8,0.14],[139,\"Tanzania\",3.702,0.848,0.597,42.5,0.248],[140,\"Sierra Leone\",3.574,0.686,0.416,27.3,0.202],[144,\"Zimbabwe\",2.995,0.947,0.69,27.0,0.106],[145,\"Lebanon\",2.955,1.392,0.498,63.1,0.082],[146,\"Afghanistan\",2.404,0.758,0.0,28.9,0.089]],\"geo\":\"geo\",\"hovertemplate\":\"<b>%{hovertext}</b><br><br>Country=%{customdata[1]}<br>Happiness Rank=%{customdata[0]}<br>Happiness Score=%{z}<br>Economy (GDP per Capita)=%{customdata[3]}<br>Family=%{customdata[4]}<br>Health (Life Expectancy)=%{customdata[5]}<br>Generosity=%{customdata[6]}<extra></extra>\",\"hovertext\":[\"Finland\",\"Denmark\",\"Iceland\",\"Switzerland\",\"Netherlands\",\"Sweden\",\"Norway\",\"Israel\",\"New Zealand\",\"Austria\",\"Australia\",\"Ireland\",\"Germany\",\"Canada\",\"United States\",\"United Kingdom\",\"Belgium\",\"France\",\"Bahrain\",\"Slovenia\",\"Costa Rica\",\"United Arab Emirates\",\"Saudi Arabia\",\"Singapore\",\"Romania\",\"Spain\",\"Uruguay\",\"Italy\",\"Kosovo\",\"Malta\",\"Lithuania\",\"Slovakia\",\"Estonia\",\"Panama\",\"Brazil\",\"Kazakhstan\",\"Cyprus\",\"Latvia\",\"Serbia\",\"Chile\",\"Nicaragua\",\"Mexico\",\"Croatia\",\"Poland\",\"El Salvador\",\"Hungary\",\"Mauritius\",\"Uzbekistan\",\"Japan\",\"Honduras\",\"Portugal\",\"Argentina\",\"Greece\",\"South Korea\",\"Philippines\",\"Thailand\",\"Moldova\",\"Jamaica\",\"Kyrgyzstan\",\"Colombia\",\"Bosnia and Herzegovina\",\"Mongolia\",\"Dominican Republic\",\"Malaysia\",\"Bolivia\",\"China\",\"Paraguay\",\"Peru\",\"Montenegro\",\"Ecuador\",\"Vietnam\",\"Russia\",\"Armenia\",\"Tajikistan\",\"Nepal\",\"Bulgaria\",\"Indonesia\",\"Ivory Coast\",\"Albania\",\"South Africa\",\"Bangladesh\",\"Algeria\",\"Ukraine\",\"Morocco\",\"Cameroon\",\"Senegal\",\"Georgia\",\"Gabon\",\"Iraq\",\"Venezuela\",\"Guinea\",\"Iran\",\"Ghana\",\"Turkey\",\"Burkina Faso\",\"Cambodia\",\"Benin\",\"Uganda\",\"Nigeria\",\"Kenya\",\"Tunisia\",\"Pakistan\",\"Mali\",\"Myanmar\",\"Sri Lanka\",\"Egypt\",\"Ethiopia\",\"Jordan\",\"Togo\",\"India\",\"Zambia\",\"Malawi\",\"Tanzania\",\"Sierra Leone\",\"Zimbabwe\",\"Lebanon\",\"Afghanistan\"],\"locationmode\":\"country names\",\"locations\":[\"Finland\",\"Denmark\",\"Iceland\",\"Switzerland\",\"Netherlands\",\"Sweden\",\"Norway\",\"Israel\",\"New Zealand\",\"Austria\",\"Australia\",\"Ireland\",\"Germany\",\"Canada\",\"United States\",\"United Kingdom\",\"Belgium\",\"France\",\"Bahrain\",\"Slovenia\",\"Costa Rica\",\"United Arab Emirates\",\"Saudi Arabia\",\"Singapore\",\"Romania\",\"Spain\",\"Uruguay\",\"Italy\",\"Kosovo\",\"Malta\",\"Lithuania\",\"Slovakia\",\"Estonia\",\"Panama\",\"Brazil\",\"Kazakhstan\",\"Cyprus\",\"Latvia\",\"Serbia\",\"Chile\",\"Nicaragua\",\"Mexico\",\"Croatia\",\"Poland\",\"El Salvador\",\"Hungary\",\"Mauritius\",\"Uzbekistan\",\"Japan\",\"Honduras\",\"Portugal\",\"Argentina\",\"Greece\",\"South Korea\",\"Philippines\",\"Thailand\",\"Moldova\",\"Jamaica\",\"Kyrgyzstan\",\"Colombia\",\"Bosnia and Herzegovina\",\"Mongolia\",\"Dominican Republic\",\"Malaysia\",\"Bolivia\",\"China\",\"Paraguay\",\"Peru\",\"Montenegro\",\"Ecuador\",\"Vietnam\",\"Russia\",\"Armenia\",\"Tajikistan\",\"Nepal\",\"Bulgaria\",\"Indonesia\",\"Ivory Coast\",\"Albania\",\"South Africa\",\"Bangladesh\",\"Algeria\",\"Ukraine\",\"Morocco\",\"Cameroon\",\"Senegal\",\"Georgia\",\"Gabon\",\"Iraq\",\"Venezuela\",\"Guinea\",\"Iran\",\"Ghana\",\"Turkey\",\"Burkina Faso\",\"Cambodia\",\"Benin\",\"Uganda\",\"Nigeria\",\"Kenya\",\"Tunisia\",\"Pakistan\",\"Mali\",\"Myanmar\",\"Sri Lanka\",\"Egypt\",\"Ethiopia\",\"Jordan\",\"Togo\",\"India\",\"Zambia\",\"Malawi\",\"Tanzania\",\"Sierra Leone\",\"Zimbabwe\",\"Lebanon\",\"Afghanistan\"],\"name\":\"\",\"z\":[7.821,7.636,7.557,7.512,7.415,7.384,7.365,7.364,7.2,7.163,7.162,7.041,7.034,7.025,6.977,6.943,6.805,6.687,6.647,6.63,6.582,6.576,6.523,6.48,6.477,6.476,6.474,6.467,6.455,6.447,6.446,6.391,6.341,6.309,6.293,6.234,6.221,6.18,6.178,6.172,6.165,6.128,6.125,6.123,6.12,6.086,6.071,6.063,6.039,6.022,6.016,5.967,5.948,5.935,5.904,5.891,5.857,5.85,5.828,5.781,5.768,5.761,5.737,5.711,5.6,5.585,5.578,5.559,5.547,5.533,5.485,5.459,5.399,5.377,5.377,5.371,5.24,5.235,5.199,5.194,5.155,5.122,5.084,5.06,5.048,5.046,4.973,4.958,4.941,4.925,4.891,4.888,4.872,4.744,4.67,4.64,4.623,4.603,4.552,4.543,4.516,4.516,4.479,4.394,4.362,4.288,4.241,4.152,4.112,3.777,3.76,3.75,3.702,3.574,2.995,2.955,2.404],\"type\":\"choropleth\"}],                        {\"template\":{\"data\":{\"bar\":[{\"error_x\":{\"color\":\"#2a3f5f\"},\"error_y\":{\"color\":\"#2a3f5f\"},\"marker\":{\"line\":{\"color\":\"#E5ECF6\",\"width\":0.5},\"pattern\":{\"fillmode\":\"overlay\",\"size\":10,\"solidity\":0.2}},\"type\":\"bar\"}],\"barpolar\":[{\"marker\":{\"line\":{\"color\":\"#E5ECF6\",\"width\":0.5},\"pattern\":{\"fillmode\":\"overlay\",\"size\":10,\"solidity\":0.2}},\"type\":\"barpolar\"}],\"carpet\":[{\"aaxis\":{\"endlinecolor\":\"#2a3f5f\",\"gridcolor\":\"white\",\"linecolor\":\"white\",\"minorgridcolor\":\"white\",\"startlinecolor\":\"#2a3f5f\"},\"baxis\":{\"endlinecolor\":\"#2a3f5f\",\"gridcolor\":\"white\",\"linecolor\":\"white\",\"minorgridcolor\":\"white\",\"startlinecolor\":\"#2a3f5f\"},\"type\":\"carpet\"}],\"choropleth\":[{\"colorbar\":{\"outlinewidth\":0,\"ticks\":\"\"},\"type\":\"choropleth\"}],\"contour\":[{\"colorbar\":{\"outlinewidth\":0,\"ticks\":\"\"},\"colorscale\":[[0.0,\"#0d0887\"],[0.1111111111111111,\"#46039f\"],[0.2222222222222222,\"#7201a8\"],[0.3333333333333333,\"#9c179e\"],[0.4444444444444444,\"#bd3786\"],[0.5555555555555556,\"#d8576b\"],[0.6666666666666666,\"#ed7953\"],[0.7777777777777778,\"#fb9f3a\"],[0.8888888888888888,\"#fdca26\"],[1.0,\"#f0f921\"]],\"type\":\"contour\"}],\"contourcarpet\":[{\"colorbar\":{\"outlinewidth\":0,\"ticks\":\"\"},\"type\":\"contourcarpet\"}],\"heatmap\":[{\"colorbar\":{\"outlinewidth\":0,\"ticks\":\"\"},\"colorscale\":[[0.0,\"#0d0887\"],[0.1111111111111111,\"#46039f\"],[0.2222222222222222,\"#7201a8\"],[0.3333333333333333,\"#9c179e\"],[0.4444444444444444,\"#bd3786\"],[0.5555555555555556,\"#d8576b\"],[0.6666666666666666,\"#ed7953\"],[0.7777777777777778,\"#fb9f3a\"],[0.8888888888888888,\"#fdca26\"],[1.0,\"#f0f921\"]],\"type\":\"heatmap\"}],\"heatmapgl\":[{\"colorbar\":{\"outlinewidth\":0,\"ticks\":\"\"},\"colorscale\":[[0.0,\"#0d0887\"],[0.1111111111111111,\"#46039f\"],[0.2222222222222222,\"#7201a8\"],[0.3333333333333333,\"#9c179e\"],[0.4444444444444444,\"#bd3786\"],[0.5555555555555556,\"#d8576b\"],[0.6666666666666666,\"#ed7953\"],[0.7777777777777778,\"#fb9f3a\"],[0.8888888888888888,\"#fdca26\"],[1.0,\"#f0f921\"]],\"type\":\"heatmapgl\"}],\"histogram\":[{\"marker\":{\"pattern\":{\"fillmode\":\"overlay\",\"size\":10,\"solidity\":0.2}},\"type\":\"histogram\"}],\"histogram2d\":[{\"colorbar\":{\"outlinewidth\":0,\"ticks\":\"\"},\"colorscale\":[[0.0,\"#0d0887\"],[0.1111111111111111,\"#46039f\"],[0.2222222222222222,\"#7201a8\"],[0.3333333333333333,\"#9c179e\"],[0.4444444444444444,\"#bd3786\"],[0.5555555555555556,\"#d8576b\"],[0.6666666666666666,\"#ed7953\"],[0.7777777777777778,\"#fb9f3a\"],[0.8888888888888888,\"#fdca26\"],[1.0,\"#f0f921\"]],\"type\":\"histogram2d\"}],\"histogram2dcontour\":[{\"colorbar\":{\"outlinewidth\":0,\"ticks\":\"\"},\"colorscale\":[[0.0,\"#0d0887\"],[0.1111111111111111,\"#46039f\"],[0.2222222222222222,\"#7201a8\"],[0.3333333333333333,\"#9c179e\"],[0.4444444444444444,\"#bd3786\"],[0.5555555555555556,\"#d8576b\"],[0.6666666666666666,\"#ed7953\"],[0.7777777777777778,\"#fb9f3a\"],[0.8888888888888888,\"#fdca26\"],[1.0,\"#f0f921\"]],\"type\":\"histogram2dcontour\"}],\"mesh3d\":[{\"colorbar\":{\"outlinewidth\":0,\"ticks\":\"\"},\"type\":\"mesh3d\"}],\"parcoords\":[{\"line\":{\"colorbar\":{\"outlinewidth\":0,\"ticks\":\"\"}},\"type\":\"parcoords\"}],\"pie\":[{\"automargin\":true,\"type\":\"pie\"}],\"scatter\":[{\"marker\":{\"colorbar\":{\"outlinewidth\":0,\"ticks\":\"\"}},\"type\":\"scatter\"}],\"scatter3d\":[{\"line\":{\"colorbar\":{\"outlinewidth\":0,\"ticks\":\"\"}},\"marker\":{\"colorbar\":{\"outlinewidth\":0,\"ticks\":\"\"}},\"type\":\"scatter3d\"}],\"scattercarpet\":[{\"marker\":{\"colorbar\":{\"outlinewidth\":0,\"ticks\":\"\"}},\"type\":\"scattercarpet\"}],\"scattergeo\":[{\"marker\":{\"colorbar\":{\"outlinewidth\":0,\"ticks\":\"\"}},\"type\":\"scattergeo\"}],\"scattergl\":[{\"marker\":{\"colorbar\":{\"outlinewidth\":0,\"ticks\":\"\"}},\"type\":\"scattergl\"}],\"scattermapbox\":[{\"marker\":{\"colorbar\":{\"outlinewidth\":0,\"ticks\":\"\"}},\"type\":\"scattermapbox\"}],\"scatterpolar\":[{\"marker\":{\"colorbar\":{\"outlinewidth\":0,\"ticks\":\"\"}},\"type\":\"scatterpolar\"}],\"scatterpolargl\":[{\"marker\":{\"colorbar\":{\"outlinewidth\":0,\"ticks\":\"\"}},\"type\":\"scatterpolargl\"}],\"scatterternary\":[{\"marker\":{\"colorbar\":{\"outlinewidth\":0,\"ticks\":\"\"}},\"type\":\"scatterternary\"}],\"surface\":[{\"colorbar\":{\"outlinewidth\":0,\"ticks\":\"\"},\"colorscale\":[[0.0,\"#0d0887\"],[0.1111111111111111,\"#46039f\"],[0.2222222222222222,\"#7201a8\"],[0.3333333333333333,\"#9c179e\"],[0.4444444444444444,\"#bd3786\"],[0.5555555555555556,\"#d8576b\"],[0.6666666666666666,\"#ed7953\"],[0.7777777777777778,\"#fb9f3a\"],[0.8888888888888888,\"#fdca26\"],[1.0,\"#f0f921\"]],\"type\":\"surface\"}],\"table\":[{\"cells\":{\"fill\":{\"color\":\"#EBF0F8\"},\"line\":{\"color\":\"white\"}},\"header\":{\"fill\":{\"color\":\"#C8D4E3\"},\"line\":{\"color\":\"white\"}},\"type\":\"table\"}]},\"layout\":{\"annotationdefaults\":{\"arrowcolor\":\"#2a3f5f\",\"arrowhead\":0,\"arrowwidth\":1},\"autotypenumbers\":\"strict\",\"coloraxis\":{\"colorbar\":{\"outlinewidth\":0,\"ticks\":\"\"}},\"colorscale\":{\"diverging\":[[0,\"#8e0152\"],[0.1,\"#c51b7d\"],[0.2,\"#de77ae\"],[0.3,\"#f1b6da\"],[0.4,\"#fde0ef\"],[0.5,\"#f7f7f7\"],[0.6,\"#e6f5d0\"],[0.7,\"#b8e186\"],[0.8,\"#7fbc41\"],[0.9,\"#4d9221\"],[1,\"#276419\"]],\"sequential\":[[0.0,\"#0d0887\"],[0.1111111111111111,\"#46039f\"],[0.2222222222222222,\"#7201a8\"],[0.3333333333333333,\"#9c179e\"],[0.4444444444444444,\"#bd3786\"],[0.5555555555555556,\"#d8576b\"],[0.6666666666666666,\"#ed7953\"],[0.7777777777777778,\"#fb9f3a\"],[0.8888888888888888,\"#fdca26\"],[1.0,\"#f0f921\"]],\"sequentialminus\":[[0.0,\"#0d0887\"],[0.1111111111111111,\"#46039f\"],[0.2222222222222222,\"#7201a8\"],[0.3333333333333333,\"#9c179e\"],[0.4444444444444444,\"#bd3786\"],[0.5555555555555556,\"#d8576b\"],[0.6666666666666666,\"#ed7953\"],[0.7777777777777778,\"#fb9f3a\"],[0.8888888888888888,\"#fdca26\"],[1.0,\"#f0f921\"]]},\"colorway\":[\"#636efa\",\"#EF553B\",\"#00cc96\",\"#ab63fa\",\"#FFA15A\",\"#19d3f3\",\"#FF6692\",\"#B6E880\",\"#FF97FF\",\"#FECB52\"],\"font\":{\"color\":\"#2a3f5f\"},\"geo\":{\"bgcolor\":\"white\",\"lakecolor\":\"white\",\"landcolor\":\"#E5ECF6\",\"showlakes\":true,\"showland\":true,\"subunitcolor\":\"white\"},\"hoverlabel\":{\"align\":\"left\"},\"hovermode\":\"closest\",\"mapbox\":{\"style\":\"light\"},\"paper_bgcolor\":\"white\",\"plot_bgcolor\":\"#E5ECF6\",\"polar\":{\"angularaxis\":{\"gridcolor\":\"white\",\"linecolor\":\"white\",\"ticks\":\"\"},\"bgcolor\":\"#E5ECF6\",\"radialaxis\":{\"gridcolor\":\"white\",\"linecolor\":\"white\",\"ticks\":\"\"}},\"scene\":{\"xaxis\":{\"backgroundcolor\":\"#E5ECF6\",\"gridcolor\":\"white\",\"gridwidth\":2,\"linecolor\":\"white\",\"showbackground\":true,\"ticks\":\"\",\"zerolinecolor\":\"white\"},\"yaxis\":{\"backgroundcolor\":\"#E5ECF6\",\"gridcolor\":\"white\",\"gridwidth\":2,\"linecolor\":\"white\",\"showbackground\":true,\"ticks\":\"\",\"zerolinecolor\":\"white\"},\"zaxis\":{\"backgroundcolor\":\"#E5ECF6\",\"gridcolor\":\"white\",\"gridwidth\":2,\"linecolor\":\"white\",\"showbackground\":true,\"ticks\":\"\",\"zerolinecolor\":\"white\"}},\"shapedefaults\":{\"line\":{\"color\":\"#2a3f5f\"}},\"ternary\":{\"aaxis\":{\"gridcolor\":\"white\",\"linecolor\":\"white\",\"ticks\":\"\"},\"baxis\":{\"gridcolor\":\"white\",\"linecolor\":\"white\",\"ticks\":\"\"},\"bgcolor\":\"#E5ECF6\",\"caxis\":{\"gridcolor\":\"white\",\"linecolor\":\"white\",\"ticks\":\"\"}},\"title\":{\"x\":0.05},\"xaxis\":{\"automargin\":true,\"gridcolor\":\"white\",\"linecolor\":\"white\",\"ticks\":\"\",\"title\":{\"standoff\":15},\"zerolinecolor\":\"white\",\"zerolinewidth\":2},\"yaxis\":{\"automargin\":true,\"gridcolor\":\"white\",\"linecolor\":\"white\",\"ticks\":\"\",\"title\":{\"standoff\":15},\"zerolinecolor\":\"white\",\"zerolinewidth\":2}}},\"geo\":{\"domain\":{\"x\":[0.0,1.0],\"y\":[0.0,1.0]},\"projection\":{\"type\":\"natural earth\"},\"center\":{},\"scope\":\"world\"},\"coloraxis\":{\"colorbar\":{\"title\":{\"text\":\"Happiness Score\"}},\"colorscale\":[[0.0,\"rgb(150,0,90)\"],[0.125,\"rgb(0,0,200)\"],[0.25,\"rgb(0,25,255)\"],[0.375,\"rgb(0,152,255)\"],[0.5,\"rgb(44,255,150)\"],[0.625,\"rgb(151,255,0)\"],[0.75,\"rgb(255,234,0)\"],[0.875,\"rgb(255,111,0)\"],[1.0,\"rgb(255,0,0)\"]]},\"legend\":{\"tracegroupgap\":0},\"margin\":{\"t\":60},\"title\":{\"text\":\"Hapiness Scores in 2022 \"}},                        {\"responsive\": true}                    ).then(function(){\n",
       "                            \n",
       "var gd = document.getElementById('a644677b-c9d1-466a-a906-d033987c4214');\n",
       "var x = new MutationObserver(function (mutations, observer) {{\n",
       "        var display = window.getComputedStyle(gd).display;\n",
       "        if (!display || display === 'none') {{\n",
       "            console.log([gd, 'removed!']);\n",
       "            Plotly.purge(gd);\n",
       "            observer.disconnect();\n",
       "        }}\n",
       "}});\n",
       "\n",
       "// Listen for the removal of the full notebook cells\n",
       "var notebookContainer = gd.closest('#notebook-container');\n",
       "if (notebookContainer) {{\n",
       "    x.observe(notebookContainer, {childList: true});\n",
       "}}\n",
       "\n",
       "// Listen for the clearing of the current output cell\n",
       "var outputEl = gd.closest('.output');\n",
       "if (outputEl) {{\n",
       "    x.observe(outputEl, {childList: true});\n",
       "}}\n",
       "\n",
       "                        })                };                });            </script>        </div>"
      ]
     },
     "metadata": {},
     "output_type": "display_data"
    }
   ],
   "source": [
    "happy =data_2022\n",
    "# information to be given when mouse over the country\n",
    "# hover_data = world_happiness_report_2020[[\"Overall rank\",\"Regional indicator\",\"Ladder score\",\"Logged GDP per capita\",\"Social support\",\"Generosity\"]]\n",
    "hover_data = happy[[\"Happiness Rank\",\"Country\",\"Happiness Score\",\"Economy (GDP per Capita)\",\"Family\",\"Health (Life Expectancy)\",\"Generosity\"]]\n",
    "fig = px.choropleth(happy,\n",
    "                    locations=happy[\"Country\"],\n",
    "                    locationmode=\"country names\",\n",
    "                    projection=\"natural earth\",\n",
    "                    hover_data=hover_data,\n",
    "                    hover_name=happy[\"Country\"],\n",
    "                    color=\"Happiness Score\",\n",
    "                    color_continuous_scale=px.colors.sequential.Rainbow,\n",
    "                    scope=\"world\")\n",
    "# fig.show()\n",
    "fig.update_layout(geo_scope='world',\n",
    "#                               colorscale=True,\n",
    "                              title_text='Hapiness Scores in 2022 '\n",
    "                               )"
   ]
  },
  {
   "cell_type": "code",
   "execution_count": 130,
   "id": "c6b1cfa2",
   "metadata": {},
   "outputs": [
    {
     "data": {
      "image/png": "[encoded data removed]",
      "text/plain": [
       "<Figure size 432x288 with 1 Axes>"
      ]
     },
     "metadata": {},
     "output_type": "display_data"
    }
   ],
   "source": [
    "sns.barplot(x=data_2022['Country'][0:20], y=data_2022['Happiness Score'][0:20])\n",
    "plt.title('Happiness Score for Top 20 countries in 2022')\n",
    "plt.xticks(rotation=90)\n",
    "plt.show()"
   ]
  },
  {
   "cell_type": "code",
   "execution_count": 166,
   "id": "c6608086",
   "metadata": {},
   "outputs": [
    {
     "data": {
      "image/png": "[encoded data removed]",
      "text/plain": [
       "<Figure size 1800x1440 with 4 Axes>"
      ]
     },
     "metadata": {},
     "output_type": "display_data"
    }
   ],
   "source": [
    "fx,ax=plt.subplots(2,2,figsize=(25,20))\n",
    "sns.barplot(x=data_2015['Country'].head(10),y='Happiness Score',data=data_2015,ax=ax[0,0])\n",
    "ax[0,0].set_title('Top 10 countries based on Happiness Score 2015',fontweight=\"bold\")\n",
    "ax[0,0].tick_params(axis='x', labelrotation=45)\n",
    "sns.barplot(x=data_2016['Country'].head(10),y='Happiness Score',data=data_2016,palette='husl',ax=ax[0,1])\n",
    "ax[0,1].set_title('Top 10 countries based on Happiness Score 2016',fontweight=\"bold\")\n",
    "ax[0,1].tick_params(axis='x', labelrotation=45)\n",
    "sns.barplot(x=data_2017['Country'].head(10),y='Happiness Score',data=data_2017,palette='spring',ax=ax[1,0])\n",
    "ax[1,0].set_title('Top 10 countries based on Happiness Score 2017',fontweight=\"bold\")\n",
    "ax[1,0].tick_params(axis='x', labelrotation=45)\n",
    "sns.barplot(x=data_2018['Country'].head(10),y='Happiness Score',data=data_2018,palette='autumn',ax=ax[1,1])\n",
    "ax[1,1].set_title('Top 10 countries based on Happiness Score 2018',fontweight=\"bold\")\n",
    "ax[1,1].tick_params(axis='x', labelrotation=45)\n",
    "plt.show()\n"
   ]
  },
  {
   "cell_type": "code",
   "execution_count": 170,
   "id": "663d718c",
   "metadata": {},
   "outputs": [
    {
     "data": {
      "image/png": "[encoded data removed]",
      "text/plain": [
       "<Figure size 1800x1440 with 4 Axes>"
      ]
     },
     "metadata": {},
     "output_type": "display_data"
    }
   ],
   "source": [
    "fx,ax=plt.subplots(2,2,figsize=(25,20))\n",
    "sns.barplot(x=data_2019['Country'].head(10),y='Happiness Score',data=data_2019,ax=ax[0,0])\n",
    "ax[0,0].set_title('Top 10 countries based on Happiness Score 2019',fontweight=\"bold\")\n",
    "ax[0,0].tick_params(axis='x', labelrotation=45)\n",
    "sns.barplot(x=data_2020['Country'].head(10),y='Happiness Score',data=data_2020,palette='Paired',ax=ax[0,1])\n",
    "ax[0,1].set_title('Top 10 countries based on Ladder Score 2020',fontweight=\"bold\")\n",
    "ax[0,1].tick_params(axis='x', labelrotation=45)\n",
    "\n",
    "sns.barplot(x=data_2021['Country'].head(10),y='Happiness Score',data=data_2021,palette='Paired',ax=ax[1,0])\n",
    "ax[1,0].set_title('Top 10 countries based on Ladder Score 2021',fontweight=\"bold\")\n",
    "ax[1,0].tick_params(axis='x', labelrotation=45)\n",
    "\n",
    "sns.barplot(x=data_2022['Country'].head(10),y='Happiness Score',data=data_2022,palette='Paired',ax=ax[1,1])\n",
    "ax[1,1].set_title('Top 10 countries based on Ladder Score 2022',fontweight=\"bold\")\n",
    "ax[1,1].tick_params(axis='x', labelrotation=45)\n",
    "\n",
    "\n",
    "plt.show()"
   ]
  },
  {
   "cell_type": "code",
   "execution_count": null,
   "id": "7c660b8e",
   "metadata": {},
   "outputs": [],
   "source": []
  },
  {
   "cell_type": "code",
   "execution_count": 133,
   "id": "322b5fde",
   "metadata": {},
   "outputs": [],
   "source": [
    "contribution_features = ['Economy (GDP per Capita)',\n",
    "                         'Family',\n",
    "                         'Health (Life Expectancy)',\n",
    "                         'Generosity',\n",
    "                       ]\n",
    "df2022_contributions = data_2022[contribution_features]"
   ]
  },
  {
   "cell_type": "code",
   "execution_count": 138,
   "id": "3ee16056",
   "metadata": {},
   "outputs": [
    {
     "data": {
      "application/vnd.plotly.v1+json": {
       "config": {
        "plotlyServerURL": "https://plot.ly"
       },
       "data": [
        {
         "marker": {
          "color": "green",
          "opacity": [
           0.9
          ],
          "size": [
           15.684,
           15.24,
           15.142,
           15.108,
           14.928,
           14.784,
           14.726,
           14.554,
           14.536,
           14.366,
           14.314,
           14.31,
           14.206,
           14.17,
           14.138,
           14.128,
           13.902,
           13.668,
           13.38,
           13.294,
           13.204,
           13.122,
           12.988,
           12.982,
           12.966,
           12.922,
           12.862,
           12.754,
           12.744,
           12.662,
           12.66,
           12.634,
           12.618,
           12.51,
           12.446,
           12.378,
           12.36,
           12.358,
           12.344,
           12.332,
           12.304,
           12.28,
           12.156,
           12.122,
           12.098,
           12.064,
           12.024,
           11.984,
           11.97,
           11.944,
           11.88,
           11.858,
           11.858,
           11.838,
           11.764,
           11.76,
           11.69,
           11.68,
           11.626,
           11.532,
           11.528,
           11.488,
           11.446,
           11.432,
           11.354,
           11.306,
           11.162,
           11.09,
           10.954,
           10.932,
           10.822,
           10.768,
           10.69,
           10.678,
           10.612,
           10.566,
           10.538,
           10.532,
           10.284,
           10.264,
           10.234,
           10.176,
           10.09,
           10.05,
           9.968,
           9.912,
           9.896,
           9.868,
           9.836,
           9.784,
           9.782,
           9.774,
           9.75,
           9.708,
           9.704,
           9.668,
           9.66,
           9.518,
           9.446,
           9.442,
           9.272,
           9.214,
           9.192,
           9.168,
           8.852,
           8.79,
           8.65,
           8.566,
           8.55,
           8.214,
           8.146,
           7.698,
           7.638,
           7.246,
           7.2,
           6.29,
           5.046
          ]
         },
         "mode": "markers",
         "text": [
          "Finland",
          "Denmark",
          "Switzerland",
          "Iceland",
          "Netherlands",
          "Norway",
          "Sweden",
          "New Zealand",
          "Austria",
          "Australia",
          "Israel",
          "Germany",
          "Canada",
          "Ireland",
          "Costa Rica",
          "United Kingdom",
          "United States",
          "Belgium",
          "France",
          "Bahrain",
          "Malta",
          "United Arab Emirates",
          "Saudi Arabia",
          "Spain",
          "Italy",
          "Slovenia",
          "Uruguay",
          "Singapore",
          "Kosovo",
          "Slovakia",
          "Brazil",
          "Mexico",
          "Jamaica",
          "Lithuania",
          "Cyprus",
          "Estonia",
          "Panama",
          "Uzbekistan",
          "Chile",
          "Poland",
          "Kazakhstan",
          "Romania",
          "Serbia",
          "El Salvador",
          "Mauritius",
          "Latvia",
          "Colombia",
          "Hungary",
          "Thailand",
          "Nicaragua",
          "Japan",
          "Argentina",
          "Portugal",
          "Honduras",
          "Croatia",
          "Philippines",
          "South Korea",
          "Peru",
          "Bosnia and Herzegovina",
          "Moldova",
          "Ecuador",
          "Kyrgyzstan",
          "Greece",
          "Bolivia",
          "Mongolia",
          "Paraguay",
          "Montenegro",
          "Dominican Republic",
          "Russia",
          "Tajikistan",
          "Vietnam",
          "Malaysia",
          "Indonesia",
          "China",
          "Ivory Coast",
          "Armenia",
          "Nepal",
          "Bulgaria",
          "Cameroon",
          "Senegal",
          "Albania",
          "Ghana",
          "Benin",
          "Bangladesh",
          "Guinea",
          "South Africa",
          "Turkey",
          "Pakistan",
          "Morocco",
          "Venezuela",
          "Georgia",
          "Algeria",
          "Ukraine",
          "Iraq",
          "Gabon",
          "Burkina Faso",
          "Cambodia",
          "Nigeria",
          "Mali",
          "Iran",
          "Uganda",
          "Kenya",
          "Tunisia",
          "Lebanon",
          "Myanmar",
          "Jordan",
          "Sri Lanka",
          "Egypt",
          "Ethiopia",
          "Togo",
          "Zambia",
          "Sierra Leone",
          "India",
          "Tanzania",
          "Malawi",
          "Zimbabwe",
          "Afghanistan"
         ],
         "type": "scatter",
         "x": [
          10.775,
          10.933,
          11.117,
          10.878,
          10.932,
          11.053,
          10.867,
          10.643,
          10.906,
          10.796,
          10.575,
          10.873,
          10.776,
          11.342,
          9.88,
          10.707,
          11.023,
          10.823,
          10.704,
          10.669,
          10.674,
          11.085,
          10.743,
          10.571,
          10.623,
          10.529,
          9.966,
          11.488,
          9.318,
          10.369,
          9.577,
          9.859,
          9.186,
          10.499,
          10.576,
          10.481,
          10.35,
          8.836,
          10.071,
          10.382,
          10.155,
          10.284,
          9.787,
          9.054,
          10.008,
          10.315,
          9.557,
          10.358,
          9.805,
          8.62,
          10.611,
          9.962,
          10.421,
          8.648,
          10.217,
          9.076,
          10.651,
          9.458,
          9.59,
          9.454,
          9.313,
          8.538,
          10.279,
          9.046,
          9.4,
          9.448,
          9.94,
          9.802,
          10.189,
          8.091,
          8.973,
          10.238,
          9.365,
          9.673,
          8.551,
          9.487,
          8.12,
          10.016,
          8.189,
          8.118,
          9.52,
          8.58,
          8.087,
          8.454,
          7.838,
          9.403,
          10.24,
          8.458,
          8.903,
          9.073,
          9.585,
          9.342,
          9.436,
          9.24,
          9.603,
          7.678,
          8.36,
          8.533,
          7.744,
          9.584,
          7.677,
          8.361,
          9.266,
          9.626,
          8.541,
          9.182,
          9.47,
          9.367,
          7.694,
          7.362,
          8.145,
          7.434,
          8.755,
          7.876,
          6.958,
          7.943,
          7.695
         ],
         "y": [
          7.842,
          7.62,
          7.571,
          7.554,
          7.464,
          7.392,
          7.363,
          7.277,
          7.268,
          7.183,
          7.157,
          7.155,
          7.103,
          7.085,
          7.069,
          7.064,
          6.951,
          6.834,
          6.69,
          6.647,
          6.602,
          6.561,
          6.494,
          6.491,
          6.483,
          6.461,
          6.431,
          6.377,
          6.372,
          6.331,
          6.33,
          6.317,
          6.309,
          6.255,
          6.223,
          6.189,
          6.18,
          6.179,
          6.172,
          6.166,
          6.152,
          6.14,
          6.078,
          6.061,
          6.049,
          6.032,
          6.012,
          5.992,
          5.985,
          5.972,
          5.94,
          5.929,
          5.929,
          5.919,
          5.882,
          5.88,
          5.845,
          5.84,
          5.813,
          5.766,
          5.764,
          5.744,
          5.723,
          5.716,
          5.677,
          5.653,
          5.581,
          5.545,
          5.477,
          5.466,
          5.411,
          5.384,
          5.345,
          5.339,
          5.306,
          5.283,
          5.269,
          5.266,
          5.142,
          5.132,
          5.117,
          5.088,
          5.045,
          5.025,
          4.984,
          4.956,
          4.948,
          4.934,
          4.918,
          4.892,
          4.891,
          4.887,
          4.875,
          4.854,
          4.852,
          4.834,
          4.83,
          4.759,
          4.723,
          4.721,
          4.636,
          4.607,
          4.596,
          4.584,
          4.426,
          4.395,
          4.325,
          4.283,
          4.275,
          4.107,
          4.073,
          3.849,
          3.819,
          3.623,
          3.6,
          3.145,
          2.523
         ]
        }
       ],
       "layout": {
        "template": {
         "data": {
          "bar": [
           {
            "error_x": {
             "color": "#2a3f5f"
            },
            "error_y": {
             "color": "#2a3f5f"
            },
            "marker": {
             "line": {
              "color": "#E5ECF6",
              "width": 0.5
             },
             "pattern": {
              "fillmode": "overlay",
              "size": 10,
              "solidity": 0.2
             }
            },
            "type": "bar"
           }
          ],
          "barpolar": [
           {
            "marker": {
             "line": {
              "color": "#E5ECF6",
              "width": 0.5
             },
             "pattern": {
              "fillmode": "overlay",
              "size": 10,
              "solidity": 0.2
             }
            },
            "type": "barpolar"
           }
          ],
          "carpet": [
           {
            "aaxis": {
             "endlinecolor": "#2a3f5f",
             "gridcolor": "white",
             "linecolor": "white",
             "minorgridcolor": "white",
             "startlinecolor": "#2a3f5f"
            },
            "baxis": {
             "endlinecolor": "#2a3f5f",
             "gridcolor": "white",
             "linecolor": "white",
             "minorgridcolor": "white",
             "startlinecolor": "#2a3f5f"
            },
            "type": "carpet"
           }
          ],
          "choropleth": [
           {
            "colorbar": {
             "outlinewidth": 0,
             "ticks": ""
            },
            "type": "choropleth"
           }
          ],
          "contour": [
           {
            "colorbar": {
             "outlinewidth": 0,
             "ticks": ""
            },
            "colorscale": [
             [
              0,
              "#0d0887"
             ],
             [
              0.1111111111111111,
              "#46039f"
             ],
             [
              0.2222222222222222,
              "#7201a8"
             ],
             [
              0.3333333333333333,
              "#9c179e"
             ],
             [
              0.4444444444444444,
              "#bd3786"
             ],
             [
              0.5555555555555556,
              "#d8576b"
             ],
             [
              0.6666666666666666,
              "#ed7953"
             ],
             [
              0.7777777777777778,
              "#fb9f3a"
             ],
             [
              0.8888888888888888,
              "#fdca26"
             ],
             [
              1,
              "#f0f921"
             ]
            ],
            "type": "contour"
           }
          ],
          "contourcarpet": [
           {
            "colorbar": {
             "outlinewidth": 0,
             "ticks": ""
            },
            "type": "contourcarpet"
           }
          ],
          "heatmap": [
           {
            "colorbar": {
             "outlinewidth": 0,
             "ticks": ""
            },
            "colorscale": [
             [
              0,
              "#0d0887"
             ],
             [
              0.1111111111111111,
              "#46039f"
             ],
             [
              0.2222222222222222,
              "#7201a8"
             ],
             [
              0.3333333333333333,
              "#9c179e"
             ],
             [
              0.4444444444444444,
              "#bd3786"
             ],
             [
              0.5555555555555556,
              "#d8576b"
             ],
             [
              0.6666666666666666,
              "#ed7953"
             ],
             [
              0.7777777777777778,
              "#fb9f3a"
             ],
             [
              0.8888888888888888,
              "#fdca26"
             ],
             [
              1,
              "#f0f921"
             ]
            ],
            "type": "heatmap"
           }
          ],
          "heatmapgl": [
           {
            "colorbar": {
             "outlinewidth": 0,
             "ticks": ""
            },
            "colorscale": [
             [
              0,
              "#0d0887"
             ],
             [
              0.1111111111111111,
              "#46039f"
             ],
             [
              0.2222222222222222,
              "#7201a8"
             ],
             [
              0.3333333333333333,
              "#9c179e"
             ],
             [
              0.4444444444444444,
              "#bd3786"
             ],
             [
              0.5555555555555556,
              "#d8576b"
             ],
             [
              0.6666666666666666,
              "#ed7953"
             ],
             [
              0.7777777777777778,
              "#fb9f3a"
             ],
             [
              0.8888888888888888,
              "#fdca26"
             ],
             [
              1,
              "#f0f921"
             ]
            ],
            "type": "heatmapgl"
           }
          ],
          "histogram": [
           {
            "marker": {
             "pattern": {
              "fillmode": "overlay",
              "size": 10,
              "solidity": 0.2
             }
            },
            "type": "histogram"
           }
          ],
          "histogram2d": [
           {
            "colorbar": {
             "outlinewidth": 0,
             "ticks": ""
            },
            "colorscale": [
             [
              0,
              "#0d0887"
             ],
             [
              0.1111111111111111,
              "#46039f"
             ],
             [
              0.2222222222222222,
              "#7201a8"
             ],
             [
              0.3333333333333333,
              "#9c179e"
             ],
             [
              0.4444444444444444,
              "#bd3786"
             ],
             [
              0.5555555555555556,
              "#d8576b"
             ],
             [
              0.6666666666666666,
              "#ed7953"
             ],
             [
              0.7777777777777778,
              "#fb9f3a"
             ],
             [
              0.8888888888888888,
              "#fdca26"
             ],
             [
              1,
              "#f0f921"
             ]
            ],
            "type": "histogram2d"
           }
          ],
          "histogram2dcontour": [
           {
            "colorbar": {
             "outlinewidth": 0,
             "ticks": ""
            },
            "colorscale": [
             [
              0,
              "#0d0887"
             ],
             [
              0.1111111111111111,
              "#46039f"
             ],
             [
              0.2222222222222222,
              "#7201a8"
             ],
             [
              0.3333333333333333,
              "#9c179e"
             ],
             [
              0.4444444444444444,
              "#bd3786"
             ],
             [
              0.5555555555555556,
              "#d8576b"
             ],
             [
              0.6666666666666666,
              "#ed7953"
             ],
             [
              0.7777777777777778,
              "#fb9f3a"
             ],
             [
              0.8888888888888888,
              "#fdca26"
             ],
             [
              1,
              "#f0f921"
             ]
            ],
            "type": "histogram2dcontour"
           }
          ],
          "mesh3d": [
           {
            "colorbar": {
             "outlinewidth": 0,
             "ticks": ""
            },
            "type": "mesh3d"
           }
          ],
          "parcoords": [
           {
            "line": {
             "colorbar": {
              "outlinewidth": 0,
              "ticks": ""
             }
            },
            "type": "parcoords"
           }
          ],
          "pie": [
           {
            "automargin": true,
            "type": "pie"
           }
          ],
          "scatter": [
           {
            "marker": {
             "colorbar": {
              "outlinewidth": 0,
              "ticks": ""
             }
            },
            "type": "scatter"
           }
          ],
          "scatter3d": [
           {
            "line": {
             "colorbar": {
              "outlinewidth": 0,
              "ticks": ""
             }
            },
            "marker": {
             "colorbar": {
              "outlinewidth": 0,
              "ticks": ""
             }
            },
            "type": "scatter3d"
           }
          ],
          "scattercarpet": [
           {
            "marker": {
             "colorbar": {
              "outlinewidth": 0,
              "ticks": ""
             }
            },
            "type": "scattercarpet"
           }
          ],
          "scattergeo": [
           {
            "marker": {
             "colorbar": {
              "outlinewidth": 0,
              "ticks": ""
             }
            },
            "type": "scattergeo"
           }
          ],
          "scattergl": [
           {
            "marker": {
             "colorbar": {
              "outlinewidth": 0,
              "ticks": ""
             }
            },
            "type": "scattergl"
           }
          ],
          "scattermapbox": [
           {
            "marker": {
             "colorbar": {
              "outlinewidth": 0,
              "ticks": ""
             }
            },
            "type": "scattermapbox"
           }
          ],
          "scatterpolar": [
           {
            "marker": {
             "colorbar": {
              "outlinewidth": 0,
              "ticks": ""
             }
            },
            "type": "scatterpolar"
           }
          ],
          "scatterpolargl": [
           {
            "marker": {
             "colorbar": {
              "outlinewidth": 0,
              "ticks": ""
             }
            },
            "type": "scatterpolargl"
           }
          ],
          "scatterternary": [
           {
            "marker": {
             "colorbar": {
              "outlinewidth": 0,
              "ticks": ""
             }
            },
            "type": "scatterternary"
           }
          ],
          "surface": [
           {
            "colorbar": {
             "outlinewidth": 0,
             "ticks": ""
            },
            "colorscale": [
             [
              0,
              "#0d0887"
             ],
             [
              0.1111111111111111,
              "#46039f"
             ],
             [
              0.2222222222222222,
              "#7201a8"
             ],
             [
              0.3333333333333333,
              "#9c179e"
             ],
             [
              0.4444444444444444,
              "#bd3786"
             ],
             [
              0.5555555555555556,
              "#d8576b"
             ],
             [
              0.6666666666666666,
              "#ed7953"
             ],
             [
              0.7777777777777778,
              "#fb9f3a"
             ],
             [
              0.8888888888888888,
              "#fdca26"
             ],
             [
              1,
              "#f0f921"
             ]
            ],
            "type": "surface"
           }
          ],
          "table": [
           {
            "cells": {
             "fill": {
              "color": "#EBF0F8"
             },
             "line": {
              "color": "white"
             }
            },
            "header": {
             "fill": {
              "color": "#C8D4E3"
             },
             "line": {
              "color": "white"
             }
            },
            "type": "table"
           }
          ]
         },
         "layout": {
          "annotationdefaults": {
           "arrowcolor": "#2a3f5f",
           "arrowhead": 0,
           "arrowwidth": 1
          },
          "autotypenumbers": "strict",
          "coloraxis": {
           "colorbar": {
            "outlinewidth": 0,
            "ticks": ""
           }
          },
          "colorscale": {
           "diverging": [
            [
             0,
             "#8e0152"
            ],
            [
             0.1,
             "#c51b7d"
            ],
            [
             0.2,
             "#de77ae"
            ],
            [
             0.3,
             "#f1b6da"
            ],
            [
             0.4,
             "#fde0ef"
            ],
            [
             0.5,
             "#f7f7f7"
            ],
            [
             0.6,
             "#e6f5d0"
            ],
            [
             0.7,
             "#b8e186"
            ],
            [
             0.8,
             "#7fbc41"
            ],
            [
             0.9,
             "#4d9221"
            ],
            [
             1,
             "#276419"
            ]
           ],
           "sequential": [
            [
             0,
             "#0d0887"
            ],
            [
             0.1111111111111111,
             "#46039f"
            ],
            [
             0.2222222222222222,
             "#7201a8"
            ],
            [
             0.3333333333333333,
             "#9c179e"
            ],
            [
             0.4444444444444444,
             "#bd3786"
            ],
            [
             0.5555555555555556,
             "#d8576b"
            ],
            [
             0.6666666666666666,
             "#ed7953"
            ],
            [
             0.7777777777777778,
             "#fb9f3a"
            ],
            [
             0.8888888888888888,
             "#fdca26"
            ],
            [
             1,
             "#f0f921"
            ]
           ],
           "sequentialminus": [
            [
             0,
             "#0d0887"
            ],
            [
             0.1111111111111111,
             "#46039f"
            ],
            [
             0.2222222222222222,
             "#7201a8"
            ],
            [
             0.3333333333333333,
             "#9c179e"
            ],
            [
             0.4444444444444444,
             "#bd3786"
            ],
            [
             0.5555555555555556,
             "#d8576b"
            ],
            [
             0.6666666666666666,
             "#ed7953"
            ],
            [
             0.7777777777777778,
             "#fb9f3a"
            ],
            [
             0.8888888888888888,
             "#fdca26"
            ],
            [
             1,
             "#f0f921"
            ]
           ]
          },
          "colorway": [
           "#636efa",
           "#EF553B",
           "#00cc96",
           "#ab63fa",
           "#FFA15A",
           "#19d3f3",
           "#FF6692",
           "#B6E880",
           "#FF97FF",
           "#FECB52"
          ],
          "font": {
           "color": "#2a3f5f"
          },
          "geo": {
           "bgcolor": "white",
           "lakecolor": "white",
           "landcolor": "#E5ECF6",
           "showlakes": true,
           "showland": true,
           "subunitcolor": "white"
          },
          "hoverlabel": {
           "align": "left"
          },
          "hovermode": "closest",
          "mapbox": {
           "style": "light"
          },
          "paper_bgcolor": "white",
          "plot_bgcolor": "#E5ECF6",
          "polar": {
           "angularaxis": {
            "gridcolor": "white",
            "linecolor": "white",
            "ticks": ""
           },
           "bgcolor": "#E5ECF6",
           "radialaxis": {
            "gridcolor": "white",
            "linecolor": "white",
            "ticks": ""
           }
          },
          "scene": {
           "xaxis": {
            "backgroundcolor": "#E5ECF6",
            "gridcolor": "white",
            "gridwidth": 2,
            "linecolor": "white",
            "showbackground": true,
            "ticks": "",
            "zerolinecolor": "white"
           },
           "yaxis": {
            "backgroundcolor": "#E5ECF6",
            "gridcolor": "white",
            "gridwidth": 2,
            "linecolor": "white",
            "showbackground": true,
            "ticks": "",
            "zerolinecolor": "white"
           },
           "zaxis": {
            "backgroundcolor": "#E5ECF6",
            "gridcolor": "white",
            "gridwidth": 2,
            "linecolor": "white",
            "showbackground": true,
            "ticks": "",
            "zerolinecolor": "white"
           }
          },
          "shapedefaults": {
           "line": {
            "color": "#2a3f5f"
           }
          },
          "ternary": {
           "aaxis": {
            "gridcolor": "white",
            "linecolor": "white",
            "ticks": ""
           },
           "baxis": {
            "gridcolor": "white",
            "linecolor": "white",
            "ticks": ""
           },
           "bgcolor": "#E5ECF6",
           "caxis": {
            "gridcolor": "white",
            "linecolor": "white",
            "ticks": ""
           }
          },
          "title": {
           "x": 0.05
          },
          "xaxis": {
           "automargin": true,
           "gridcolor": "white",
           "linecolor": "white",
           "ticks": "",
           "title": {
            "standoff": 15
           },
           "zerolinecolor": "white",
           "zerolinewidth": 2
          },
          "yaxis": {
           "automargin": true,
           "gridcolor": "white",
           "linecolor": "white",
           "ticks": "",
           "title": {
            "standoff": 15
           },
           "zerolinecolor": "white",
           "zerolinewidth": 2
          }
         }
        },
        "title": {
         "text": "GDP & Happiness Comparison in 2022"
        },
        "xaxis": {
         "gridcolor": "white",
         "gridwidth": 1,
         "title": {
          "text": "GDP"
         }
        },
        "yaxis": {
         "gridcolor": "white",
         "gridwidth": 1,
         "title": {
          "text": "Happiness Score"
         }
        }
       }
      },
      "text/html": [
       "<div>                            <div id=\"baadfdc9-dbfd-472c-b884-7a036f00a4bc\" class=\"plotly-graph-div\" style=\"height:525px; width:100%;\"></div>            <script type=\"text/javascript\">                require([\"plotly\"], function(Plotly) {                    window.PLOTLYENV=window.PLOTLYENV || {};                                    if (document.getElementById(\"baadfdc9-dbfd-472c-b884-7a036f00a4bc\")) {                    Plotly.newPlot(                        \"baadfdc9-dbfd-472c-b884-7a036f00a4bc\",                        [{\"marker\":{\"color\":\"green\",\"opacity\":[0.9],\"size\":[15.684,15.24,15.142,15.108,14.928,14.784,14.726,14.554,14.536,14.366,14.314,14.31,14.206,14.17,14.138,14.128,13.902,13.668,13.38,13.294,13.204,13.122,12.988,12.982,12.966,12.922,12.862,12.754,12.744,12.662,12.66,12.634,12.618,12.51,12.446,12.378,12.36,12.358,12.344,12.332,12.304,12.28,12.156,12.122,12.098,12.064,12.024,11.984,11.97,11.944,11.88,11.858,11.858,11.838,11.764,11.76,11.69,11.68,11.626,11.532,11.528,11.488,11.446,11.432,11.354,11.306,11.162,11.09,10.954,10.932,10.822,10.768,10.69,10.678,10.612,10.566,10.538,10.532,10.284,10.264,10.234,10.176,10.09,10.05,9.968,9.912,9.896,9.868,9.836,9.784,9.782,9.774,9.75,9.708,9.704,9.668,9.66,9.518,9.446,9.442,9.272,9.214,9.192,9.168,8.852,8.79,8.65,8.566,8.55,8.214,8.146,7.698,7.638,7.246,7.2,6.29,5.046]},\"mode\":\"markers\",\"text\":[\"Finland\",\"Denmark\",\"Switzerland\",\"Iceland\",\"Netherlands\",\"Norway\",\"Sweden\",\"New Zealand\",\"Austria\",\"Australia\",\"Israel\",\"Germany\",\"Canada\",\"Ireland\",\"Costa Rica\",\"United Kingdom\",\"United States\",\"Belgium\",\"France\",\"Bahrain\",\"Malta\",\"United Arab Emirates\",\"Saudi Arabia\",\"Spain\",\"Italy\",\"Slovenia\",\"Uruguay\",\"Singapore\",\"Kosovo\",\"Slovakia\",\"Brazil\",\"Mexico\",\"Jamaica\",\"Lithuania\",\"Cyprus\",\"Estonia\",\"Panama\",\"Uzbekistan\",\"Chile\",\"Poland\",\"Kazakhstan\",\"Romania\",\"Serbia\",\"El Salvador\",\"Mauritius\",\"Latvia\",\"Colombia\",\"Hungary\",\"Thailand\",\"Nicaragua\",\"Japan\",\"Argentina\",\"Portugal\",\"Honduras\",\"Croatia\",\"Philippines\",\"South Korea\",\"Peru\",\"Bosnia and Herzegovina\",\"Moldova\",\"Ecuador\",\"Kyrgyzstan\",\"Greece\",\"Bolivia\",\"Mongolia\",\"Paraguay\",\"Montenegro\",\"Dominican Republic\",\"Russia\",\"Tajikistan\",\"Vietnam\",\"Malaysia\",\"Indonesia\",\"China\",\"Ivory Coast\",\"Armenia\",\"Nepal\",\"Bulgaria\",\"Cameroon\",\"Senegal\",\"Albania\",\"Ghana\",\"Benin\",\"Bangladesh\",\"Guinea\",\"South Africa\",\"Turkey\",\"Pakistan\",\"Morocco\",\"Venezuela\",\"Georgia\",\"Algeria\",\"Ukraine\",\"Iraq\",\"Gabon\",\"Burkina Faso\",\"Cambodia\",\"Nigeria\",\"Mali\",\"Iran\",\"Uganda\",\"Kenya\",\"Tunisia\",\"Lebanon\",\"Myanmar\",\"Jordan\",\"Sri Lanka\",\"Egypt\",\"Ethiopia\",\"Togo\",\"Zambia\",\"Sierra Leone\",\"India\",\"Tanzania\",\"Malawi\",\"Zimbabwe\",\"Afghanistan\"],\"x\":[10.775,10.933,11.117,10.878,10.932,11.053,10.867,10.643,10.906,10.796,10.575,10.873,10.776,11.342,9.88,10.707,11.023,10.823,10.704,10.669,10.674,11.085,10.743,10.571,10.623,10.529,9.966,11.488,9.318,10.369,9.577,9.859,9.186,10.499,10.576,10.481,10.35,8.836,10.071,10.382,10.155,10.284,9.787,9.054,10.008,10.315,9.557,10.358,9.805,8.62,10.611,9.962,10.421,8.648,10.217,9.076,10.651,9.458,9.59,9.454,9.313,8.538,10.279,9.046,9.4,9.448,9.94,9.802,10.189,8.091,8.973,10.238,9.365,9.673,8.551,9.487,8.12,10.016,8.189,8.118,9.52,8.58,8.087,8.454,7.838,9.403,10.24,8.458,8.903,9.073,9.585,9.342,9.436,9.24,9.603,7.678,8.36,8.533,7.744,9.584,7.677,8.361,9.266,9.626,8.541,9.182,9.47,9.367,7.694,7.362,8.145,7.434,8.755,7.876,6.958,7.943,7.695],\"y\":[7.842,7.62,7.571,7.554,7.464,7.392,7.363,7.277,7.268,7.183,7.157,7.155,7.103,7.085,7.069,7.064,6.951,6.834,6.69,6.647,6.602,6.561,6.494,6.491,6.483,6.461,6.431,6.377,6.372,6.331,6.33,6.317,6.309,6.255,6.223,6.189,6.18,6.179,6.172,6.166,6.152,6.14,6.078,6.061,6.049,6.032,6.012,5.992,5.985,5.972,5.94,5.929,5.929,5.919,5.882,5.88,5.845,5.84,5.813,5.766,5.764,5.744,5.723,5.716,5.677,5.653,5.581,5.545,5.477,5.466,5.411,5.384,5.345,5.339,5.306,5.283,5.269,5.266,5.142,5.132,5.117,5.088,5.045,5.025,4.984,4.956,4.948,4.934,4.918,4.892,4.891,4.887,4.875,4.854,4.852,4.834,4.83,4.759,4.723,4.721,4.636,4.607,4.596,4.584,4.426,4.395,4.325,4.283,4.275,4.107,4.073,3.849,3.819,3.623,3.6,3.145,2.523],\"type\":\"scatter\"}],                        {\"template\":{\"data\":{\"bar\":[{\"error_x\":{\"color\":\"#2a3f5f\"},\"error_y\":{\"color\":\"#2a3f5f\"},\"marker\":{\"line\":{\"color\":\"#E5ECF6\",\"width\":0.5},\"pattern\":{\"fillmode\":\"overlay\",\"size\":10,\"solidity\":0.2}},\"type\":\"bar\"}],\"barpolar\":[{\"marker\":{\"line\":{\"color\":\"#E5ECF6\",\"width\":0.5},\"pattern\":{\"fillmode\":\"overlay\",\"size\":10,\"solidity\":0.2}},\"type\":\"barpolar\"}],\"carpet\":[{\"aaxis\":{\"endlinecolor\":\"#2a3f5f\",\"gridcolor\":\"white\",\"linecolor\":\"white\",\"minorgridcolor\":\"white\",\"startlinecolor\":\"#2a3f5f\"},\"baxis\":{\"endlinecolor\":\"#2a3f5f\",\"gridcolor\":\"white\",\"linecolor\":\"white\",\"minorgridcolor\":\"white\",\"startlinecolor\":\"#2a3f5f\"},\"type\":\"carpet\"}],\"choropleth\":[{\"colorbar\":{\"outlinewidth\":0,\"ticks\":\"\"},\"type\":\"choropleth\"}],\"contour\":[{\"colorbar\":{\"outlinewidth\":0,\"ticks\":\"\"},\"colorscale\":[[0.0,\"#0d0887\"],[0.1111111111111111,\"#46039f\"],[0.2222222222222222,\"#7201a8\"],[0.3333333333333333,\"#9c179e\"],[0.4444444444444444,\"#bd3786\"],[0.5555555555555556,\"#d8576b\"],[0.6666666666666666,\"#ed7953\"],[0.7777777777777778,\"#fb9f3a\"],[0.8888888888888888,\"#fdca26\"],[1.0,\"#f0f921\"]],\"type\":\"contour\"}],\"contourcarpet\":[{\"colorbar\":{\"outlinewidth\":0,\"ticks\":\"\"},\"type\":\"contourcarpet\"}],\"heatmap\":[{\"colorbar\":{\"outlinewidth\":0,\"ticks\":\"\"},\"colorscale\":[[0.0,\"#0d0887\"],[0.1111111111111111,\"#46039f\"],[0.2222222222222222,\"#7201a8\"],[0.3333333333333333,\"#9c179e\"],[0.4444444444444444,\"#bd3786\"],[0.5555555555555556,\"#d8576b\"],[0.6666666666666666,\"#ed7953\"],[0.7777777777777778,\"#fb9f3a\"],[0.8888888888888888,\"#fdca26\"],[1.0,\"#f0f921\"]],\"type\":\"heatmap\"}],\"heatmapgl\":[{\"colorbar\":{\"outlinewidth\":0,\"ticks\":\"\"},\"colorscale\":[[0.0,\"#0d0887\"],[0.1111111111111111,\"#46039f\"],[0.2222222222222222,\"#7201a8\"],[0.3333333333333333,\"#9c179e\"],[0.4444444444444444,\"#bd3786\"],[0.5555555555555556,\"#d8576b\"],[0.6666666666666666,\"#ed7953\"],[0.7777777777777778,\"#fb9f3a\"],[0.8888888888888888,\"#fdca26\"],[1.0,\"#f0f921\"]],\"type\":\"heatmapgl\"}],\"histogram\":[{\"marker\":{\"pattern\":{\"fillmode\":\"overlay\",\"size\":10,\"solidity\":0.2}},\"type\":\"histogram\"}],\"histogram2d\":[{\"colorbar\":{\"outlinewidth\":0,\"ticks\":\"\"},\"colorscale\":[[0.0,\"#0d0887\"],[0.1111111111111111,\"#46039f\"],[0.2222222222222222,\"#7201a8\"],[0.3333333333333333,\"#9c179e\"],[0.4444444444444444,\"#bd3786\"],[0.5555555555555556,\"#d8576b\"],[0.6666666666666666,\"#ed7953\"],[0.7777777777777778,\"#fb9f3a\"],[0.8888888888888888,\"#fdca26\"],[1.0,\"#f0f921\"]],\"type\":\"histogram2d\"}],\"histogram2dcontour\":[{\"colorbar\":{\"outlinewidth\":0,\"ticks\":\"\"},\"colorscale\":[[0.0,\"#0d0887\"],[0.1111111111111111,\"#46039f\"],[0.2222222222222222,\"#7201a8\"],[0.3333333333333333,\"#9c179e\"],[0.4444444444444444,\"#bd3786\"],[0.5555555555555556,\"#d8576b\"],[0.6666666666666666,\"#ed7953\"],[0.7777777777777778,\"#fb9f3a\"],[0.8888888888888888,\"#fdca26\"],[1.0,\"#f0f921\"]],\"type\":\"histogram2dcontour\"}],\"mesh3d\":[{\"colorbar\":{\"outlinewidth\":0,\"ticks\":\"\"},\"type\":\"mesh3d\"}],\"parcoords\":[{\"line\":{\"colorbar\":{\"outlinewidth\":0,\"ticks\":\"\"}},\"type\":\"parcoords\"}],\"pie\":[{\"automargin\":true,\"type\":\"pie\"}],\"scatter\":[{\"marker\":{\"colorbar\":{\"outlinewidth\":0,\"ticks\":\"\"}},\"type\":\"scatter\"}],\"scatter3d\":[{\"line\":{\"colorbar\":{\"outlinewidth\":0,\"ticks\":\"\"}},\"marker\":{\"colorbar\":{\"outlinewidth\":0,\"ticks\":\"\"}},\"type\":\"scatter3d\"}],\"scattercarpet\":[{\"marker\":{\"colorbar\":{\"outlinewidth\":0,\"ticks\":\"\"}},\"type\":\"scattercarpet\"}],\"scattergeo\":[{\"marker\":{\"colorbar\":{\"outlinewidth\":0,\"ticks\":\"\"}},\"type\":\"scattergeo\"}],\"scattergl\":[{\"marker\":{\"colorbar\":{\"outlinewidth\":0,\"ticks\":\"\"}},\"type\":\"scattergl\"}],\"scattermapbox\":[{\"marker\":{\"colorbar\":{\"outlinewidth\":0,\"ticks\":\"\"}},\"type\":\"scattermapbox\"}],\"scatterpolar\":[{\"marker\":{\"colorbar\":{\"outlinewidth\":0,\"ticks\":\"\"}},\"type\":\"scatterpolar\"}],\"scatterpolargl\":[{\"marker\":{\"colorbar\":{\"outlinewidth\":0,\"ticks\":\"\"}},\"type\":\"scatterpolargl\"}],\"scatterternary\":[{\"marker\":{\"colorbar\":{\"outlinewidth\":0,\"ticks\":\"\"}},\"type\":\"scatterternary\"}],\"surface\":[{\"colorbar\":{\"outlinewidth\":0,\"ticks\":\"\"},\"colorscale\":[[0.0,\"#0d0887\"],[0.1111111111111111,\"#46039f\"],[0.2222222222222222,\"#7201a8\"],[0.3333333333333333,\"#9c179e\"],[0.4444444444444444,\"#bd3786\"],[0.5555555555555556,\"#d8576b\"],[0.6666666666666666,\"#ed7953\"],[0.7777777777777778,\"#fb9f3a\"],[0.8888888888888888,\"#fdca26\"],[1.0,\"#f0f921\"]],\"type\":\"surface\"}],\"table\":[{\"cells\":{\"fill\":{\"color\":\"#EBF0F8\"},\"line\":{\"color\":\"white\"}},\"header\":{\"fill\":{\"color\":\"#C8D4E3\"},\"line\":{\"color\":\"white\"}},\"type\":\"table\"}]},\"layout\":{\"annotationdefaults\":{\"arrowcolor\":\"#2a3f5f\",\"arrowhead\":0,\"arrowwidth\":1},\"autotypenumbers\":\"strict\",\"coloraxis\":{\"colorbar\":{\"outlinewidth\":0,\"ticks\":\"\"}},\"colorscale\":{\"diverging\":[[0,\"#8e0152\"],[0.1,\"#c51b7d\"],[0.2,\"#de77ae\"],[0.3,\"#f1b6da\"],[0.4,\"#fde0ef\"],[0.5,\"#f7f7f7\"],[0.6,\"#e6f5d0\"],[0.7,\"#b8e186\"],[0.8,\"#7fbc41\"],[0.9,\"#4d9221\"],[1,\"#276419\"]],\"sequential\":[[0.0,\"#0d0887\"],[0.1111111111111111,\"#46039f\"],[0.2222222222222222,\"#7201a8\"],[0.3333333333333333,\"#9c179e\"],[0.4444444444444444,\"#bd3786\"],[0.5555555555555556,\"#d8576b\"],[0.6666666666666666,\"#ed7953\"],[0.7777777777777778,\"#fb9f3a\"],[0.8888888888888888,\"#fdca26\"],[1.0,\"#f0f921\"]],\"sequentialminus\":[[0.0,\"#0d0887\"],[0.1111111111111111,\"#46039f\"],[0.2222222222222222,\"#7201a8\"],[0.3333333333333333,\"#9c179e\"],[0.4444444444444444,\"#bd3786\"],[0.5555555555555556,\"#d8576b\"],[0.6666666666666666,\"#ed7953\"],[0.7777777777777778,\"#fb9f3a\"],[0.8888888888888888,\"#fdca26\"],[1.0,\"#f0f921\"]]},\"colorway\":[\"#636efa\",\"#EF553B\",\"#00cc96\",\"#ab63fa\",\"#FFA15A\",\"#19d3f3\",\"#FF6692\",\"#B6E880\",\"#FF97FF\",\"#FECB52\"],\"font\":{\"color\":\"#2a3f5f\"},\"geo\":{\"bgcolor\":\"white\",\"lakecolor\":\"white\",\"landcolor\":\"#E5ECF6\",\"showlakes\":true,\"showland\":true,\"subunitcolor\":\"white\"},\"hoverlabel\":{\"align\":\"left\"},\"hovermode\":\"closest\",\"mapbox\":{\"style\":\"light\"},\"paper_bgcolor\":\"white\",\"plot_bgcolor\":\"#E5ECF6\",\"polar\":{\"angularaxis\":{\"gridcolor\":\"white\",\"linecolor\":\"white\",\"ticks\":\"\"},\"bgcolor\":\"#E5ECF6\",\"radialaxis\":{\"gridcolor\":\"white\",\"linecolor\":\"white\",\"ticks\":\"\"}},\"scene\":{\"xaxis\":{\"backgroundcolor\":\"#E5ECF6\",\"gridcolor\":\"white\",\"gridwidth\":2,\"linecolor\":\"white\",\"showbackground\":true,\"ticks\":\"\",\"zerolinecolor\":\"white\"},\"yaxis\":{\"backgroundcolor\":\"#E5ECF6\",\"gridcolor\":\"white\",\"gridwidth\":2,\"linecolor\":\"white\",\"showbackground\":true,\"ticks\":\"\",\"zerolinecolor\":\"white\"},\"zaxis\":{\"backgroundcolor\":\"#E5ECF6\",\"gridcolor\":\"white\",\"gridwidth\":2,\"linecolor\":\"white\",\"showbackground\":true,\"ticks\":\"\",\"zerolinecolor\":\"white\"}},\"shapedefaults\":{\"line\":{\"color\":\"#2a3f5f\"}},\"ternary\":{\"aaxis\":{\"gridcolor\":\"white\",\"linecolor\":\"white\",\"ticks\":\"\"},\"baxis\":{\"gridcolor\":\"white\",\"linecolor\":\"white\",\"ticks\":\"\"},\"bgcolor\":\"#E5ECF6\",\"caxis\":{\"gridcolor\":\"white\",\"linecolor\":\"white\",\"ticks\":\"\"}},\"title\":{\"x\":0.05},\"xaxis\":{\"automargin\":true,\"gridcolor\":\"white\",\"linecolor\":\"white\",\"ticks\":\"\",\"title\":{\"standoff\":15},\"zerolinecolor\":\"white\",\"zerolinewidth\":2},\"yaxis\":{\"automargin\":true,\"gridcolor\":\"white\",\"linecolor\":\"white\",\"ticks\":\"\",\"title\":{\"standoff\":15},\"zerolinecolor\":\"white\",\"zerolinewidth\":2}}},\"xaxis\":{\"title\":{\"text\":\"GDP\"},\"gridcolor\":\"white\",\"gridwidth\":1},\"yaxis\":{\"title\":{\"text\":\"Happiness Score\"},\"gridcolor\":\"white\",\"gridwidth\":1},\"title\":{\"text\":\"GDP & Happiness Comparison in 2022\"}},                        {\"responsive\": true}                    ).then(function(){\n",
       "                            \n",
       "var gd = document.getElementById('baadfdc9-dbfd-472c-b884-7a036f00a4bc');\n",
       "var x = new MutationObserver(function (mutations, observer) {{\n",
       "        var display = window.getComputedStyle(gd).display;\n",
       "        if (!display || display === 'none') {{\n",
       "            console.log([gd, 'removed!']);\n",
       "            Plotly.purge(gd);\n",
       "            observer.disconnect();\n",
       "        }}\n",
       "}});\n",
       "\n",
       "// Listen for the removal of the full notebook cells\n",
       "var notebookContainer = gd.closest('#notebook-container');\n",
       "if (notebookContainer) {{\n",
       "    x.observe(notebookContainer, {childList: true});\n",
       "}}\n",
       "\n",
       "// Listen for the clearing of the current output cell\n",
       "var outputEl = gd.closest('.output');\n",
       "if (outputEl) {{\n",
       "    x.observe(outputEl, {childList: true});\n",
       "}}\n",
       "\n",
       "                        })                };                });            </script>        </div>"
      ]
     },
     "metadata": {},
     "output_type": "display_data"
    }
   ],
   "source": [
    "# sns.set()\n",
    "# df2022_contributions.set_index(data_2022['Country'])[0:20].plot(kind='bar',stacked=True)\n",
    "# plt.legend(loc='center left', bbox_to_anchor=(1, 0.5))\n",
    "# plt.title('Top 20 including contribution split')\n",
    "# plt.show()\n",
    "fig = go.Figure(data = [go.Scatter(\n",
    "    x = data_2021[\"Economy (GDP per Capita)\"],\n",
    "    y = data_2021[\"Happiness Score\"], mode = 'markers',\n",
    "    text = list(data_2021[\"Country\"]),\n",
    "    marker_size = data_2021[\"Happiness Score\"]*2,\n",
    "    marker = dict(\n",
    "            color=\"green\",\n",
    "            opacity=[0.9]\n",
    "    )\n",
    ")])\n",
    "fig.update_layout(\n",
    "    title='GDP & Happiness Comparison in 2022',\n",
    "    xaxis=dict(\n",
    "        title='GDP',\n",
    "        gridcolor='white',\n",
    "        gridwidth=1,\n",
    "    ),\n",
    "    yaxis=dict(\n",
    "        title='Happiness Score',\n",
    "        gridcolor='white',\n",
    "        gridwidth=1,\n",
    "    )\n",
    ")\n",
    "\n",
    "fig.show()"
   ]
  },
  {
   "cell_type": "code",
   "execution_count": 139,
   "id": "a1c7cc26",
   "metadata": {},
   "outputs": [
    {
     "data": {
      "image/png": "[encoded data removed]",
      "text/plain": [
       "<Figure size 720x360 with 1 Axes>"
      ]
     },
     "metadata": {},
     "output_type": "display_data"
    },
    {
     "data": {
      "image/png": "[encoded data removed]",
      "text/plain": [
       "<Figure size 720x360 with 1 Axes>"
      ]
     },
     "metadata": {},
     "output_type": "display_data"
    },
    {
     "data": {
      "image/png": "[encoded data removed]",
      "text/plain": [
       "<Figure size 720x360 with 1 Axes>"
      ]
     },
     "metadata": {},
     "output_type": "display_data"
    },
    {
     "data": {
      "image/png": "[encoded data removed]",
      "text/plain": [
       "<Figure size 720x360 with 1 Axes>"
      ]
     },
     "metadata": {},
     "output_type": "display_data"
    }
   ],
   "source": [
    "cols=['Economy (GDP per Capita)',\n",
    "                         'Family',\n",
    "                         'Health (Life Expectancy)',\n",
    "                         'Generosity',\n",
    "                       ]\n",
    "for a in cols:\n",
    "    plt.figure(figsize=(10,5))\n",
    "    sns.regplot(x=a,y='Happiness Score',data=data_2022,color='r')\n",
    "    plt.show()"
   ]
  },
  {
   "cell_type": "code",
   "execution_count": 140,
   "id": "17494fc9",
   "metadata": {},
   "outputs": [
    {
     "data": {
      "application/vnd.plotly.v1+json": {
       "config": {
        "plotlyServerURL": "https://plot.ly"
       },
       "data": [
        {
         "hovertemplate": "Country=Switzerland<br>year=%{x}<br>Happiness Score=%{y}<extra></extra>",
         "legendgroup": "Switzerland",
         "line": {
          "color": "#636efa",
          "dash": "solid"
         },
         "marker": {
          "symbol": "circle"
         },
         "mode": "lines",
         "name": "Switzerland",
         "orientation": "v",
         "showlegend": true,
         "type": "scatter",
         "x": [
          2015,
          2016,
          2017,
          2018,
          2019,
          2020,
          2021,
          2022
         ],
         "xaxis": "x",
         "y": [
          7.587,
          7.509,
          7.49399995803833,
          7.487,
          7.48,
          7.559899807,
          7.571,
          7.512
         ],
         "yaxis": "y"
        },
        {
         "hovertemplate": "Country=Iceland<br>year=%{x}<br>Happiness Score=%{y}<extra></extra>",
         "legendgroup": "Iceland",
         "line": {
          "color": "#EF553B",
          "dash": "solid"
         },
         "marker": {
          "symbol": "circle"
         },
         "mode": "lines",
         "name": "Iceland",
         "orientation": "v",
         "showlegend": true,
         "type": "scatter",
         "x": [
          2015,
          2016,
          2017,
          2018,
          2019,
          2020,
          2021,
          2022
         ],
         "xaxis": "x",
         "y": [
          7.561,
          7.501,
          7.50400018692017,
          7.495,
          7.494,
          7.504499912,
          7.554,
          7.557
         ],
         "yaxis": "y"
        },
        {
         "hovertemplate": "Country=Denmark<br>year=%{x}<br>Happiness Score=%{y}<extra></extra>",
         "legendgroup": "Denmark",
         "line": {
          "color": "#00cc96",
          "dash": "solid"
         },
         "marker": {
          "symbol": "circle"
         },
         "mode": "lines",
         "name": "Denmark",
         "orientation": "v",
         "showlegend": true,
         "type": "scatter",
         "x": [
          2015,
          2016,
          2017,
          2018,
          2019,
          2020,
          2021,
          2022
         ],
         "xaxis": "x",
         "y": [
          7.527,
          7.526,
          7.52199983596802,
          7.555,
          7.6,
          7.645599842,
          7.62,
          7.636
         ],
         "yaxis": "y"
        },
        {
         "hovertemplate": "Country=Norway<br>year=%{x}<br>Happiness Score=%{y}<extra></extra>",
         "legendgroup": "Norway",
         "line": {
          "color": "#ab63fa",
          "dash": "solid"
         },
         "marker": {
          "symbol": "circle"
         },
         "mode": "lines",
         "name": "Norway",
         "orientation": "v",
         "showlegend": true,
         "type": "scatter",
         "x": [
          2015,
          2016,
          2017,
          2018,
          2019,
          2020,
          2021,
          2022
         ],
         "xaxis": "x",
         "y": [
          7.522,
          7.498,
          7.53700017929077,
          7.594,
          7.554,
          7.487999916,
          7.392,
          7.365
         ],
         "yaxis": "y"
        },
        {
         "hovertemplate": "Country=Canada<br>year=%{x}<br>Happiness Score=%{y}<extra></extra>",
         "legendgroup": "Canada",
         "line": {
          "color": "#FFA15A",
          "dash": "solid"
         },
         "marker": {
          "symbol": "circle"
         },
         "mode": "lines",
         "name": "Canada",
         "orientation": "v",
         "showlegend": true,
         "type": "scatter",
         "x": [
          2015,
          2016,
          2017,
          2018,
          2019,
          2020,
          2021,
          2022
         ],
         "xaxis": "x",
         "y": [
          7.427,
          7.404,
          7.31599998474121,
          7.328,
          7.278,
          7.23210001,
          7.103,
          7.025
         ],
         "yaxis": "y"
        },
        {
         "hovertemplate": "Country=Finland<br>year=%{x}<br>Happiness Score=%{y}<extra></extra>",
         "legendgroup": "Finland",
         "line": {
          "color": "#19d3f3",
          "dash": "solid"
         },
         "marker": {
          "symbol": "circle"
         },
         "mode": "lines",
         "name": "Finland",
         "orientation": "v",
         "showlegend": true,
         "type": "scatter",
         "x": [
          2015,
          2016,
          2017,
          2018,
          2019,
          2020,
          2021,
          2022
         ],
         "xaxis": "x",
         "y": [
          7.406,
          7.413,
          7.4689998626709,
          7.632,
          7.769,
          7.808700085,
          7.842,
          7.821
         ],
         "yaxis": "y"
        },
        {
         "hovertemplate": "Country=Netherlands<br>year=%{x}<br>Happiness Score=%{y}<extra></extra>",
         "legendgroup": "Netherlands",
         "line": {
          "color": "#FF6692",
          "dash": "solid"
         },
         "marker": {
          "symbol": "circle"
         },
         "mode": "lines",
         "name": "Netherlands",
         "orientation": "v",
         "showlegend": true,
         "type": "scatter",
         "x": [
          2015,
          2016,
          2017,
          2018,
          2019,
          2020,
          2021,
          2022
         ],
         "xaxis": "x",
         "y": [
          7.378,
          7.339,
          7.3769998550415,
          7.441,
          7.488,
          7.448900223,
          7.464,
          7.415
         ],
         "yaxis": "y"
        },
        {
         "hovertemplate": "Country=Mexico<br>year=%{x}<br>Happiness Score=%{y}<extra></extra>",
         "legendgroup": "Mexico",
         "line": {
          "color": "#B6E880",
          "dash": "solid"
         },
         "marker": {
          "symbol": "circle"
         },
         "mode": "lines",
         "name": "Mexico",
         "orientation": "v",
         "showlegend": true,
         "type": "scatter",
         "x": [
          2015,
          2016,
          2017,
          2018,
          2019,
          2020,
          2021,
          2022
         ],
         "xaxis": "x",
         "y": [
          7.187,
          6.778,
          6.57800006866455,
          6.488,
          6.595,
          6.465000153,
          6.317,
          6.128
         ],
         "yaxis": "y"
        },
        {
         "hovertemplate": "Country=United States<br>year=%{x}<br>Happiness Score=%{y}<extra></extra>",
         "legendgroup": "United States",
         "line": {
          "color": "#FF97FF",
          "dash": "solid"
         },
         "marker": {
          "symbol": "circle"
         },
         "mode": "lines",
         "name": "United States",
         "orientation": "v",
         "showlegend": true,
         "type": "scatter",
         "x": [
          2015,
          2016,
          2017,
          2018,
          2019,
          2020,
          2021,
          2022
         ],
         "xaxis": "x",
         "y": [
          7.119,
          7.104,
          6.99300003051758,
          6.886,
          6.892,
          6.939599991,
          6.951,
          6.977
         ],
         "yaxis": "y"
        },
        {
         "hovertemplate": "Country=United Kingdom<br>year=%{x}<br>Happiness Score=%{y}<extra></extra>",
         "legendgroup": "United Kingdom",
         "line": {
          "color": "#FECB52",
          "dash": "solid"
         },
         "marker": {
          "symbol": "circle"
         },
         "mode": "lines",
         "name": "United Kingdom",
         "orientation": "v",
         "showlegend": true,
         "type": "scatter",
         "x": [
          2015,
          2016,
          2017,
          2018,
          2019,
          2020,
          2021,
          2022
         ],
         "xaxis": "x",
         "y": [
          6.867,
          6.725,
          6.71400022506714,
          7.19,
          7.054,
          7.164500237,
          7.064,
          6.943
         ],
         "yaxis": "y"
        },
        {
         "hovertemplate": "Country=Singapore<br>year=%{x}<br>Happiness Score=%{y}<extra></extra>",
         "legendgroup": "Singapore",
         "line": {
          "color": "#636efa",
          "dash": "solid"
         },
         "marker": {
          "symbol": "circle"
         },
         "mode": "lines",
         "name": "Singapore",
         "orientation": "v",
         "showlegend": true,
         "type": "scatter",
         "x": [
          2015,
          2016,
          2017,
          2018,
          2019,
          2020,
          2021,
          2022
         ],
         "xaxis": "x",
         "y": [
          6.798,
          6.739,
          6.57200002670288,
          6.343,
          6.262,
          6.377099991,
          6.377,
          6.48
         ],
         "yaxis": "y"
        },
        {
         "hovertemplate": "Country=Germany<br>year=%{x}<br>Happiness Score=%{y}<extra></extra>",
         "legendgroup": "Germany",
         "line": {
          "color": "#EF553B",
          "dash": "solid"
         },
         "marker": {
          "symbol": "circle"
         },
         "mode": "lines",
         "name": "Germany",
         "orientation": "v",
         "showlegend": true,
         "type": "scatter",
         "x": [
          2015,
          2016,
          2017,
          2018,
          2019,
          2020,
          2021,
          2022
         ],
         "xaxis": "x",
         "y": [
          6.75,
          6.994,
          6.95100021362305,
          6.965,
          6.985,
          7.075799942,
          7.155,
          7.034
         ],
         "yaxis": "y"
        },
        {
         "hovertemplate": "Country=France<br>year=%{x}<br>Happiness Score=%{y}<extra></extra>",
         "legendgroup": "France",
         "line": {
          "color": "#00cc96",
          "dash": "solid"
         },
         "marker": {
          "symbol": "circle"
         },
         "mode": "lines",
         "name": "France",
         "orientation": "v",
         "showlegend": true,
         "type": "scatter",
         "x": [
          2015,
          2016,
          2017,
          2018,
          2019,
          2020,
          2021,
          2022
         ],
         "xaxis": "x",
         "y": [
          6.575,
          6.478,
          6.44199991226196,
          6.489,
          6.592,
          6.663799763,
          6.69,
          6.687
         ],
         "yaxis": "y"
        },
        {
         "hovertemplate": "Country=Spain<br>year=%{x}<br>Happiness Score=%{y}<extra></extra>",
         "legendgroup": "Spain",
         "line": {
          "color": "#ab63fa",
          "dash": "solid"
         },
         "marker": {
          "symbol": "circle"
         },
         "mode": "lines",
         "name": "Spain",
         "orientation": "v",
         "showlegend": true,
         "type": "scatter",
         "x": [
          2015,
          2016,
          2017,
          2018,
          2019,
          2020,
          2021,
          2022
         ],
         "xaxis": "x",
         "y": [
          6.329,
          6.361,
          6.40299987792969,
          6.31,
          6.354,
          6.400899887,
          6.491,
          6.476
         ],
         "yaxis": "y"
        },
        {
         "hovertemplate": "Country=Japan<br>year=%{x}<br>Happiness Score=%{y}<extra></extra>",
         "legendgroup": "Japan",
         "line": {
          "color": "#FFA15A",
          "dash": "solid"
         },
         "marker": {
          "symbol": "circle"
         },
         "mode": "lines",
         "name": "Japan",
         "orientation": "v",
         "showlegend": true,
         "type": "scatter",
         "x": [
          2015,
          2016,
          2017,
          2018,
          2019,
          2020,
          2021,
          2022
         ],
         "xaxis": "x",
         "y": [
          5.987,
          5.921,
          5.92000007629395,
          5.915,
          5.886,
          5.870800018,
          5.94,
          6.039
         ],
         "yaxis": "y"
        },
        {
         "hovertemplate": "Country=South Korea<br>year=%{x}<br>Happiness Score=%{y}<extra></extra>",
         "legendgroup": "South Korea",
         "line": {
          "color": "#19d3f3",
          "dash": "solid"
         },
         "marker": {
          "symbol": "circle"
         },
         "mode": "lines",
         "name": "South Korea",
         "orientation": "v",
         "showlegend": true,
         "type": "scatter",
         "x": [
          2015,
          2016,
          2017,
          2018,
          2019,
          2020,
          2021,
          2022
         ],
         "xaxis": "x",
         "y": [
          5.984,
          5.835,
          5.83799982070923,
          5.875,
          5.895,
          5.872399807,
          5.845,
          5.935
         ],
         "yaxis": "y"
        },
        {
         "hovertemplate": "Country=Italy<br>year=%{x}<br>Happiness Score=%{y}<extra></extra>",
         "legendgroup": "Italy",
         "line": {
          "color": "#FF6692",
          "dash": "solid"
         },
         "marker": {
          "symbol": "circle"
         },
         "mode": "lines",
         "name": "Italy",
         "orientation": "v",
         "showlegend": true,
         "type": "scatter",
         "x": [
          2015,
          2016,
          2017,
          2018,
          2019,
          2020,
          2021,
          2022
         ],
         "xaxis": "x",
         "y": [
          5.948,
          5.977,
          5.96400022506714,
          6,
          6.223,
          6.38740015,
          6.483,
          6.467
         ],
         "yaxis": "y"
        },
        {
         "hovertemplate": "Country=Russia<br>year=%{x}<br>Happiness Score=%{y}<extra></extra>",
         "legendgroup": "Russia",
         "line": {
          "color": "#B6E880",
          "dash": "solid"
         },
         "marker": {
          "symbol": "circle"
         },
         "mode": "lines",
         "name": "Russia",
         "orientation": "v",
         "showlegend": true,
         "type": "scatter",
         "x": [
          2015,
          2016,
          2017,
          2018,
          2019,
          2020,
          2021,
          2022
         ],
         "xaxis": "x",
         "y": [
          5.716,
          5.856,
          5.96299982070923,
          5.81,
          5.648,
          5.546000004,
          5.477,
          5.459
         ],
         "yaxis": "y"
        },
        {
         "hovertemplate": "Country=China<br>year=%{x}<br>Happiness Score=%{y}<extra></extra>",
         "legendgroup": "China",
         "line": {
          "color": "#FF97FF",
          "dash": "solid"
         },
         "marker": {
          "symbol": "circle"
         },
         "mode": "lines",
         "name": "China",
         "orientation": "v",
         "showlegend": true,
         "type": "scatter",
         "x": [
          2015,
          2016,
          2017,
          2018,
          2019,
          2020,
          2021,
          2022
         ],
         "xaxis": "x",
         "y": [
          5.14,
          5.245,
          5.27299976348877,
          5.246,
          5.191,
          5.123899937,
          5.339,
          5.585
         ],
         "yaxis": "y"
        },
        {
         "hovertemplate": "Country=Greece<br>year=%{x}<br>Happiness Score=%{y}<extra></extra>",
         "legendgroup": "Greece",
         "line": {
          "color": "#FECB52",
          "dash": "solid"
         },
         "marker": {
          "symbol": "circle"
         },
         "mode": "lines",
         "name": "Greece",
         "orientation": "v",
         "showlegend": true,
         "type": "scatter",
         "x": [
          2015,
          2016,
          2017,
          2018,
          2019,
          2020,
          2021,
          2022
         ],
         "xaxis": "x",
         "y": [
          4.857,
          5.033,
          5.22700023651123,
          5.358,
          5.287,
          5.514999866,
          5.723,
          5.948
         ],
         "yaxis": "y"
        },
        {
         "hovertemplate": "Country=Iran<br>year=%{x}<br>Happiness Score=%{y}<extra></extra>",
         "legendgroup": "Iran",
         "line": {
          "color": "#636efa",
          "dash": "solid"
         },
         "marker": {
          "symbol": "circle"
         },
         "mode": "lines",
         "name": "Iran",
         "orientation": "v",
         "showlegend": true,
         "type": "scatter",
         "x": [
          2015,
          2016,
          2017,
          2018,
          2019,
          2020,
          2021,
          2022
         ],
         "xaxis": "x",
         "y": [
          4.686,
          4.813,
          4.69199991226196,
          4.707,
          4.548,
          4.672399998,
          4.721,
          4.888
         ],
         "yaxis": "y"
        },
        {
         "hovertemplate": "Country=Ukraine<br>year=%{x}<br>Happiness Score=%{y}<extra></extra>",
         "legendgroup": "Ukraine",
         "line": {
          "color": "#EF553B",
          "dash": "solid"
         },
         "marker": {
          "symbol": "circle"
         },
         "mode": "lines",
         "name": "Ukraine",
         "orientation": "v",
         "showlegend": true,
         "type": "scatter",
         "x": [
          2015,
          2016,
          2017,
          2018,
          2019,
          2020,
          2021,
          2022
         ],
         "xaxis": "x",
         "y": [
          4.681,
          4.324,
          4.09600019454956,
          4.103,
          4.332,
          4.56069994,
          4.875,
          5.084
         ],
         "yaxis": "y"
        },
        {
         "hovertemplate": "Country=Iraq<br>year=%{x}<br>Happiness Score=%{y}<extra></extra>",
         "legendgroup": "Iraq",
         "line": {
          "color": "#00cc96",
          "dash": "solid"
         },
         "marker": {
          "symbol": "circle"
         },
         "mode": "lines",
         "name": "Iraq",
         "orientation": "v",
         "showlegend": true,
         "type": "scatter",
         "x": [
          2015,
          2016,
          2017,
          2018,
          2019,
          2020,
          2021,
          2022
         ],
         "xaxis": "x",
         "y": [
          4.677,
          4.575,
          4.49700021743774,
          4.456,
          4.437,
          4.784800053,
          4.854,
          4.941
         ],
         "yaxis": "y"
        },
        {
         "hovertemplate": "Country=South Africa<br>year=%{x}<br>Happiness Score=%{y}<extra></extra>",
         "legendgroup": "South Africa",
         "line": {
          "color": "#ab63fa",
          "dash": "solid"
         },
         "marker": {
          "symbol": "circle"
         },
         "mode": "lines",
         "name": "South Africa",
         "orientation": "v",
         "showlegend": true,
         "type": "scatter",
         "x": [
          2015,
          2016,
          2017,
          2018,
          2019,
          2020,
          2021,
          2022
         ],
         "xaxis": "x",
         "y": [
          4.642,
          4.459,
          4.8289999961853,
          4.724,
          4.722,
          4.814099789,
          4.956,
          5.194
         ],
         "yaxis": "y"
        },
        {
         "hovertemplate": "Country=India<br>year=%{x}<br>Happiness Score=%{y}<extra></extra>",
         "legendgroup": "India",
         "line": {
          "color": "#FFA15A",
          "dash": "solid"
         },
         "marker": {
          "symbol": "circle"
         },
         "mode": "lines",
         "name": "India",
         "orientation": "v",
         "showlegend": true,
         "type": "scatter",
         "x": [
          2015,
          2016,
          2017,
          2018,
          2019,
          2020,
          2021,
          2022
         ],
         "xaxis": "x",
         "y": [
          4.565,
          4.404,
          4.31500005722046,
          4.19,
          4.015,
          3.573299885,
          3.819,
          3.777
         ],
         "yaxis": "y"
        },
        {
         "hovertemplate": "Country=Egypt<br>year=%{x}<br>Happiness Score=%{y}<extra></extra>",
         "legendgroup": "Egypt",
         "line": {
          "color": "#19d3f3",
          "dash": "solid"
         },
         "marker": {
          "symbol": "circle"
         },
         "mode": "lines",
         "name": "Egypt",
         "orientation": "v",
         "showlegend": true,
         "type": "scatter",
         "x": [
          2015,
          2016,
          2017,
          2018,
          2019,
          2020,
          2021,
          2022
         ],
         "xaxis": "x",
         "y": [
          4.194,
          4.362,
          4.7350001335144,
          4.419,
          4.166,
          4.151400089,
          4.283,
          4.288
         ],
         "yaxis": "y"
        }
       ],
       "layout": {
        "legend": {
         "title": {
          "text": "Country"
         },
         "tracegroupgap": 0
        },
        "margin": {
         "t": 60
        },
        "template": {
         "data": {
          "bar": [
           {
            "error_x": {
             "color": "#f2f5fa"
            },
            "error_y": {
             "color": "#f2f5fa"
            },
            "marker": {
             "line": {
              "color": "rgb(17,17,17)",
              "width": 0.5
             },
             "pattern": {
              "fillmode": "overlay",
              "size": 10,
              "solidity": 0.2
             }
            },
            "type": "bar"
           }
          ],
          "barpolar": [
           {
            "marker": {
             "line": {
              "color": "rgb(17,17,17)",
              "width": 0.5
             },
             "pattern": {
              "fillmode": "overlay",
              "size": 10,
              "solidity": 0.2
             }
            },
            "type": "barpolar"
           }
          ],
          "carpet": [
           {
            "aaxis": {
             "endlinecolor": "#A2B1C6",
             "gridcolor": "#506784",
             "linecolor": "#506784",
             "minorgridcolor": "#506784",
             "startlinecolor": "#A2B1C6"
            },
            "baxis": {
             "endlinecolor": "#A2B1C6",
             "gridcolor": "#506784",
             "linecolor": "#506784",
             "minorgridcolor": "#506784",
             "startlinecolor": "#A2B1C6"
            },
            "type": "carpet"
           }
          ],
          "choropleth": [
           {
            "colorbar": {
             "outlinewidth": 0,
             "ticks": ""
            },
            "type": "choropleth"
           }
          ],
          "contour": [
           {
            "colorbar": {
             "outlinewidth": 0,
             "ticks": ""
            },
            "colorscale": [
             [
              0,
              "#0d0887"
             ],
             [
              0.1111111111111111,
              "#46039f"
             ],
             [
              0.2222222222222222,
              "#7201a8"
             ],
             [
              0.3333333333333333,
              "#9c179e"
             ],
             [
              0.4444444444444444,
              "#bd3786"
             ],
             [
              0.5555555555555556,
              "#d8576b"
             ],
             [
              0.6666666666666666,
              "#ed7953"
             ],
             [
              0.7777777777777778,
              "#fb9f3a"
             ],
             [
              0.8888888888888888,
              "#fdca26"
             ],
             [
              1,
              "#f0f921"
             ]
            ],
            "type": "contour"
           }
          ],
          "contourcarpet": [
           {
            "colorbar": {
             "outlinewidth": 0,
             "ticks": ""
            },
            "type": "contourcarpet"
           }
          ],
          "heatmap": [
           {
            "colorbar": {
             "outlinewidth": 0,
             "ticks": ""
            },
            "colorscale": [
             [
              0,
              "#0d0887"
             ],
             [
              0.1111111111111111,
              "#46039f"
             ],
             [
              0.2222222222222222,
              "#7201a8"
             ],
             [
              0.3333333333333333,
              "#9c179e"
             ],
             [
              0.4444444444444444,
              "#bd3786"
             ],
             [
              0.5555555555555556,
              "#d8576b"
             ],
             [
              0.6666666666666666,
              "#ed7953"
             ],
             [
              0.7777777777777778,
              "#fb9f3a"
             ],
             [
              0.8888888888888888,
              "#fdca26"
             ],
             [
              1,
              "#f0f921"
             ]
            ],
            "type": "heatmap"
           }
          ],
          "heatmapgl": [
           {
            "colorbar": {
             "outlinewidth": 0,
             "ticks": ""
            },
            "colorscale": [
             [
              0,
              "#0d0887"
             ],
             [
              0.1111111111111111,
              "#46039f"
             ],
             [
              0.2222222222222222,
              "#7201a8"
             ],
             [
              0.3333333333333333,
              "#9c179e"
             ],
             [
              0.4444444444444444,
              "#bd3786"
             ],
             [
              0.5555555555555556,
              "#d8576b"
             ],
             [
              0.6666666666666666,
              "#ed7953"
             ],
             [
              0.7777777777777778,
              "#fb9f3a"
             ],
             [
              0.8888888888888888,
              "#fdca26"
             ],
             [
              1,
              "#f0f921"
             ]
            ],
            "type": "heatmapgl"
           }
          ],
          "histogram": [
           {
            "marker": {
             "pattern": {
              "fillmode": "overlay",
              "size": 10,
              "solidity": 0.2
             }
            },
            "type": "histogram"
           }
          ],
          "histogram2d": [
           {
            "colorbar": {
             "outlinewidth": 0,
             "ticks": ""
            },
            "colorscale": [
             [
              0,
              "#0d0887"
             ],
             [
              0.1111111111111111,
              "#46039f"
             ],
             [
              0.2222222222222222,
              "#7201a8"
             ],
             [
              0.3333333333333333,
              "#9c179e"
             ],
             [
              0.4444444444444444,
              "#bd3786"
             ],
             [
              0.5555555555555556,
              "#d8576b"
             ],
             [
              0.6666666666666666,
              "#ed7953"
             ],
             [
              0.7777777777777778,
              "#fb9f3a"
             ],
             [
              0.8888888888888888,
              "#fdca26"
             ],
             [
              1,
              "#f0f921"
             ]
            ],
            "type": "histogram2d"
           }
          ],
          "histogram2dcontour": [
           {
            "colorbar": {
             "outlinewidth": 0,
             "ticks": ""
            },
            "colorscale": [
             [
              0,
              "#0d0887"
             ],
             [
              0.1111111111111111,
              "#46039f"
             ],
             [
              0.2222222222222222,
              "#7201a8"
             ],
             [
              0.3333333333333333,
              "#9c179e"
             ],
             [
              0.4444444444444444,
              "#bd3786"
             ],
             [
              0.5555555555555556,
              "#d8576b"
             ],
             [
              0.6666666666666666,
              "#ed7953"
             ],
             [
              0.7777777777777778,
              "#fb9f3a"
             ],
             [
              0.8888888888888888,
              "#fdca26"
             ],
             [
              1,
              "#f0f921"
             ]
            ],
            "type": "histogram2dcontour"
           }
          ],
          "mesh3d": [
           {
            "colorbar": {
             "outlinewidth": 0,
             "ticks": ""
            },
            "type": "mesh3d"
           }
          ],
          "parcoords": [
           {
            "line": {
             "colorbar": {
              "outlinewidth": 0,
              "ticks": ""
             }
            },
            "type": "parcoords"
           }
          ],
          "pie": [
           {
            "automargin": true,
            "type": "pie"
           }
          ],
          "scatter": [
           {
            "marker": {
             "line": {
              "color": "#283442"
             }
            },
            "type": "scatter"
           }
          ],
          "scatter3d": [
           {
            "line": {
             "colorbar": {
              "outlinewidth": 0,
              "ticks": ""
             }
            },
            "marker": {
             "colorbar": {
              "outlinewidth": 0,
              "ticks": ""
             }
            },
            "type": "scatter3d"
           }
          ],
          "scattercarpet": [
           {
            "marker": {
             "colorbar": {
              "outlinewidth": 0,
              "ticks": ""
             }
            },
            "type": "scattercarpet"
           }
          ],
          "scattergeo": [
           {
            "marker": {
             "colorbar": {
              "outlinewidth": 0,
              "ticks": ""
             }
            },
            "type": "scattergeo"
           }
          ],
          "scattergl": [
           {
            "marker": {
             "line": {
              "color": "#283442"
             }
            },
            "type": "scattergl"
           }
          ],
          "scattermapbox": [
           {
            "marker": {
             "colorbar": {
              "outlinewidth": 0,
              "ticks": ""
             }
            },
            "type": "scattermapbox"
           }
          ],
          "scatterpolar": [
           {
            "marker": {
             "colorbar": {
              "outlinewidth": 0,
              "ticks": ""
             }
            },
            "type": "scatterpolar"
           }
          ],
          "scatterpolargl": [
           {
            "marker": {
             "colorbar": {
              "outlinewidth": 0,
              "ticks": ""
             }
            },
            "type": "scatterpolargl"
           }
          ],
          "scatterternary": [
           {
            "marker": {
             "colorbar": {
              "outlinewidth": 0,
              "ticks": ""
             }
            },
            "type": "scatterternary"
           }
          ],
          "surface": [
           {
            "colorbar": {
             "outlinewidth": 0,
             "ticks": ""
            },
            "colorscale": [
             [
              0,
              "#0d0887"
             ],
             [
              0.1111111111111111,
              "#46039f"
             ],
             [
              0.2222222222222222,
              "#7201a8"
             ],
             [
              0.3333333333333333,
              "#9c179e"
             ],
             [
              0.4444444444444444,
              "#bd3786"
             ],
             [
              0.5555555555555556,
              "#d8576b"
             ],
             [
              0.6666666666666666,
              "#ed7953"
             ],
             [
              0.7777777777777778,
              "#fb9f3a"
             ],
             [
              0.8888888888888888,
              "#fdca26"
             ],
             [
              1,
              "#f0f921"
             ]
            ],
            "type": "surface"
           }
          ],
          "table": [
           {
            "cells": {
             "fill": {
              "color": "#506784"
             },
             "line": {
              "color": "rgb(17,17,17)"
             }
            },
            "header": {
             "fill": {
              "color": "#2a3f5f"
             },
             "line": {
              "color": "rgb(17,17,17)"
             }
            },
            "type": "table"
           }
          ]
         },
         "layout": {
          "annotationdefaults": {
           "arrowcolor": "#f2f5fa",
           "arrowhead": 0,
           "arrowwidth": 1
          },
          "autotypenumbers": "strict",
          "coloraxis": {
           "colorbar": {
            "outlinewidth": 0,
            "ticks": ""
           }
          },
          "colorscale": {
           "diverging": [
            [
             0,
             "#8e0152"
            ],
            [
             0.1,
             "#c51b7d"
            ],
            [
             0.2,
             "#de77ae"
            ],
            [
             0.3,
             "#f1b6da"
            ],
            [
             0.4,
             "#fde0ef"
            ],
            [
             0.5,
             "#f7f7f7"
            ],
            [
             0.6,
             "#e6f5d0"
            ],
            [
             0.7,
             "#b8e186"
            ],
            [
             0.8,
             "#7fbc41"
            ],
            [
             0.9,
             "#4d9221"
            ],
            [
             1,
             "#276419"
            ]
           ],
           "sequential": [
            [
             0,
             "#0d0887"
            ],
            [
             0.1111111111111111,
             "#46039f"
            ],
            [
             0.2222222222222222,
             "#7201a8"
            ],
            [
             0.3333333333333333,
             "#9c179e"
            ],
            [
             0.4444444444444444,
             "#bd3786"
            ],
            [
             0.5555555555555556,
             "#d8576b"
            ],
            [
             0.6666666666666666,
             "#ed7953"
            ],
            [
             0.7777777777777778,
             "#fb9f3a"
            ],
            [
             0.8888888888888888,
             "#fdca26"
            ],
            [
             1,
             "#f0f921"
            ]
           ],
           "sequentialminus": [
            [
             0,
             "#0d0887"
            ],
            [
             0.1111111111111111,
             "#46039f"
            ],
            [
             0.2222222222222222,
             "#7201a8"
            ],
            [
             0.3333333333333333,
             "#9c179e"
            ],
            [
             0.4444444444444444,
             "#bd3786"
            ],
            [
             0.5555555555555556,
             "#d8576b"
            ],
            [
             0.6666666666666666,
             "#ed7953"
            ],
            [
             0.7777777777777778,
             "#fb9f3a"
            ],
            [
             0.8888888888888888,
             "#fdca26"
            ],
            [
             1,
             "#f0f921"
            ]
           ]
          },
          "colorway": [
           "#636efa",
           "#EF553B",
           "#00cc96",
           "#ab63fa",
           "#FFA15A",
           "#19d3f3",
           "#FF6692",
           "#B6E880",
           "#FF97FF",
           "#FECB52"
          ],
          "font": {
           "color": "#f2f5fa"
          },
          "geo": {
           "bgcolor": "rgb(17,17,17)",
           "lakecolor": "rgb(17,17,17)",
           "landcolor": "rgb(17,17,17)",
           "showlakes": true,
           "showland": true,
           "subunitcolor": "#506784"
          },
          "hoverlabel": {
           "align": "left"
          },
          "hovermode": "closest",
          "mapbox": {
           "style": "dark"
          },
          "paper_bgcolor": "rgb(17,17,17)",
          "plot_bgcolor": "rgb(17,17,17)",
          "polar": {
           "angularaxis": {
            "gridcolor": "#506784",
            "linecolor": "#506784",
            "ticks": ""
           },
           "bgcolor": "rgb(17,17,17)",
           "radialaxis": {
            "gridcolor": "#506784",
            "linecolor": "#506784",
            "ticks": ""
           }
          },
          "scene": {
           "xaxis": {
            "backgroundcolor": "rgb(17,17,17)",
            "gridcolor": "#506784",
            "gridwidth": 2,
            "linecolor": "#506784",
            "showbackground": true,
            "ticks": "",
            "zerolinecolor": "#C8D4E3"
           },
           "yaxis": {
            "backgroundcolor": "rgb(17,17,17)",
            "gridcolor": "#506784",
            "gridwidth": 2,
            "linecolor": "#506784",
            "showbackground": true,
            "ticks": "",
            "zerolinecolor": "#C8D4E3"
           },
           "zaxis": {
            "backgroundcolor": "rgb(17,17,17)",
            "gridcolor": "#506784",
            "gridwidth": 2,
            "linecolor": "#506784",
            "showbackground": true,
            "ticks": "",
            "zerolinecolor": "#C8D4E3"
           }
          },
          "shapedefaults": {
           "line": {
            "color": "#f2f5fa"
           }
          },
          "sliderdefaults": {
           "bgcolor": "#C8D4E3",
           "bordercolor": "rgb(17,17,17)",
           "borderwidth": 1,
           "tickwidth": 0
          },
          "ternary": {
           "aaxis": {
            "gridcolor": "#506784",
            "linecolor": "#506784",
            "ticks": ""
           },
           "baxis": {
            "gridcolor": "#506784",
            "linecolor": "#506784",
            "ticks": ""
           },
           "bgcolor": "rgb(17,17,17)",
           "caxis": {
            "gridcolor": "#506784",
            "linecolor": "#506784",
            "ticks": ""
           }
          },
          "title": {
           "x": 0.05
          },
          "updatemenudefaults": {
           "bgcolor": "#506784",
           "borderwidth": 0
          },
          "xaxis": {
           "automargin": true,
           "gridcolor": "#283442",
           "linecolor": "#506784",
           "ticks": "",
           "title": {
            "standoff": 15
           },
           "zerolinecolor": "#283442",
           "zerolinewidth": 2
          },
          "yaxis": {
           "automargin": true,
           "gridcolor": "#283442",
           "linecolor": "#506784",
           "ticks": "",
           "title": {
            "standoff": 15
           },
           "zerolinecolor": "#283442",
           "zerolinewidth": 2
          }
         }
        },
        "xaxis": {
         "anchor": "y",
         "domain": [
          0,
          1
         ],
         "title": {
          "text": "year"
         }
        },
        "yaxis": {
         "anchor": "x",
         "domain": [
          0,
          1
         ],
         "title": {
          "text": "Happiness Score"
         }
        }
       }
      },
      "text/html": [
       "<div>                            <div id=\"d4090ee3-c291-4ada-9b7b-e4e1222613d5\" class=\"plotly-graph-div\" style=\"height:525px; width:100%;\"></div>            <script type=\"text/javascript\">                require([\"plotly\"], function(Plotly) {                    window.PLOTLYENV=window.PLOTLYENV || {};                                    if (document.getElementById(\"d4090ee3-c291-4ada-9b7b-e4e1222613d5\")) {                    Plotly.newPlot(                        \"d4090ee3-c291-4ada-9b7b-e4e1222613d5\",                        [{\"hovertemplate\":\"Country=Switzerland<br>year=%{x}<br>Happiness Score=%{y}<extra></extra>\",\"legendgroup\":\"Switzerland\",\"line\":{\"color\":\"#636efa\",\"dash\":\"solid\"},\"marker\":{\"symbol\":\"circle\"},\"mode\":\"lines\",\"name\":\"Switzerland\",\"orientation\":\"v\",\"showlegend\":true,\"x\":[2015,2016,2017,2018,2019,2020,2021,2022],\"xaxis\":\"x\",\"y\":[7.587,7.509,7.49399995803833,7.487,7.48,7.559899807,7.571,7.512],\"yaxis\":\"y\",\"type\":\"scatter\"},{\"hovertemplate\":\"Country=Iceland<br>year=%{x}<br>Happiness Score=%{y}<extra></extra>\",\"legendgroup\":\"Iceland\",\"line\":{\"color\":\"#EF553B\",\"dash\":\"solid\"},\"marker\":{\"symbol\":\"circle\"},\"mode\":\"lines\",\"name\":\"Iceland\",\"orientation\":\"v\",\"showlegend\":true,\"x\":[2015,2016,2017,2018,2019,2020,2021,2022],\"xaxis\":\"x\",\"y\":[7.561,7.501,7.50400018692017,7.495,7.494,7.504499912,7.554,7.557],\"yaxis\":\"y\",\"type\":\"scatter\"},{\"hovertemplate\":\"Country=Denmark<br>year=%{x}<br>Happiness Score=%{y}<extra></extra>\",\"legendgroup\":\"Denmark\",\"line\":{\"color\":\"#00cc96\",\"dash\":\"solid\"},\"marker\":{\"symbol\":\"circle\"},\"mode\":\"lines\",\"name\":\"Denmark\",\"orientation\":\"v\",\"showlegend\":true,\"x\":[2015,2016,2017,2018,2019,2020,2021,2022],\"xaxis\":\"x\",\"y\":[7.527,7.526,7.52199983596802,7.555,7.6,7.645599842,7.62,7.636],\"yaxis\":\"y\",\"type\":\"scatter\"},{\"hovertemplate\":\"Country=Norway<br>year=%{x}<br>Happiness Score=%{y}<extra></extra>\",\"legendgroup\":\"Norway\",\"line\":{\"color\":\"#ab63fa\",\"dash\":\"solid\"},\"marker\":{\"symbol\":\"circle\"},\"mode\":\"lines\",\"name\":\"Norway\",\"orientation\":\"v\",\"showlegend\":true,\"x\":[2015,2016,2017,2018,2019,2020,2021,2022],\"xaxis\":\"x\",\"y\":[7.522,7.498,7.53700017929077,7.594,7.554,7.487999916,7.392,7.365],\"yaxis\":\"y\",\"type\":\"scatter\"},{\"hovertemplate\":\"Country=Canada<br>year=%{x}<br>Happiness Score=%{y}<extra></extra>\",\"legendgroup\":\"Canada\",\"line\":{\"color\":\"#FFA15A\",\"dash\":\"solid\"},\"marker\":{\"symbol\":\"circle\"},\"mode\":\"lines\",\"name\":\"Canada\",\"orientation\":\"v\",\"showlegend\":true,\"x\":[2015,2016,2017,2018,2019,2020,2021,2022],\"xaxis\":\"x\",\"y\":[7.427,7.404,7.31599998474121,7.328,7.278,7.23210001,7.103,7.025],\"yaxis\":\"y\",\"type\":\"scatter\"},{\"hovertemplate\":\"Country=Finland<br>year=%{x}<br>Happiness Score=%{y}<extra></extra>\",\"legendgroup\":\"Finland\",\"line\":{\"color\":\"#19d3f3\",\"dash\":\"solid\"},\"marker\":{\"symbol\":\"circle\"},\"mode\":\"lines\",\"name\":\"Finland\",\"orientation\":\"v\",\"showlegend\":true,\"x\":[2015,2016,2017,2018,2019,2020,2021,2022],\"xaxis\":\"x\",\"y\":[7.406,7.413,7.4689998626709,7.632,7.769,7.808700085,7.842,7.821],\"yaxis\":\"y\",\"type\":\"scatter\"},{\"hovertemplate\":\"Country=Netherlands<br>year=%{x}<br>Happiness Score=%{y}<extra></extra>\",\"legendgroup\":\"Netherlands\",\"line\":{\"color\":\"#FF6692\",\"dash\":\"solid\"},\"marker\":{\"symbol\":\"circle\"},\"mode\":\"lines\",\"name\":\"Netherlands\",\"orientation\":\"v\",\"showlegend\":true,\"x\":[2015,2016,2017,2018,2019,2020,2021,2022],\"xaxis\":\"x\",\"y\":[7.378,7.339,7.3769998550415,7.441,7.488,7.448900223,7.464,7.415],\"yaxis\":\"y\",\"type\":\"scatter\"},{\"hovertemplate\":\"Country=Mexico<br>year=%{x}<br>Happiness Score=%{y}<extra></extra>\",\"legendgroup\":\"Mexico\",\"line\":{\"color\":\"#B6E880\",\"dash\":\"solid\"},\"marker\":{\"symbol\":\"circle\"},\"mode\":\"lines\",\"name\":\"Mexico\",\"orientation\":\"v\",\"showlegend\":true,\"x\":[2015,2016,2017,2018,2019,2020,2021,2022],\"xaxis\":\"x\",\"y\":[7.187,6.778,6.57800006866455,6.488,6.595,6.465000153,6.317,6.128],\"yaxis\":\"y\",\"type\":\"scatter\"},{\"hovertemplate\":\"Country=United States<br>year=%{x}<br>Happiness Score=%{y}<extra></extra>\",\"legendgroup\":\"United States\",\"line\":{\"color\":\"#FF97FF\",\"dash\":\"solid\"},\"marker\":{\"symbol\":\"circle\"},\"mode\":\"lines\",\"name\":\"United States\",\"orientation\":\"v\",\"showlegend\":true,\"x\":[2015,2016,2017,2018,2019,2020,2021,2022],\"xaxis\":\"x\",\"y\":[7.119,7.104,6.99300003051758,6.886,6.892,6.939599991,6.951,6.977],\"yaxis\":\"y\",\"type\":\"scatter\"},{\"hovertemplate\":\"Country=United Kingdom<br>year=%{x}<br>Happiness Score=%{y}<extra></extra>\",\"legendgroup\":\"United Kingdom\",\"line\":{\"color\":\"#FECB52\",\"dash\":\"solid\"},\"marker\":{\"symbol\":\"circle\"},\"mode\":\"lines\",\"name\":\"United Kingdom\",\"orientation\":\"v\",\"showlegend\":true,\"x\":[2015,2016,2017,2018,2019,2020,2021,2022],\"xaxis\":\"x\",\"y\":[6.867,6.725,6.71400022506714,7.19,7.054,7.164500237,7.064,6.943],\"yaxis\":\"y\",\"type\":\"scatter\"},{\"hovertemplate\":\"Country=Singapore<br>year=%{x}<br>Happiness Score=%{y}<extra></extra>\",\"legendgroup\":\"Singapore\",\"line\":{\"color\":\"#636efa\",\"dash\":\"solid\"},\"marker\":{\"symbol\":\"circle\"},\"mode\":\"lines\",\"name\":\"Singapore\",\"orientation\":\"v\",\"showlegend\":true,\"x\":[2015,2016,2017,2018,2019,2020,2021,2022],\"xaxis\":\"x\",\"y\":[6.798,6.739,6.57200002670288,6.343,6.262,6.377099991,6.377,6.48],\"yaxis\":\"y\",\"type\":\"scatter\"},{\"hovertemplate\":\"Country=Germany<br>year=%{x}<br>Happiness Score=%{y}<extra></extra>\",\"legendgroup\":\"Germany\",\"line\":{\"color\":\"#EF553B\",\"dash\":\"solid\"},\"marker\":{\"symbol\":\"circle\"},\"mode\":\"lines\",\"name\":\"Germany\",\"orientation\":\"v\",\"showlegend\":true,\"x\":[2015,2016,2017,2018,2019,2020,2021,2022],\"xaxis\":\"x\",\"y\":[6.75,6.994,6.95100021362305,6.965,6.985,7.075799942,7.155,7.034],\"yaxis\":\"y\",\"type\":\"scatter\"},{\"hovertemplate\":\"Country=France<br>year=%{x}<br>Happiness Score=%{y}<extra></extra>\",\"legendgroup\":\"France\",\"line\":{\"color\":\"#00cc96\",\"dash\":\"solid\"},\"marker\":{\"symbol\":\"circle\"},\"mode\":\"lines\",\"name\":\"France\",\"orientation\":\"v\",\"showlegend\":true,\"x\":[2015,2016,2017,2018,2019,2020,2021,2022],\"xaxis\":\"x\",\"y\":[6.575,6.478,6.44199991226196,6.489,6.592,6.663799763,6.69,6.687],\"yaxis\":\"y\",\"type\":\"scatter\"},{\"hovertemplate\":\"Country=Spain<br>year=%{x}<br>Happiness Score=%{y}<extra></extra>\",\"legendgroup\":\"Spain\",\"line\":{\"color\":\"#ab63fa\",\"dash\":\"solid\"},\"marker\":{\"symbol\":\"circle\"},\"mode\":\"lines\",\"name\":\"Spain\",\"orientation\":\"v\",\"showlegend\":true,\"x\":[2015,2016,2017,2018,2019,2020,2021,2022],\"xaxis\":\"x\",\"y\":[6.329,6.361,6.40299987792969,6.31,6.354,6.400899887,6.491,6.476],\"yaxis\":\"y\",\"type\":\"scatter\"},{\"hovertemplate\":\"Country=Japan<br>year=%{x}<br>Happiness Score=%{y}<extra></extra>\",\"legendgroup\":\"Japan\",\"line\":{\"color\":\"#FFA15A\",\"dash\":\"solid\"},\"marker\":{\"symbol\":\"circle\"},\"mode\":\"lines\",\"name\":\"Japan\",\"orientation\":\"v\",\"showlegend\":true,\"x\":[2015,2016,2017,2018,2019,2020,2021,2022],\"xaxis\":\"x\",\"y\":[5.987,5.921,5.92000007629395,5.915,5.886,5.870800018,5.94,6.039],\"yaxis\":\"y\",\"type\":\"scatter\"},{\"hovertemplate\":\"Country=South Korea<br>year=%{x}<br>Happiness Score=%{y}<extra></extra>\",\"legendgroup\":\"South Korea\",\"line\":{\"color\":\"#19d3f3\",\"dash\":\"solid\"},\"marker\":{\"symbol\":\"circle\"},\"mode\":\"lines\",\"name\":\"South Korea\",\"orientation\":\"v\",\"showlegend\":true,\"x\":[2015,2016,2017,2018,2019,2020,2021,2022],\"xaxis\":\"x\",\"y\":[5.984,5.835,5.83799982070923,5.875,5.895,5.872399807,5.845,5.935],\"yaxis\":\"y\",\"type\":\"scatter\"},{\"hovertemplate\":\"Country=Italy<br>year=%{x}<br>Happiness Score=%{y}<extra></extra>\",\"legendgroup\":\"Italy\",\"line\":{\"color\":\"#FF6692\",\"dash\":\"solid\"},\"marker\":{\"symbol\":\"circle\"},\"mode\":\"lines\",\"name\":\"Italy\",\"orientation\":\"v\",\"showlegend\":true,\"x\":[2015,2016,2017,2018,2019,2020,2021,2022],\"xaxis\":\"x\",\"y\":[5.948,5.977,5.96400022506714,6.0,6.223,6.38740015,6.483,6.467],\"yaxis\":\"y\",\"type\":\"scatter\"},{\"hovertemplate\":\"Country=Russia<br>year=%{x}<br>Happiness Score=%{y}<extra></extra>\",\"legendgroup\":\"Russia\",\"line\":{\"color\":\"#B6E880\",\"dash\":\"solid\"},\"marker\":{\"symbol\":\"circle\"},\"mode\":\"lines\",\"name\":\"Russia\",\"orientation\":\"v\",\"showlegend\":true,\"x\":[2015,2016,2017,2018,2019,2020,2021,2022],\"xaxis\":\"x\",\"y\":[5.716,5.856,5.96299982070923,5.81,5.648,5.546000004,5.477,5.459],\"yaxis\":\"y\",\"type\":\"scatter\"},{\"hovertemplate\":\"Country=China<br>year=%{x}<br>Happiness Score=%{y}<extra></extra>\",\"legendgroup\":\"China\",\"line\":{\"color\":\"#FF97FF\",\"dash\":\"solid\"},\"marker\":{\"symbol\":\"circle\"},\"mode\":\"lines\",\"name\":\"China\",\"orientation\":\"v\",\"showlegend\":true,\"x\":[2015,2016,2017,2018,2019,2020,2021,2022],\"xaxis\":\"x\",\"y\":[5.14,5.245,5.27299976348877,5.246,5.191,5.123899937,5.339,5.585],\"yaxis\":\"y\",\"type\":\"scatter\"},{\"hovertemplate\":\"Country=Greece<br>year=%{x}<br>Happiness Score=%{y}<extra></extra>\",\"legendgroup\":\"Greece\",\"line\":{\"color\":\"#FECB52\",\"dash\":\"solid\"},\"marker\":{\"symbol\":\"circle\"},\"mode\":\"lines\",\"name\":\"Greece\",\"orientation\":\"v\",\"showlegend\":true,\"x\":[2015,2016,2017,2018,2019,2020,2021,2022],\"xaxis\":\"x\",\"y\":[4.857,5.033,5.22700023651123,5.358,5.287,5.514999866,5.723,5.948],\"yaxis\":\"y\",\"type\":\"scatter\"},{\"hovertemplate\":\"Country=Iran<br>year=%{x}<br>Happiness Score=%{y}<extra></extra>\",\"legendgroup\":\"Iran\",\"line\":{\"color\":\"#636efa\",\"dash\":\"solid\"},\"marker\":{\"symbol\":\"circle\"},\"mode\":\"lines\",\"name\":\"Iran\",\"orientation\":\"v\",\"showlegend\":true,\"x\":[2015,2016,2017,2018,2019,2020,2021,2022],\"xaxis\":\"x\",\"y\":[4.686,4.813,4.69199991226196,4.707,4.548,4.672399998,4.721,4.888],\"yaxis\":\"y\",\"type\":\"scatter\"},{\"hovertemplate\":\"Country=Ukraine<br>year=%{x}<br>Happiness Score=%{y}<extra></extra>\",\"legendgroup\":\"Ukraine\",\"line\":{\"color\":\"#EF553B\",\"dash\":\"solid\"},\"marker\":{\"symbol\":\"circle\"},\"mode\":\"lines\",\"name\":\"Ukraine\",\"orientation\":\"v\",\"showlegend\":true,\"x\":[2015,2016,2017,2018,2019,2020,2021,2022],\"xaxis\":\"x\",\"y\":[4.681,4.324,4.09600019454956,4.103,4.332,4.56069994,4.875,5.084],\"yaxis\":\"y\",\"type\":\"scatter\"},{\"hovertemplate\":\"Country=Iraq<br>year=%{x}<br>Happiness Score=%{y}<extra></extra>\",\"legendgroup\":\"Iraq\",\"line\":{\"color\":\"#00cc96\",\"dash\":\"solid\"},\"marker\":{\"symbol\":\"circle\"},\"mode\":\"lines\",\"name\":\"Iraq\",\"orientation\":\"v\",\"showlegend\":true,\"x\":[2015,2016,2017,2018,2019,2020,2021,2022],\"xaxis\":\"x\",\"y\":[4.677,4.575,4.49700021743774,4.456,4.437,4.784800053,4.854,4.941],\"yaxis\":\"y\",\"type\":\"scatter\"},{\"hovertemplate\":\"Country=South Africa<br>year=%{x}<br>Happiness Score=%{y}<extra></extra>\",\"legendgroup\":\"South Africa\",\"line\":{\"color\":\"#ab63fa\",\"dash\":\"solid\"},\"marker\":{\"symbol\":\"circle\"},\"mode\":\"lines\",\"name\":\"South Africa\",\"orientation\":\"v\",\"showlegend\":true,\"x\":[2015,2016,2017,2018,2019,2020,2021,2022],\"xaxis\":\"x\",\"y\":[4.642,4.459,4.8289999961853,4.724,4.722,4.814099789,4.956,5.194],\"yaxis\":\"y\",\"type\":\"scatter\"},{\"hovertemplate\":\"Country=India<br>year=%{x}<br>Happiness Score=%{y}<extra></extra>\",\"legendgroup\":\"India\",\"line\":{\"color\":\"#FFA15A\",\"dash\":\"solid\"},\"marker\":{\"symbol\":\"circle\"},\"mode\":\"lines\",\"name\":\"India\",\"orientation\":\"v\",\"showlegend\":true,\"x\":[2015,2016,2017,2018,2019,2020,2021,2022],\"xaxis\":\"x\",\"y\":[4.565,4.404,4.31500005722046,4.19,4.015,3.573299885,3.819,3.777],\"yaxis\":\"y\",\"type\":\"scatter\"},{\"hovertemplate\":\"Country=Egypt<br>year=%{x}<br>Happiness Score=%{y}<extra></extra>\",\"legendgroup\":\"Egypt\",\"line\":{\"color\":\"#19d3f3\",\"dash\":\"solid\"},\"marker\":{\"symbol\":\"circle\"},\"mode\":\"lines\",\"name\":\"Egypt\",\"orientation\":\"v\",\"showlegend\":true,\"x\":[2015,2016,2017,2018,2019,2020,2021,2022],\"xaxis\":\"x\",\"y\":[4.194,4.362,4.7350001335144,4.419,4.166,4.151400089,4.283,4.288],\"yaxis\":\"y\",\"type\":\"scatter\"}],                        {\"template\":{\"data\":{\"barpolar\":[{\"marker\":{\"line\":{\"color\":\"rgb(17,17,17)\",\"width\":0.5},\"pattern\":{\"fillmode\":\"overlay\",\"size\":10,\"solidity\":0.2}},\"type\":\"barpolar\"}],\"bar\":[{\"error_x\":{\"color\":\"#f2f5fa\"},\"error_y\":{\"color\":\"#f2f5fa\"},\"marker\":{\"line\":{\"color\":\"rgb(17,17,17)\",\"width\":0.5},\"pattern\":{\"fillmode\":\"overlay\",\"size\":10,\"solidity\":0.2}},\"type\":\"bar\"}],\"carpet\":[{\"aaxis\":{\"endlinecolor\":\"#A2B1C6\",\"gridcolor\":\"#506784\",\"linecolor\":\"#506784\",\"minorgridcolor\":\"#506784\",\"startlinecolor\":\"#A2B1C6\"},\"baxis\":{\"endlinecolor\":\"#A2B1C6\",\"gridcolor\":\"#506784\",\"linecolor\":\"#506784\",\"minorgridcolor\":\"#506784\",\"startlinecolor\":\"#A2B1C6\"},\"type\":\"carpet\"}],\"choropleth\":[{\"colorbar\":{\"outlinewidth\":0,\"ticks\":\"\"},\"type\":\"choropleth\"}],\"contourcarpet\":[{\"colorbar\":{\"outlinewidth\":0,\"ticks\":\"\"},\"type\":\"contourcarpet\"}],\"contour\":[{\"colorbar\":{\"outlinewidth\":0,\"ticks\":\"\"},\"colorscale\":[[0.0,\"#0d0887\"],[0.1111111111111111,\"#46039f\"],[0.2222222222222222,\"#7201a8\"],[0.3333333333333333,\"#9c179e\"],[0.4444444444444444,\"#bd3786\"],[0.5555555555555556,\"#d8576b\"],[0.6666666666666666,\"#ed7953\"],[0.7777777777777778,\"#fb9f3a\"],[0.8888888888888888,\"#fdca26\"],[1.0,\"#f0f921\"]],\"type\":\"contour\"}],\"heatmapgl\":[{\"colorbar\":{\"outlinewidth\":0,\"ticks\":\"\"},\"colorscale\":[[0.0,\"#0d0887\"],[0.1111111111111111,\"#46039f\"],[0.2222222222222222,\"#7201a8\"],[0.3333333333333333,\"#9c179e\"],[0.4444444444444444,\"#bd3786\"],[0.5555555555555556,\"#d8576b\"],[0.6666666666666666,\"#ed7953\"],[0.7777777777777778,\"#fb9f3a\"],[0.8888888888888888,\"#fdca26\"],[1.0,\"#f0f921\"]],\"type\":\"heatmapgl\"}],\"heatmap\":[{\"colorbar\":{\"outlinewidth\":0,\"ticks\":\"\"},\"colorscale\":[[0.0,\"#0d0887\"],[0.1111111111111111,\"#46039f\"],[0.2222222222222222,\"#7201a8\"],[0.3333333333333333,\"#9c179e\"],[0.4444444444444444,\"#bd3786\"],[0.5555555555555556,\"#d8576b\"],[0.6666666666666666,\"#ed7953\"],[0.7777777777777778,\"#fb9f3a\"],[0.8888888888888888,\"#fdca26\"],[1.0,\"#f0f921\"]],\"type\":\"heatmap\"}],\"histogram2dcontour\":[{\"colorbar\":{\"outlinewidth\":0,\"ticks\":\"\"},\"colorscale\":[[0.0,\"#0d0887\"],[0.1111111111111111,\"#46039f\"],[0.2222222222222222,\"#7201a8\"],[0.3333333333333333,\"#9c179e\"],[0.4444444444444444,\"#bd3786\"],[0.5555555555555556,\"#d8576b\"],[0.6666666666666666,\"#ed7953\"],[0.7777777777777778,\"#fb9f3a\"],[0.8888888888888888,\"#fdca26\"],[1.0,\"#f0f921\"]],\"type\":\"histogram2dcontour\"}],\"histogram2d\":[{\"colorbar\":{\"outlinewidth\":0,\"ticks\":\"\"},\"colorscale\":[[0.0,\"#0d0887\"],[0.1111111111111111,\"#46039f\"],[0.2222222222222222,\"#7201a8\"],[0.3333333333333333,\"#9c179e\"],[0.4444444444444444,\"#bd3786\"],[0.5555555555555556,\"#d8576b\"],[0.6666666666666666,\"#ed7953\"],[0.7777777777777778,\"#fb9f3a\"],[0.8888888888888888,\"#fdca26\"],[1.0,\"#f0f921\"]],\"type\":\"histogram2d\"}],\"histogram\":[{\"marker\":{\"pattern\":{\"fillmode\":\"overlay\",\"size\":10,\"solidity\":0.2}},\"type\":\"histogram\"}],\"mesh3d\":[{\"colorbar\":{\"outlinewidth\":0,\"ticks\":\"\"},\"type\":\"mesh3d\"}],\"parcoords\":[{\"line\":{\"colorbar\":{\"outlinewidth\":0,\"ticks\":\"\"}},\"type\":\"parcoords\"}],\"pie\":[{\"automargin\":true,\"type\":\"pie\"}],\"scatter3d\":[{\"line\":{\"colorbar\":{\"outlinewidth\":0,\"ticks\":\"\"}},\"marker\":{\"colorbar\":{\"outlinewidth\":0,\"ticks\":\"\"}},\"type\":\"scatter3d\"}],\"scattercarpet\":[{\"marker\":{\"colorbar\":{\"outlinewidth\":0,\"ticks\":\"\"}},\"type\":\"scattercarpet\"}],\"scattergeo\":[{\"marker\":{\"colorbar\":{\"outlinewidth\":0,\"ticks\":\"\"}},\"type\":\"scattergeo\"}],\"scattergl\":[{\"marker\":{\"line\":{\"color\":\"#283442\"}},\"type\":\"scattergl\"}],\"scattermapbox\":[{\"marker\":{\"colorbar\":{\"outlinewidth\":0,\"ticks\":\"\"}},\"type\":\"scattermapbox\"}],\"scatterpolargl\":[{\"marker\":{\"colorbar\":{\"outlinewidth\":0,\"ticks\":\"\"}},\"type\":\"scatterpolargl\"}],\"scatterpolar\":[{\"marker\":{\"colorbar\":{\"outlinewidth\":0,\"ticks\":\"\"}},\"type\":\"scatterpolar\"}],\"scatter\":[{\"marker\":{\"line\":{\"color\":\"#283442\"}},\"type\":\"scatter\"}],\"scatterternary\":[{\"marker\":{\"colorbar\":{\"outlinewidth\":0,\"ticks\":\"\"}},\"type\":\"scatterternary\"}],\"surface\":[{\"colorbar\":{\"outlinewidth\":0,\"ticks\":\"\"},\"colorscale\":[[0.0,\"#0d0887\"],[0.1111111111111111,\"#46039f\"],[0.2222222222222222,\"#7201a8\"],[0.3333333333333333,\"#9c179e\"],[0.4444444444444444,\"#bd3786\"],[0.5555555555555556,\"#d8576b\"],[0.6666666666666666,\"#ed7953\"],[0.7777777777777778,\"#fb9f3a\"],[0.8888888888888888,\"#fdca26\"],[1.0,\"#f0f921\"]],\"type\":\"surface\"}],\"table\":[{\"cells\":{\"fill\":{\"color\":\"#506784\"},\"line\":{\"color\":\"rgb(17,17,17)\"}},\"header\":{\"fill\":{\"color\":\"#2a3f5f\"},\"line\":{\"color\":\"rgb(17,17,17)\"}},\"type\":\"table\"}]},\"layout\":{\"annotationdefaults\":{\"arrowcolor\":\"#f2f5fa\",\"arrowhead\":0,\"arrowwidth\":1},\"autotypenumbers\":\"strict\",\"coloraxis\":{\"colorbar\":{\"outlinewidth\":0,\"ticks\":\"\"}},\"colorscale\":{\"diverging\":[[0,\"#8e0152\"],[0.1,\"#c51b7d\"],[0.2,\"#de77ae\"],[0.3,\"#f1b6da\"],[0.4,\"#fde0ef\"],[0.5,\"#f7f7f7\"],[0.6,\"#e6f5d0\"],[0.7,\"#b8e186\"],[0.8,\"#7fbc41\"],[0.9,\"#4d9221\"],[1,\"#276419\"]],\"sequential\":[[0.0,\"#0d0887\"],[0.1111111111111111,\"#46039f\"],[0.2222222222222222,\"#7201a8\"],[0.3333333333333333,\"#9c179e\"],[0.4444444444444444,\"#bd3786\"],[0.5555555555555556,\"#d8576b\"],[0.6666666666666666,\"#ed7953\"],[0.7777777777777778,\"#fb9f3a\"],[0.8888888888888888,\"#fdca26\"],[1.0,\"#f0f921\"]],\"sequentialminus\":[[0.0,\"#0d0887\"],[0.1111111111111111,\"#46039f\"],[0.2222222222222222,\"#7201a8\"],[0.3333333333333333,\"#9c179e\"],[0.4444444444444444,\"#bd3786\"],[0.5555555555555556,\"#d8576b\"],[0.6666666666666666,\"#ed7953\"],[0.7777777777777778,\"#fb9f3a\"],[0.8888888888888888,\"#fdca26\"],[1.0,\"#f0f921\"]]},\"colorway\":[\"#636efa\",\"#EF553B\",\"#00cc96\",\"#ab63fa\",\"#FFA15A\",\"#19d3f3\",\"#FF6692\",\"#B6E880\",\"#FF97FF\",\"#FECB52\"],\"font\":{\"color\":\"#f2f5fa\"},\"geo\":{\"bgcolor\":\"rgb(17,17,17)\",\"lakecolor\":\"rgb(17,17,17)\",\"landcolor\":\"rgb(17,17,17)\",\"showlakes\":true,\"showland\":true,\"subunitcolor\":\"#506784\"},\"hoverlabel\":{\"align\":\"left\"},\"hovermode\":\"closest\",\"mapbox\":{\"style\":\"dark\"},\"paper_bgcolor\":\"rgb(17,17,17)\",\"plot_bgcolor\":\"rgb(17,17,17)\",\"polar\":{\"angularaxis\":{\"gridcolor\":\"#506784\",\"linecolor\":\"#506784\",\"ticks\":\"\"},\"bgcolor\":\"rgb(17,17,17)\",\"radialaxis\":{\"gridcolor\":\"#506784\",\"linecolor\":\"#506784\",\"ticks\":\"\"}},\"scene\":{\"xaxis\":{\"backgroundcolor\":\"rgb(17,17,17)\",\"gridcolor\":\"#506784\",\"gridwidth\":2,\"linecolor\":\"#506784\",\"showbackground\":true,\"ticks\":\"\",\"zerolinecolor\":\"#C8D4E3\"},\"yaxis\":{\"backgroundcolor\":\"rgb(17,17,17)\",\"gridcolor\":\"#506784\",\"gridwidth\":2,\"linecolor\":\"#506784\",\"showbackground\":true,\"ticks\":\"\",\"zerolinecolor\":\"#C8D4E3\"},\"zaxis\":{\"backgroundcolor\":\"rgb(17,17,17)\",\"gridcolor\":\"#506784\",\"gridwidth\":2,\"linecolor\":\"#506784\",\"showbackground\":true,\"ticks\":\"\",\"zerolinecolor\":\"#C8D4E3\"}},\"shapedefaults\":{\"line\":{\"color\":\"#f2f5fa\"}},\"sliderdefaults\":{\"bgcolor\":\"#C8D4E3\",\"bordercolor\":\"rgb(17,17,17)\",\"borderwidth\":1,\"tickwidth\":0},\"ternary\":{\"aaxis\":{\"gridcolor\":\"#506784\",\"linecolor\":\"#506784\",\"ticks\":\"\"},\"baxis\":{\"gridcolor\":\"#506784\",\"linecolor\":\"#506784\",\"ticks\":\"\"},\"bgcolor\":\"rgb(17,17,17)\",\"caxis\":{\"gridcolor\":\"#506784\",\"linecolor\":\"#506784\",\"ticks\":\"\"}},\"title\":{\"x\":0.05},\"updatemenudefaults\":{\"bgcolor\":\"#506784\",\"borderwidth\":0},\"xaxis\":{\"automargin\":true,\"gridcolor\":\"#283442\",\"linecolor\":\"#506784\",\"ticks\":\"\",\"title\":{\"standoff\":15},\"zerolinecolor\":\"#283442\",\"zerolinewidth\":2},\"yaxis\":{\"automargin\":true,\"gridcolor\":\"#283442\",\"linecolor\":\"#506784\",\"ticks\":\"\",\"title\":{\"standoff\":15},\"zerolinecolor\":\"#283442\",\"zerolinewidth\":2}}},\"xaxis\":{\"anchor\":\"y\",\"domain\":[0.0,1.0],\"title\":{\"text\":\"year\"}},\"yaxis\":{\"anchor\":\"x\",\"domain\":[0.0,1.0],\"title\":{\"text\":\"Happiness Score\"}},\"legend\":{\"title\":{\"text\":\"Country\"},\"tracegroupgap\":0},\"margin\":{\"t\":60}},                        {\"responsive\": true}                    ).then(function(){\n",
       "                            \n",
       "var gd = document.getElementById('d4090ee3-c291-4ada-9b7b-e4e1222613d5');\n",
       "var x = new MutationObserver(function (mutations, observer) {{\n",
       "        var display = window.getComputedStyle(gd).display;\n",
       "        if (!display || display === 'none') {{\n",
       "            console.log([gd, 'removed!']);\n",
       "            Plotly.purge(gd);\n",
       "            observer.disconnect();\n",
       "        }}\n",
       "}});\n",
       "\n",
       "// Listen for the removal of the full notebook cells\n",
       "var notebookContainer = gd.closest('#notebook-container');\n",
       "if (notebookContainer) {{\n",
       "    x.observe(notebookContainer, {childList: true});\n",
       "}}\n",
       "\n",
       "// Listen for the clearing of the current output cell\n",
       "var outputEl = gd.closest('.output');\n",
       "if (outputEl) {{\n",
       "    x.observe(outputEl, {childList: true});\n",
       "}}\n",
       "\n",
       "                        })                };                });            </script>        </div>"
      ]
     },
     "metadata": {},
     "output_type": "display_data"
    }
   ],
   "source": [
    "countries=['India','United States','United Kingdom','Russia','China','Canada','Germany','France','Switzerland', 'Iceland', 'Denmark', 'Norway', 'Finland',\n",
    "       'Netherlands','Japan', 'South Korea','Italy','Singapore','Greece','Iran','Spain','Mexico','Egypt','Ukraine', 'Iraq', 'South Africa']\n",
    "df1=df[df['Country'].isin(countries)]\n",
    "\n",
    "fig=px.line(df1,x='year',y='Happiness Score',color='Country',template=\"plotly_dark\")\n",
    "fig.show()"
   ]
  },
  {
   "cell_type": "code",
   "execution_count": 142,
   "id": "fdf8a89f",
   "metadata": {},
   "outputs": [
    {
     "data": {
      "application/vnd.plotly.v1+json": {
       "config": {
        "plotlyServerURL": "https://plot.ly"
       },
       "data": [
        {
         "hovertemplate": "Country=Switzerland<br>year=%{x}<br>Happiness Score=%{y}<extra></extra>",
         "legendgroup": "Switzerland",
         "line": {
          "color": "#636efa",
          "dash": "solid"
         },
         "marker": {
          "symbol": "circle"
         },
         "mode": "lines",
         "name": "Switzerland",
         "orientation": "v",
         "showlegend": true,
         "type": "scatter",
         "x": [
          2015,
          2016,
          2017,
          2018,
          2019,
          2020,
          2021,
          2022
         ],
         "xaxis": "x",
         "y": [
          7.587,
          7.509,
          7.49399995803833,
          7.487,
          7.48,
          7.559899807,
          7.571,
          7.512
         ],
         "yaxis": "y"
        },
        {
         "hovertemplate": "Country=Canada<br>year=%{x}<br>Happiness Score=%{y}<extra></extra>",
         "legendgroup": "Canada",
         "line": {
          "color": "#EF553B",
          "dash": "solid"
         },
         "marker": {
          "symbol": "circle"
         },
         "mode": "lines",
         "name": "Canada",
         "orientation": "v",
         "showlegend": true,
         "type": "scatter",
         "x": [
          2015,
          2016,
          2017,
          2018,
          2019,
          2020,
          2021,
          2022
         ],
         "xaxis": "x",
         "y": [
          7.427,
          7.404,
          7.31599998474121,
          7.328,
          7.278,
          7.23210001,
          7.103,
          7.025
         ],
         "yaxis": "y"
        },
        {
         "hovertemplate": "Country=United States<br>year=%{x}<br>Happiness Score=%{y}<extra></extra>",
         "legendgroup": "United States",
         "line": {
          "color": "#00cc96",
          "dash": "solid"
         },
         "marker": {
          "symbol": "circle"
         },
         "mode": "lines",
         "name": "United States",
         "orientation": "v",
         "showlegend": true,
         "type": "scatter",
         "x": [
          2015,
          2016,
          2017,
          2018,
          2019,
          2020,
          2021,
          2022
         ],
         "xaxis": "x",
         "y": [
          7.119,
          7.104,
          6.99300003051758,
          6.886,
          6.892,
          6.939599991,
          6.951,
          6.977
         ],
         "yaxis": "y"
        },
        {
         "hovertemplate": "Country=United Arab Emirates<br>year=%{x}<br>Happiness Score=%{y}<extra></extra>",
         "legendgroup": "United Arab Emirates",
         "line": {
          "color": "#ab63fa",
          "dash": "solid"
         },
         "marker": {
          "symbol": "circle"
         },
         "mode": "lines",
         "name": "United Arab Emirates",
         "orientation": "v",
         "showlegend": true,
         "type": "scatter",
         "x": [
          2015,
          2016,
          2017,
          2018,
          2019,
          2020,
          2021,
          2022
         ],
         "xaxis": "x",
         "y": [
          6.901,
          6.573,
          6.64799976348877,
          6.774,
          6.825,
          6.790800095,
          6.561,
          6.576
         ],
         "yaxis": "y"
        },
        {
         "hovertemplate": "Country=United Kingdom<br>year=%{x}<br>Happiness Score=%{y}<extra></extra>",
         "legendgroup": "United Kingdom",
         "line": {
          "color": "#FFA15A",
          "dash": "solid"
         },
         "marker": {
          "symbol": "circle"
         },
         "mode": "lines",
         "name": "United Kingdom",
         "orientation": "v",
         "showlegend": true,
         "type": "scatter",
         "x": [
          2015,
          2016,
          2017,
          2018,
          2019,
          2020,
          2021,
          2022
         ],
         "xaxis": "x",
         "y": [
          6.867,
          6.725,
          6.71400022506714,
          7.19,
          7.054,
          7.164500237,
          7.064,
          6.943
         ],
         "yaxis": "y"
        },
        {
         "hovertemplate": "Country=Germany<br>year=%{x}<br>Happiness Score=%{y}<extra></extra>",
         "legendgroup": "Germany",
         "line": {
          "color": "#19d3f3",
          "dash": "solid"
         },
         "marker": {
          "symbol": "circle"
         },
         "mode": "lines",
         "name": "Germany",
         "orientation": "v",
         "showlegend": true,
         "type": "scatter",
         "x": [
          2015,
          2016,
          2017,
          2018,
          2019,
          2020,
          2021,
          2022
         ],
         "xaxis": "x",
         "y": [
          6.75,
          6.994,
          6.95100021362305,
          6.965,
          6.985,
          7.075799942,
          7.155,
          7.034
         ],
         "yaxis": "y"
        },
        {
         "hovertemplate": "Country=France<br>year=%{x}<br>Happiness Score=%{y}<extra></extra>",
         "legendgroup": "France",
         "line": {
          "color": "#FF6692",
          "dash": "solid"
         },
         "marker": {
          "symbol": "circle"
         },
         "mode": "lines",
         "name": "France",
         "orientation": "v",
         "showlegend": true,
         "type": "scatter",
         "x": [
          2015,
          2016,
          2017,
          2018,
          2019,
          2020,
          2021,
          2022
         ],
         "xaxis": "x",
         "y": [
          6.575,
          6.478,
          6.44199991226196,
          6.489,
          6.592,
          6.663799763,
          6.69,
          6.687
         ],
         "yaxis": "y"
        },
        {
         "hovertemplate": "Country=Japan<br>year=%{x}<br>Happiness Score=%{y}<extra></extra>",
         "legendgroup": "Japan",
         "line": {
          "color": "#B6E880",
          "dash": "solid"
         },
         "marker": {
          "symbol": "circle"
         },
         "mode": "lines",
         "name": "Japan",
         "orientation": "v",
         "showlegend": true,
         "type": "scatter",
         "x": [
          2015,
          2016,
          2017,
          2018,
          2019,
          2020,
          2021,
          2022
         ],
         "xaxis": "x",
         "y": [
          5.987,
          5.921,
          5.92000007629395,
          5.915,
          5.886,
          5.870800018,
          5.94,
          6.039
         ],
         "yaxis": "y"
        },
        {
         "hovertemplate": "Country=Italy<br>year=%{x}<br>Happiness Score=%{y}<extra></extra>",
         "legendgroup": "Italy",
         "line": {
          "color": "#FF97FF",
          "dash": "solid"
         },
         "marker": {
          "symbol": "circle"
         },
         "mode": "lines",
         "name": "Italy",
         "orientation": "v",
         "showlegend": true,
         "type": "scatter",
         "x": [
          2015,
          2016,
          2017,
          2018,
          2019,
          2020,
          2021,
          2022
         ],
         "xaxis": "x",
         "y": [
          5.948,
          5.977,
          5.96400022506714,
          6,
          6.223,
          6.38740015,
          6.483,
          6.467
         ],
         "yaxis": "y"
        },
        {
         "hovertemplate": "Country=Russia<br>year=%{x}<br>Happiness Score=%{y}<extra></extra>",
         "legendgroup": "Russia",
         "line": {
          "color": "#FECB52",
          "dash": "solid"
         },
         "marker": {
          "symbol": "circle"
         },
         "mode": "lines",
         "name": "Russia",
         "orientation": "v",
         "showlegend": true,
         "type": "scatter",
         "x": [
          2015,
          2016,
          2017,
          2018,
          2019,
          2020,
          2021,
          2022
         ],
         "xaxis": "x",
         "y": [
          5.716,
          5.856,
          5.96299982070923,
          5.81,
          5.648,
          5.546000004,
          5.477,
          5.459
         ],
         "yaxis": "y"
        },
        {
         "hovertemplate": "Country=China<br>year=%{x}<br>Happiness Score=%{y}<extra></extra>",
         "legendgroup": "China",
         "line": {
          "color": "#636efa",
          "dash": "solid"
         },
         "marker": {
          "symbol": "circle"
         },
         "mode": "lines",
         "name": "China",
         "orientation": "v",
         "showlegend": true,
         "type": "scatter",
         "x": [
          2015,
          2016,
          2017,
          2018,
          2019,
          2020,
          2021,
          2022
         ],
         "xaxis": "x",
         "y": [
          5.14,
          5.245,
          5.27299976348877,
          5.246,
          5.191,
          5.123899937,
          5.339,
          5.585
         ],
         "yaxis": "y"
        },
        {
         "hovertemplate": "Country=India<br>year=%{x}<br>Happiness Score=%{y}<extra></extra>",
         "legendgroup": "India",
         "line": {
          "color": "#EF553B",
          "dash": "solid"
         },
         "marker": {
          "symbol": "circle"
         },
         "mode": "lines",
         "name": "India",
         "orientation": "v",
         "showlegend": true,
         "type": "scatter",
         "x": [
          2015,
          2016,
          2017,
          2018,
          2019,
          2020,
          2021,
          2022
         ],
         "xaxis": "x",
         "y": [
          4.565,
          4.404,
          4.31500005722046,
          4.19,
          4.015,
          3.573299885,
          3.819,
          3.777
         ],
         "yaxis": "y"
        }
       ],
       "layout": {
        "legend": {
         "title": {
          "text": "Country"
         },
         "tracegroupgap": 0
        },
        "template": {
         "data": {
          "bar": [
           {
            "error_x": {
             "color": "#f2f5fa"
            },
            "error_y": {
             "color": "#f2f5fa"
            },
            "marker": {
             "line": {
              "color": "rgb(17,17,17)",
              "width": 0.5
             },
             "pattern": {
              "fillmode": "overlay",
              "size": 10,
              "solidity": 0.2
             }
            },
            "type": "bar"
           }
          ],
          "barpolar": [
           {
            "marker": {
             "line": {
              "color": "rgb(17,17,17)",
              "width": 0.5
             },
             "pattern": {
              "fillmode": "overlay",
              "size": 10,
              "solidity": 0.2
             }
            },
            "type": "barpolar"
           }
          ],
          "carpet": [
           {
            "aaxis": {
             "endlinecolor": "#A2B1C6",
             "gridcolor": "#506784",
             "linecolor": "#506784",
             "minorgridcolor": "#506784",
             "startlinecolor": "#A2B1C6"
            },
            "baxis": {
             "endlinecolor": "#A2B1C6",
             "gridcolor": "#506784",
             "linecolor": "#506784",
             "minorgridcolor": "#506784",
             "startlinecolor": "#A2B1C6"
            },
            "type": "carpet"
           }
          ],
          "choropleth": [
           {
            "colorbar": {
             "outlinewidth": 0,
             "ticks": ""
            },
            "type": "choropleth"
           }
          ],
          "contour": [
           {
            "colorbar": {
             "outlinewidth": 0,
             "ticks": ""
            },
            "colorscale": [
             [
              0,
              "#0d0887"
             ],
             [
              0.1111111111111111,
              "#46039f"
             ],
             [
              0.2222222222222222,
              "#7201a8"
             ],
             [
              0.3333333333333333,
              "#9c179e"
             ],
             [
              0.4444444444444444,
              "#bd3786"
             ],
             [
              0.5555555555555556,
              "#d8576b"
             ],
             [
              0.6666666666666666,
              "#ed7953"
             ],
             [
              0.7777777777777778,
              "#fb9f3a"
             ],
             [
              0.8888888888888888,
              "#fdca26"
             ],
             [
              1,
              "#f0f921"
             ]
            ],
            "type": "contour"
           }
          ],
          "contourcarpet": [
           {
            "colorbar": {
             "outlinewidth": 0,
             "ticks": ""
            },
            "type": "contourcarpet"
           }
          ],
          "heatmap": [
           {
            "colorbar": {
             "outlinewidth": 0,
             "ticks": ""
            },
            "colorscale": [
             [
              0,
              "#0d0887"
             ],
             [
              0.1111111111111111,
              "#46039f"
             ],
             [
              0.2222222222222222,
              "#7201a8"
             ],
             [
              0.3333333333333333,
              "#9c179e"
             ],
             [
              0.4444444444444444,
              "#bd3786"
             ],
             [
              0.5555555555555556,
              "#d8576b"
             ],
             [
              0.6666666666666666,
              "#ed7953"
             ],
             [
              0.7777777777777778,
              "#fb9f3a"
             ],
             [
              0.8888888888888888,
              "#fdca26"
             ],
             [
              1,
              "#f0f921"
             ]
            ],
            "type": "heatmap"
           }
          ],
          "heatmapgl": [
           {
            "colorbar": {
             "outlinewidth": 0,
             "ticks": ""
            },
            "colorscale": [
             [
              0,
              "#0d0887"
             ],
             [
              0.1111111111111111,
              "#46039f"
             ],
             [
              0.2222222222222222,
              "#7201a8"
             ],
             [
              0.3333333333333333,
              "#9c179e"
             ],
             [
              0.4444444444444444,
              "#bd3786"
             ],
             [
              0.5555555555555556,
              "#d8576b"
             ],
             [
              0.6666666666666666,
              "#ed7953"
             ],
             [
              0.7777777777777778,
              "#fb9f3a"
             ],
             [
              0.8888888888888888,
              "#fdca26"
             ],
             [
              1,
              "#f0f921"
             ]
            ],
            "type": "heatmapgl"
           }
          ],
          "histogram": [
           {
            "marker": {
             "pattern": {
              "fillmode": "overlay",
              "size": 10,
              "solidity": 0.2
             }
            },
            "type": "histogram"
           }
          ],
          "histogram2d": [
           {
            "colorbar": {
             "outlinewidth": 0,
             "ticks": ""
            },
            "colorscale": [
             [
              0,
              "#0d0887"
             ],
             [
              0.1111111111111111,
              "#46039f"
             ],
             [
              0.2222222222222222,
              "#7201a8"
             ],
             [
              0.3333333333333333,
              "#9c179e"
             ],
             [
              0.4444444444444444,
              "#bd3786"
             ],
             [
              0.5555555555555556,
              "#d8576b"
             ],
             [
              0.6666666666666666,
              "#ed7953"
             ],
             [
              0.7777777777777778,
              "#fb9f3a"
             ],
             [
              0.8888888888888888,
              "#fdca26"
             ],
             [
              1,
              "#f0f921"
             ]
            ],
            "type": "histogram2d"
           }
          ],
          "histogram2dcontour": [
           {
            "colorbar": {
             "outlinewidth": 0,
             "ticks": ""
            },
            "colorscale": [
             [
              0,
              "#0d0887"
             ],
             [
              0.1111111111111111,
              "#46039f"
             ],
             [
              0.2222222222222222,
              "#7201a8"
             ],
             [
              0.3333333333333333,
              "#9c179e"
             ],
             [
              0.4444444444444444,
              "#bd3786"
             ],
             [
              0.5555555555555556,
              "#d8576b"
             ],
             [
              0.6666666666666666,
              "#ed7953"
             ],
             [
              0.7777777777777778,
              "#fb9f3a"
             ],
             [
              0.8888888888888888,
              "#fdca26"
             ],
             [
              1,
              "#f0f921"
             ]
            ],
            "type": "histogram2dcontour"
           }
          ],
          "mesh3d": [
           {
            "colorbar": {
             "outlinewidth": 0,
             "ticks": ""
            },
            "type": "mesh3d"
           }
          ],
          "parcoords": [
           {
            "line": {
             "colorbar": {
              "outlinewidth": 0,
              "ticks": ""
             }
            },
            "type": "parcoords"
           }
          ],
          "pie": [
           {
            "automargin": true,
            "type": "pie"
           }
          ],
          "scatter": [
           {
            "marker": {
             "line": {
              "color": "#283442"
             }
            },
            "type": "scatter"
           }
          ],
          "scatter3d": [
           {
            "line": {
             "colorbar": {
              "outlinewidth": 0,
              "ticks": ""
             }
            },
            "marker": {
             "colorbar": {
              "outlinewidth": 0,
              "ticks": ""
             }
            },
            "type": "scatter3d"
           }
          ],
          "scattercarpet": [
           {
            "marker": {
             "colorbar": {
              "outlinewidth": 0,
              "ticks": ""
             }
            },
            "type": "scattercarpet"
           }
          ],
          "scattergeo": [
           {
            "marker": {
             "colorbar": {
              "outlinewidth": 0,
              "ticks": ""
             }
            },
            "type": "scattergeo"
           }
          ],
          "scattergl": [
           {
            "marker": {
             "line": {
              "color": "#283442"
             }
            },
            "type": "scattergl"
           }
          ],
          "scattermapbox": [
           {
            "marker": {
             "colorbar": {
              "outlinewidth": 0,
              "ticks": ""
             }
            },
            "type": "scattermapbox"
           }
          ],
          "scatterpolar": [
           {
            "marker": {
             "colorbar": {
              "outlinewidth": 0,
              "ticks": ""
             }
            },
            "type": "scatterpolar"
           }
          ],
          "scatterpolargl": [
           {
            "marker": {
             "colorbar": {
              "outlinewidth": 0,
              "ticks": ""
             }
            },
            "type": "scatterpolargl"
           }
          ],
          "scatterternary": [
           {
            "marker": {
             "colorbar": {
              "outlinewidth": 0,
              "ticks": ""
             }
            },
            "type": "scatterternary"
           }
          ],
          "surface": [
           {
            "colorbar": {
             "outlinewidth": 0,
             "ticks": ""
            },
            "colorscale": [
             [
              0,
              "#0d0887"
             ],
             [
              0.1111111111111111,
              "#46039f"
             ],
             [
              0.2222222222222222,
              "#7201a8"
             ],
             [
              0.3333333333333333,
              "#9c179e"
             ],
             [
              0.4444444444444444,
              "#bd3786"
             ],
             [
              0.5555555555555556,
              "#d8576b"
             ],
             [
              0.6666666666666666,
              "#ed7953"
             ],
             [
              0.7777777777777778,
              "#fb9f3a"
             ],
             [
              0.8888888888888888,
              "#fdca26"
             ],
             [
              1,
              "#f0f921"
             ]
            ],
            "type": "surface"
           }
          ],
          "table": [
           {
            "cells": {
             "fill": {
              "color": "#506784"
             },
             "line": {
              "color": "rgb(17,17,17)"
             }
            },
            "header": {
             "fill": {
              "color": "#2a3f5f"
             },
             "line": {
              "color": "rgb(17,17,17)"
             }
            },
            "type": "table"
           }
          ]
         },
         "layout": {
          "annotationdefaults": {
           "arrowcolor": "#f2f5fa",
           "arrowhead": 0,
           "arrowwidth": 1
          },
          "autotypenumbers": "strict",
          "coloraxis": {
           "colorbar": {
            "outlinewidth": 0,
            "ticks": ""
           }
          },
          "colorscale": {
           "diverging": [
            [
             0,
             "#8e0152"
            ],
            [
             0.1,
             "#c51b7d"
            ],
            [
             0.2,
             "#de77ae"
            ],
            [
             0.3,
             "#f1b6da"
            ],
            [
             0.4,
             "#fde0ef"
            ],
            [
             0.5,
             "#f7f7f7"
            ],
            [
             0.6,
             "#e6f5d0"
            ],
            [
             0.7,
             "#b8e186"
            ],
            [
             0.8,
             "#7fbc41"
            ],
            [
             0.9,
             "#4d9221"
            ],
            [
             1,
             "#276419"
            ]
           ],
           "sequential": [
            [
             0,
             "#0d0887"
            ],
            [
             0.1111111111111111,
             "#46039f"
            ],
            [
             0.2222222222222222,
             "#7201a8"
            ],
            [
             0.3333333333333333,
             "#9c179e"
            ],
            [
             0.4444444444444444,
             "#bd3786"
            ],
            [
             0.5555555555555556,
             "#d8576b"
            ],
            [
             0.6666666666666666,
             "#ed7953"
            ],
            [
             0.7777777777777778,
             "#fb9f3a"
            ],
            [
             0.8888888888888888,
             "#fdca26"
            ],
            [
             1,
             "#f0f921"
            ]
           ],
           "sequentialminus": [
            [
             0,
             "#0d0887"
            ],
            [
             0.1111111111111111,
             "#46039f"
            ],
            [
             0.2222222222222222,
             "#7201a8"
            ],
            [
             0.3333333333333333,
             "#9c179e"
            ],
            [
             0.4444444444444444,
             "#bd3786"
            ],
            [
             0.5555555555555556,
             "#d8576b"
            ],
            [
             0.6666666666666666,
             "#ed7953"
            ],
            [
             0.7777777777777778,
             "#fb9f3a"
            ],
            [
             0.8888888888888888,
             "#fdca26"
            ],
            [
             1,
             "#f0f921"
            ]
           ]
          },
          "colorway": [
           "#636efa",
           "#EF553B",
           "#00cc96",
           "#ab63fa",
           "#FFA15A",
           "#19d3f3",
           "#FF6692",
           "#B6E880",
           "#FF97FF",
           "#FECB52"
          ],
          "font": {
           "color": "#f2f5fa"
          },
          "geo": {
           "bgcolor": "rgb(17,17,17)",
           "lakecolor": "rgb(17,17,17)",
           "landcolor": "rgb(17,17,17)",
           "showlakes": true,
           "showland": true,
           "subunitcolor": "#506784"
          },
          "hoverlabel": {
           "align": "left"
          },
          "hovermode": "closest",
          "mapbox": {
           "style": "dark"
          },
          "paper_bgcolor": "rgb(17,17,17)",
          "plot_bgcolor": "rgb(17,17,17)",
          "polar": {
           "angularaxis": {
            "gridcolor": "#506784",
            "linecolor": "#506784",
            "ticks": ""
           },
           "bgcolor": "rgb(17,17,17)",
           "radialaxis": {
            "gridcolor": "#506784",
            "linecolor": "#506784",
            "ticks": ""
           }
          },
          "scene": {
           "xaxis": {
            "backgroundcolor": "rgb(17,17,17)",
            "gridcolor": "#506784",
            "gridwidth": 2,
            "linecolor": "#506784",
            "showbackground": true,
            "ticks": "",
            "zerolinecolor": "#C8D4E3"
           },
           "yaxis": {
            "backgroundcolor": "rgb(17,17,17)",
            "gridcolor": "#506784",
            "gridwidth": 2,
            "linecolor": "#506784",
            "showbackground": true,
            "ticks": "",
            "zerolinecolor": "#C8D4E3"
           },
           "zaxis": {
            "backgroundcolor": "rgb(17,17,17)",
            "gridcolor": "#506784",
            "gridwidth": 2,
            "linecolor": "#506784",
            "showbackground": true,
            "ticks": "",
            "zerolinecolor": "#C8D4E3"
           }
          },
          "shapedefaults": {
           "line": {
            "color": "#f2f5fa"
           }
          },
          "sliderdefaults": {
           "bgcolor": "#C8D4E3",
           "bordercolor": "rgb(17,17,17)",
           "borderwidth": 1,
           "tickwidth": 0
          },
          "ternary": {
           "aaxis": {
            "gridcolor": "#506784",
            "linecolor": "#506784",
            "ticks": ""
           },
           "baxis": {
            "gridcolor": "#506784",
            "linecolor": "#506784",
            "ticks": ""
           },
           "bgcolor": "rgb(17,17,17)",
           "caxis": {
            "gridcolor": "#506784",
            "linecolor": "#506784",
            "ticks": ""
           }
          },
          "title": {
           "x": 0.05
          },
          "updatemenudefaults": {
           "bgcolor": "#506784",
           "borderwidth": 0
          },
          "xaxis": {
           "automargin": true,
           "gridcolor": "#283442",
           "linecolor": "#506784",
           "ticks": "",
           "title": {
            "standoff": 15
           },
           "zerolinecolor": "#283442",
           "zerolinewidth": 2
          },
          "yaxis": {
           "automargin": true,
           "gridcolor": "#283442",
           "linecolor": "#506784",
           "ticks": "",
           "title": {
            "standoff": 15
           },
           "zerolinecolor": "#283442",
           "zerolinewidth": 2
          }
         }
        },
        "title": {
         "text": "Year vs. Happiness Score"
        },
        "xaxis": {
         "anchor": "y",
         "domain": [
          0,
          1
         ],
         "title": {
          "text": "year"
         }
        },
        "yaxis": {
         "anchor": "x",
         "domain": [
          0,
          1
         ],
         "title": {
          "text": "Happiness Score"
         }
        }
       }
      },
      "text/html": [
       "<div>                            <div id=\"b7523059-76fa-4caf-8d78-8a051cf16212\" class=\"plotly-graph-div\" style=\"height:525px; width:100%;\"></div>            <script type=\"text/javascript\">                require([\"plotly\"], function(Plotly) {                    window.PLOTLYENV=window.PLOTLYENV || {};                                    if (document.getElementById(\"b7523059-76fa-4caf-8d78-8a051cf16212\")) {                    Plotly.newPlot(                        \"b7523059-76fa-4caf-8d78-8a051cf16212\",                        [{\"hovertemplate\":\"Country=Switzerland<br>year=%{x}<br>Happiness Score=%{y}<extra></extra>\",\"legendgroup\":\"Switzerland\",\"line\":{\"color\":\"#636efa\",\"dash\":\"solid\"},\"marker\":{\"symbol\":\"circle\"},\"mode\":\"lines\",\"name\":\"Switzerland\",\"orientation\":\"v\",\"showlegend\":true,\"x\":[2015,2016,2017,2018,2019,2020,2021,2022],\"xaxis\":\"x\",\"y\":[7.587,7.509,7.49399995803833,7.487,7.48,7.559899807,7.571,7.512],\"yaxis\":\"y\",\"type\":\"scatter\"},{\"hovertemplate\":\"Country=Canada<br>year=%{x}<br>Happiness Score=%{y}<extra></extra>\",\"legendgroup\":\"Canada\",\"line\":{\"color\":\"#EF553B\",\"dash\":\"solid\"},\"marker\":{\"symbol\":\"circle\"},\"mode\":\"lines\",\"name\":\"Canada\",\"orientation\":\"v\",\"showlegend\":true,\"x\":[2015,2016,2017,2018,2019,2020,2021,2022],\"xaxis\":\"x\",\"y\":[7.427,7.404,7.31599998474121,7.328,7.278,7.23210001,7.103,7.025],\"yaxis\":\"y\",\"type\":\"scatter\"},{\"hovertemplate\":\"Country=United States<br>year=%{x}<br>Happiness Score=%{y}<extra></extra>\",\"legendgroup\":\"United States\",\"line\":{\"color\":\"#00cc96\",\"dash\":\"solid\"},\"marker\":{\"symbol\":\"circle\"},\"mode\":\"lines\",\"name\":\"United States\",\"orientation\":\"v\",\"showlegend\":true,\"x\":[2015,2016,2017,2018,2019,2020,2021,2022],\"xaxis\":\"x\",\"y\":[7.119,7.104,6.99300003051758,6.886,6.892,6.939599991,6.951,6.977],\"yaxis\":\"y\",\"type\":\"scatter\"},{\"hovertemplate\":\"Country=United Arab Emirates<br>year=%{x}<br>Happiness Score=%{y}<extra></extra>\",\"legendgroup\":\"United Arab Emirates\",\"line\":{\"color\":\"#ab63fa\",\"dash\":\"solid\"},\"marker\":{\"symbol\":\"circle\"},\"mode\":\"lines\",\"name\":\"United Arab Emirates\",\"orientation\":\"v\",\"showlegend\":true,\"x\":[2015,2016,2017,2018,2019,2020,2021,2022],\"xaxis\":\"x\",\"y\":[6.901,6.573,6.64799976348877,6.774,6.825,6.790800095,6.561,6.576],\"yaxis\":\"y\",\"type\":\"scatter\"},{\"hovertemplate\":\"Country=United Kingdom<br>year=%{x}<br>Happiness Score=%{y}<extra></extra>\",\"legendgroup\":\"United Kingdom\",\"line\":{\"color\":\"#FFA15A\",\"dash\":\"solid\"},\"marker\":{\"symbol\":\"circle\"},\"mode\":\"lines\",\"name\":\"United Kingdom\",\"orientation\":\"v\",\"showlegend\":true,\"x\":[2015,2016,2017,2018,2019,2020,2021,2022],\"xaxis\":\"x\",\"y\":[6.867,6.725,6.71400022506714,7.19,7.054,7.164500237,7.064,6.943],\"yaxis\":\"y\",\"type\":\"scatter\"},{\"hovertemplate\":\"Country=Germany<br>year=%{x}<br>Happiness Score=%{y}<extra></extra>\",\"legendgroup\":\"Germany\",\"line\":{\"color\":\"#19d3f3\",\"dash\":\"solid\"},\"marker\":{\"symbol\":\"circle\"},\"mode\":\"lines\",\"name\":\"Germany\",\"orientation\":\"v\",\"showlegend\":true,\"x\":[2015,2016,2017,2018,2019,2020,2021,2022],\"xaxis\":\"x\",\"y\":[6.75,6.994,6.95100021362305,6.965,6.985,7.075799942,7.155,7.034],\"yaxis\":\"y\",\"type\":\"scatter\"},{\"hovertemplate\":\"Country=France<br>year=%{x}<br>Happiness Score=%{y}<extra></extra>\",\"legendgroup\":\"France\",\"line\":{\"color\":\"#FF6692\",\"dash\":\"solid\"},\"marker\":{\"symbol\":\"circle\"},\"mode\":\"lines\",\"name\":\"France\",\"orientation\":\"v\",\"showlegend\":true,\"x\":[2015,2016,2017,2018,2019,2020,2021,2022],\"xaxis\":\"x\",\"y\":[6.575,6.478,6.44199991226196,6.489,6.592,6.663799763,6.69,6.687],\"yaxis\":\"y\",\"type\":\"scatter\"},{\"hovertemplate\":\"Country=Japan<br>year=%{x}<br>Happiness Score=%{y}<extra></extra>\",\"legendgroup\":\"Japan\",\"line\":{\"color\":\"#B6E880\",\"dash\":\"solid\"},\"marker\":{\"symbol\":\"circle\"},\"mode\":\"lines\",\"name\":\"Japan\",\"orientation\":\"v\",\"showlegend\":true,\"x\":[2015,2016,2017,2018,2019,2020,2021,2022],\"xaxis\":\"x\",\"y\":[5.987,5.921,5.92000007629395,5.915,5.886,5.870800018,5.94,6.039],\"yaxis\":\"y\",\"type\":\"scatter\"},{\"hovertemplate\":\"Country=Italy<br>year=%{x}<br>Happiness Score=%{y}<extra></extra>\",\"legendgroup\":\"Italy\",\"line\":{\"color\":\"#FF97FF\",\"dash\":\"solid\"},\"marker\":{\"symbol\":\"circle\"},\"mode\":\"lines\",\"name\":\"Italy\",\"orientation\":\"v\",\"showlegend\":true,\"x\":[2015,2016,2017,2018,2019,2020,2021,2022],\"xaxis\":\"x\",\"y\":[5.948,5.977,5.96400022506714,6.0,6.223,6.38740015,6.483,6.467],\"yaxis\":\"y\",\"type\":\"scatter\"},{\"hovertemplate\":\"Country=Russia<br>year=%{x}<br>Happiness Score=%{y}<extra></extra>\",\"legendgroup\":\"Russia\",\"line\":{\"color\":\"#FECB52\",\"dash\":\"solid\"},\"marker\":{\"symbol\":\"circle\"},\"mode\":\"lines\",\"name\":\"Russia\",\"orientation\":\"v\",\"showlegend\":true,\"x\":[2015,2016,2017,2018,2019,2020,2021,2022],\"xaxis\":\"x\",\"y\":[5.716,5.856,5.96299982070923,5.81,5.648,5.546000004,5.477,5.459],\"yaxis\":\"y\",\"type\":\"scatter\"},{\"hovertemplate\":\"Country=China<br>year=%{x}<br>Happiness Score=%{y}<extra></extra>\",\"legendgroup\":\"China\",\"line\":{\"color\":\"#636efa\",\"dash\":\"solid\"},\"marker\":{\"symbol\":\"circle\"},\"mode\":\"lines\",\"name\":\"China\",\"orientation\":\"v\",\"showlegend\":true,\"x\":[2015,2016,2017,2018,2019,2020,2021,2022],\"xaxis\":\"x\",\"y\":[5.14,5.245,5.27299976348877,5.246,5.191,5.123899937,5.339,5.585],\"yaxis\":\"y\",\"type\":\"scatter\"},{\"hovertemplate\":\"Country=India<br>year=%{x}<br>Happiness Score=%{y}<extra></extra>\",\"legendgroup\":\"India\",\"line\":{\"color\":\"#EF553B\",\"dash\":\"solid\"},\"marker\":{\"symbol\":\"circle\"},\"mode\":\"lines\",\"name\":\"India\",\"orientation\":\"v\",\"showlegend\":true,\"x\":[2015,2016,2017,2018,2019,2020,2021,2022],\"xaxis\":\"x\",\"y\":[4.565,4.404,4.31500005722046,4.19,4.015,3.573299885,3.819,3.777],\"yaxis\":\"y\",\"type\":\"scatter\"}],                        {\"template\":{\"data\":{\"barpolar\":[{\"marker\":{\"line\":{\"color\":\"rgb(17,17,17)\",\"width\":0.5},\"pattern\":{\"fillmode\":\"overlay\",\"size\":10,\"solidity\":0.2}},\"type\":\"barpolar\"}],\"bar\":[{\"error_x\":{\"color\":\"#f2f5fa\"},\"error_y\":{\"color\":\"#f2f5fa\"},\"marker\":{\"line\":{\"color\":\"rgb(17,17,17)\",\"width\":0.5},\"pattern\":{\"fillmode\":\"overlay\",\"size\":10,\"solidity\":0.2}},\"type\":\"bar\"}],\"carpet\":[{\"aaxis\":{\"endlinecolor\":\"#A2B1C6\",\"gridcolor\":\"#506784\",\"linecolor\":\"#506784\",\"minorgridcolor\":\"#506784\",\"startlinecolor\":\"#A2B1C6\"},\"baxis\":{\"endlinecolor\":\"#A2B1C6\",\"gridcolor\":\"#506784\",\"linecolor\":\"#506784\",\"minorgridcolor\":\"#506784\",\"startlinecolor\":\"#A2B1C6\"},\"type\":\"carpet\"}],\"choropleth\":[{\"colorbar\":{\"outlinewidth\":0,\"ticks\":\"\"},\"type\":\"choropleth\"}],\"contourcarpet\":[{\"colorbar\":{\"outlinewidth\":0,\"ticks\":\"\"},\"type\":\"contourcarpet\"}],\"contour\":[{\"colorbar\":{\"outlinewidth\":0,\"ticks\":\"\"},\"colorscale\":[[0.0,\"#0d0887\"],[0.1111111111111111,\"#46039f\"],[0.2222222222222222,\"#7201a8\"],[0.3333333333333333,\"#9c179e\"],[0.4444444444444444,\"#bd3786\"],[0.5555555555555556,\"#d8576b\"],[0.6666666666666666,\"#ed7953\"],[0.7777777777777778,\"#fb9f3a\"],[0.8888888888888888,\"#fdca26\"],[1.0,\"#f0f921\"]],\"type\":\"contour\"}],\"heatmapgl\":[{\"colorbar\":{\"outlinewidth\":0,\"ticks\":\"\"},\"colorscale\":[[0.0,\"#0d0887\"],[0.1111111111111111,\"#46039f\"],[0.2222222222222222,\"#7201a8\"],[0.3333333333333333,\"#9c179e\"],[0.4444444444444444,\"#bd3786\"],[0.5555555555555556,\"#d8576b\"],[0.6666666666666666,\"#ed7953\"],[0.7777777777777778,\"#fb9f3a\"],[0.8888888888888888,\"#fdca26\"],[1.0,\"#f0f921\"]],\"type\":\"heatmapgl\"}],\"heatmap\":[{\"colorbar\":{\"outlinewidth\":0,\"ticks\":\"\"},\"colorscale\":[[0.0,\"#0d0887\"],[0.1111111111111111,\"#46039f\"],[0.2222222222222222,\"#7201a8\"],[0.3333333333333333,\"#9c179e\"],[0.4444444444444444,\"#bd3786\"],[0.5555555555555556,\"#d8576b\"],[0.6666666666666666,\"#ed7953\"],[0.7777777777777778,\"#fb9f3a\"],[0.8888888888888888,\"#fdca26\"],[1.0,\"#f0f921\"]],\"type\":\"heatmap\"}],\"histogram2dcontour\":[{\"colorbar\":{\"outlinewidth\":0,\"ticks\":\"\"},\"colorscale\":[[0.0,\"#0d0887\"],[0.1111111111111111,\"#46039f\"],[0.2222222222222222,\"#7201a8\"],[0.3333333333333333,\"#9c179e\"],[0.4444444444444444,\"#bd3786\"],[0.5555555555555556,\"#d8576b\"],[0.6666666666666666,\"#ed7953\"],[0.7777777777777778,\"#fb9f3a\"],[0.8888888888888888,\"#fdca26\"],[1.0,\"#f0f921\"]],\"type\":\"histogram2dcontour\"}],\"histogram2d\":[{\"colorbar\":{\"outlinewidth\":0,\"ticks\":\"\"},\"colorscale\":[[0.0,\"#0d0887\"],[0.1111111111111111,\"#46039f\"],[0.2222222222222222,\"#7201a8\"],[0.3333333333333333,\"#9c179e\"],[0.4444444444444444,\"#bd3786\"],[0.5555555555555556,\"#d8576b\"],[0.6666666666666666,\"#ed7953\"],[0.7777777777777778,\"#fb9f3a\"],[0.8888888888888888,\"#fdca26\"],[1.0,\"#f0f921\"]],\"type\":\"histogram2d\"}],\"histogram\":[{\"marker\":{\"pattern\":{\"fillmode\":\"overlay\",\"size\":10,\"solidity\":0.2}},\"type\":\"histogram\"}],\"mesh3d\":[{\"colorbar\":{\"outlinewidth\":0,\"ticks\":\"\"},\"type\":\"mesh3d\"}],\"parcoords\":[{\"line\":{\"colorbar\":{\"outlinewidth\":0,\"ticks\":\"\"}},\"type\":\"parcoords\"}],\"pie\":[{\"automargin\":true,\"type\":\"pie\"}],\"scatter3d\":[{\"line\":{\"colorbar\":{\"outlinewidth\":0,\"ticks\":\"\"}},\"marker\":{\"colorbar\":{\"outlinewidth\":0,\"ticks\":\"\"}},\"type\":\"scatter3d\"}],\"scattercarpet\":[{\"marker\":{\"colorbar\":{\"outlinewidth\":0,\"ticks\":\"\"}},\"type\":\"scattercarpet\"}],\"scattergeo\":[{\"marker\":{\"colorbar\":{\"outlinewidth\":0,\"ticks\":\"\"}},\"type\":\"scattergeo\"}],\"scattergl\":[{\"marker\":{\"line\":{\"color\":\"#283442\"}},\"type\":\"scattergl\"}],\"scattermapbox\":[{\"marker\":{\"colorbar\":{\"outlinewidth\":0,\"ticks\":\"\"}},\"type\":\"scattermapbox\"}],\"scatterpolargl\":[{\"marker\":{\"colorbar\":{\"outlinewidth\":0,\"ticks\":\"\"}},\"type\":\"scatterpolargl\"}],\"scatterpolar\":[{\"marker\":{\"colorbar\":{\"outlinewidth\":0,\"ticks\":\"\"}},\"type\":\"scatterpolar\"}],\"scatter\":[{\"marker\":{\"line\":{\"color\":\"#283442\"}},\"type\":\"scatter\"}],\"scatterternary\":[{\"marker\":{\"colorbar\":{\"outlinewidth\":0,\"ticks\":\"\"}},\"type\":\"scatterternary\"}],\"surface\":[{\"colorbar\":{\"outlinewidth\":0,\"ticks\":\"\"},\"colorscale\":[[0.0,\"#0d0887\"],[0.1111111111111111,\"#46039f\"],[0.2222222222222222,\"#7201a8\"],[0.3333333333333333,\"#9c179e\"],[0.4444444444444444,\"#bd3786\"],[0.5555555555555556,\"#d8576b\"],[0.6666666666666666,\"#ed7953\"],[0.7777777777777778,\"#fb9f3a\"],[0.8888888888888888,\"#fdca26\"],[1.0,\"#f0f921\"]],\"type\":\"surface\"}],\"table\":[{\"cells\":{\"fill\":{\"color\":\"#506784\"},\"line\":{\"color\":\"rgb(17,17,17)\"}},\"header\":{\"fill\":{\"color\":\"#2a3f5f\"},\"line\":{\"color\":\"rgb(17,17,17)\"}},\"type\":\"table\"}]},\"layout\":{\"annotationdefaults\":{\"arrowcolor\":\"#f2f5fa\",\"arrowhead\":0,\"arrowwidth\":1},\"autotypenumbers\":\"strict\",\"coloraxis\":{\"colorbar\":{\"outlinewidth\":0,\"ticks\":\"\"}},\"colorscale\":{\"diverging\":[[0,\"#8e0152\"],[0.1,\"#c51b7d\"],[0.2,\"#de77ae\"],[0.3,\"#f1b6da\"],[0.4,\"#fde0ef\"],[0.5,\"#f7f7f7\"],[0.6,\"#e6f5d0\"],[0.7,\"#b8e186\"],[0.8,\"#7fbc41\"],[0.9,\"#4d9221\"],[1,\"#276419\"]],\"sequential\":[[0.0,\"#0d0887\"],[0.1111111111111111,\"#46039f\"],[0.2222222222222222,\"#7201a8\"],[0.3333333333333333,\"#9c179e\"],[0.4444444444444444,\"#bd3786\"],[0.5555555555555556,\"#d8576b\"],[0.6666666666666666,\"#ed7953\"],[0.7777777777777778,\"#fb9f3a\"],[0.8888888888888888,\"#fdca26\"],[1.0,\"#f0f921\"]],\"sequentialminus\":[[0.0,\"#0d0887\"],[0.1111111111111111,\"#46039f\"],[0.2222222222222222,\"#7201a8\"],[0.3333333333333333,\"#9c179e\"],[0.4444444444444444,\"#bd3786\"],[0.5555555555555556,\"#d8576b\"],[0.6666666666666666,\"#ed7953\"],[0.7777777777777778,\"#fb9f3a\"],[0.8888888888888888,\"#fdca26\"],[1.0,\"#f0f921\"]]},\"colorway\":[\"#636efa\",\"#EF553B\",\"#00cc96\",\"#ab63fa\",\"#FFA15A\",\"#19d3f3\",\"#FF6692\",\"#B6E880\",\"#FF97FF\",\"#FECB52\"],\"font\":{\"color\":\"#f2f5fa\"},\"geo\":{\"bgcolor\":\"rgb(17,17,17)\",\"lakecolor\":\"rgb(17,17,17)\",\"landcolor\":\"rgb(17,17,17)\",\"showlakes\":true,\"showland\":true,\"subunitcolor\":\"#506784\"},\"hoverlabel\":{\"align\":\"left\"},\"hovermode\":\"closest\",\"mapbox\":{\"style\":\"dark\"},\"paper_bgcolor\":\"rgb(17,17,17)\",\"plot_bgcolor\":\"rgb(17,17,17)\",\"polar\":{\"angularaxis\":{\"gridcolor\":\"#506784\",\"linecolor\":\"#506784\",\"ticks\":\"\"},\"bgcolor\":\"rgb(17,17,17)\",\"radialaxis\":{\"gridcolor\":\"#506784\",\"linecolor\":\"#506784\",\"ticks\":\"\"}},\"scene\":{\"xaxis\":{\"backgroundcolor\":\"rgb(17,17,17)\",\"gridcolor\":\"#506784\",\"gridwidth\":2,\"linecolor\":\"#506784\",\"showbackground\":true,\"ticks\":\"\",\"zerolinecolor\":\"#C8D4E3\"},\"yaxis\":{\"backgroundcolor\":\"rgb(17,17,17)\",\"gridcolor\":\"#506784\",\"gridwidth\":2,\"linecolor\":\"#506784\",\"showbackground\":true,\"ticks\":\"\",\"zerolinecolor\":\"#C8D4E3\"},\"zaxis\":{\"backgroundcolor\":\"rgb(17,17,17)\",\"gridcolor\":\"#506784\",\"gridwidth\":2,\"linecolor\":\"#506784\",\"showbackground\":true,\"ticks\":\"\",\"zerolinecolor\":\"#C8D4E3\"}},\"shapedefaults\":{\"line\":{\"color\":\"#f2f5fa\"}},\"sliderdefaults\":{\"bgcolor\":\"#C8D4E3\",\"bordercolor\":\"rgb(17,17,17)\",\"borderwidth\":1,\"tickwidth\":0},\"ternary\":{\"aaxis\":{\"gridcolor\":\"#506784\",\"linecolor\":\"#506784\",\"ticks\":\"\"},\"baxis\":{\"gridcolor\":\"#506784\",\"linecolor\":\"#506784\",\"ticks\":\"\"},\"bgcolor\":\"rgb(17,17,17)\",\"caxis\":{\"gridcolor\":\"#506784\",\"linecolor\":\"#506784\",\"ticks\":\"\"}},\"title\":{\"x\":0.05},\"updatemenudefaults\":{\"bgcolor\":\"#506784\",\"borderwidth\":0},\"xaxis\":{\"automargin\":true,\"gridcolor\":\"#283442\",\"linecolor\":\"#506784\",\"ticks\":\"\",\"title\":{\"standoff\":15},\"zerolinecolor\":\"#283442\",\"zerolinewidth\":2},\"yaxis\":{\"automargin\":true,\"gridcolor\":\"#283442\",\"linecolor\":\"#506784\",\"ticks\":\"\",\"title\":{\"standoff\":15},\"zerolinecolor\":\"#283442\",\"zerolinewidth\":2}}},\"xaxis\":{\"anchor\":\"y\",\"domain\":[0.0,1.0],\"title\":{\"text\":\"year\"}},\"yaxis\":{\"anchor\":\"x\",\"domain\":[0.0,1.0],\"title\":{\"text\":\"Happiness Score\"}},\"legend\":{\"title\":{\"text\":\"Country\"},\"tracegroupgap\":0},\"title\":{\"text\":\"Year vs. Happiness Score\"}},                        {\"responsive\": true}                    ).then(function(){\n",
       "                            \n",
       "var gd = document.getElementById('b7523059-76fa-4caf-8d78-8a051cf16212');\n",
       "var x = new MutationObserver(function (mutations, observer) {{\n",
       "        var display = window.getComputedStyle(gd).display;\n",
       "        if (!display || display === 'none') {{\n",
       "            console.log([gd, 'removed!']);\n",
       "            Plotly.purge(gd);\n",
       "            observer.disconnect();\n",
       "        }}\n",
       "}});\n",
       "\n",
       "// Listen for the removal of the full notebook cells\n",
       "var notebookContainer = gd.closest('#notebook-container');\n",
       "if (notebookContainer) {{\n",
       "    x.observe(notebookContainer, {childList: true});\n",
       "}}\n",
       "\n",
       "// Listen for the clearing of the current output cell\n",
       "var outputEl = gd.closest('.output');\n",
       "if (outputEl) {{\n",
       "    x.observe(outputEl, {childList: true});\n",
       "}}\n",
       "\n",
       "                        })                };                });            </script>        </div>"
      ]
     },
     "metadata": {},
     "output_type": "display_data"
    }
   ],
   "source": [
    "countries=['India','United States','United Kingdom','Russia','China','Canada','Germany','France','Switzerland','United Arab Emirates','Japan','Italy'] \n",
    "df2=df[df['Country'].isin(countries)]\n",
    "fig=px.line(df2,x='year',y='Happiness Score',color='Country',template=\"plotly_dark\",title='Year vs. Happiness Score')\n",
    "fig.show()"
   ]
  },
  {
   "cell_type": "code",
   "execution_count": 145,
   "id": "47328ca6",
   "metadata": {},
   "outputs": [
    {
     "data": {
      "application/vnd.plotly.v1+json": {
       "config": {
        "plotlyServerURL": "https://plot.ly"
       },
       "data": [
        {
         "hovertemplate": "Country=Switzerland<br>year=%{x}<br>Family=%{y}<extra></extra>",
         "legendgroup": "Switzerland",
         "line": {
          "color": "#636efa",
          "dash": "solid"
         },
         "marker": {
          "symbol": "circle"
         },
         "mode": "lines",
         "name": "Switzerland",
         "orientation": "v",
         "showlegend": true,
         "type": "scatter",
         "x": [
          2015,
          2016,
          2017,
          2018,
          2019,
          2020,
          2021,
          2022
         ],
         "xaxis": "x",
         "y": [
          1.34951,
          1.14524,
          1.51691174507141,
          1.549,
          1.526,
          0.942846596,
          0.942,
          1.226
         ],
         "yaxis": "y"
        },
        {
         "hovertemplate": "Country=Canada<br>year=%{x}<br>Family=%{y}<extra></extra>",
         "legendgroup": "Canada",
         "line": {
          "color": "#EF553B",
          "dash": "solid"
         },
         "marker": {
          "symbol": "circle"
         },
         "mode": "lines",
         "name": "Canada",
         "orientation": "v",
         "showlegend": true,
         "type": "scatter",
         "x": [
          2015,
          2016,
          2017,
          2018,
          2019,
          2020,
          2021,
          2022
         ],
         "xaxis": "x",
         "y": [
          1.32261,
          1.0961,
          1.48134899139404,
          1.532,
          1.505,
          0.927176654,
          0.926,
          1.188
         ],
         "yaxis": "y"
        },
        {
         "hovertemplate": "Country=United States<br>year=%{x}<br>Family=%{y}<extra></extra>",
         "legendgroup": "United States",
         "line": {
          "color": "#00cc96",
          "dash": "solid"
         },
         "marker": {
          "symbol": "circle"
         },
         "mode": "lines",
         "name": "United States",
         "orientation": "v",
         "showlegend": true,
         "type": "scatter",
         "x": [
          2015,
          2016,
          2017,
          2018,
          2019,
          2020,
          2021,
          2022
         ],
         "xaxis": "x",
         "y": [
          1.24711,
          1.04782,
          1.41992056369781,
          1.471,
          1.457,
          0.914219022,
          0.92,
          1.182
         ],
         "yaxis": "y"
        },
        {
         "hovertemplate": "Country=United Arab Emirates<br>year=%{x}<br>Family=%{y}<extra></extra>",
         "legendgroup": "United Arab Emirates",
         "line": {
          "color": "#ab63fa",
          "dash": "solid"
         },
         "marker": {
          "symbol": "circle"
         },
         "mode": "lines",
         "name": "United Arab Emirates",
         "orientation": "v",
         "showlegend": true,
         "type": "scatter",
         "x": [
          2015,
          2016,
          2017,
          2018,
          2019,
          2020,
          2021,
          2022
         ],
         "xaxis": "x",
         "y": [
          1.12575,
          0.87114,
          1.26641023159027,
          0.776,
          1.31,
          0.849181116,
          0.844,
          0.98
         ],
         "yaxis": "y"
        },
        {
         "hovertemplate": "Country=United Kingdom<br>year=%{x}<br>Family=%{y}<extra></extra>",
         "legendgroup": "United Kingdom",
         "line": {
          "color": "#FFA15A",
          "dash": "solid"
         },
         "marker": {
          "symbol": "circle"
         },
         "mode": "lines",
         "name": "United Kingdom",
         "orientation": "v",
         "showlegend": true,
         "type": "scatter",
         "x": [
          2015,
          2016,
          2017,
          2018,
          2019,
          2020,
          2021,
          2022
         ],
         "xaxis": "x",
         "y": [
          1.28548,
          1.08672,
          1.49646008014679,
          1.433,
          1.538,
          0.93668282,
          0.934,
          1.143
         ],
         "yaxis": "y"
        },
        {
         "hovertemplate": "Country=Germany<br>year=%{x}<br>Family=%{y}<extra></extra>",
         "legendgroup": "Germany",
         "line": {
          "color": "#19d3f3",
          "dash": "solid"
         },
         "marker": {
          "symbol": "circle"
         },
         "mode": "lines",
         "name": "Germany",
         "orientation": "v",
         "showlegend": true,
         "type": "scatter",
         "x": [
          2015,
          2016,
          2017,
          2018,
          2019,
          2020,
          2021,
          2022
         ],
         "xaxis": "x",
         "y": [
          1.29937,
          1.09774,
          1.47252035140991,
          1.474,
          1.454,
          0.898874462,
          0.903,
          1.088
         ],
         "yaxis": "y"
        },
        {
         "hovertemplate": "Country=France<br>year=%{x}<br>Family=%{y}<extra></extra>",
         "legendgroup": "France",
         "line": {
          "color": "#FF6692",
          "dash": "solid"
         },
         "marker": {
          "symbol": "circle"
         },
         "mode": "lines",
         "name": "France",
         "orientation": "v",
         "showlegend": true,
         "type": "scatter",
         "x": [
          2015,
          2016,
          2017,
          2018,
          2019,
          2020,
          2021,
          2022
         ],
         "xaxis": "x",
         "y": [
          1.26038,
          1.00508,
          1.38777685165405,
          1.466,
          1.472,
          0.937103748,
          0.942,
          1.219
         ],
         "yaxis": "y"
        },
        {
         "hovertemplate": "Country=Japan<br>year=%{x}<br>Family=%{y}<extra></extra>",
         "legendgroup": "Japan",
         "line": {
          "color": "#B6E880",
          "dash": "solid"
         },
         "marker": {
          "symbol": "circle"
         },
         "mode": "lines",
         "name": "Japan",
         "orientation": "v",
         "showlegend": true,
         "type": "scatter",
         "x": [
          2015,
          2016,
          2017,
          2018,
          2019,
          2020,
          2021,
          2022
         ],
         "xaxis": "x",
         "y": [
          1.25712,
          1.06054,
          1.43633782863617,
          1.462,
          1.419,
          0.883545935,
          0.884,
          1.089
         ],
         "yaxis": "y"
        },
        {
         "hovertemplate": "Country=Italy<br>year=%{x}<br>Family=%{y}<extra></extra>",
         "legendgroup": "Italy",
         "line": {
          "color": "#FF97FF",
          "dash": "solid"
         },
         "marker": {
          "symbol": "circle"
         },
         "mode": "lines",
         "name": "Italy",
         "orientation": "v",
         "showlegend": true,
         "type": "scatter",
         "x": [
          2015,
          2016,
          2017,
          2018,
          2019,
          2020,
          2021,
          2022
         ],
         "xaxis": "x",
         "y": [
          1.19777,
          1.04167,
          1.44492328166962,
          1.501,
          1.488,
          0.889878571,
          0.88,
          1.052
         ],
         "yaxis": "y"
        },
        {
         "hovertemplate": "Country=Russia<br>year=%{x}<br>Family=%{y}<extra></extra>",
         "legendgroup": "Russia",
         "line": {
          "color": "#FECB52",
          "dash": "solid"
         },
         "marker": {
          "symbol": "circle"
         },
         "mode": "lines",
         "name": "Russia",
         "orientation": "v",
         "showlegend": true,
         "type": "scatter",
         "x": [
          2015,
          2016,
          2017,
          2018,
          2019,
          2020,
          2021,
          2022
         ],
         "xaxis": "x",
         "y": [
          1.23617,
          1.05261,
          1.46928238868713,
          1.479,
          1.452,
          0.903150737,
          0.903,
          1.095
         ],
         "yaxis": "y"
        },
        {
         "hovertemplate": "Country=China<br>year=%{x}<br>Family=%{y}<extra></extra>",
         "legendgroup": "China",
         "line": {
          "color": "#636efa",
          "dash": "solid"
         },
         "marker": {
          "symbol": "circle"
         },
         "mode": "lines",
         "name": "China",
         "orientation": "v",
         "showlegend": true,
         "type": "scatter",
         "x": [
          2015,
          2016,
          2017,
          2018,
          2019,
          2020,
          2021,
          2022
         ],
         "xaxis": "x",
         "y": [
          0.94675,
          0.79381,
          1.16083741188049,
          1.142,
          1.125,
          0.798760593,
          0.811,
          0.958
         ],
         "yaxis": "y"
        },
        {
         "hovertemplate": "Country=India<br>year=%{x}<br>Family=%{y}<extra></extra>",
         "legendgroup": "India",
         "line": {
          "color": "#EF553B",
          "dash": "solid"
         },
         "marker": {
          "symbol": "circle"
         },
         "mode": "lines",
         "name": "India",
         "orientation": "v",
         "showlegend": true,
         "type": "scatter",
         "x": [
          2015,
          2016,
          2017,
          2018,
          2019,
          2020,
          2021,
          2022
         ],
         "xaxis": "x",
         "y": [
          0.38174,
          0.29247,
          0.754372596740723,
          0.747,
          0.765,
          0.592200935,
          0.603,
          0.376
         ],
         "yaxis": "y"
        }
       ],
       "layout": {
        "legend": {
         "title": {
          "text": "Country"
         },
         "tracegroupgap": 0
        },
        "template": {
         "data": {
          "bar": [
           {
            "error_x": {
             "color": "#f2f5fa"
            },
            "error_y": {
             "color": "#f2f5fa"
            },
            "marker": {
             "line": {
              "color": "rgb(17,17,17)",
              "width": 0.5
             },
             "pattern": {
              "fillmode": "overlay",
              "size": 10,
              "solidity": 0.2
             }
            },
            "type": "bar"
           }
          ],
          "barpolar": [
           {
            "marker": {
             "line": {
              "color": "rgb(17,17,17)",
              "width": 0.5
             },
             "pattern": {
              "fillmode": "overlay",
              "size": 10,
              "solidity": 0.2
             }
            },
            "type": "barpolar"
           }
          ],
          "carpet": [
           {
            "aaxis": {
             "endlinecolor": "#A2B1C6",
             "gridcolor": "#506784",
             "linecolor": "#506784",
             "minorgridcolor": "#506784",
             "startlinecolor": "#A2B1C6"
            },
            "baxis": {
             "endlinecolor": "#A2B1C6",
             "gridcolor": "#506784",
             "linecolor": "#506784",
             "minorgridcolor": "#506784",
             "startlinecolor": "#A2B1C6"
            },
            "type": "carpet"
           }
          ],
          "choropleth": [
           {
            "colorbar": {
             "outlinewidth": 0,
             "ticks": ""
            },
            "type": "choropleth"
           }
          ],
          "contour": [
           {
            "colorbar": {
             "outlinewidth": 0,
             "ticks": ""
            },
            "colorscale": [
             [
              0,
              "#0d0887"
             ],
             [
              0.1111111111111111,
              "#46039f"
             ],
             [
              0.2222222222222222,
              "#7201a8"
             ],
             [
              0.3333333333333333,
              "#9c179e"
             ],
             [
              0.4444444444444444,
              "#bd3786"
             ],
             [
              0.5555555555555556,
              "#d8576b"
             ],
             [
              0.6666666666666666,
              "#ed7953"
             ],
             [
              0.7777777777777778,
              "#fb9f3a"
             ],
             [
              0.8888888888888888,
              "#fdca26"
             ],
             [
              1,
              "#f0f921"
             ]
            ],
            "type": "contour"
           }
          ],
          "contourcarpet": [
           {
            "colorbar": {
             "outlinewidth": 0,
             "ticks": ""
            },
            "type": "contourcarpet"
           }
          ],
          "heatmap": [
           {
            "colorbar": {
             "outlinewidth": 0,
             "ticks": ""
            },
            "colorscale": [
             [
              0,
              "#0d0887"
             ],
             [
              0.1111111111111111,
              "#46039f"
             ],
             [
              0.2222222222222222,
              "#7201a8"
             ],
             [
              0.3333333333333333,
              "#9c179e"
             ],
             [
              0.4444444444444444,
              "#bd3786"
             ],
             [
              0.5555555555555556,
              "#d8576b"
             ],
             [
              0.6666666666666666,
              "#ed7953"
             ],
             [
              0.7777777777777778,
              "#fb9f3a"
             ],
             [
              0.8888888888888888,
              "#fdca26"
             ],
             [
              1,
              "#f0f921"
             ]
            ],
            "type": "heatmap"
           }
          ],
          "heatmapgl": [
           {
            "colorbar": {
             "outlinewidth": 0,
             "ticks": ""
            },
            "colorscale": [
             [
              0,
              "#0d0887"
             ],
             [
              0.1111111111111111,
              "#46039f"
             ],
             [
              0.2222222222222222,
              "#7201a8"
             ],
             [
              0.3333333333333333,
              "#9c179e"
             ],
             [
              0.4444444444444444,
              "#bd3786"
             ],
             [
              0.5555555555555556,
              "#d8576b"
             ],
             [
              0.6666666666666666,
              "#ed7953"
             ],
             [
              0.7777777777777778,
              "#fb9f3a"
             ],
             [
              0.8888888888888888,
              "#fdca26"
             ],
             [
              1,
              "#f0f921"
             ]
            ],
            "type": "heatmapgl"
           }
          ],
          "histogram": [
           {
            "marker": {
             "pattern": {
              "fillmode": "overlay",
              "size": 10,
              "solidity": 0.2
             }
            },
            "type": "histogram"
           }
          ],
          "histogram2d": [
           {
            "colorbar": {
             "outlinewidth": 0,
             "ticks": ""
            },
            "colorscale": [
             [
              0,
              "#0d0887"
             ],
             [
              0.1111111111111111,
              "#46039f"
             ],
             [
              0.2222222222222222,
              "#7201a8"
             ],
             [
              0.3333333333333333,
              "#9c179e"
             ],
             [
              0.4444444444444444,
              "#bd3786"
             ],
             [
              0.5555555555555556,
              "#d8576b"
             ],
             [
              0.6666666666666666,
              "#ed7953"
             ],
             [
              0.7777777777777778,
              "#fb9f3a"
             ],
             [
              0.8888888888888888,
              "#fdca26"
             ],
             [
              1,
              "#f0f921"
             ]
            ],
            "type": "histogram2d"
           }
          ],
          "histogram2dcontour": [
           {
            "colorbar": {
             "outlinewidth": 0,
             "ticks": ""
            },
            "colorscale": [
             [
              0,
              "#0d0887"
             ],
             [
              0.1111111111111111,
              "#46039f"
             ],
             [
              0.2222222222222222,
              "#7201a8"
             ],
             [
              0.3333333333333333,
              "#9c179e"
             ],
             [
              0.4444444444444444,
              "#bd3786"
             ],
             [
              0.5555555555555556,
              "#d8576b"
             ],
             [
              0.6666666666666666,
              "#ed7953"
             ],
             [
              0.7777777777777778,
              "#fb9f3a"
             ],
             [
              0.8888888888888888,
              "#fdca26"
             ],
             [
              1,
              "#f0f921"
             ]
            ],
            "type": "histogram2dcontour"
           }
          ],
          "mesh3d": [
           {
            "colorbar": {
             "outlinewidth": 0,
             "ticks": ""
            },
            "type": "mesh3d"
           }
          ],
          "parcoords": [
           {
            "line": {
             "colorbar": {
              "outlinewidth": 0,
              "ticks": ""
             }
            },
            "type": "parcoords"
           }
          ],
          "pie": [
           {
            "automargin": true,
            "type": "pie"
           }
          ],
          "scatter": [
           {
            "marker": {
             "line": {
              "color": "#283442"
             }
            },
            "type": "scatter"
           }
          ],
          "scatter3d": [
           {
            "line": {
             "colorbar": {
              "outlinewidth": 0,
              "ticks": ""
             }
            },
            "marker": {
             "colorbar": {
              "outlinewidth": 0,
              "ticks": ""
             }
            },
            "type": "scatter3d"
           }
          ],
          "scattercarpet": [
           {
            "marker": {
             "colorbar": {
              "outlinewidth": 0,
              "ticks": ""
             }
            },
            "type": "scattercarpet"
           }
          ],
          "scattergeo": [
           {
            "marker": {
             "colorbar": {
              "outlinewidth": 0,
              "ticks": ""
             }
            },
            "type": "scattergeo"
           }
          ],
          "scattergl": [
           {
            "marker": {
             "line": {
              "color": "#283442"
             }
            },
            "type": "scattergl"
           }
          ],
          "scattermapbox": [
           {
            "marker": {
             "colorbar": {
              "outlinewidth": 0,
              "ticks": ""
             }
            },
            "type": "scattermapbox"
           }
          ],
          "scatterpolar": [
           {
            "marker": {
             "colorbar": {
              "outlinewidth": 0,
              "ticks": ""
             }
            },
            "type": "scatterpolar"
           }
          ],
          "scatterpolargl": [
           {
            "marker": {
             "colorbar": {
              "outlinewidth": 0,
              "ticks": ""
             }
            },
            "type": "scatterpolargl"
           }
          ],
          "scatterternary": [
           {
            "marker": {
             "colorbar": {
              "outlinewidth": 0,
              "ticks": ""
             }
            },
            "type": "scatterternary"
           }
          ],
          "surface": [
           {
            "colorbar": {
             "outlinewidth": 0,
             "ticks": ""
            },
            "colorscale": [
             [
              0,
              "#0d0887"
             ],
             [
              0.1111111111111111,
              "#46039f"
             ],
             [
              0.2222222222222222,
              "#7201a8"
             ],
             [
              0.3333333333333333,
              "#9c179e"
             ],
             [
              0.4444444444444444,
              "#bd3786"
             ],
             [
              0.5555555555555556,
              "#d8576b"
             ],
             [
              0.6666666666666666,
              "#ed7953"
             ],
             [
              0.7777777777777778,
              "#fb9f3a"
             ],
             [
              0.8888888888888888,
              "#fdca26"
             ],
             [
              1,
              "#f0f921"
             ]
            ],
            "type": "surface"
           }
          ],
          "table": [
           {
            "cells": {
             "fill": {
              "color": "#506784"
             },
             "line": {
              "color": "rgb(17,17,17)"
             }
            },
            "header": {
             "fill": {
              "color": "#2a3f5f"
             },
             "line": {
              "color": "rgb(17,17,17)"
             }
            },
            "type": "table"
           }
          ]
         },
         "layout": {
          "annotationdefaults": {
           "arrowcolor": "#f2f5fa",
           "arrowhead": 0,
           "arrowwidth": 1
          },
          "autotypenumbers": "strict",
          "coloraxis": {
           "colorbar": {
            "outlinewidth": 0,
            "ticks": ""
           }
          },
          "colorscale": {
           "diverging": [
            [
             0,
             "#8e0152"
            ],
            [
             0.1,
             "#c51b7d"
            ],
            [
             0.2,
             "#de77ae"
            ],
            [
             0.3,
             "#f1b6da"
            ],
            [
             0.4,
             "#fde0ef"
            ],
            [
             0.5,
             "#f7f7f7"
            ],
            [
             0.6,
             "#e6f5d0"
            ],
            [
             0.7,
             "#b8e186"
            ],
            [
             0.8,
             "#7fbc41"
            ],
            [
             0.9,
             "#4d9221"
            ],
            [
             1,
             "#276419"
            ]
           ],
           "sequential": [
            [
             0,
             "#0d0887"
            ],
            [
             0.1111111111111111,
             "#46039f"
            ],
            [
             0.2222222222222222,
             "#7201a8"
            ],
            [
             0.3333333333333333,
             "#9c179e"
            ],
            [
             0.4444444444444444,
             "#bd3786"
            ],
            [
             0.5555555555555556,
             "#d8576b"
            ],
            [
             0.6666666666666666,
             "#ed7953"
            ],
            [
             0.7777777777777778,
             "#fb9f3a"
            ],
            [
             0.8888888888888888,
             "#fdca26"
            ],
            [
             1,
             "#f0f921"
            ]
           ],
           "sequentialminus": [
            [
             0,
             "#0d0887"
            ],
            [
             0.1111111111111111,
             "#46039f"
            ],
            [
             0.2222222222222222,
             "#7201a8"
            ],
            [
             0.3333333333333333,
             "#9c179e"
            ],
            [
             0.4444444444444444,
             "#bd3786"
            ],
            [
             0.5555555555555556,
             "#d8576b"
            ],
            [
             0.6666666666666666,
             "#ed7953"
            ],
            [
             0.7777777777777778,
             "#fb9f3a"
            ],
            [
             0.8888888888888888,
             "#fdca26"
            ],
            [
             1,
             "#f0f921"
            ]
           ]
          },
          "colorway": [
           "#636efa",
           "#EF553B",
           "#00cc96",
           "#ab63fa",
           "#FFA15A",
           "#19d3f3",
           "#FF6692",
           "#B6E880",
           "#FF97FF",
           "#FECB52"
          ],
          "font": {
           "color": "#f2f5fa"
          },
          "geo": {
           "bgcolor": "rgb(17,17,17)",
           "lakecolor": "rgb(17,17,17)",
           "landcolor": "rgb(17,17,17)",
           "showlakes": true,
           "showland": true,
           "subunitcolor": "#506784"
          },
          "hoverlabel": {
           "align": "left"
          },
          "hovermode": "closest",
          "mapbox": {
           "style": "dark"
          },
          "paper_bgcolor": "rgb(17,17,17)",
          "plot_bgcolor": "rgb(17,17,17)",
          "polar": {
           "angularaxis": {
            "gridcolor": "#506784",
            "linecolor": "#506784",
            "ticks": ""
           },
           "bgcolor": "rgb(17,17,17)",
           "radialaxis": {
            "gridcolor": "#506784",
            "linecolor": "#506784",
            "ticks": ""
           }
          },
          "scene": {
           "xaxis": {
            "backgroundcolor": "rgb(17,17,17)",
            "gridcolor": "#506784",
            "gridwidth": 2,
            "linecolor": "#506784",
            "showbackground": true,
            "ticks": "",
            "zerolinecolor": "#C8D4E3"
           },
           "yaxis": {
            "backgroundcolor": "rgb(17,17,17)",
            "gridcolor": "#506784",
            "gridwidth": 2,
            "linecolor": "#506784",
            "showbackground": true,
            "ticks": "",
            "zerolinecolor": "#C8D4E3"
           },
           "zaxis": {
            "backgroundcolor": "rgb(17,17,17)",
            "gridcolor": "#506784",
            "gridwidth": 2,
            "linecolor": "#506784",
            "showbackground": true,
            "ticks": "",
            "zerolinecolor": "#C8D4E3"
           }
          },
          "shapedefaults": {
           "line": {
            "color": "#f2f5fa"
           }
          },
          "sliderdefaults": {
           "bgcolor": "#C8D4E3",
           "bordercolor": "rgb(17,17,17)",
           "borderwidth": 1,
           "tickwidth": 0
          },
          "ternary": {
           "aaxis": {
            "gridcolor": "#506784",
            "linecolor": "#506784",
            "ticks": ""
           },
           "baxis": {
            "gridcolor": "#506784",
            "linecolor": "#506784",
            "ticks": ""
           },
           "bgcolor": "rgb(17,17,17)",
           "caxis": {
            "gridcolor": "#506784",
            "linecolor": "#506784",
            "ticks": ""
           }
          },
          "title": {
           "x": 0.05
          },
          "updatemenudefaults": {
           "bgcolor": "#506784",
           "borderwidth": 0
          },
          "xaxis": {
           "automargin": true,
           "gridcolor": "#283442",
           "linecolor": "#506784",
           "ticks": "",
           "title": {
            "standoff": 15
           },
           "zerolinecolor": "#283442",
           "zerolinewidth": 2
          },
          "yaxis": {
           "automargin": true,
           "gridcolor": "#283442",
           "linecolor": "#506784",
           "ticks": "",
           "title": {
            "standoff": 15
           },
           "zerolinecolor": "#283442",
           "zerolinewidth": 2
          }
         }
        },
        "title": {
         "text": "Year vs. Family"
        },
        "xaxis": {
         "anchor": "y",
         "domain": [
          0,
          1
         ],
         "title": {
          "text": "year"
         }
        },
        "yaxis": {
         "anchor": "x",
         "domain": [
          0,
          1
         ],
         "title": {
          "text": "Family"
         }
        }
       }
      },
      "text/html": [
       "<div>                            <div id=\"96f0b38b-6960-4936-be86-f22734aeab0a\" class=\"plotly-graph-div\" style=\"height:525px; width:100%;\"></div>            <script type=\"text/javascript\">                require([\"plotly\"], function(Plotly) {                    window.PLOTLYENV=window.PLOTLYENV || {};                                    if (document.getElementById(\"96f0b38b-6960-4936-be86-f22734aeab0a\")) {                    Plotly.newPlot(                        \"96f0b38b-6960-4936-be86-f22734aeab0a\",                        [{\"hovertemplate\":\"Country=Switzerland<br>year=%{x}<br>Family=%{y}<extra></extra>\",\"legendgroup\":\"Switzerland\",\"line\":{\"color\":\"#636efa\",\"dash\":\"solid\"},\"marker\":{\"symbol\":\"circle\"},\"mode\":\"lines\",\"name\":\"Switzerland\",\"orientation\":\"v\",\"showlegend\":true,\"x\":[2015,2016,2017,2018,2019,2020,2021,2022],\"xaxis\":\"x\",\"y\":[1.34951,1.14524,1.51691174507141,1.549,1.526,0.942846596,0.942,1.226],\"yaxis\":\"y\",\"type\":\"scatter\"},{\"hovertemplate\":\"Country=Canada<br>year=%{x}<br>Family=%{y}<extra></extra>\",\"legendgroup\":\"Canada\",\"line\":{\"color\":\"#EF553B\",\"dash\":\"solid\"},\"marker\":{\"symbol\":\"circle\"},\"mode\":\"lines\",\"name\":\"Canada\",\"orientation\":\"v\",\"showlegend\":true,\"x\":[2015,2016,2017,2018,2019,2020,2021,2022],\"xaxis\":\"x\",\"y\":[1.32261,1.0961,1.48134899139404,1.532,1.505,0.927176654,0.926,1.188],\"yaxis\":\"y\",\"type\":\"scatter\"},{\"hovertemplate\":\"Country=United States<br>year=%{x}<br>Family=%{y}<extra></extra>\",\"legendgroup\":\"United States\",\"line\":{\"color\":\"#00cc96\",\"dash\":\"solid\"},\"marker\":{\"symbol\":\"circle\"},\"mode\":\"lines\",\"name\":\"United States\",\"orientation\":\"v\",\"showlegend\":true,\"x\":[2015,2016,2017,2018,2019,2020,2021,2022],\"xaxis\":\"x\",\"y\":[1.24711,1.04782,1.41992056369781,1.471,1.457,0.914219022,0.92,1.182],\"yaxis\":\"y\",\"type\":\"scatter\"},{\"hovertemplate\":\"Country=United Arab Emirates<br>year=%{x}<br>Family=%{y}<extra></extra>\",\"legendgroup\":\"United Arab Emirates\",\"line\":{\"color\":\"#ab63fa\",\"dash\":\"solid\"},\"marker\":{\"symbol\":\"circle\"},\"mode\":\"lines\",\"name\":\"United Arab Emirates\",\"orientation\":\"v\",\"showlegend\":true,\"x\":[2015,2016,2017,2018,2019,2020,2021,2022],\"xaxis\":\"x\",\"y\":[1.12575,0.87114,1.26641023159027,0.776,1.31,0.849181116,0.844,0.98],\"yaxis\":\"y\",\"type\":\"scatter\"},{\"hovertemplate\":\"Country=United Kingdom<br>year=%{x}<br>Family=%{y}<extra></extra>\",\"legendgroup\":\"United Kingdom\",\"line\":{\"color\":\"#FFA15A\",\"dash\":\"solid\"},\"marker\":{\"symbol\":\"circle\"},\"mode\":\"lines\",\"name\":\"United Kingdom\",\"orientation\":\"v\",\"showlegend\":true,\"x\":[2015,2016,2017,2018,2019,2020,2021,2022],\"xaxis\":\"x\",\"y\":[1.28548,1.08672,1.49646008014679,1.433,1.538,0.93668282,0.934,1.143],\"yaxis\":\"y\",\"type\":\"scatter\"},{\"hovertemplate\":\"Country=Germany<br>year=%{x}<br>Family=%{y}<extra></extra>\",\"legendgroup\":\"Germany\",\"line\":{\"color\":\"#19d3f3\",\"dash\":\"solid\"},\"marker\":{\"symbol\":\"circle\"},\"mode\":\"lines\",\"name\":\"Germany\",\"orientation\":\"v\",\"showlegend\":true,\"x\":[2015,2016,2017,2018,2019,2020,2021,2022],\"xaxis\":\"x\",\"y\":[1.29937,1.09774,1.47252035140991,1.474,1.454,0.898874462,0.903,1.088],\"yaxis\":\"y\",\"type\":\"scatter\"},{\"hovertemplate\":\"Country=France<br>year=%{x}<br>Family=%{y}<extra></extra>\",\"legendgroup\":\"France\",\"line\":{\"color\":\"#FF6692\",\"dash\":\"solid\"},\"marker\":{\"symbol\":\"circle\"},\"mode\":\"lines\",\"name\":\"France\",\"orientation\":\"v\",\"showlegend\":true,\"x\":[2015,2016,2017,2018,2019,2020,2021,2022],\"xaxis\":\"x\",\"y\":[1.26038,1.00508,1.38777685165405,1.466,1.472,0.937103748,0.942,1.219],\"yaxis\":\"y\",\"type\":\"scatter\"},{\"hovertemplate\":\"Country=Japan<br>year=%{x}<br>Family=%{y}<extra></extra>\",\"legendgroup\":\"Japan\",\"line\":{\"color\":\"#B6E880\",\"dash\":\"solid\"},\"marker\":{\"symbol\":\"circle\"},\"mode\":\"lines\",\"name\":\"Japan\",\"orientation\":\"v\",\"showlegend\":true,\"x\":[2015,2016,2017,2018,2019,2020,2021,2022],\"xaxis\":\"x\",\"y\":[1.25712,1.06054,1.43633782863617,1.462,1.419,0.883545935,0.884,1.089],\"yaxis\":\"y\",\"type\":\"scatter\"},{\"hovertemplate\":\"Country=Italy<br>year=%{x}<br>Family=%{y}<extra></extra>\",\"legendgroup\":\"Italy\",\"line\":{\"color\":\"#FF97FF\",\"dash\":\"solid\"},\"marker\":{\"symbol\":\"circle\"},\"mode\":\"lines\",\"name\":\"Italy\",\"orientation\":\"v\",\"showlegend\":true,\"x\":[2015,2016,2017,2018,2019,2020,2021,2022],\"xaxis\":\"x\",\"y\":[1.19777,1.04167,1.44492328166962,1.501,1.488,0.889878571,0.88,1.052],\"yaxis\":\"y\",\"type\":\"scatter\"},{\"hovertemplate\":\"Country=Russia<br>year=%{x}<br>Family=%{y}<extra></extra>\",\"legendgroup\":\"Russia\",\"line\":{\"color\":\"#FECB52\",\"dash\":\"solid\"},\"marker\":{\"symbol\":\"circle\"},\"mode\":\"lines\",\"name\":\"Russia\",\"orientation\":\"v\",\"showlegend\":true,\"x\":[2015,2016,2017,2018,2019,2020,2021,2022],\"xaxis\":\"x\",\"y\":[1.23617,1.05261,1.46928238868713,1.479,1.452,0.903150737,0.903,1.095],\"yaxis\":\"y\",\"type\":\"scatter\"},{\"hovertemplate\":\"Country=China<br>year=%{x}<br>Family=%{y}<extra></extra>\",\"legendgroup\":\"China\",\"line\":{\"color\":\"#636efa\",\"dash\":\"solid\"},\"marker\":{\"symbol\":\"circle\"},\"mode\":\"lines\",\"name\":\"China\",\"orientation\":\"v\",\"showlegend\":true,\"x\":[2015,2016,2017,2018,2019,2020,2021,2022],\"xaxis\":\"x\",\"y\":[0.94675,0.79381,1.16083741188049,1.142,1.125,0.798760593,0.811,0.958],\"yaxis\":\"y\",\"type\":\"scatter\"},{\"hovertemplate\":\"Country=India<br>year=%{x}<br>Family=%{y}<extra></extra>\",\"legendgroup\":\"India\",\"line\":{\"color\":\"#EF553B\",\"dash\":\"solid\"},\"marker\":{\"symbol\":\"circle\"},\"mode\":\"lines\",\"name\":\"India\",\"orientation\":\"v\",\"showlegend\":true,\"x\":[2015,2016,2017,2018,2019,2020,2021,2022],\"xaxis\":\"x\",\"y\":[0.38174,0.29247,0.754372596740723,0.747,0.765,0.592200935,0.603,0.376],\"yaxis\":\"y\",\"type\":\"scatter\"}],                        {\"template\":{\"data\":{\"barpolar\":[{\"marker\":{\"line\":{\"color\":\"rgb(17,17,17)\",\"width\":0.5},\"pattern\":{\"fillmode\":\"overlay\",\"size\":10,\"solidity\":0.2}},\"type\":\"barpolar\"}],\"bar\":[{\"error_x\":{\"color\":\"#f2f5fa\"},\"error_y\":{\"color\":\"#f2f5fa\"},\"marker\":{\"line\":{\"color\":\"rgb(17,17,17)\",\"width\":0.5},\"pattern\":{\"fillmode\":\"overlay\",\"size\":10,\"solidity\":0.2}},\"type\":\"bar\"}],\"carpet\":[{\"aaxis\":{\"endlinecolor\":\"#A2B1C6\",\"gridcolor\":\"#506784\",\"linecolor\":\"#506784\",\"minorgridcolor\":\"#506784\",\"startlinecolor\":\"#A2B1C6\"},\"baxis\":{\"endlinecolor\":\"#A2B1C6\",\"gridcolor\":\"#506784\",\"linecolor\":\"#506784\",\"minorgridcolor\":\"#506784\",\"startlinecolor\":\"#A2B1C6\"},\"type\":\"carpet\"}],\"choropleth\":[{\"colorbar\":{\"outlinewidth\":0,\"ticks\":\"\"},\"type\":\"choropleth\"}],\"contourcarpet\":[{\"colorbar\":{\"outlinewidth\":0,\"ticks\":\"\"},\"type\":\"contourcarpet\"}],\"contour\":[{\"colorbar\":{\"outlinewidth\":0,\"ticks\":\"\"},\"colorscale\":[[0.0,\"#0d0887\"],[0.1111111111111111,\"#46039f\"],[0.2222222222222222,\"#7201a8\"],[0.3333333333333333,\"#9c179e\"],[0.4444444444444444,\"#bd3786\"],[0.5555555555555556,\"#d8576b\"],[0.6666666666666666,\"#ed7953\"],[0.7777777777777778,\"#fb9f3a\"],[0.8888888888888888,\"#fdca26\"],[1.0,\"#f0f921\"]],\"type\":\"contour\"}],\"heatmapgl\":[{\"colorbar\":{\"outlinewidth\":0,\"ticks\":\"\"},\"colorscale\":[[0.0,\"#0d0887\"],[0.1111111111111111,\"#46039f\"],[0.2222222222222222,\"#7201a8\"],[0.3333333333333333,\"#9c179e\"],[0.4444444444444444,\"#bd3786\"],[0.5555555555555556,\"#d8576b\"],[0.6666666666666666,\"#ed7953\"],[0.7777777777777778,\"#fb9f3a\"],[0.8888888888888888,\"#fdca26\"],[1.0,\"#f0f921\"]],\"type\":\"heatmapgl\"}],\"heatmap\":[{\"colorbar\":{\"outlinewidth\":0,\"ticks\":\"\"},\"colorscale\":[[0.0,\"#0d0887\"],[0.1111111111111111,\"#46039f\"],[0.2222222222222222,\"#7201a8\"],[0.3333333333333333,\"#9c179e\"],[0.4444444444444444,\"#bd3786\"],[0.5555555555555556,\"#d8576b\"],[0.6666666666666666,\"#ed7953\"],[0.7777777777777778,\"#fb9f3a\"],[0.8888888888888888,\"#fdca26\"],[1.0,\"#f0f921\"]],\"type\":\"heatmap\"}],\"histogram2dcontour\":[{\"colorbar\":{\"outlinewidth\":0,\"ticks\":\"\"},\"colorscale\":[[0.0,\"#0d0887\"],[0.1111111111111111,\"#46039f\"],[0.2222222222222222,\"#7201a8\"],[0.3333333333333333,\"#9c179e\"],[0.4444444444444444,\"#bd3786\"],[0.5555555555555556,\"#d8576b\"],[0.6666666666666666,\"#ed7953\"],[0.7777777777777778,\"#fb9f3a\"],[0.8888888888888888,\"#fdca26\"],[1.0,\"#f0f921\"]],\"type\":\"histogram2dcontour\"}],\"histogram2d\":[{\"colorbar\":{\"outlinewidth\":0,\"ticks\":\"\"},\"colorscale\":[[0.0,\"#0d0887\"],[0.1111111111111111,\"#46039f\"],[0.2222222222222222,\"#7201a8\"],[0.3333333333333333,\"#9c179e\"],[0.4444444444444444,\"#bd3786\"],[0.5555555555555556,\"#d8576b\"],[0.6666666666666666,\"#ed7953\"],[0.7777777777777778,\"#fb9f3a\"],[0.8888888888888888,\"#fdca26\"],[1.0,\"#f0f921\"]],\"type\":\"histogram2d\"}],\"histogram\":[{\"marker\":{\"pattern\":{\"fillmode\":\"overlay\",\"size\":10,\"solidity\":0.2}},\"type\":\"histogram\"}],\"mesh3d\":[{\"colorbar\":{\"outlinewidth\":0,\"ticks\":\"\"},\"type\":\"mesh3d\"}],\"parcoords\":[{\"line\":{\"colorbar\":{\"outlinewidth\":0,\"ticks\":\"\"}},\"type\":\"parcoords\"}],\"pie\":[{\"automargin\":true,\"type\":\"pie\"}],\"scatter3d\":[{\"line\":{\"colorbar\":{\"outlinewidth\":0,\"ticks\":\"\"}},\"marker\":{\"colorbar\":{\"outlinewidth\":0,\"ticks\":\"\"}},\"type\":\"scatter3d\"}],\"scattercarpet\":[{\"marker\":{\"colorbar\":{\"outlinewidth\":0,\"ticks\":\"\"}},\"type\":\"scattercarpet\"}],\"scattergeo\":[{\"marker\":{\"colorbar\":{\"outlinewidth\":0,\"ticks\":\"\"}},\"type\":\"scattergeo\"}],\"scattergl\":[{\"marker\":{\"line\":{\"color\":\"#283442\"}},\"type\":\"scattergl\"}],\"scattermapbox\":[{\"marker\":{\"colorbar\":{\"outlinewidth\":0,\"ticks\":\"\"}},\"type\":\"scattermapbox\"}],\"scatterpolargl\":[{\"marker\":{\"colorbar\":{\"outlinewidth\":0,\"ticks\":\"\"}},\"type\":\"scatterpolargl\"}],\"scatterpolar\":[{\"marker\":{\"colorbar\":{\"outlinewidth\":0,\"ticks\":\"\"}},\"type\":\"scatterpolar\"}],\"scatter\":[{\"marker\":{\"line\":{\"color\":\"#283442\"}},\"type\":\"scatter\"}],\"scatterternary\":[{\"marker\":{\"colorbar\":{\"outlinewidth\":0,\"ticks\":\"\"}},\"type\":\"scatterternary\"}],\"surface\":[{\"colorbar\":{\"outlinewidth\":0,\"ticks\":\"\"},\"colorscale\":[[0.0,\"#0d0887\"],[0.1111111111111111,\"#46039f\"],[0.2222222222222222,\"#7201a8\"],[0.3333333333333333,\"#9c179e\"],[0.4444444444444444,\"#bd3786\"],[0.5555555555555556,\"#d8576b\"],[0.6666666666666666,\"#ed7953\"],[0.7777777777777778,\"#fb9f3a\"],[0.8888888888888888,\"#fdca26\"],[1.0,\"#f0f921\"]],\"type\":\"surface\"}],\"table\":[{\"cells\":{\"fill\":{\"color\":\"#506784\"},\"line\":{\"color\":\"rgb(17,17,17)\"}},\"header\":{\"fill\":{\"color\":\"#2a3f5f\"},\"line\":{\"color\":\"rgb(17,17,17)\"}},\"type\":\"table\"}]},\"layout\":{\"annotationdefaults\":{\"arrowcolor\":\"#f2f5fa\",\"arrowhead\":0,\"arrowwidth\":1},\"autotypenumbers\":\"strict\",\"coloraxis\":{\"colorbar\":{\"outlinewidth\":0,\"ticks\":\"\"}},\"colorscale\":{\"diverging\":[[0,\"#8e0152\"],[0.1,\"#c51b7d\"],[0.2,\"#de77ae\"],[0.3,\"#f1b6da\"],[0.4,\"#fde0ef\"],[0.5,\"#f7f7f7\"],[0.6,\"#e6f5d0\"],[0.7,\"#b8e186\"],[0.8,\"#7fbc41\"],[0.9,\"#4d9221\"],[1,\"#276419\"]],\"sequential\":[[0.0,\"#0d0887\"],[0.1111111111111111,\"#46039f\"],[0.2222222222222222,\"#7201a8\"],[0.3333333333333333,\"#9c179e\"],[0.4444444444444444,\"#bd3786\"],[0.5555555555555556,\"#d8576b\"],[0.6666666666666666,\"#ed7953\"],[0.7777777777777778,\"#fb9f3a\"],[0.8888888888888888,\"#fdca26\"],[1.0,\"#f0f921\"]],\"sequentialminus\":[[0.0,\"#0d0887\"],[0.1111111111111111,\"#46039f\"],[0.2222222222222222,\"#7201a8\"],[0.3333333333333333,\"#9c179e\"],[0.4444444444444444,\"#bd3786\"],[0.5555555555555556,\"#d8576b\"],[0.6666666666666666,\"#ed7953\"],[0.7777777777777778,\"#fb9f3a\"],[0.8888888888888888,\"#fdca26\"],[1.0,\"#f0f921\"]]},\"colorway\":[\"#636efa\",\"#EF553B\",\"#00cc96\",\"#ab63fa\",\"#FFA15A\",\"#19d3f3\",\"#FF6692\",\"#B6E880\",\"#FF97FF\",\"#FECB52\"],\"font\":{\"color\":\"#f2f5fa\"},\"geo\":{\"bgcolor\":\"rgb(17,17,17)\",\"lakecolor\":\"rgb(17,17,17)\",\"landcolor\":\"rgb(17,17,17)\",\"showlakes\":true,\"showland\":true,\"subunitcolor\":\"#506784\"},\"hoverlabel\":{\"align\":\"left\"},\"hovermode\":\"closest\",\"mapbox\":{\"style\":\"dark\"},\"paper_bgcolor\":\"rgb(17,17,17)\",\"plot_bgcolor\":\"rgb(17,17,17)\",\"polar\":{\"angularaxis\":{\"gridcolor\":\"#506784\",\"linecolor\":\"#506784\",\"ticks\":\"\"},\"bgcolor\":\"rgb(17,17,17)\",\"radialaxis\":{\"gridcolor\":\"#506784\",\"linecolor\":\"#506784\",\"ticks\":\"\"}},\"scene\":{\"xaxis\":{\"backgroundcolor\":\"rgb(17,17,17)\",\"gridcolor\":\"#506784\",\"gridwidth\":2,\"linecolor\":\"#506784\",\"showbackground\":true,\"ticks\":\"\",\"zerolinecolor\":\"#C8D4E3\"},\"yaxis\":{\"backgroundcolor\":\"rgb(17,17,17)\",\"gridcolor\":\"#506784\",\"gridwidth\":2,\"linecolor\":\"#506784\",\"showbackground\":true,\"ticks\":\"\",\"zerolinecolor\":\"#C8D4E3\"},\"zaxis\":{\"backgroundcolor\":\"rgb(17,17,17)\",\"gridcolor\":\"#506784\",\"gridwidth\":2,\"linecolor\":\"#506784\",\"showbackground\":true,\"ticks\":\"\",\"zerolinecolor\":\"#C8D4E3\"}},\"shapedefaults\":{\"line\":{\"color\":\"#f2f5fa\"}},\"sliderdefaults\":{\"bgcolor\":\"#C8D4E3\",\"bordercolor\":\"rgb(17,17,17)\",\"borderwidth\":1,\"tickwidth\":0},\"ternary\":{\"aaxis\":{\"gridcolor\":\"#506784\",\"linecolor\":\"#506784\",\"ticks\":\"\"},\"baxis\":{\"gridcolor\":\"#506784\",\"linecolor\":\"#506784\",\"ticks\":\"\"},\"bgcolor\":\"rgb(17,17,17)\",\"caxis\":{\"gridcolor\":\"#506784\",\"linecolor\":\"#506784\",\"ticks\":\"\"}},\"title\":{\"x\":0.05},\"updatemenudefaults\":{\"bgcolor\":\"#506784\",\"borderwidth\":0},\"xaxis\":{\"automargin\":true,\"gridcolor\":\"#283442\",\"linecolor\":\"#506784\",\"ticks\":\"\",\"title\":{\"standoff\":15},\"zerolinecolor\":\"#283442\",\"zerolinewidth\":2},\"yaxis\":{\"automargin\":true,\"gridcolor\":\"#283442\",\"linecolor\":\"#506784\",\"ticks\":\"\",\"title\":{\"standoff\":15},\"zerolinecolor\":\"#283442\",\"zerolinewidth\":2}}},\"xaxis\":{\"anchor\":\"y\",\"domain\":[0.0,1.0],\"title\":{\"text\":\"year\"}},\"yaxis\":{\"anchor\":\"x\",\"domain\":[0.0,1.0],\"title\":{\"text\":\"Family\"}},\"legend\":{\"title\":{\"text\":\"Country\"},\"tracegroupgap\":0},\"title\":{\"text\":\"Year vs. Family\"}},                        {\"responsive\": true}                    ).then(function(){\n",
       "                            \n",
       "var gd = document.getElementById('96f0b38b-6960-4936-be86-f22734aeab0a');\n",
       "var x = new MutationObserver(function (mutations, observer) {{\n",
       "        var display = window.getComputedStyle(gd).display;\n",
       "        if (!display || display === 'none') {{\n",
       "            console.log([gd, 'removed!']);\n",
       "            Plotly.purge(gd);\n",
       "            observer.disconnect();\n",
       "        }}\n",
       "}});\n",
       "\n",
       "// Listen for the removal of the full notebook cells\n",
       "var notebookContainer = gd.closest('#notebook-container');\n",
       "if (notebookContainer) {{\n",
       "    x.observe(notebookContainer, {childList: true});\n",
       "}}\n",
       "\n",
       "// Listen for the clearing of the current output cell\n",
       "var outputEl = gd.closest('.output');\n",
       "if (outputEl) {{\n",
       "    x.observe(outputEl, {childList: true});\n",
       "}}\n",
       "\n",
       "                        })                };                });            </script>        </div>"
      ]
     },
     "metadata": {},
     "output_type": "display_data"
    }
   ],
   "source": [
    "# fig=px.line(df2,x='year',y='Economy (GDP per Capita)',color='Country',template=\"plotly_dark\",title='Year vs. Economy (GDP per Capita) ')\n",
    "# fig.show()\n",
    "# fig=px.line(df2,x='year',y='Health (Life Expectancy)',color='Country',template=\"plotly_dark\",title='Year vs. Health (Life Expectancy)')\n",
    "# fig.show()\n",
    "fig=px.line(df2,x='year',y='Family',color='Country',template=\"plotly_dark\",title='Year vs. Family')\n",
    "fig.show()"
   ]
  },
  {
   "cell_type": "code",
   "execution_count": 120,
   "id": "0e3ca3ca",
   "metadata": {},
   "outputs": [
    {
     "data": {
      "text/plain": [
       "<AxesSubplot:title={'center':'Countries with largest decrease in Happiness Score 2015->2022'}, xlabel='Country', ylabel='Decrease'>"
      ]
     },
     "execution_count": 120,
     "metadata": {},
     "output_type": "execute_result"
    },
    {
     "data": {
      "image/png": "[encoded data removed]",
      "text/plain": [
       "<Figure size 720x432 with 1 Axes>"
      ]
     },
     "metadata": {},
     "output_type": "display_data"
    }
   ],
   "source": [
    "copy_2015 = data_2015.copy()\n",
    "copy_2022 = data_2022.copy()\n",
    "\n",
    "# copy_2015 = copy_2015.set_index(\"Country\")\n",
    "# copy_2015 = copy_2015.sort_index()\n",
    "\n",
    "# copy_2020 = copy_2020.set_index(\"Country name\")\n",
    "# copy_2020 = copy_2020.sort_index()\n",
    "copy_2015 = copy_2015.set_index(\"Country\")\n",
    "copy_2015 = copy_2015.sort_index()\n",
    "\n",
    "copy_2022 = copy_2022.set_index(\"Country\")\n",
    "copy_2022 = copy_2022.sort_index()\n",
    "\n",
    "copy_2022[\"Decrease\"] = copy_2015[\"Happiness Score\"] - copy_2022[\"Happiness Score\"]\n",
    "copy_2022[\"2015_score\"] = copy_2015[\"Happiness Score\"]\n",
    "#copy_2015[\"Happiness Score\"].describe()\n",
    "\n",
    "largest_diff = (copy_2022.nlargest(n = 8,columns = \"Decrease\"))[\"Decrease\"].to_frame()\n",
    "largest_diff = largest_diff.sort_index()\n",
    "largest_diff\n",
    "\n",
    "\n",
    "\n",
    "plt.figure(figsize = (10,6))\n",
    "plt.title(\"Countries with largest decrease in Happiness Score 2015->2022\")\n",
    "sns.barplot(data = largest_diff, y = \"Decrease\", x = largest_diff.index)"
   ]
  },
  {
   "cell_type": "code",
   "execution_count": 121,
   "id": "c1a8a7b4",
   "metadata": {},
   "outputs": [
    {
     "data": {
      "text/plain": [
       "<AxesSubplot:title={'center':'Countries with largest increase from years 2015->2022'}, xlabel='Country', ylabel='Increase'>"
      ]
     },
     "execution_count": 121,
     "metadata": {},
     "output_type": "execute_result"
    },
    {
     "data": {
      "image/png": "[encoded data removed]",
      "text/plain": [
       "<Figure size 1008x432 with 1 Axes>"
      ]
     },
     "metadata": {},
     "output_type": "display_data"
    }
   ],
   "source": [
    "copy_2015 = data_2015.copy()\n",
    "copy_2022 = data_2022.copy()\n",
    "\n",
    "# copy_2015 = copy_2015.set_index(\"Country\")\n",
    "# copy_2015 = copy_2015.sort_index()\n",
    "\n",
    "# copy_2020 = copy_2020.set_index(\"Country name\")\n",
    "# copy_2020 = copy_2020.sort_index()\n",
    "copy_2015 = copy_2015.set_index(\"Country\")\n",
    "copy_2015 = copy_2015.sort_index()\n",
    "\n",
    "copy_2022 = copy_2022.set_index(\"Country\")\n",
    "copy_2022 = copy_2022.sort_index()\n",
    "\n",
    "copy_2022[\"Increase\"] = copy_2015[\"Happiness Score\"] - copy_2022[\"Happiness Score\"]\n",
    "copy_2022[\"2015_score\"] = copy_2015[\"Happiness Score\"]\n",
    "\n",
    "# copy_2020[\"2015_2020_increase\"] = copy_2015[\"Happiness Score\"] - copy_2020[\"Ladder score\"]\n",
    "# copy_2020[\"2015_score\"] = copy_2015[\"Happiness Score\"]\n",
    "\n",
    "increase_diff = copy_2022.nsmallest(n = 8, columns = \"Increase\")[\"Increase\"].to_frame()\n",
    "increase_diff = increase_diff.sort_index()\n",
    "increase_diff = increase_diff.abs()\n",
    "\n",
    "plt.figure(figsize = (14,6))\n",
    "plt.title(\"Countries with largest increase from years 2015->2022\")\n",
    "sns.barplot(data = increase_diff, y = \"Increase\", x = increase_diff.index)"
   ]
  },
  {
   "cell_type": "code",
   "execution_count": 96,
   "id": "5d0f26b4",
   "metadata": {},
   "outputs": [],
   "source": [
    "import geopandas as gpd\n"
   ]
  },
  {
   "cell_type": "code",
   "execution_count": 122,
   "id": "616bc67e",
   "metadata": {},
   "outputs": [],
   "source": [
    "# boundaries_dir = ('world-countries.json')"
   ]
  },
  {
   "cell_type": "code",
   "execution_count": null,
   "id": "391dbcd7",
   "metadata": {},
   "outputs": [],
   "source": []
  },
  {
   "cell_type": "code",
   "execution_count": 123,
   "id": "b4f9740e",
   "metadata": {},
   "outputs": [],
   "source": [
    "# folium.LayerControl().add_to(currmap)\n",
    "# currmap"
   ]
  },
  {
   "cell_type": "code",
   "execution_count": 60,
   "id": "19ee89b2",
   "metadata": {},
   "outputs": [
    {
     "data": {
      "text/html": [
       "<div>\n",
       "<style scoped>\n",
       "    .dataframe tbody tr th:only-of-type {\n",
       "        vertical-align: middle;\n",
       "    }\n",
       "\n",
       "    .dataframe tbody tr th {\n",
       "        vertical-align: top;\n",
       "    }\n",
       "\n",
       "    .dataframe thead th {\n",
       "        text-align: right;\n",
       "    }\n",
       "</style>\n",
       "<table border=\"1\" class=\"dataframe\">\n",
       "  <thead>\n",
       "    <tr style=\"text-align: right;\">\n",
       "      <th></th>\n",
       "      <th>Country</th>\n",
       "      <th>year</th>\n",
       "      <th>Happiness Rank</th>\n",
       "      <th>Happiness Score</th>\n",
       "      <th>Economy (GDP per Capita)</th>\n",
       "      <th>Family</th>\n",
       "      <th>Health (Life Expectancy)</th>\n",
       "      <th>Generosity</th>\n",
       "    </tr>\n",
       "  </thead>\n",
       "  <tbody>\n",
       "    <tr>\n",
       "      <th>0</th>\n",
       "      <td>Switzerland</td>\n",
       "      <td>2015</td>\n",
       "      <td>1</td>\n",
       "      <td>7.587</td>\n",
       "      <td>1.39651</td>\n",
       "      <td>1.34951</td>\n",
       "      <td>0.94143</td>\n",
       "      <td>0.29678</td>\n",
       "    </tr>\n",
       "    <tr>\n",
       "      <th>1</th>\n",
       "      <td>Iceland</td>\n",
       "      <td>2015</td>\n",
       "      <td>2</td>\n",
       "      <td>7.561</td>\n",
       "      <td>1.30232</td>\n",
       "      <td>1.40223</td>\n",
       "      <td>0.94784</td>\n",
       "      <td>0.43630</td>\n",
       "    </tr>\n",
       "    <tr>\n",
       "      <th>2</th>\n",
       "      <td>Denmark</td>\n",
       "      <td>2015</td>\n",
       "      <td>3</td>\n",
       "      <td>7.527</td>\n",
       "      <td>1.32548</td>\n",
       "      <td>1.36058</td>\n",
       "      <td>0.87464</td>\n",
       "      <td>0.34139</td>\n",
       "    </tr>\n",
       "    <tr>\n",
       "      <th>3</th>\n",
       "      <td>Norway</td>\n",
       "      <td>2015</td>\n",
       "      <td>4</td>\n",
       "      <td>7.522</td>\n",
       "      <td>1.45900</td>\n",
       "      <td>1.33095</td>\n",
       "      <td>0.88521</td>\n",
       "      <td>0.34699</td>\n",
       "    </tr>\n",
       "    <tr>\n",
       "      <th>4</th>\n",
       "      <td>Canada</td>\n",
       "      <td>2015</td>\n",
       "      <td>5</td>\n",
       "      <td>7.427</td>\n",
       "      <td>1.32629</td>\n",
       "      <td>1.32261</td>\n",
       "      <td>0.90563</td>\n",
       "      <td>0.45811</td>\n",
       "    </tr>\n",
       "  </tbody>\n",
       "</table>\n",
       "</div>"
      ],
      "text/plain": [
       "       Country  year  Happiness Rank  Happiness Score  \\\n",
       "0  Switzerland  2015               1            7.587   \n",
       "1      Iceland  2015               2            7.561   \n",
       "2      Denmark  2015               3            7.527   \n",
       "3       Norway  2015               4            7.522   \n",
       "4       Canada  2015               5            7.427   \n",
       "\n",
       "   Economy (GDP per Capita)   Family  Health (Life Expectancy)  Generosity  \n",
       "0                   1.39651  1.34951                   0.94143     0.29678  \n",
       "1                   1.30232  1.40223                   0.94784     0.43630  \n",
       "2                   1.32548  1.36058                   0.87464     0.34139  \n",
       "3                   1.45900  1.33095                   0.88521     0.34699  \n",
       "4                   1.32629  1.32261                   0.90563     0.45811  "
      ]
     },
     "execution_count": 60,
     "metadata": {},
     "output_type": "execute_result"
    }
   ],
   "source": [
    "data_2015.head()"
   ]
  },
  {
   "cell_type": "code",
   "execution_count": 57,
   "id": "17c5ce8d",
   "metadata": {},
   "outputs": [
    {
     "data": {
      "text/html": [
       "<div>\n",
       "<style scoped>\n",
       "    .dataframe tbody tr th:only-of-type {\n",
       "        vertical-align: middle;\n",
       "    }\n",
       "\n",
       "    .dataframe tbody tr th {\n",
       "        vertical-align: top;\n",
       "    }\n",
       "\n",
       "    .dataframe thead th {\n",
       "        text-align: right;\n",
       "    }\n",
       "</style>\n",
       "<table border=\"1\" class=\"dataframe\">\n",
       "  <thead>\n",
       "    <tr style=\"text-align: right;\">\n",
       "      <th></th>\n",
       "      <th>Country</th>\n",
       "      <th>year</th>\n",
       "      <th>Happiness Rank</th>\n",
       "      <th>Happiness Score</th>\n",
       "      <th>Economy (GDP per Capita)</th>\n",
       "      <th>Family</th>\n",
       "      <th>Health (Life Expectancy)</th>\n",
       "      <th>Generosity</th>\n",
       "    </tr>\n",
       "  </thead>\n",
       "  <tbody>\n",
       "    <tr>\n",
       "      <th>702</th>\n",
       "      <td>Finland</td>\n",
       "      <td>2021</td>\n",
       "      <td>1</td>\n",
       "      <td>7.842</td>\n",
       "      <td>10.775</td>\n",
       "      <td>0.954</td>\n",
       "      <td>72.0</td>\n",
       "      <td>-0.098</td>\n",
       "    </tr>\n",
       "    <tr>\n",
       "      <th>703</th>\n",
       "      <td>Denmark</td>\n",
       "      <td>2021</td>\n",
       "      <td>2</td>\n",
       "      <td>7.620</td>\n",
       "      <td>10.933</td>\n",
       "      <td>0.954</td>\n",
       "      <td>72.7</td>\n",
       "      <td>0.030</td>\n",
       "    </tr>\n",
       "    <tr>\n",
       "      <th>704</th>\n",
       "      <td>Switzerland</td>\n",
       "      <td>2021</td>\n",
       "      <td>3</td>\n",
       "      <td>7.571</td>\n",
       "      <td>11.117</td>\n",
       "      <td>0.942</td>\n",
       "      <td>74.4</td>\n",
       "      <td>0.025</td>\n",
       "    </tr>\n",
       "    <tr>\n",
       "      <th>705</th>\n",
       "      <td>Iceland</td>\n",
       "      <td>2021</td>\n",
       "      <td>4</td>\n",
       "      <td>7.554</td>\n",
       "      <td>10.878</td>\n",
       "      <td>0.983</td>\n",
       "      <td>73.0</td>\n",
       "      <td>0.160</td>\n",
       "    </tr>\n",
       "    <tr>\n",
       "      <th>706</th>\n",
       "      <td>Netherlands</td>\n",
       "      <td>2021</td>\n",
       "      <td>5</td>\n",
       "      <td>7.464</td>\n",
       "      <td>10.932</td>\n",
       "      <td>0.942</td>\n",
       "      <td>72.4</td>\n",
       "      <td>0.175</td>\n",
       "    </tr>\n",
       "  </tbody>\n",
       "</table>\n",
       "</div>"
      ],
      "text/plain": [
       "         Country  year  Happiness Rank  Happiness Score  \\\n",
       "702      Finland  2021               1            7.842   \n",
       "703      Denmark  2021               2            7.620   \n",
       "704  Switzerland  2021               3            7.571   \n",
       "705      Iceland  2021               4            7.554   \n",
       "706  Netherlands  2021               5            7.464   \n",
       "\n",
       "     Economy (GDP per Capita)  Family  Health (Life Expectancy)  Generosity  \n",
       "702                    10.775   0.954                      72.0      -0.098  \n",
       "703                    10.933   0.954                      72.7       0.030  \n",
       "704                    11.117   0.942                      74.4       0.025  \n",
       "705                    10.878   0.983                      73.0       0.160  \n",
       "706                    10.932   0.942                      72.4       0.175  "
      ]
     },
     "execution_count": 57,
     "metadata": {},
     "output_type": "execute_result"
    }
   ],
   "source": [
    "data_2021.head()"
   ]
  },
  {
   "cell_type": "code",
   "execution_count": 58,
   "id": "b3421efc",
   "metadata": {},
   "outputs": [
    {
     "data": {
      "text/html": [
       "<div>\n",
       "<style scoped>\n",
       "    .dataframe tbody tr th:only-of-type {\n",
       "        vertical-align: middle;\n",
       "    }\n",
       "\n",
       "    .dataframe tbody tr th {\n",
       "        vertical-align: top;\n",
       "    }\n",
       "\n",
       "    .dataframe thead th {\n",
       "        text-align: right;\n",
       "    }\n",
       "</style>\n",
       "<table border=\"1\" class=\"dataframe\">\n",
       "  <thead>\n",
       "    <tr style=\"text-align: right;\">\n",
       "      <th></th>\n",
       "      <th>Country</th>\n",
       "      <th>year</th>\n",
       "      <th>Happiness Rank</th>\n",
       "      <th>Happiness Score</th>\n",
       "      <th>Economy (GDP per Capita)</th>\n",
       "      <th>Family</th>\n",
       "      <th>Health (Life Expectancy)</th>\n",
       "      <th>Generosity</th>\n",
       "    </tr>\n",
       "  </thead>\n",
       "  <tbody>\n",
       "    <tr>\n",
       "      <th>819</th>\n",
       "      <td>Finland</td>\n",
       "      <td>2022</td>\n",
       "      <td>1</td>\n",
       "      <td>7.821</td>\n",
       "      <td>1.892</td>\n",
       "      <td>1.258</td>\n",
       "      <td>77.5</td>\n",
       "      <td>0.109</td>\n",
       "    </tr>\n",
       "    <tr>\n",
       "      <th>820</th>\n",
       "      <td>Denmark</td>\n",
       "      <td>2022</td>\n",
       "      <td>2</td>\n",
       "      <td>7.636</td>\n",
       "      <td>1.953</td>\n",
       "      <td>1.243</td>\n",
       "      <td>77.7</td>\n",
       "      <td>0.188</td>\n",
       "    </tr>\n",
       "    <tr>\n",
       "      <th>821</th>\n",
       "      <td>Iceland</td>\n",
       "      <td>2022</td>\n",
       "      <td>3</td>\n",
       "      <td>7.557</td>\n",
       "      <td>1.936</td>\n",
       "      <td>1.320</td>\n",
       "      <td>80.3</td>\n",
       "      <td>0.270</td>\n",
       "    </tr>\n",
       "    <tr>\n",
       "      <th>822</th>\n",
       "      <td>Switzerland</td>\n",
       "      <td>2022</td>\n",
       "      <td>4</td>\n",
       "      <td>7.512</td>\n",
       "      <td>2.026</td>\n",
       "      <td>1.226</td>\n",
       "      <td>82.2</td>\n",
       "      <td>0.147</td>\n",
       "    </tr>\n",
       "    <tr>\n",
       "      <th>823</th>\n",
       "      <td>Netherlands</td>\n",
       "      <td>2022</td>\n",
       "      <td>5</td>\n",
       "      <td>7.415</td>\n",
       "      <td>1.945</td>\n",
       "      <td>1.206</td>\n",
       "      <td>78.7</td>\n",
       "      <td>0.271</td>\n",
       "    </tr>\n",
       "  </tbody>\n",
       "</table>\n",
       "</div>"
      ],
      "text/plain": [
       "         Country  year  Happiness Rank  Happiness Score  \\\n",
       "819      Finland  2022               1            7.821   \n",
       "820      Denmark  2022               2            7.636   \n",
       "821      Iceland  2022               3            7.557   \n",
       "822  Switzerland  2022               4            7.512   \n",
       "823  Netherlands  2022               5            7.415   \n",
       "\n",
       "     Economy (GDP per Capita)  Family  Health (Life Expectancy)  Generosity  \n",
       "819                     1.892   1.258                      77.5       0.109  \n",
       "820                     1.953   1.243                      77.7       0.188  \n",
       "821                     1.936   1.320                      80.3       0.270  \n",
       "822                     2.026   1.226                      82.2       0.147  \n",
       "823                     1.945   1.206                      78.7       0.271  "
      ]
     },
     "execution_count": 58,
     "metadata": {},
     "output_type": "execute_result"
    }
   ],
   "source": [
    "data_2022.head()"
   ]
  },
  {
   "cell_type": "code",
   "execution_count": 59,
   "id": "091061ce",
   "metadata": {},
   "outputs": [
    {
     "data": {
      "text/html": [
       "<div>\n",
       "<style scoped>\n",
       "    .dataframe tbody tr th:only-of-type {\n",
       "        vertical-align: middle;\n",
       "    }\n",
       "\n",
       "    .dataframe tbody tr th {\n",
       "        vertical-align: top;\n",
       "    }\n",
       "\n",
       "    .dataframe thead th {\n",
       "        text-align: right;\n",
       "    }\n",
       "</style>\n",
       "<table border=\"1\" class=\"dataframe\">\n",
       "  <thead>\n",
       "    <tr style=\"text-align: right;\">\n",
       "      <th></th>\n",
       "      <th>Country</th>\n",
       "      <th>year</th>\n",
       "      <th>Happiness Rank</th>\n",
       "      <th>Happiness Score</th>\n",
       "      <th>Economy (GDP per Capita)</th>\n",
       "      <th>Family</th>\n",
       "      <th>Health (Life Expectancy)</th>\n",
       "      <th>Generosity</th>\n",
       "    </tr>\n",
       "  </thead>\n",
       "  <tbody>\n",
       "    <tr>\n",
       "      <th>585</th>\n",
       "      <td>Finland</td>\n",
       "      <td>2020</td>\n",
       "      <td>1</td>\n",
       "      <td>7.8087</td>\n",
       "      <td>10.639267</td>\n",
       "      <td>0.954330</td>\n",
       "      <td>71.900825</td>\n",
       "      <td>-0.059482</td>\n",
       "    </tr>\n",
       "    <tr>\n",
       "      <th>586</th>\n",
       "      <td>Denmark</td>\n",
       "      <td>2020</td>\n",
       "      <td>2</td>\n",
       "      <td>7.6456</td>\n",
       "      <td>10.774001</td>\n",
       "      <td>0.955991</td>\n",
       "      <td>72.402504</td>\n",
       "      <td>0.066202</td>\n",
       "    </tr>\n",
       "    <tr>\n",
       "      <th>587</th>\n",
       "      <td>Switzerland</td>\n",
       "      <td>2020</td>\n",
       "      <td>3</td>\n",
       "      <td>7.5599</td>\n",
       "      <td>10.979933</td>\n",
       "      <td>0.942847</td>\n",
       "      <td>74.102448</td>\n",
       "      <td>0.105911</td>\n",
       "    </tr>\n",
       "    <tr>\n",
       "      <th>588</th>\n",
       "      <td>Iceland</td>\n",
       "      <td>2020</td>\n",
       "      <td>4</td>\n",
       "      <td>7.5045</td>\n",
       "      <td>10.772559</td>\n",
       "      <td>0.974670</td>\n",
       "      <td>73.000000</td>\n",
       "      <td>0.246944</td>\n",
       "    </tr>\n",
       "    <tr>\n",
       "      <th>589</th>\n",
       "      <td>Norway</td>\n",
       "      <td>2020</td>\n",
       "      <td>5</td>\n",
       "      <td>7.4880</td>\n",
       "      <td>11.087804</td>\n",
       "      <td>0.952487</td>\n",
       "      <td>73.200783</td>\n",
       "      <td>0.134533</td>\n",
       "    </tr>\n",
       "  </tbody>\n",
       "</table>\n",
       "</div>"
      ],
      "text/plain": [
       "         Country  year  Happiness Rank  Happiness Score  \\\n",
       "585      Finland  2020               1           7.8087   \n",
       "586      Denmark  2020               2           7.6456   \n",
       "587  Switzerland  2020               3           7.5599   \n",
       "588      Iceland  2020               4           7.5045   \n",
       "589       Norway  2020               5           7.4880   \n",
       "\n",
       "     Economy (GDP per Capita)    Family  Health (Life Expectancy)  Generosity  \n",
       "585                 10.639267  0.954330                 71.900825   -0.059482  \n",
       "586                 10.774001  0.955991                 72.402504    0.066202  \n",
       "587                 10.979933  0.942847                 74.102448    0.105911  \n",
       "588                 10.772559  0.974670                 73.000000    0.246944  \n",
       "589                 11.087804  0.952487                 73.200783    0.134533  "
      ]
     },
     "execution_count": 59,
     "metadata": {},
     "output_type": "execute_result"
    }
   ],
   "source": [
    "data_2020.head()"
   ]
  },
  {
   "cell_type": "code",
   "execution_count": 38,
   "id": "4a10687f",
   "metadata": {},
   "outputs": [
    {
     "data": {
      "application/vnd.plotly.v1+json": {
       "config": {
        "linkText": "Export to plot.ly",
        "plotlyServerURL": "https://plot.ly",
        "showLink": false
       },
       "data": [
        {
         "colorbar": {
          "title": {
           "text": "Happiness Score"
          }
         },
         "colorscale": [
          [
           0,
           "#440154"
          ],
          [
           0.1111111111111111,
           "#482878"
          ],
          [
           0.2222222222222222,
           "#3e4989"
          ],
          [
           0.3333333333333333,
           "#31688e"
          ],
          [
           0.4444444444444444,
           "#26828e"
          ],
          [
           0.5555555555555556,
           "#1f9e89"
          ],
          [
           0.6666666666666666,
           "#35b779"
          ],
          [
           0.7777777777777778,
           "#6ece58"
          ],
          [
           0.8888888888888888,
           "#b5de2b"
          ],
          [
           1,
           "#fde725"
          ]
         ],
         "locationmode": "country names",
         "locations": [
          "Finland",
          "Denmark",
          "Iceland",
          "Switzerland",
          "Netherlands",
          "Sweden",
          "Norway",
          "Israel",
          "New Zealand",
          "Austria",
          "Australia",
          "Ireland",
          "Germany",
          "Canada",
          "United States",
          "United Kingdom",
          "Belgium",
          "France",
          "Bahrain",
          "Slovenia",
          "Costa Rica",
          "United Arab Emirates",
          "Saudi Arabia",
          "Singapore",
          "Romania",
          "Spain",
          "Uruguay",
          "Italy",
          "Kosovo",
          "Malta",
          "Lithuania",
          "Slovakia",
          "Estonia",
          "Panama",
          "Brazil",
          "Kazakhstan",
          "Cyprus",
          "Latvia",
          "Serbia",
          "Chile",
          "Nicaragua",
          "Mexico",
          "Croatia",
          "Poland",
          "El Salvador",
          "Hungary",
          "Mauritius",
          "Uzbekistan",
          "Japan",
          "Honduras",
          "Portugal",
          "Argentina",
          "Greece",
          "South Korea",
          "Philippines",
          "Thailand",
          "Moldova",
          "Jamaica",
          "Kyrgyzstan",
          "Colombia",
          "Bosnia and Herzegovina",
          "Mongolia",
          "Dominican Republic",
          "Malaysia",
          "Bolivia",
          "China",
          "Paraguay",
          "Peru",
          "Montenegro",
          "Ecuador",
          "Vietnam",
          "Russia",
          "Armenia",
          "Tajikistan",
          "Nepal",
          "Bulgaria",
          "Indonesia",
          "Ivory Coast",
          "Albania",
          "South Africa",
          "Bangladesh",
          "Algeria",
          "Ukraine",
          "Morocco",
          "Cameroon",
          "Senegal",
          "Georgia",
          "Gabon",
          "Iraq",
          "Venezuela",
          "Guinea",
          "Iran",
          "Ghana",
          "Turkey",
          "Burkina Faso",
          "Cambodia",
          "Benin",
          "Uganda",
          "Nigeria",
          "Kenya",
          "Tunisia",
          "Pakistan",
          "Mali",
          "Myanmar",
          "Sri Lanka",
          "Egypt",
          "Ethiopia",
          "Jordan",
          "Togo",
          "India",
          "Zambia",
          "Malawi",
          "Tanzania",
          "Sierra Leone",
          "Zimbabwe",
          "Lebanon",
          "Afghanistan"
         ],
         "text": [
          "Finland",
          "Denmark",
          "Iceland",
          "Switzerland",
          "Netherlands",
          "Sweden",
          "Norway",
          "Israel",
          "New Zealand",
          "Austria",
          "Australia",
          "Ireland",
          "Germany",
          "Canada",
          "United States",
          "United Kingdom",
          "Belgium",
          "France",
          "Bahrain",
          "Slovenia",
          "Costa Rica",
          "United Arab Emirates",
          "Saudi Arabia",
          "Singapore",
          "Romania",
          "Spain",
          "Uruguay",
          "Italy",
          "Kosovo",
          "Malta",
          "Lithuania",
          "Slovakia",
          "Estonia",
          "Panama",
          "Brazil",
          "Kazakhstan",
          "Cyprus",
          "Latvia",
          "Serbia",
          "Chile",
          "Nicaragua",
          "Mexico",
          "Croatia",
          "Poland",
          "El Salvador",
          "Hungary",
          "Mauritius",
          "Uzbekistan",
          "Japan",
          "Honduras",
          "Portugal",
          "Argentina",
          "Greece",
          "South Korea",
          "Philippines",
          "Thailand",
          "Moldova",
          "Jamaica",
          "Kyrgyzstan",
          "Colombia",
          "Bosnia and Herzegovina",
          "Mongolia",
          "Dominican Republic",
          "Malaysia",
          "Bolivia",
          "China",
          "Paraguay",
          "Peru",
          "Montenegro",
          "Ecuador",
          "Vietnam",
          "Russia",
          "Armenia",
          "Tajikistan",
          "Nepal",
          "Bulgaria",
          "Indonesia",
          "Ivory Coast",
          "Albania",
          "South Africa",
          "Bangladesh",
          "Algeria",
          "Ukraine",
          "Morocco",
          "Cameroon",
          "Senegal",
          "Georgia",
          "Gabon",
          "Iraq",
          "Venezuela",
          "Guinea",
          "Iran",
          "Ghana",
          "Turkey",
          "Burkina Faso",
          "Cambodia",
          "Benin",
          "Uganda",
          "Nigeria",
          "Kenya",
          "Tunisia",
          "Pakistan",
          "Mali",
          "Myanmar",
          "Sri Lanka",
          "Egypt",
          "Ethiopia",
          "Jordan",
          "Togo",
          "India",
          "Zambia",
          "Malawi",
          "Tanzania",
          "Sierra Leone",
          "Zimbabwe",
          "Lebanon",
          "Afghanistan"
         ],
         "type": "choropleth",
         "z": [
          7.821,
          7.636,
          7.557,
          7.512,
          7.415,
          7.384,
          7.365,
          7.364,
          7.2,
          7.163,
          7.162,
          7.041,
          7.034,
          7.025,
          6.977,
          6.943,
          6.805,
          6.687,
          6.647,
          6.63,
          6.582,
          6.576,
          6.523,
          6.48,
          6.477,
          6.476,
          6.474,
          6.467,
          6.455,
          6.447,
          6.446,
          6.391,
          6.341,
          6.309,
          6.293,
          6.234,
          6.221,
          6.18,
          6.178,
          6.172,
          6.165,
          6.128,
          6.125,
          6.123,
          6.12,
          6.086,
          6.071,
          6.063,
          6.039,
          6.022,
          6.016,
          5.967,
          5.948,
          5.935,
          5.904,
          5.891,
          5.857,
          5.85,
          5.828,
          5.781,
          5.768,
          5.761,
          5.737,
          5.711,
          5.6,
          5.585,
          5.578,
          5.559,
          5.547,
          5.533,
          5.485,
          5.459,
          5.399,
          5.377,
          5.377,
          5.371,
          5.24,
          5.235,
          5.199,
          5.194,
          5.155,
          5.122,
          5.084,
          5.06,
          5.048,
          5.046,
          4.973,
          4.958,
          4.941,
          4.925,
          4.891,
          4.888,
          4.872,
          4.744,
          4.67,
          4.64,
          4.623,
          4.603,
          4.552,
          4.543,
          4.516,
          4.516,
          4.479,
          4.394,
          4.362,
          4.288,
          4.241,
          4.152,
          4.112,
          3.777,
          3.76,
          3.75,
          3.702,
          3.574,
          2.995,
          2.955,
          2.404
         ]
        }
       ],
       "layout": {
        "geo": {
         "projection": {
          "type": "equirectangular"
         },
         "showframe": true
        },
        "template": {
         "data": {
          "bar": [
           {
            "error_x": {
             "color": "#2a3f5f"
            },
            "error_y": {
             "color": "#2a3f5f"
            },
            "marker": {
             "line": {
              "color": "#E5ECF6",
              "width": 0.5
             },
             "pattern": {
              "fillmode": "overlay",
              "size": 10,
              "solidity": 0.2
             }
            },
            "type": "bar"
           }
          ],
          "barpolar": [
           {
            "marker": {
             "line": {
              "color": "#E5ECF6",
              "width": 0.5
             },
             "pattern": {
              "fillmode": "overlay",
              "size": 10,
              "solidity": 0.2
             }
            },
            "type": "barpolar"
           }
          ],
          "carpet": [
           {
            "aaxis": {
             "endlinecolor": "#2a3f5f",
             "gridcolor": "white",
             "linecolor": "white",
             "minorgridcolor": "white",
             "startlinecolor": "#2a3f5f"
            },
            "baxis": {
             "endlinecolor": "#2a3f5f",
             "gridcolor": "white",
             "linecolor": "white",
             "minorgridcolor": "white",
             "startlinecolor": "#2a3f5f"
            },
            "type": "carpet"
           }
          ],
          "choropleth": [
           {
            "colorbar": {
             "outlinewidth": 0,
             "ticks": ""
            },
            "type": "choropleth"
           }
          ],
          "contour": [
           {
            "colorbar": {
             "outlinewidth": 0,
             "ticks": ""
            },
            "colorscale": [
             [
              0,
              "#0d0887"
             ],
             [
              0.1111111111111111,
              "#46039f"
             ],
             [
              0.2222222222222222,
              "#7201a8"
             ],
             [
              0.3333333333333333,
              "#9c179e"
             ],
             [
              0.4444444444444444,
              "#bd3786"
             ],
             [
              0.5555555555555556,
              "#d8576b"
             ],
             [
              0.6666666666666666,
              "#ed7953"
             ],
             [
              0.7777777777777778,
              "#fb9f3a"
             ],
             [
              0.8888888888888888,
              "#fdca26"
             ],
             [
              1,
              "#f0f921"
             ]
            ],
            "type": "contour"
           }
          ],
          "contourcarpet": [
           {
            "colorbar": {
             "outlinewidth": 0,
             "ticks": ""
            },
            "type": "contourcarpet"
           }
          ],
          "heatmap": [
           {
            "colorbar": {
             "outlinewidth": 0,
             "ticks": ""
            },
            "colorscale": [
             [
              0,
              "#0d0887"
             ],
             [
              0.1111111111111111,
              "#46039f"
             ],
             [
              0.2222222222222222,
              "#7201a8"
             ],
             [
              0.3333333333333333,
              "#9c179e"
             ],
             [
              0.4444444444444444,
              "#bd3786"
             ],
             [
              0.5555555555555556,
              "#d8576b"
             ],
             [
              0.6666666666666666,
              "#ed7953"
             ],
             [
              0.7777777777777778,
              "#fb9f3a"
             ],
             [
              0.8888888888888888,
              "#fdca26"
             ],
             [
              1,
              "#f0f921"
             ]
            ],
            "type": "heatmap"
           }
          ],
          "heatmapgl": [
           {
            "colorbar": {
             "outlinewidth": 0,
             "ticks": ""
            },
            "colorscale": [
             [
              0,
              "#0d0887"
             ],
             [
              0.1111111111111111,
              "#46039f"
             ],
             [
              0.2222222222222222,
              "#7201a8"
             ],
             [
              0.3333333333333333,
              "#9c179e"
             ],
             [
              0.4444444444444444,
              "#bd3786"
             ],
             [
              0.5555555555555556,
              "#d8576b"
             ],
             [
              0.6666666666666666,
              "#ed7953"
             ],
             [
              0.7777777777777778,
              "#fb9f3a"
             ],
             [
              0.8888888888888888,
              "#fdca26"
             ],
             [
              1,
              "#f0f921"
             ]
            ],
            "type": "heatmapgl"
           }
          ],
          "histogram": [
           {
            "marker": {
             "pattern": {
              "fillmode": "overlay",
              "size": 10,
              "solidity": 0.2
             }
            },
            "type": "histogram"
           }
          ],
          "histogram2d": [
           {
            "colorbar": {
             "outlinewidth": 0,
             "ticks": ""
            },
            "colorscale": [
             [
              0,
              "#0d0887"
             ],
             [
              0.1111111111111111,
              "#46039f"
             ],
             [
              0.2222222222222222,
              "#7201a8"
             ],
             [
              0.3333333333333333,
              "#9c179e"
             ],
             [
              0.4444444444444444,
              "#bd3786"
             ],
             [
              0.5555555555555556,
              "#d8576b"
             ],
             [
              0.6666666666666666,
              "#ed7953"
             ],
             [
              0.7777777777777778,
              "#fb9f3a"
             ],
             [
              0.8888888888888888,
              "#fdca26"
             ],
             [
              1,
              "#f0f921"
             ]
            ],
            "type": "histogram2d"
           }
          ],
          "histogram2dcontour": [
           {
            "colorbar": {
             "outlinewidth": 0,
             "ticks": ""
            },
            "colorscale": [
             [
              0,
              "#0d0887"
             ],
             [
              0.1111111111111111,
              "#46039f"
             ],
             [
              0.2222222222222222,
              "#7201a8"
             ],
             [
              0.3333333333333333,
              "#9c179e"
             ],
             [
              0.4444444444444444,
              "#bd3786"
             ],
             [
              0.5555555555555556,
              "#d8576b"
             ],
             [
              0.6666666666666666,
              "#ed7953"
             ],
             [
              0.7777777777777778,
              "#fb9f3a"
             ],
             [
              0.8888888888888888,
              "#fdca26"
             ],
             [
              1,
              "#f0f921"
             ]
            ],
            "type": "histogram2dcontour"
           }
          ],
          "mesh3d": [
           {
            "colorbar": {
             "outlinewidth": 0,
             "ticks": ""
            },
            "type": "mesh3d"
           }
          ],
          "parcoords": [
           {
            "line": {
             "colorbar": {
              "outlinewidth": 0,
              "ticks": ""
             }
            },
            "type": "parcoords"
           }
          ],
          "pie": [
           {
            "automargin": true,
            "type": "pie"
           }
          ],
          "scatter": [
           {
            "marker": {
             "colorbar": {
              "outlinewidth": 0,
              "ticks": ""
             }
            },
            "type": "scatter"
           }
          ],
          "scatter3d": [
           {
            "line": {
             "colorbar": {
              "outlinewidth": 0,
              "ticks": ""
             }
            },
            "marker": {
             "colorbar": {
              "outlinewidth": 0,
              "ticks": ""
             }
            },
            "type": "scatter3d"
           }
          ],
          "scattercarpet": [
           {
            "marker": {
             "colorbar": {
              "outlinewidth": 0,
              "ticks": ""
             }
            },
            "type": "scattercarpet"
           }
          ],
          "scattergeo": [
           {
            "marker": {
             "colorbar": {
              "outlinewidth": 0,
              "ticks": ""
             }
            },
            "type": "scattergeo"
           }
          ],
          "scattergl": [
           {
            "marker": {
             "colorbar": {
              "outlinewidth": 0,
              "ticks": ""
             }
            },
            "type": "scattergl"
           }
          ],
          "scattermapbox": [
           {
            "marker": {
             "colorbar": {
              "outlinewidth": 0,
              "ticks": ""
             }
            },
            "type": "scattermapbox"
           }
          ],
          "scatterpolar": [
           {
            "marker": {
             "colorbar": {
              "outlinewidth": 0,
              "ticks": ""
             }
            },
            "type": "scatterpolar"
           }
          ],
          "scatterpolargl": [
           {
            "marker": {
             "colorbar": {
              "outlinewidth": 0,
              "ticks": ""
             }
            },
            "type": "scatterpolargl"
           }
          ],
          "scatterternary": [
           {
            "marker": {
             "colorbar": {
              "outlinewidth": 0,
              "ticks": ""
             }
            },
            "type": "scatterternary"
           }
          ],
          "surface": [
           {
            "colorbar": {
             "outlinewidth": 0,
             "ticks": ""
            },
            "colorscale": [
             [
              0,
              "#0d0887"
             ],
             [
              0.1111111111111111,
              "#46039f"
             ],
             [
              0.2222222222222222,
              "#7201a8"
             ],
             [
              0.3333333333333333,
              "#9c179e"
             ],
             [
              0.4444444444444444,
              "#bd3786"
             ],
             [
              0.5555555555555556,
              "#d8576b"
             ],
             [
              0.6666666666666666,
              "#ed7953"
             ],
             [
              0.7777777777777778,
              "#fb9f3a"
             ],
             [
              0.8888888888888888,
              "#fdca26"
             ],
             [
              1,
              "#f0f921"
             ]
            ],
            "type": "surface"
           }
          ],
          "table": [
           {
            "cells": {
             "fill": {
              "color": "#EBF0F8"
             },
             "line": {
              "color": "white"
             }
            },
            "header": {
             "fill": {
              "color": "#C8D4E3"
             },
             "line": {
              "color": "white"
             }
            },
            "type": "table"
           }
          ]
         },
         "layout": {
          "annotationdefaults": {
           "arrowcolor": "#2a3f5f",
           "arrowhead": 0,
           "arrowwidth": 1
          },
          "autotypenumbers": "strict",
          "coloraxis": {
           "colorbar": {
            "outlinewidth": 0,
            "ticks": ""
           }
          },
          "colorscale": {
           "diverging": [
            [
             0,
             "#8e0152"
            ],
            [
             0.1,
             "#c51b7d"
            ],
            [
             0.2,
             "#de77ae"
            ],
            [
             0.3,
             "#f1b6da"
            ],
            [
             0.4,
             "#fde0ef"
            ],
            [
             0.5,
             "#f7f7f7"
            ],
            [
             0.6,
             "#e6f5d0"
            ],
            [
             0.7,
             "#b8e186"
            ],
            [
             0.8,
             "#7fbc41"
            ],
            [
             0.9,
             "#4d9221"
            ],
            [
             1,
             "#276419"
            ]
           ],
           "sequential": [
            [
             0,
             "#0d0887"
            ],
            [
             0.1111111111111111,
             "#46039f"
            ],
            [
             0.2222222222222222,
             "#7201a8"
            ],
            [
             0.3333333333333333,
             "#9c179e"
            ],
            [
             0.4444444444444444,
             "#bd3786"
            ],
            [
             0.5555555555555556,
             "#d8576b"
            ],
            [
             0.6666666666666666,
             "#ed7953"
            ],
            [
             0.7777777777777778,
             "#fb9f3a"
            ],
            [
             0.8888888888888888,
             "#fdca26"
            ],
            [
             1,
             "#f0f921"
            ]
           ],
           "sequentialminus": [
            [
             0,
             "#0d0887"
            ],
            [
             0.1111111111111111,
             "#46039f"
            ],
            [
             0.2222222222222222,
             "#7201a8"
            ],
            [
             0.3333333333333333,
             "#9c179e"
            ],
            [
             0.4444444444444444,
             "#bd3786"
            ],
            [
             0.5555555555555556,
             "#d8576b"
            ],
            [
             0.6666666666666666,
             "#ed7953"
            ],
            [
             0.7777777777777778,
             "#fb9f3a"
            ],
            [
             0.8888888888888888,
             "#fdca26"
            ],
            [
             1,
             "#f0f921"
            ]
           ]
          },
          "colorway": [
           "#636efa",
           "#EF553B",
           "#00cc96",
           "#ab63fa",
           "#FFA15A",
           "#19d3f3",
           "#FF6692",
           "#B6E880",
           "#FF97FF",
           "#FECB52"
          ],
          "font": {
           "color": "#2a3f5f"
          },
          "geo": {
           "bgcolor": "white",
           "lakecolor": "white",
           "landcolor": "#E5ECF6",
           "showlakes": true,
           "showland": true,
           "subunitcolor": "white"
          },
          "hoverlabel": {
           "align": "left"
          },
          "hovermode": "closest",
          "mapbox": {
           "style": "light"
          },
          "paper_bgcolor": "white",
          "plot_bgcolor": "#E5ECF6",
          "polar": {
           "angularaxis": {
            "gridcolor": "white",
            "linecolor": "white",
            "ticks": ""
           },
           "bgcolor": "#E5ECF6",
           "radialaxis": {
            "gridcolor": "white",
            "linecolor": "white",
            "ticks": ""
           }
          },
          "scene": {
           "xaxis": {
            "backgroundcolor": "#E5ECF6",
            "gridcolor": "white",
            "gridwidth": 2,
            "linecolor": "white",
            "showbackground": true,
            "ticks": "",
            "zerolinecolor": "white"
           },
           "yaxis": {
            "backgroundcolor": "#E5ECF6",
            "gridcolor": "white",
            "gridwidth": 2,
            "linecolor": "white",
            "showbackground": true,
            "ticks": "",
            "zerolinecolor": "white"
           },
           "zaxis": {
            "backgroundcolor": "#E5ECF6",
            "gridcolor": "white",
            "gridwidth": 2,
            "linecolor": "white",
            "showbackground": true,
            "ticks": "",
            "zerolinecolor": "white"
           }
          },
          "shapedefaults": {
           "line": {
            "color": "#2a3f5f"
           }
          },
          "ternary": {
           "aaxis": {
            "gridcolor": "white",
            "linecolor": "white",
            "ticks": ""
           },
           "baxis": {
            "gridcolor": "white",
            "linecolor": "white",
            "ticks": ""
           },
           "bgcolor": "#E5ECF6",
           "caxis": {
            "gridcolor": "white",
            "linecolor": "white",
            "ticks": ""
           }
          },
          "title": {
           "x": 0.05
          },
          "xaxis": {
           "automargin": true,
           "gridcolor": "white",
           "linecolor": "white",
           "ticks": "",
           "title": {
            "standoff": 15
           },
           "zerolinecolor": "white",
           "zerolinewidth": 2
          },
          "yaxis": {
           "automargin": true,
           "gridcolor": "white",
           "linecolor": "white",
           "ticks": "",
           "title": {
            "standoff": 15
           },
           "zerolinecolor": "white",
           "zerolinewidth": 2
          }
         }
        },
        "title": {
         "text": "Happiness Score Across The World in 2022"
        }
       }
      },
      "text/html": [
       "<div>                            <div id=\"4e73357e-925d-4ce0-9809-344e3525759f\" class=\"plotly-graph-div\" style=\"height:525px; width:100%;\"></div>            <script type=\"text/javascript\">                require([\"plotly\"], function(Plotly) {                    window.PLOTLYENV=window.PLOTLYENV || {};                                    if (document.getElementById(\"4e73357e-925d-4ce0-9809-344e3525759f\")) {                    Plotly.newPlot(                        \"4e73357e-925d-4ce0-9809-344e3525759f\",                        [{\"colorbar\":{\"title\":{\"text\":\"Happiness Score\"}},\"colorscale\":[[0.0,\"#440154\"],[0.1111111111111111,\"#482878\"],[0.2222222222222222,\"#3e4989\"],[0.3333333333333333,\"#31688e\"],[0.4444444444444444,\"#26828e\"],[0.5555555555555556,\"#1f9e89\"],[0.6666666666666666,\"#35b779\"],[0.7777777777777778,\"#6ece58\"],[0.8888888888888888,\"#b5de2b\"],[1.0,\"#fde725\"]],\"locationmode\":\"country names\",\"locations\":[\"Finland\",\"Denmark\",\"Iceland\",\"Switzerland\",\"Netherlands\",\"Sweden\",\"Norway\",\"Israel\",\"New Zealand\",\"Austria\",\"Australia\",\"Ireland\",\"Germany\",\"Canada\",\"United States\",\"United Kingdom\",\"Belgium\",\"France\",\"Bahrain\",\"Slovenia\",\"Costa Rica\",\"United Arab Emirates\",\"Saudi Arabia\",\"Singapore\",\"Romania\",\"Spain\",\"Uruguay\",\"Italy\",\"Kosovo\",\"Malta\",\"Lithuania\",\"Slovakia\",\"Estonia\",\"Panama\",\"Brazil\",\"Kazakhstan\",\"Cyprus\",\"Latvia\",\"Serbia\",\"Chile\",\"Nicaragua\",\"Mexico\",\"Croatia\",\"Poland\",\"El Salvador\",\"Hungary\",\"Mauritius\",\"Uzbekistan\",\"Japan\",\"Honduras\",\"Portugal\",\"Argentina\",\"Greece\",\"South Korea\",\"Philippines\",\"Thailand\",\"Moldova\",\"Jamaica\",\"Kyrgyzstan\",\"Colombia\",\"Bosnia and Herzegovina\",\"Mongolia\",\"Dominican Republic\",\"Malaysia\",\"Bolivia\",\"China\",\"Paraguay\",\"Peru\",\"Montenegro\",\"Ecuador\",\"Vietnam\",\"Russia\",\"Armenia\",\"Tajikistan\",\"Nepal\",\"Bulgaria\",\"Indonesia\",\"Ivory Coast\",\"Albania\",\"South Africa\",\"Bangladesh\",\"Algeria\",\"Ukraine\",\"Morocco\",\"Cameroon\",\"Senegal\",\"Georgia\",\"Gabon\",\"Iraq\",\"Venezuela\",\"Guinea\",\"Iran\",\"Ghana\",\"Turkey\",\"Burkina Faso\",\"Cambodia\",\"Benin\",\"Uganda\",\"Nigeria\",\"Kenya\",\"Tunisia\",\"Pakistan\",\"Mali\",\"Myanmar\",\"Sri Lanka\",\"Egypt\",\"Ethiopia\",\"Jordan\",\"Togo\",\"India\",\"Zambia\",\"Malawi\",\"Tanzania\",\"Sierra Leone\",\"Zimbabwe\",\"Lebanon\",\"Afghanistan\"],\"text\":[\"Finland\",\"Denmark\",\"Iceland\",\"Switzerland\",\"Netherlands\",\"Sweden\",\"Norway\",\"Israel\",\"New Zealand\",\"Austria\",\"Australia\",\"Ireland\",\"Germany\",\"Canada\",\"United States\",\"United Kingdom\",\"Belgium\",\"France\",\"Bahrain\",\"Slovenia\",\"Costa Rica\",\"United Arab Emirates\",\"Saudi Arabia\",\"Singapore\",\"Romania\",\"Spain\",\"Uruguay\",\"Italy\",\"Kosovo\",\"Malta\",\"Lithuania\",\"Slovakia\",\"Estonia\",\"Panama\",\"Brazil\",\"Kazakhstan\",\"Cyprus\",\"Latvia\",\"Serbia\",\"Chile\",\"Nicaragua\",\"Mexico\",\"Croatia\",\"Poland\",\"El Salvador\",\"Hungary\",\"Mauritius\",\"Uzbekistan\",\"Japan\",\"Honduras\",\"Portugal\",\"Argentina\",\"Greece\",\"South Korea\",\"Philippines\",\"Thailand\",\"Moldova\",\"Jamaica\",\"Kyrgyzstan\",\"Colombia\",\"Bosnia and Herzegovina\",\"Mongolia\",\"Dominican Republic\",\"Malaysia\",\"Bolivia\",\"China\",\"Paraguay\",\"Peru\",\"Montenegro\",\"Ecuador\",\"Vietnam\",\"Russia\",\"Armenia\",\"Tajikistan\",\"Nepal\",\"Bulgaria\",\"Indonesia\",\"Ivory Coast\",\"Albania\",\"South Africa\",\"Bangladesh\",\"Algeria\",\"Ukraine\",\"Morocco\",\"Cameroon\",\"Senegal\",\"Georgia\",\"Gabon\",\"Iraq\",\"Venezuela\",\"Guinea\",\"Iran\",\"Ghana\",\"Turkey\",\"Burkina Faso\",\"Cambodia\",\"Benin\",\"Uganda\",\"Nigeria\",\"Kenya\",\"Tunisia\",\"Pakistan\",\"Mali\",\"Myanmar\",\"Sri Lanka\",\"Egypt\",\"Ethiopia\",\"Jordan\",\"Togo\",\"India\",\"Zambia\",\"Malawi\",\"Tanzania\",\"Sierra Leone\",\"Zimbabwe\",\"Lebanon\",\"Afghanistan\"],\"z\":[7.821,7.636,7.557,7.512,7.415,7.384,7.365,7.364,7.2,7.163,7.162,7.041,7.034,7.025,6.977,6.943,6.805,6.687,6.647,6.63,6.582,6.576,6.523,6.48,6.477,6.476,6.474,6.467,6.455,6.447,6.446,6.391,6.341,6.309,6.293,6.234,6.221,6.18,6.178,6.172,6.165,6.128,6.125,6.123,6.12,6.086,6.071,6.063,6.039,6.022,6.016,5.967,5.948,5.935,5.904,5.891,5.857,5.85,5.828,5.781,5.768,5.761,5.737,5.711,5.6,5.585,5.578,5.559,5.547,5.533,5.485,5.459,5.399,5.377,5.377,5.371,5.24,5.235,5.199,5.194,5.155,5.122,5.084,5.06,5.048,5.046,4.973,4.958,4.941,4.925,4.891,4.888,4.872,4.744,4.67,4.64,4.623,4.603,4.552,4.543,4.516,4.516,4.479,4.394,4.362,4.288,4.241,4.152,4.112,3.777,3.76,3.75,3.702,3.574,2.995,2.955,2.404],\"type\":\"choropleth\"}],                        {\"geo\":{\"projection\":{\"type\":\"equirectangular\"},\"showframe\":true},\"template\":{\"data\":{\"barpolar\":[{\"marker\":{\"line\":{\"color\":\"#E5ECF6\",\"width\":0.5},\"pattern\":{\"fillmode\":\"overlay\",\"size\":10,\"solidity\":0.2}},\"type\":\"barpolar\"}],\"bar\":[{\"error_x\":{\"color\":\"#2a3f5f\"},\"error_y\":{\"color\":\"#2a3f5f\"},\"marker\":{\"line\":{\"color\":\"#E5ECF6\",\"width\":0.5},\"pattern\":{\"fillmode\":\"overlay\",\"size\":10,\"solidity\":0.2}},\"type\":\"bar\"}],\"carpet\":[{\"aaxis\":{\"endlinecolor\":\"#2a3f5f\",\"gridcolor\":\"white\",\"linecolor\":\"white\",\"minorgridcolor\":\"white\",\"startlinecolor\":\"#2a3f5f\"},\"baxis\":{\"endlinecolor\":\"#2a3f5f\",\"gridcolor\":\"white\",\"linecolor\":\"white\",\"minorgridcolor\":\"white\",\"startlinecolor\":\"#2a3f5f\"},\"type\":\"carpet\"}],\"choropleth\":[{\"colorbar\":{\"outlinewidth\":0,\"ticks\":\"\"},\"type\":\"choropleth\"}],\"contourcarpet\":[{\"colorbar\":{\"outlinewidth\":0,\"ticks\":\"\"},\"type\":\"contourcarpet\"}],\"contour\":[{\"colorbar\":{\"outlinewidth\":0,\"ticks\":\"\"},\"colorscale\":[[0.0,\"#0d0887\"],[0.1111111111111111,\"#46039f\"],[0.2222222222222222,\"#7201a8\"],[0.3333333333333333,\"#9c179e\"],[0.4444444444444444,\"#bd3786\"],[0.5555555555555556,\"#d8576b\"],[0.6666666666666666,\"#ed7953\"],[0.7777777777777778,\"#fb9f3a\"],[0.8888888888888888,\"#fdca26\"],[1.0,\"#f0f921\"]],\"type\":\"contour\"}],\"heatmapgl\":[{\"colorbar\":{\"outlinewidth\":0,\"ticks\":\"\"},\"colorscale\":[[0.0,\"#0d0887\"],[0.1111111111111111,\"#46039f\"],[0.2222222222222222,\"#7201a8\"],[0.3333333333333333,\"#9c179e\"],[0.4444444444444444,\"#bd3786\"],[0.5555555555555556,\"#d8576b\"],[0.6666666666666666,\"#ed7953\"],[0.7777777777777778,\"#fb9f3a\"],[0.8888888888888888,\"#fdca26\"],[1.0,\"#f0f921\"]],\"type\":\"heatmapgl\"}],\"heatmap\":[{\"colorbar\":{\"outlinewidth\":0,\"ticks\":\"\"},\"colorscale\":[[0.0,\"#0d0887\"],[0.1111111111111111,\"#46039f\"],[0.2222222222222222,\"#7201a8\"],[0.3333333333333333,\"#9c179e\"],[0.4444444444444444,\"#bd3786\"],[0.5555555555555556,\"#d8576b\"],[0.6666666666666666,\"#ed7953\"],[0.7777777777777778,\"#fb9f3a\"],[0.8888888888888888,\"#fdca26\"],[1.0,\"#f0f921\"]],\"type\":\"heatmap\"}],\"histogram2dcontour\":[{\"colorbar\":{\"outlinewidth\":0,\"ticks\":\"\"},\"colorscale\":[[0.0,\"#0d0887\"],[0.1111111111111111,\"#46039f\"],[0.2222222222222222,\"#7201a8\"],[0.3333333333333333,\"#9c179e\"],[0.4444444444444444,\"#bd3786\"],[0.5555555555555556,\"#d8576b\"],[0.6666666666666666,\"#ed7953\"],[0.7777777777777778,\"#fb9f3a\"],[0.8888888888888888,\"#fdca26\"],[1.0,\"#f0f921\"]],\"type\":\"histogram2dcontour\"}],\"histogram2d\":[{\"colorbar\":{\"outlinewidth\":0,\"ticks\":\"\"},\"colorscale\":[[0.0,\"#0d0887\"],[0.1111111111111111,\"#46039f\"],[0.2222222222222222,\"#7201a8\"],[0.3333333333333333,\"#9c179e\"],[0.4444444444444444,\"#bd3786\"],[0.5555555555555556,\"#d8576b\"],[0.6666666666666666,\"#ed7953\"],[0.7777777777777778,\"#fb9f3a\"],[0.8888888888888888,\"#fdca26\"],[1.0,\"#f0f921\"]],\"type\":\"histogram2d\"}],\"histogram\":[{\"marker\":{\"pattern\":{\"fillmode\":\"overlay\",\"size\":10,\"solidity\":0.2}},\"type\":\"histogram\"}],\"mesh3d\":[{\"colorbar\":{\"outlinewidth\":0,\"ticks\":\"\"},\"type\":\"mesh3d\"}],\"parcoords\":[{\"line\":{\"colorbar\":{\"outlinewidth\":0,\"ticks\":\"\"}},\"type\":\"parcoords\"}],\"pie\":[{\"automargin\":true,\"type\":\"pie\"}],\"scatter3d\":[{\"line\":{\"colorbar\":{\"outlinewidth\":0,\"ticks\":\"\"}},\"marker\":{\"colorbar\":{\"outlinewidth\":0,\"ticks\":\"\"}},\"type\":\"scatter3d\"}],\"scattercarpet\":[{\"marker\":{\"colorbar\":{\"outlinewidth\":0,\"ticks\":\"\"}},\"type\":\"scattercarpet\"}],\"scattergeo\":[{\"marker\":{\"colorbar\":{\"outlinewidth\":0,\"ticks\":\"\"}},\"type\":\"scattergeo\"}],\"scattergl\":[{\"marker\":{\"colorbar\":{\"outlinewidth\":0,\"ticks\":\"\"}},\"type\":\"scattergl\"}],\"scattermapbox\":[{\"marker\":{\"colorbar\":{\"outlinewidth\":0,\"ticks\":\"\"}},\"type\":\"scattermapbox\"}],\"scatterpolargl\":[{\"marker\":{\"colorbar\":{\"outlinewidth\":0,\"ticks\":\"\"}},\"type\":\"scatterpolargl\"}],\"scatterpolar\":[{\"marker\":{\"colorbar\":{\"outlinewidth\":0,\"ticks\":\"\"}},\"type\":\"scatterpolar\"}],\"scatter\":[{\"marker\":{\"colorbar\":{\"outlinewidth\":0,\"ticks\":\"\"}},\"type\":\"scatter\"}],\"scatterternary\":[{\"marker\":{\"colorbar\":{\"outlinewidth\":0,\"ticks\":\"\"}},\"type\":\"scatterternary\"}],\"surface\":[{\"colorbar\":{\"outlinewidth\":0,\"ticks\":\"\"},\"colorscale\":[[0.0,\"#0d0887\"],[0.1111111111111111,\"#46039f\"],[0.2222222222222222,\"#7201a8\"],[0.3333333333333333,\"#9c179e\"],[0.4444444444444444,\"#bd3786\"],[0.5555555555555556,\"#d8576b\"],[0.6666666666666666,\"#ed7953\"],[0.7777777777777778,\"#fb9f3a\"],[0.8888888888888888,\"#fdca26\"],[1.0,\"#f0f921\"]],\"type\":\"surface\"}],\"table\":[{\"cells\":{\"fill\":{\"color\":\"#EBF0F8\"},\"line\":{\"color\":\"white\"}},\"header\":{\"fill\":{\"color\":\"#C8D4E3\"},\"line\":{\"color\":\"white\"}},\"type\":\"table\"}]},\"layout\":{\"annotationdefaults\":{\"arrowcolor\":\"#2a3f5f\",\"arrowhead\":0,\"arrowwidth\":1},\"autotypenumbers\":\"strict\",\"coloraxis\":{\"colorbar\":{\"outlinewidth\":0,\"ticks\":\"\"}},\"colorscale\":{\"diverging\":[[0,\"#8e0152\"],[0.1,\"#c51b7d\"],[0.2,\"#de77ae\"],[0.3,\"#f1b6da\"],[0.4,\"#fde0ef\"],[0.5,\"#f7f7f7\"],[0.6,\"#e6f5d0\"],[0.7,\"#b8e186\"],[0.8,\"#7fbc41\"],[0.9,\"#4d9221\"],[1,\"#276419\"]],\"sequential\":[[0.0,\"#0d0887\"],[0.1111111111111111,\"#46039f\"],[0.2222222222222222,\"#7201a8\"],[0.3333333333333333,\"#9c179e\"],[0.4444444444444444,\"#bd3786\"],[0.5555555555555556,\"#d8576b\"],[0.6666666666666666,\"#ed7953\"],[0.7777777777777778,\"#fb9f3a\"],[0.8888888888888888,\"#fdca26\"],[1.0,\"#f0f921\"]],\"sequentialminus\":[[0.0,\"#0d0887\"],[0.1111111111111111,\"#46039f\"],[0.2222222222222222,\"#7201a8\"],[0.3333333333333333,\"#9c179e\"],[0.4444444444444444,\"#bd3786\"],[0.5555555555555556,\"#d8576b\"],[0.6666666666666666,\"#ed7953\"],[0.7777777777777778,\"#fb9f3a\"],[0.8888888888888888,\"#fdca26\"],[1.0,\"#f0f921\"]]},\"colorway\":[\"#636efa\",\"#EF553B\",\"#00cc96\",\"#ab63fa\",\"#FFA15A\",\"#19d3f3\",\"#FF6692\",\"#B6E880\",\"#FF97FF\",\"#FECB52\"],\"font\":{\"color\":\"#2a3f5f\"},\"geo\":{\"bgcolor\":\"white\",\"lakecolor\":\"white\",\"landcolor\":\"#E5ECF6\",\"showlakes\":true,\"showland\":true,\"subunitcolor\":\"white\"},\"hoverlabel\":{\"align\":\"left\"},\"hovermode\":\"closest\",\"mapbox\":{\"style\":\"light\"},\"paper_bgcolor\":\"white\",\"plot_bgcolor\":\"#E5ECF6\",\"polar\":{\"angularaxis\":{\"gridcolor\":\"white\",\"linecolor\":\"white\",\"ticks\":\"\"},\"bgcolor\":\"#E5ECF6\",\"radialaxis\":{\"gridcolor\":\"white\",\"linecolor\":\"white\",\"ticks\":\"\"}},\"scene\":{\"xaxis\":{\"backgroundcolor\":\"#E5ECF6\",\"gridcolor\":\"white\",\"gridwidth\":2,\"linecolor\":\"white\",\"showbackground\":true,\"ticks\":\"\",\"zerolinecolor\":\"white\"},\"yaxis\":{\"backgroundcolor\":\"#E5ECF6\",\"gridcolor\":\"white\",\"gridwidth\":2,\"linecolor\":\"white\",\"showbackground\":true,\"ticks\":\"\",\"zerolinecolor\":\"white\"},\"zaxis\":{\"backgroundcolor\":\"#E5ECF6\",\"gridcolor\":\"white\",\"gridwidth\":2,\"linecolor\":\"white\",\"showbackground\":true,\"ticks\":\"\",\"zerolinecolor\":\"white\"}},\"shapedefaults\":{\"line\":{\"color\":\"#2a3f5f\"}},\"ternary\":{\"aaxis\":{\"gridcolor\":\"white\",\"linecolor\":\"white\",\"ticks\":\"\"},\"baxis\":{\"gridcolor\":\"white\",\"linecolor\":\"white\",\"ticks\":\"\"},\"bgcolor\":\"#E5ECF6\",\"caxis\":{\"gridcolor\":\"white\",\"linecolor\":\"white\",\"ticks\":\"\"}},\"title\":{\"x\":0.05},\"xaxis\":{\"automargin\":true,\"gridcolor\":\"white\",\"linecolor\":\"white\",\"ticks\":\"\",\"title\":{\"standoff\":15},\"zerolinecolor\":\"white\",\"zerolinewidth\":2},\"yaxis\":{\"automargin\":true,\"gridcolor\":\"white\",\"linecolor\":\"white\",\"ticks\":\"\",\"title\":{\"standoff\":15},\"zerolinecolor\":\"white\",\"zerolinewidth\":2}}},\"title\":{\"text\":\"Happiness Score Across The World in 2022\"}},                        {\"responsive\": true}                    ).then(function(){\n",
       "                            \n",
       "var gd = document.getElementById('4e73357e-925d-4ce0-9809-344e3525759f');\n",
       "var x = new MutationObserver(function (mutations, observer) {{\n",
       "        var display = window.getComputedStyle(gd).display;\n",
       "        if (!display || display === 'none') {{\n",
       "            console.log([gd, 'removed!']);\n",
       "            Plotly.purge(gd);\n",
       "            observer.disconnect();\n",
       "        }}\n",
       "}});\n",
       "\n",
       "// Listen for the removal of the full notebook cells\n",
       "var notebookContainer = gd.closest('#notebook-container');\n",
       "if (notebookContainer) {{\n",
       "    x.observe(notebookContainer, {childList: true});\n",
       "}}\n",
       "\n",
       "// Listen for the clearing of the current output cell\n",
       "var outputEl = gd.closest('.output');\n",
       "if (outputEl) {{\n",
       "    x.observe(outputEl, {childList: true});\n",
       "}}\n",
       "\n",
       "                        })                };                });            </script>        </div>"
      ]
     },
     "metadata": {},
     "output_type": "display_data"
    }
   ],
   "source": [
    "map_happy = dict(type = 'choropleth', \n",
    "           locations = data_2022['Country'],\n",
    "           locationmode = 'country names',\n",
    "           z = data_2022['Happiness Score'], \n",
    "           text =data_2022['Country'],\n",
    "           colorbar = {'title':'Happiness Score'},\n",
    "           colorscale = 'Viridis')\n",
    "layout = dict(title = 'Happiness Score Across The World in 2022', \n",
    "              geo = dict(showframe = True, projection = {'type': 'equirectangular'}))\n",
    "\n",
    "choromap3 = go.Figure(data = [map_happy], layout=layout)\n",
    "iplot(choromap3)"
   ]
  },
  {
   "cell_type": "code",
   "execution_count": 41,
   "id": "993e7490",
   "metadata": {},
   "outputs": [
    {
     "data": {
      "application/vnd.plotly.v1+json": {
       "config": {
        "linkText": "Export to plot.ly",
        "plotlyServerURL": "https://plot.ly",
        "showLink": false
       },
       "data": [
        {
         "colorbar": {
          "title": {
           "text": "Health (Life Expectancy)"
          }
         },
         "colorscale": [
          [
           0,
           "#440154"
          ],
          [
           0.1111111111111111,
           "#482878"
          ],
          [
           0.2222222222222222,
           "#3e4989"
          ],
          [
           0.3333333333333333,
           "#31688e"
          ],
          [
           0.4444444444444444,
           "#26828e"
          ],
          [
           0.5555555555555556,
           "#1f9e89"
          ],
          [
           0.6666666666666666,
           "#35b779"
          ],
          [
           0.7777777777777778,
           "#6ece58"
          ],
          [
           0.8888888888888888,
           "#b5de2b"
          ],
          [
           1,
           "#fde725"
          ]
         ],
         "locationmode": "country names",
         "locations": [
          "Finland",
          "Denmark",
          "Iceland",
          "Switzerland",
          "Netherlands",
          "Sweden",
          "Norway",
          "Israel",
          "New Zealand",
          "Austria",
          "Australia",
          "Ireland",
          "Germany",
          "Canada",
          "United States",
          "United Kingdom",
          "Belgium",
          "France",
          "Bahrain",
          "Slovenia",
          "Costa Rica",
          "United Arab Emirates",
          "Saudi Arabia",
          "Singapore",
          "Romania",
          "Spain",
          "Uruguay",
          "Italy",
          "Kosovo",
          "Malta",
          "Lithuania",
          "Slovakia",
          "Estonia",
          "Panama",
          "Brazil",
          "Kazakhstan",
          "Cyprus",
          "Latvia",
          "Serbia",
          "Chile",
          "Nicaragua",
          "Mexico",
          "Croatia",
          "Poland",
          "El Salvador",
          "Hungary",
          "Mauritius",
          "Uzbekistan",
          "Japan",
          "Honduras",
          "Portugal",
          "Argentina",
          "Greece",
          "South Korea",
          "Philippines",
          "Thailand",
          "Moldova",
          "Jamaica",
          "Kyrgyzstan",
          "Colombia",
          "Bosnia and Herzegovina",
          "Mongolia",
          "Dominican Republic",
          "Malaysia",
          "Bolivia",
          "China",
          "Paraguay",
          "Peru",
          "Montenegro",
          "Ecuador",
          "Vietnam",
          "Russia",
          "Armenia",
          "Tajikistan",
          "Nepal",
          "Bulgaria",
          "Indonesia",
          "Ivory Coast",
          "Albania",
          "South Africa",
          "Bangladesh",
          "Algeria",
          "Ukraine",
          "Morocco",
          "Cameroon",
          "Senegal",
          "Georgia",
          "Gabon",
          "Iraq",
          "Venezuela",
          "Guinea",
          "Iran",
          "Ghana",
          "Turkey",
          "Burkina Faso",
          "Cambodia",
          "Benin",
          "Uganda",
          "Nigeria",
          "Kenya",
          "Tunisia",
          "Pakistan",
          "Mali",
          "Myanmar",
          "Sri Lanka",
          "Egypt",
          "Ethiopia",
          "Jordan",
          "Togo",
          "India",
          "Zambia",
          "Malawi",
          "Tanzania",
          "Sierra Leone",
          "Zimbabwe",
          "Lebanon",
          "Afghanistan"
         ],
         "text": [
          "Finland",
          "Denmark",
          "Iceland",
          "Switzerland",
          "Netherlands",
          "Sweden",
          "Norway",
          "Israel",
          "New Zealand",
          "Austria",
          "Australia",
          "Ireland",
          "Germany",
          "Canada",
          "United States",
          "United Kingdom",
          "Belgium",
          "France",
          "Bahrain",
          "Slovenia",
          "Costa Rica",
          "United Arab Emirates",
          "Saudi Arabia",
          "Singapore",
          "Romania",
          "Spain",
          "Uruguay",
          "Italy",
          "Kosovo",
          "Malta",
          "Lithuania",
          "Slovakia",
          "Estonia",
          "Panama",
          "Brazil",
          "Kazakhstan",
          "Cyprus",
          "Latvia",
          "Serbia",
          "Chile",
          "Nicaragua",
          "Mexico",
          "Croatia",
          "Poland",
          "El Salvador",
          "Hungary",
          "Mauritius",
          "Uzbekistan",
          "Japan",
          "Honduras",
          "Portugal",
          "Argentina",
          "Greece",
          "South Korea",
          "Philippines",
          "Thailand",
          "Moldova",
          "Jamaica",
          "Kyrgyzstan",
          "Colombia",
          "Bosnia and Herzegovina",
          "Mongolia",
          "Dominican Republic",
          "Malaysia",
          "Bolivia",
          "China",
          "Paraguay",
          "Peru",
          "Montenegro",
          "Ecuador",
          "Vietnam",
          "Russia",
          "Armenia",
          "Tajikistan",
          "Nepal",
          "Bulgaria",
          "Indonesia",
          "Ivory Coast",
          "Albania",
          "South Africa",
          "Bangladesh",
          "Algeria",
          "Ukraine",
          "Morocco",
          "Cameroon",
          "Senegal",
          "Georgia",
          "Gabon",
          "Iraq",
          "Venezuela",
          "Guinea",
          "Iran",
          "Ghana",
          "Turkey",
          "Burkina Faso",
          "Cambodia",
          "Benin",
          "Uganda",
          "Nigeria",
          "Kenya",
          "Tunisia",
          "Pakistan",
          "Mali",
          "Myanmar",
          "Sri Lanka",
          "Egypt",
          "Ethiopia",
          "Jordan",
          "Togo",
          "India",
          "Zambia",
          "Malawi",
          "Tanzania",
          "Sierra Leone",
          "Zimbabwe",
          "Lebanon",
          "Afghanistan"
         ],
         "type": "choropleth",
         "z": [
          77.5,
          77.7,
          80.30000000000001,
          82.19999999999999,
          78.7,
          80.30000000000001,
          78.60000000000001,
          81.8,
          75.2,
          77.4,
          77.2,
          77.9,
          77.60000000000001,
          78.3,
          62.8,
          75,
          76.4,
          80.80000000000001,
          62.5,
          76.9,
          74.4,
          63.3,
          57.7,
          85.1,
          65.5,
          80.80000000000001,
          67.2,
          80.10000000000001,
          56.89999999999999,
          78.9,
          65.9,
          70.7,
          72.8,
          70.89999999999999,
          61.5,
          61.1,
          81.89999999999999,
          63.7,
          65.8,
          74.8,
          61.7,
          62.3,
          70.89999999999999,
          71.2,
          60.7,
          66.8,
          56.8,
          60,
          86.6,
          55.50000000000001,
          77.7,
          66.2,
          77.4,
          84.1,
          51.4,
          69.69999999999999,
          59.7,
          64.60000000000001,
          63.8,
          72,
          66.5,
          46.7,
          57.7,
          62,
          55.50000000000001,
          70.5,
          62.4,
          73.5,
          65.9,
          70.8,
          61.1,
          58.6,
          66.8,
          51.8,
          49.9,
          64,
          53.900000000000006,
          32.2,
          71.89999999999999,
          36.1,
          58.1,
          64.3,
          58.3,
          56.49999999999999,
          31.7,
          44.7,
          59.5,
          39.6,
          55.400000000000006,
          57.8,
          27.500000000000004,
          64.2,
          40.9,
          70.19999999999999,
          32,
          50.5,
          33.5,
          41.8,
          30,
          40.1,
          65.60000000000001,
          37.4,
          31.1,
          49.1,
          66,
          54.8,
          45.7,
          67.5,
          36,
          47.1,
          30.6,
          38.8,
          42.5,
          27.3,
          27,
          63.1,
          28.9
         ]
        }
       ],
       "layout": {
        "geo": {
         "projection": {
          "type": "equirectangular"
         },
         "showframe": true
        },
        "template": {
         "data": {
          "bar": [
           {
            "error_x": {
             "color": "#2a3f5f"
            },
            "error_y": {
             "color": "#2a3f5f"
            },
            "marker": {
             "line": {
              "color": "#E5ECF6",
              "width": 0.5
             },
             "pattern": {
              "fillmode": "overlay",
              "size": 10,
              "solidity": 0.2
             }
            },
            "type": "bar"
           }
          ],
          "barpolar": [
           {
            "marker": {
             "line": {
              "color": "#E5ECF6",
              "width": 0.5
             },
             "pattern": {
              "fillmode": "overlay",
              "size": 10,
              "solidity": 0.2
             }
            },
            "type": "barpolar"
           }
          ],
          "carpet": [
           {
            "aaxis": {
             "endlinecolor": "#2a3f5f",
             "gridcolor": "white",
             "linecolor": "white",
             "minorgridcolor": "white",
             "startlinecolor": "#2a3f5f"
            },
            "baxis": {
             "endlinecolor": "#2a3f5f",
             "gridcolor": "white",
             "linecolor": "white",
             "minorgridcolor": "white",
             "startlinecolor": "#2a3f5f"
            },
            "type": "carpet"
           }
          ],
          "choropleth": [
           {
            "colorbar": {
             "outlinewidth": 0,
             "ticks": ""
            },
            "type": "choropleth"
           }
          ],
          "contour": [
           {
            "colorbar": {
             "outlinewidth": 0,
             "ticks": ""
            },
            "colorscale": [
             [
              0,
              "#0d0887"
             ],
             [
              0.1111111111111111,
              "#46039f"
             ],
             [
              0.2222222222222222,
              "#7201a8"
             ],
             [
              0.3333333333333333,
              "#9c179e"
             ],
             [
              0.4444444444444444,
              "#bd3786"
             ],
             [
              0.5555555555555556,
              "#d8576b"
             ],
             [
              0.6666666666666666,
              "#ed7953"
             ],
             [
              0.7777777777777778,
              "#fb9f3a"
             ],
             [
              0.8888888888888888,
              "#fdca26"
             ],
             [
              1,
              "#f0f921"
             ]
            ],
            "type": "contour"
           }
          ],
          "contourcarpet": [
           {
            "colorbar": {
             "outlinewidth": 0,
             "ticks": ""
            },
            "type": "contourcarpet"
           }
          ],
          "heatmap": [
           {
            "colorbar": {
             "outlinewidth": 0,
             "ticks": ""
            },
            "colorscale": [
             [
              0,
              "#0d0887"
             ],
             [
              0.1111111111111111,
              "#46039f"
             ],
             [
              0.2222222222222222,
              "#7201a8"
             ],
             [
              0.3333333333333333,
              "#9c179e"
             ],
             [
              0.4444444444444444,
              "#bd3786"
             ],
             [
              0.5555555555555556,
              "#d8576b"
             ],
             [
              0.6666666666666666,
              "#ed7953"
             ],
             [
              0.7777777777777778,
              "#fb9f3a"
             ],
             [
              0.8888888888888888,
              "#fdca26"
             ],
             [
              1,
              "#f0f921"
             ]
            ],
            "type": "heatmap"
           }
          ],
          "heatmapgl": [
           {
            "colorbar": {
             "outlinewidth": 0,
             "ticks": ""
            },
            "colorscale": [
             [
              0,
              "#0d0887"
             ],
             [
              0.1111111111111111,
              "#46039f"
             ],
             [
              0.2222222222222222,
              "#7201a8"
             ],
             [
              0.3333333333333333,
              "#9c179e"
             ],
             [
              0.4444444444444444,
              "#bd3786"
             ],
             [
              0.5555555555555556,
              "#d8576b"
             ],
             [
              0.6666666666666666,
              "#ed7953"
             ],
             [
              0.7777777777777778,
              "#fb9f3a"
             ],
             [
              0.8888888888888888,
              "#fdca26"
             ],
             [
              1,
              "#f0f921"
             ]
            ],
            "type": "heatmapgl"
           }
          ],
          "histogram": [
           {
            "marker": {
             "pattern": {
              "fillmode": "overlay",
              "size": 10,
              "solidity": 0.2
             }
            },
            "type": "histogram"
           }
          ],
          "histogram2d": [
           {
            "colorbar": {
             "outlinewidth": 0,
             "ticks": ""
            },
            "colorscale": [
             [
              0,
              "#0d0887"
             ],
             [
              0.1111111111111111,
              "#46039f"
             ],
             [
              0.2222222222222222,
              "#7201a8"
             ],
             [
              0.3333333333333333,
              "#9c179e"
             ],
             [
              0.4444444444444444,
              "#bd3786"
             ],
             [
              0.5555555555555556,
              "#d8576b"
             ],
             [
              0.6666666666666666,
              "#ed7953"
             ],
             [
              0.7777777777777778,
              "#fb9f3a"
             ],
             [
              0.8888888888888888,
              "#fdca26"
             ],
             [
              1,
              "#f0f921"
             ]
            ],
            "type": "histogram2d"
           }
          ],
          "histogram2dcontour": [
           {
            "colorbar": {
             "outlinewidth": 0,
             "ticks": ""
            },
            "colorscale": [
             [
              0,
              "#0d0887"
             ],
             [
              0.1111111111111111,
              "#46039f"
             ],
             [
              0.2222222222222222,
              "#7201a8"
             ],
             [
              0.3333333333333333,
              "#9c179e"
             ],
             [
              0.4444444444444444,
              "#bd3786"
             ],
             [
              0.5555555555555556,
              "#d8576b"
             ],
             [
              0.6666666666666666,
              "#ed7953"
             ],
             [
              0.7777777777777778,
              "#fb9f3a"
             ],
             [
              0.8888888888888888,
              "#fdca26"
             ],
             [
              1,
              "#f0f921"
             ]
            ],
            "type": "histogram2dcontour"
           }
          ],
          "mesh3d": [
           {
            "colorbar": {
             "outlinewidth": 0,
             "ticks": ""
            },
            "type": "mesh3d"
           }
          ],
          "parcoords": [
           {
            "line": {
             "colorbar": {
              "outlinewidth": 0,
              "ticks": ""
             }
            },
            "type": "parcoords"
           }
          ],
          "pie": [
           {
            "automargin": true,
            "type": "pie"
           }
          ],
          "scatter": [
           {
            "marker": {
             "colorbar": {
              "outlinewidth": 0,
              "ticks": ""
             }
            },
            "type": "scatter"
           }
          ],
          "scatter3d": [
           {
            "line": {
             "colorbar": {
              "outlinewidth": 0,
              "ticks": ""
             }
            },
            "marker": {
             "colorbar": {
              "outlinewidth": 0,
              "ticks": ""
             }
            },
            "type": "scatter3d"
           }
          ],
          "scattercarpet": [
           {
            "marker": {
             "colorbar": {
              "outlinewidth": 0,
              "ticks": ""
             }
            },
            "type": "scattercarpet"
           }
          ],
          "scattergeo": [
           {
            "marker": {
             "colorbar": {
              "outlinewidth": 0,
              "ticks": ""
             }
            },
            "type": "scattergeo"
           }
          ],
          "scattergl": [
           {
            "marker": {
             "colorbar": {
              "outlinewidth": 0,
              "ticks": ""
             }
            },
            "type": "scattergl"
           }
          ],
          "scattermapbox": [
           {
            "marker": {
             "colorbar": {
              "outlinewidth": 0,
              "ticks": ""
             }
            },
            "type": "scattermapbox"
           }
          ],
          "scatterpolar": [
           {
            "marker": {
             "colorbar": {
              "outlinewidth": 0,
              "ticks": ""
             }
            },
            "type": "scatterpolar"
           }
          ],
          "scatterpolargl": [
           {
            "marker": {
             "colorbar": {
              "outlinewidth": 0,
              "ticks": ""
             }
            },
            "type": "scatterpolargl"
           }
          ],
          "scatterternary": [
           {
            "marker": {
             "colorbar": {
              "outlinewidth": 0,
              "ticks": ""
             }
            },
            "type": "scatterternary"
           }
          ],
          "surface": [
           {
            "colorbar": {
             "outlinewidth": 0,
             "ticks": ""
            },
            "colorscale": [
             [
              0,
              "#0d0887"
             ],
             [
              0.1111111111111111,
              "#46039f"
             ],
             [
              0.2222222222222222,
              "#7201a8"
             ],
             [
              0.3333333333333333,
              "#9c179e"
             ],
             [
              0.4444444444444444,
              "#bd3786"
             ],
             [
              0.5555555555555556,
              "#d8576b"
             ],
             [
              0.6666666666666666,
              "#ed7953"
             ],
             [
              0.7777777777777778,
              "#fb9f3a"
             ],
             [
              0.8888888888888888,
              "#fdca26"
             ],
             [
              1,
              "#f0f921"
             ]
            ],
            "type": "surface"
           }
          ],
          "table": [
           {
            "cells": {
             "fill": {
              "color": "#EBF0F8"
             },
             "line": {
              "color": "white"
             }
            },
            "header": {
             "fill": {
              "color": "#C8D4E3"
             },
             "line": {
              "color": "white"
             }
            },
            "type": "table"
           }
          ]
         },
         "layout": {
          "annotationdefaults": {
           "arrowcolor": "#2a3f5f",
           "arrowhead": 0,
           "arrowwidth": 1
          },
          "autotypenumbers": "strict",
          "coloraxis": {
           "colorbar": {
            "outlinewidth": 0,
            "ticks": ""
           }
          },
          "colorscale": {
           "diverging": [
            [
             0,
             "#8e0152"
            ],
            [
             0.1,
             "#c51b7d"
            ],
            [
             0.2,
             "#de77ae"
            ],
            [
             0.3,
             "#f1b6da"
            ],
            [
             0.4,
             "#fde0ef"
            ],
            [
             0.5,
             "#f7f7f7"
            ],
            [
             0.6,
             "#e6f5d0"
            ],
            [
             0.7,
             "#b8e186"
            ],
            [
             0.8,
             "#7fbc41"
            ],
            [
             0.9,
             "#4d9221"
            ],
            [
             1,
             "#276419"
            ]
           ],
           "sequential": [
            [
             0,
             "#0d0887"
            ],
            [
             0.1111111111111111,
             "#46039f"
            ],
            [
             0.2222222222222222,
             "#7201a8"
            ],
            [
             0.3333333333333333,
             "#9c179e"
            ],
            [
             0.4444444444444444,
             "#bd3786"
            ],
            [
             0.5555555555555556,
             "#d8576b"
            ],
            [
             0.6666666666666666,
             "#ed7953"
            ],
            [
             0.7777777777777778,
             "#fb9f3a"
            ],
            [
             0.8888888888888888,
             "#fdca26"
            ],
            [
             1,
             "#f0f921"
            ]
           ],
           "sequentialminus": [
            [
             0,
             "#0d0887"
            ],
            [
             0.1111111111111111,
             "#46039f"
            ],
            [
             0.2222222222222222,
             "#7201a8"
            ],
            [
             0.3333333333333333,
             "#9c179e"
            ],
            [
             0.4444444444444444,
             "#bd3786"
            ],
            [
             0.5555555555555556,
             "#d8576b"
            ],
            [
             0.6666666666666666,
             "#ed7953"
            ],
            [
             0.7777777777777778,
             "#fb9f3a"
            ],
            [
             0.8888888888888888,
             "#fdca26"
            ],
            [
             1,
             "#f0f921"
            ]
           ]
          },
          "colorway": [
           "#636efa",
           "#EF553B",
           "#00cc96",
           "#ab63fa",
           "#FFA15A",
           "#19d3f3",
           "#FF6692",
           "#B6E880",
           "#FF97FF",
           "#FECB52"
          ],
          "font": {
           "color": "#2a3f5f"
          },
          "geo": {
           "bgcolor": "white",
           "lakecolor": "white",
           "landcolor": "#E5ECF6",
           "showlakes": true,
           "showland": true,
           "subunitcolor": "white"
          },
          "hoverlabel": {
           "align": "left"
          },
          "hovermode": "closest",
          "mapbox": {
           "style": "light"
          },
          "paper_bgcolor": "white",
          "plot_bgcolor": "#E5ECF6",
          "polar": {
           "angularaxis": {
            "gridcolor": "white",
            "linecolor": "white",
            "ticks": ""
           },
           "bgcolor": "#E5ECF6",
           "radialaxis": {
            "gridcolor": "white",
            "linecolor": "white",
            "ticks": ""
           }
          },
          "scene": {
           "xaxis": {
            "backgroundcolor": "#E5ECF6",
            "gridcolor": "white",
            "gridwidth": 2,
            "linecolor": "white",
            "showbackground": true,
            "ticks": "",
            "zerolinecolor": "white"
           },
           "yaxis": {
            "backgroundcolor": "#E5ECF6",
            "gridcolor": "white",
            "gridwidth": 2,
            "linecolor": "white",
            "showbackground": true,
            "ticks": "",
            "zerolinecolor": "white"
           },
           "zaxis": {
            "backgroundcolor": "#E5ECF6",
            "gridcolor": "white",
            "gridwidth": 2,
            "linecolor": "white",
            "showbackground": true,
            "ticks": "",
            "zerolinecolor": "white"
           }
          },
          "shapedefaults": {
           "line": {
            "color": "#2a3f5f"
           }
          },
          "ternary": {
           "aaxis": {
            "gridcolor": "white",
            "linecolor": "white",
            "ticks": ""
           },
           "baxis": {
            "gridcolor": "white",
            "linecolor": "white",
            "ticks": ""
           },
           "bgcolor": "#E5ECF6",
           "caxis": {
            "gridcolor": "white",
            "linecolor": "white",
            "ticks": ""
           }
          },
          "title": {
           "x": 0.05
          },
          "xaxis": {
           "automargin": true,
           "gridcolor": "white",
           "linecolor": "white",
           "ticks": "",
           "title": {
            "standoff": 15
           },
           "zerolinecolor": "white",
           "zerolinewidth": 2
          },
          "yaxis": {
           "automargin": true,
           "gridcolor": "white",
           "linecolor": "white",
           "ticks": "",
           "title": {
            "standoff": 15
           },
           "zerolinecolor": "white",
           "zerolinewidth": 2
          }
         }
        },
        "title": {
         "text": "Health (Life Expectancy) Across the world in 2022)"
        }
       }
      },
      "text/html": [
       "<div>                            <div id=\"18f0c493-2623-4a35-b13c-908bdf93170b\" class=\"plotly-graph-div\" style=\"height:525px; width:100%;\"></div>            <script type=\"text/javascript\">                require([\"plotly\"], function(Plotly) {                    window.PLOTLYENV=window.PLOTLYENV || {};                                    if (document.getElementById(\"18f0c493-2623-4a35-b13c-908bdf93170b\")) {                    Plotly.newPlot(                        \"18f0c493-2623-4a35-b13c-908bdf93170b\",                        [{\"colorbar\":{\"title\":{\"text\":\"Health (Life Expectancy)\"}},\"colorscale\":[[0.0,\"#440154\"],[0.1111111111111111,\"#482878\"],[0.2222222222222222,\"#3e4989\"],[0.3333333333333333,\"#31688e\"],[0.4444444444444444,\"#26828e\"],[0.5555555555555556,\"#1f9e89\"],[0.6666666666666666,\"#35b779\"],[0.7777777777777778,\"#6ece58\"],[0.8888888888888888,\"#b5de2b\"],[1.0,\"#fde725\"]],\"locationmode\":\"country names\",\"locations\":[\"Finland\",\"Denmark\",\"Iceland\",\"Switzerland\",\"Netherlands\",\"Sweden\",\"Norway\",\"Israel\",\"New Zealand\",\"Austria\",\"Australia\",\"Ireland\",\"Germany\",\"Canada\",\"United States\",\"United Kingdom\",\"Belgium\",\"France\",\"Bahrain\",\"Slovenia\",\"Costa Rica\",\"United Arab Emirates\",\"Saudi Arabia\",\"Singapore\",\"Romania\",\"Spain\",\"Uruguay\",\"Italy\",\"Kosovo\",\"Malta\",\"Lithuania\",\"Slovakia\",\"Estonia\",\"Panama\",\"Brazil\",\"Kazakhstan\",\"Cyprus\",\"Latvia\",\"Serbia\",\"Chile\",\"Nicaragua\",\"Mexico\",\"Croatia\",\"Poland\",\"El Salvador\",\"Hungary\",\"Mauritius\",\"Uzbekistan\",\"Japan\",\"Honduras\",\"Portugal\",\"Argentina\",\"Greece\",\"South Korea\",\"Philippines\",\"Thailand\",\"Moldova\",\"Jamaica\",\"Kyrgyzstan\",\"Colombia\",\"Bosnia and Herzegovina\",\"Mongolia\",\"Dominican Republic\",\"Malaysia\",\"Bolivia\",\"China\",\"Paraguay\",\"Peru\",\"Montenegro\",\"Ecuador\",\"Vietnam\",\"Russia\",\"Armenia\",\"Tajikistan\",\"Nepal\",\"Bulgaria\",\"Indonesia\",\"Ivory Coast\",\"Albania\",\"South Africa\",\"Bangladesh\",\"Algeria\",\"Ukraine\",\"Morocco\",\"Cameroon\",\"Senegal\",\"Georgia\",\"Gabon\",\"Iraq\",\"Venezuela\",\"Guinea\",\"Iran\",\"Ghana\",\"Turkey\",\"Burkina Faso\",\"Cambodia\",\"Benin\",\"Uganda\",\"Nigeria\",\"Kenya\",\"Tunisia\",\"Pakistan\",\"Mali\",\"Myanmar\",\"Sri Lanka\",\"Egypt\",\"Ethiopia\",\"Jordan\",\"Togo\",\"India\",\"Zambia\",\"Malawi\",\"Tanzania\",\"Sierra Leone\",\"Zimbabwe\",\"Lebanon\",\"Afghanistan\"],\"text\":[\"Finland\",\"Denmark\",\"Iceland\",\"Switzerland\",\"Netherlands\",\"Sweden\",\"Norway\",\"Israel\",\"New Zealand\",\"Austria\",\"Australia\",\"Ireland\",\"Germany\",\"Canada\",\"United States\",\"United Kingdom\",\"Belgium\",\"France\",\"Bahrain\",\"Slovenia\",\"Costa Rica\",\"United Arab Emirates\",\"Saudi Arabia\",\"Singapore\",\"Romania\",\"Spain\",\"Uruguay\",\"Italy\",\"Kosovo\",\"Malta\",\"Lithuania\",\"Slovakia\",\"Estonia\",\"Panama\",\"Brazil\",\"Kazakhstan\",\"Cyprus\",\"Latvia\",\"Serbia\",\"Chile\",\"Nicaragua\",\"Mexico\",\"Croatia\",\"Poland\",\"El Salvador\",\"Hungary\",\"Mauritius\",\"Uzbekistan\",\"Japan\",\"Honduras\",\"Portugal\",\"Argentina\",\"Greece\",\"South Korea\",\"Philippines\",\"Thailand\",\"Moldova\",\"Jamaica\",\"Kyrgyzstan\",\"Colombia\",\"Bosnia and Herzegovina\",\"Mongolia\",\"Dominican Republic\",\"Malaysia\",\"Bolivia\",\"China\",\"Paraguay\",\"Peru\",\"Montenegro\",\"Ecuador\",\"Vietnam\",\"Russia\",\"Armenia\",\"Tajikistan\",\"Nepal\",\"Bulgaria\",\"Indonesia\",\"Ivory Coast\",\"Albania\",\"South Africa\",\"Bangladesh\",\"Algeria\",\"Ukraine\",\"Morocco\",\"Cameroon\",\"Senegal\",\"Georgia\",\"Gabon\",\"Iraq\",\"Venezuela\",\"Guinea\",\"Iran\",\"Ghana\",\"Turkey\",\"Burkina Faso\",\"Cambodia\",\"Benin\",\"Uganda\",\"Nigeria\",\"Kenya\",\"Tunisia\",\"Pakistan\",\"Mali\",\"Myanmar\",\"Sri Lanka\",\"Egypt\",\"Ethiopia\",\"Jordan\",\"Togo\",\"India\",\"Zambia\",\"Malawi\",\"Tanzania\",\"Sierra Leone\",\"Zimbabwe\",\"Lebanon\",\"Afghanistan\"],\"z\":[77.5,77.7,80.30000000000001,82.19999999999999,78.7,80.30000000000001,78.60000000000001,81.8,75.2,77.4,77.2,77.9,77.60000000000001,78.3,62.8,75.0,76.4,80.80000000000001,62.5,76.9,74.4,63.3,57.7,85.1,65.5,80.80000000000001,67.2,80.10000000000001,56.89999999999999,78.9,65.9,70.7,72.8,70.89999999999999,61.5,61.1,81.89999999999999,63.7,65.8,74.8,61.7,62.3,70.89999999999999,71.2,60.7,66.8,56.8,60.0,86.6,55.50000000000001,77.7,66.2,77.4,84.1,51.4,69.69999999999999,59.7,64.60000000000001,63.8,72.0,66.5,46.7,57.7,62.0,55.50000000000001,70.5,62.4,73.5,65.9,70.8,61.1,58.6,66.8,51.8,49.9,64.0,53.900000000000006,32.2,71.89999999999999,36.1,58.1,64.3,58.3,56.49999999999999,31.7,44.7,59.5,39.6,55.400000000000006,57.8,27.500000000000004,64.2,40.9,70.19999999999999,32.0,50.5,33.5,41.8,30.0,40.1,65.60000000000001,37.4,31.1,49.1,66.0,54.8,45.7,67.5,36.0,47.1,30.6,38.8,42.5,27.3,27.0,63.1,28.9],\"type\":\"choropleth\"}],                        {\"geo\":{\"projection\":{\"type\":\"equirectangular\"},\"showframe\":true},\"template\":{\"data\":{\"barpolar\":[{\"marker\":{\"line\":{\"color\":\"#E5ECF6\",\"width\":0.5},\"pattern\":{\"fillmode\":\"overlay\",\"size\":10,\"solidity\":0.2}},\"type\":\"barpolar\"}],\"bar\":[{\"error_x\":{\"color\":\"#2a3f5f\"},\"error_y\":{\"color\":\"#2a3f5f\"},\"marker\":{\"line\":{\"color\":\"#E5ECF6\",\"width\":0.5},\"pattern\":{\"fillmode\":\"overlay\",\"size\":10,\"solidity\":0.2}},\"type\":\"bar\"}],\"carpet\":[{\"aaxis\":{\"endlinecolor\":\"#2a3f5f\",\"gridcolor\":\"white\",\"linecolor\":\"white\",\"minorgridcolor\":\"white\",\"startlinecolor\":\"#2a3f5f\"},\"baxis\":{\"endlinecolor\":\"#2a3f5f\",\"gridcolor\":\"white\",\"linecolor\":\"white\",\"minorgridcolor\":\"white\",\"startlinecolor\":\"#2a3f5f\"},\"type\":\"carpet\"}],\"choropleth\":[{\"colorbar\":{\"outlinewidth\":0,\"ticks\":\"\"},\"type\":\"choropleth\"}],\"contourcarpet\":[{\"colorbar\":{\"outlinewidth\":0,\"ticks\":\"\"},\"type\":\"contourcarpet\"}],\"contour\":[{\"colorbar\":{\"outlinewidth\":0,\"ticks\":\"\"},\"colorscale\":[[0.0,\"#0d0887\"],[0.1111111111111111,\"#46039f\"],[0.2222222222222222,\"#7201a8\"],[0.3333333333333333,\"#9c179e\"],[0.4444444444444444,\"#bd3786\"],[0.5555555555555556,\"#d8576b\"],[0.6666666666666666,\"#ed7953\"],[0.7777777777777778,\"#fb9f3a\"],[0.8888888888888888,\"#fdca26\"],[1.0,\"#f0f921\"]],\"type\":\"contour\"}],\"heatmapgl\":[{\"colorbar\":{\"outlinewidth\":0,\"ticks\":\"\"},\"colorscale\":[[0.0,\"#0d0887\"],[0.1111111111111111,\"#46039f\"],[0.2222222222222222,\"#7201a8\"],[0.3333333333333333,\"#9c179e\"],[0.4444444444444444,\"#bd3786\"],[0.5555555555555556,\"#d8576b\"],[0.6666666666666666,\"#ed7953\"],[0.7777777777777778,\"#fb9f3a\"],[0.8888888888888888,\"#fdca26\"],[1.0,\"#f0f921\"]],\"type\":\"heatmapgl\"}],\"heatmap\":[{\"colorbar\":{\"outlinewidth\":0,\"ticks\":\"\"},\"colorscale\":[[0.0,\"#0d0887\"],[0.1111111111111111,\"#46039f\"],[0.2222222222222222,\"#7201a8\"],[0.3333333333333333,\"#9c179e\"],[0.4444444444444444,\"#bd3786\"],[0.5555555555555556,\"#d8576b\"],[0.6666666666666666,\"#ed7953\"],[0.7777777777777778,\"#fb9f3a\"],[0.8888888888888888,\"#fdca26\"],[1.0,\"#f0f921\"]],\"type\":\"heatmap\"}],\"histogram2dcontour\":[{\"colorbar\":{\"outlinewidth\":0,\"ticks\":\"\"},\"colorscale\":[[0.0,\"#0d0887\"],[0.1111111111111111,\"#46039f\"],[0.2222222222222222,\"#7201a8\"],[0.3333333333333333,\"#9c179e\"],[0.4444444444444444,\"#bd3786\"],[0.5555555555555556,\"#d8576b\"],[0.6666666666666666,\"#ed7953\"],[0.7777777777777778,\"#fb9f3a\"],[0.8888888888888888,\"#fdca26\"],[1.0,\"#f0f921\"]],\"type\":\"histogram2dcontour\"}],\"histogram2d\":[{\"colorbar\":{\"outlinewidth\":0,\"ticks\":\"\"},\"colorscale\":[[0.0,\"#0d0887\"],[0.1111111111111111,\"#46039f\"],[0.2222222222222222,\"#7201a8\"],[0.3333333333333333,\"#9c179e\"],[0.4444444444444444,\"#bd3786\"],[0.5555555555555556,\"#d8576b\"],[0.6666666666666666,\"#ed7953\"],[0.7777777777777778,\"#fb9f3a\"],[0.8888888888888888,\"#fdca26\"],[1.0,\"#f0f921\"]],\"type\":\"histogram2d\"}],\"histogram\":[{\"marker\":{\"pattern\":{\"fillmode\":\"overlay\",\"size\":10,\"solidity\":0.2}},\"type\":\"histogram\"}],\"mesh3d\":[{\"colorbar\":{\"outlinewidth\":0,\"ticks\":\"\"},\"type\":\"mesh3d\"}],\"parcoords\":[{\"line\":{\"colorbar\":{\"outlinewidth\":0,\"ticks\":\"\"}},\"type\":\"parcoords\"}],\"pie\":[{\"automargin\":true,\"type\":\"pie\"}],\"scatter3d\":[{\"line\":{\"colorbar\":{\"outlinewidth\":0,\"ticks\":\"\"}},\"marker\":{\"colorbar\":{\"outlinewidth\":0,\"ticks\":\"\"}},\"type\":\"scatter3d\"}],\"scattercarpet\":[{\"marker\":{\"colorbar\":{\"outlinewidth\":0,\"ticks\":\"\"}},\"type\":\"scattercarpet\"}],\"scattergeo\":[{\"marker\":{\"colorbar\":{\"outlinewidth\":0,\"ticks\":\"\"}},\"type\":\"scattergeo\"}],\"scattergl\":[{\"marker\":{\"colorbar\":{\"outlinewidth\":0,\"ticks\":\"\"}},\"type\":\"scattergl\"}],\"scattermapbox\":[{\"marker\":{\"colorbar\":{\"outlinewidth\":0,\"ticks\":\"\"}},\"type\":\"scattermapbox\"}],\"scatterpolargl\":[{\"marker\":{\"colorbar\":{\"outlinewidth\":0,\"ticks\":\"\"}},\"type\":\"scatterpolargl\"}],\"scatterpolar\":[{\"marker\":{\"colorbar\":{\"outlinewidth\":0,\"ticks\":\"\"}},\"type\":\"scatterpolar\"}],\"scatter\":[{\"marker\":{\"colorbar\":{\"outlinewidth\":0,\"ticks\":\"\"}},\"type\":\"scatter\"}],\"scatterternary\":[{\"marker\":{\"colorbar\":{\"outlinewidth\":0,\"ticks\":\"\"}},\"type\":\"scatterternary\"}],\"surface\":[{\"colorbar\":{\"outlinewidth\":0,\"ticks\":\"\"},\"colorscale\":[[0.0,\"#0d0887\"],[0.1111111111111111,\"#46039f\"],[0.2222222222222222,\"#7201a8\"],[0.3333333333333333,\"#9c179e\"],[0.4444444444444444,\"#bd3786\"],[0.5555555555555556,\"#d8576b\"],[0.6666666666666666,\"#ed7953\"],[0.7777777777777778,\"#fb9f3a\"],[0.8888888888888888,\"#fdca26\"],[1.0,\"#f0f921\"]],\"type\":\"surface\"}],\"table\":[{\"cells\":{\"fill\":{\"color\":\"#EBF0F8\"},\"line\":{\"color\":\"white\"}},\"header\":{\"fill\":{\"color\":\"#C8D4E3\"},\"line\":{\"color\":\"white\"}},\"type\":\"table\"}]},\"layout\":{\"annotationdefaults\":{\"arrowcolor\":\"#2a3f5f\",\"arrowhead\":0,\"arrowwidth\":1},\"autotypenumbers\":\"strict\",\"coloraxis\":{\"colorbar\":{\"outlinewidth\":0,\"ticks\":\"\"}},\"colorscale\":{\"diverging\":[[0,\"#8e0152\"],[0.1,\"#c51b7d\"],[0.2,\"#de77ae\"],[0.3,\"#f1b6da\"],[0.4,\"#fde0ef\"],[0.5,\"#f7f7f7\"],[0.6,\"#e6f5d0\"],[0.7,\"#b8e186\"],[0.8,\"#7fbc41\"],[0.9,\"#4d9221\"],[1,\"#276419\"]],\"sequential\":[[0.0,\"#0d0887\"],[0.1111111111111111,\"#46039f\"],[0.2222222222222222,\"#7201a8\"],[0.3333333333333333,\"#9c179e\"],[0.4444444444444444,\"#bd3786\"],[0.5555555555555556,\"#d8576b\"],[0.6666666666666666,\"#ed7953\"],[0.7777777777777778,\"#fb9f3a\"],[0.8888888888888888,\"#fdca26\"],[1.0,\"#f0f921\"]],\"sequentialminus\":[[0.0,\"#0d0887\"],[0.1111111111111111,\"#46039f\"],[0.2222222222222222,\"#7201a8\"],[0.3333333333333333,\"#9c179e\"],[0.4444444444444444,\"#bd3786\"],[0.5555555555555556,\"#d8576b\"],[0.6666666666666666,\"#ed7953\"],[0.7777777777777778,\"#fb9f3a\"],[0.8888888888888888,\"#fdca26\"],[1.0,\"#f0f921\"]]},\"colorway\":[\"#636efa\",\"#EF553B\",\"#00cc96\",\"#ab63fa\",\"#FFA15A\",\"#19d3f3\",\"#FF6692\",\"#B6E880\",\"#FF97FF\",\"#FECB52\"],\"font\":{\"color\":\"#2a3f5f\"},\"geo\":{\"bgcolor\":\"white\",\"lakecolor\":\"white\",\"landcolor\":\"#E5ECF6\",\"showlakes\":true,\"showland\":true,\"subunitcolor\":\"white\"},\"hoverlabel\":{\"align\":\"left\"},\"hovermode\":\"closest\",\"mapbox\":{\"style\":\"light\"},\"paper_bgcolor\":\"white\",\"plot_bgcolor\":\"#E5ECF6\",\"polar\":{\"angularaxis\":{\"gridcolor\":\"white\",\"linecolor\":\"white\",\"ticks\":\"\"},\"bgcolor\":\"#E5ECF6\",\"radialaxis\":{\"gridcolor\":\"white\",\"linecolor\":\"white\",\"ticks\":\"\"}},\"scene\":{\"xaxis\":{\"backgroundcolor\":\"#E5ECF6\",\"gridcolor\":\"white\",\"gridwidth\":2,\"linecolor\":\"white\",\"showbackground\":true,\"ticks\":\"\",\"zerolinecolor\":\"white\"},\"yaxis\":{\"backgroundcolor\":\"#E5ECF6\",\"gridcolor\":\"white\",\"gridwidth\":2,\"linecolor\":\"white\",\"showbackground\":true,\"ticks\":\"\",\"zerolinecolor\":\"white\"},\"zaxis\":{\"backgroundcolor\":\"#E5ECF6\",\"gridcolor\":\"white\",\"gridwidth\":2,\"linecolor\":\"white\",\"showbackground\":true,\"ticks\":\"\",\"zerolinecolor\":\"white\"}},\"shapedefaults\":{\"line\":{\"color\":\"#2a3f5f\"}},\"ternary\":{\"aaxis\":{\"gridcolor\":\"white\",\"linecolor\":\"white\",\"ticks\":\"\"},\"baxis\":{\"gridcolor\":\"white\",\"linecolor\":\"white\",\"ticks\":\"\"},\"bgcolor\":\"#E5ECF6\",\"caxis\":{\"gridcolor\":\"white\",\"linecolor\":\"white\",\"ticks\":\"\"}},\"title\":{\"x\":0.05},\"xaxis\":{\"automargin\":true,\"gridcolor\":\"white\",\"linecolor\":\"white\",\"ticks\":\"\",\"title\":{\"standoff\":15},\"zerolinecolor\":\"white\",\"zerolinewidth\":2},\"yaxis\":{\"automargin\":true,\"gridcolor\":\"white\",\"linecolor\":\"white\",\"ticks\":\"\",\"title\":{\"standoff\":15},\"zerolinecolor\":\"white\",\"zerolinewidth\":2}}},\"title\":{\"text\":\"Health (Life Expectancy) Across the world in 2022)\"}},                        {\"responsive\": true}                    ).then(function(){\n",
       "                            \n",
       "var gd = document.getElementById('18f0c493-2623-4a35-b13c-908bdf93170b');\n",
       "var x = new MutationObserver(function (mutations, observer) {{\n",
       "        var display = window.getComputedStyle(gd).display;\n",
       "        if (!display || display === 'none') {{\n",
       "            console.log([gd, 'removed!']);\n",
       "            Plotly.purge(gd);\n",
       "            observer.disconnect();\n",
       "        }}\n",
       "}});\n",
       "\n",
       "// Listen for the removal of the full notebook cells\n",
       "var notebookContainer = gd.closest('#notebook-container');\n",
       "if (notebookContainer) {{\n",
       "    x.observe(notebookContainer, {childList: true});\n",
       "}}\n",
       "\n",
       "// Listen for the clearing of the current output cell\n",
       "var outputEl = gd.closest('.output');\n",
       "if (outputEl) {{\n",
       "    x.observe(outputEl, {childList: true});\n",
       "}}\n",
       "\n",
       "                        })                };                });            </script>        </div>"
      ]
     },
     "metadata": {},
     "output_type": "display_data"
    }
   ],
   "source": [
    "map_happy = dict(type = 'choropleth', \n",
    "           locations = data_2022['Country'],\n",
    "           locationmode = 'country names',\n",
    "           z = data_2022['Health (Life Expectancy)'], \n",
    "           text =data_2022['Country'],\n",
    "           colorbar = {'title':'Health (Life Expectancy)'},\n",
    "           colorscale = 'Viridis')\n",
    "layout = dict(title = 'Health (Life Expectancy) Across the world in 2022)', \n",
    "              geo = dict(showframe = True, projection = {'type': 'equirectangular'}))\n",
    "\n",
    "choromap3 = go.Figure(data = [map_happy], layout=layout)\n",
    "iplot(choromap3)"
   ]
  },
  {
   "cell_type": "code",
   "execution_count": 61,
   "id": "88ebb2b6",
   "metadata": {},
   "outputs": [
    {
     "data": {
      "application/vnd.plotly.v1+json": {
       "config": {
        "linkText": "Export to plot.ly",
        "plotlyServerURL": "https://plot.ly",
        "showLink": false
       },
       "data": [
        {
         "colorbar": {
          "title": {
           "text": "Economy (GDP per Capita)"
          }
         },
         "colorscale": [
          [
           0,
           "#440154"
          ],
          [
           0.1111111111111111,
           "#482878"
          ],
          [
           0.2222222222222222,
           "#3e4989"
          ],
          [
           0.3333333333333333,
           "#31688e"
          ],
          [
           0.4444444444444444,
           "#26828e"
          ],
          [
           0.5555555555555556,
           "#1f9e89"
          ],
          [
           0.6666666666666666,
           "#35b779"
          ],
          [
           0.7777777777777778,
           "#6ece58"
          ],
          [
           0.8888888888888888,
           "#b5de2b"
          ],
          [
           1,
           "#fde725"
          ]
         ],
         "locationmode": "country names",
         "locations": [
          "Finland",
          "Denmark",
          "Iceland",
          "Switzerland",
          "Netherlands",
          "Sweden",
          "Norway",
          "Israel",
          "New Zealand",
          "Austria",
          "Australia",
          "Ireland",
          "Germany",
          "Canada",
          "United States",
          "United Kingdom",
          "Belgium",
          "France",
          "Bahrain",
          "Slovenia",
          "Costa Rica",
          "United Arab Emirates",
          "Saudi Arabia",
          "Singapore",
          "Romania",
          "Spain",
          "Uruguay",
          "Italy",
          "Kosovo",
          "Malta",
          "Lithuania",
          "Slovakia",
          "Estonia",
          "Panama",
          "Brazil",
          "Kazakhstan",
          "Cyprus",
          "Latvia",
          "Serbia",
          "Chile",
          "Nicaragua",
          "Mexico",
          "Croatia",
          "Poland",
          "El Salvador",
          "Hungary",
          "Mauritius",
          "Uzbekistan",
          "Japan",
          "Honduras",
          "Portugal",
          "Argentina",
          "Greece",
          "South Korea",
          "Philippines",
          "Thailand",
          "Moldova",
          "Jamaica",
          "Kyrgyzstan",
          "Colombia",
          "Bosnia and Herzegovina",
          "Mongolia",
          "Dominican Republic",
          "Malaysia",
          "Bolivia",
          "China",
          "Paraguay",
          "Peru",
          "Montenegro",
          "Ecuador",
          "Vietnam",
          "Russia",
          "Armenia",
          "Tajikistan",
          "Nepal",
          "Bulgaria",
          "Indonesia",
          "Ivory Coast",
          "Albania",
          "South Africa",
          "Bangladesh",
          "Algeria",
          "Ukraine",
          "Morocco",
          "Cameroon",
          "Senegal",
          "Georgia",
          "Gabon",
          "Iraq",
          "Venezuela",
          "Guinea",
          "Iran",
          "Ghana",
          "Turkey",
          "Burkina Faso",
          "Cambodia",
          "Benin",
          "Uganda",
          "Nigeria",
          "Kenya",
          "Tunisia",
          "Pakistan",
          "Mali",
          "Myanmar",
          "Sri Lanka",
          "Egypt",
          "Ethiopia",
          "Jordan",
          "Togo",
          "India",
          "Zambia",
          "Malawi",
          "Tanzania",
          "Sierra Leone",
          "Zimbabwe",
          "Lebanon",
          "Afghanistan"
         ],
         "text": [
          "Finland",
          "Denmark",
          "Iceland",
          "Switzerland",
          "Netherlands",
          "Sweden",
          "Norway",
          "Israel",
          "New Zealand",
          "Austria",
          "Australia",
          "Ireland",
          "Germany",
          "Canada",
          "United States",
          "United Kingdom",
          "Belgium",
          "France",
          "Bahrain",
          "Slovenia",
          "Costa Rica",
          "United Arab Emirates",
          "Saudi Arabia",
          "Singapore",
          "Romania",
          "Spain",
          "Uruguay",
          "Italy",
          "Kosovo",
          "Malta",
          "Lithuania",
          "Slovakia",
          "Estonia",
          "Panama",
          "Brazil",
          "Kazakhstan",
          "Cyprus",
          "Latvia",
          "Serbia",
          "Chile",
          "Nicaragua",
          "Mexico",
          "Croatia",
          "Poland",
          "El Salvador",
          "Hungary",
          "Mauritius",
          "Uzbekistan",
          "Japan",
          "Honduras",
          "Portugal",
          "Argentina",
          "Greece",
          "South Korea",
          "Philippines",
          "Thailand",
          "Moldova",
          "Jamaica",
          "Kyrgyzstan",
          "Colombia",
          "Bosnia and Herzegovina",
          "Mongolia",
          "Dominican Republic",
          "Malaysia",
          "Bolivia",
          "China",
          "Paraguay",
          "Peru",
          "Montenegro",
          "Ecuador",
          "Vietnam",
          "Russia",
          "Armenia",
          "Tajikistan",
          "Nepal",
          "Bulgaria",
          "Indonesia",
          "Ivory Coast",
          "Albania",
          "South Africa",
          "Bangladesh",
          "Algeria",
          "Ukraine",
          "Morocco",
          "Cameroon",
          "Senegal",
          "Georgia",
          "Gabon",
          "Iraq",
          "Venezuela",
          "Guinea",
          "Iran",
          "Ghana",
          "Turkey",
          "Burkina Faso",
          "Cambodia",
          "Benin",
          "Uganda",
          "Nigeria",
          "Kenya",
          "Tunisia",
          "Pakistan",
          "Mali",
          "Myanmar",
          "Sri Lanka",
          "Egypt",
          "Ethiopia",
          "Jordan",
          "Togo",
          "India",
          "Zambia",
          "Malawi",
          "Tanzania",
          "Sierra Leone",
          "Zimbabwe",
          "Lebanon",
          "Afghanistan"
         ],
         "type": "choropleth",
         "z": [
          1.892,
          1.953,
          1.936,
          2.026,
          1.945,
          1.92,
          1.997,
          1.826,
          1.852,
          1.931,
          1.9,
          2.129,
          1.924,
          1.886,
          1.982,
          1.867,
          1.907,
          1.863,
          1.854,
          1.81,
          1.584,
          1.998,
          1.87,
          2.149,
          1.719,
          1.808,
          1.615,
          1.834,
          1.362,
          1.838,
          1.804,
          1.736,
          1.793,
          1.715,
          1.462,
          1.668,
          1.815,
          1.732,
          1.55,
          1.651,
          1.105,
          1.552,
          1.705,
          1.758,
          1.265,
          1.748,
          1.591,
          1.219,
          1.835,
          1.111,
          1.76,
          1.592,
          1.703,
          1.851,
          1.268,
          1.535,
          1.417,
          1.296,
          1.069,
          1.452,
          1.468,
          1.393,
          1.538,
          1.689,
          1.256,
          1.508,
          1.409,
          1.397,
          1.573,
          1.352,
          1.252,
          1.685,
          1.434,
          0.966,
          0.984,
          1.625,
          1.382,
          1.094,
          1.439,
          1.425,
          1.06,
          1.363,
          1.411,
          1.208,
          0.968,
          0.933,
          1.467,
          1.459,
          1.289,
          0,
          0.848,
          1.41,
          1.112,
          1.707,
          0.779,
          1.019,
          0.932,
          0.777,
          1.079,
          1.032,
          1.35,
          1.049,
          0.792,
          1.038,
          1.415,
          1.388,
          0.788,
          1.324,
          0.771,
          1.167,
          0.93,
          0.648,
          0.848,
          0.686,
          0.947,
          1.392,
          0.758
         ]
        }
       ],
       "layout": {
        "geo": {
         "projection": {
          "type": "equirectangular"
         },
         "showframe": true
        },
        "template": {
         "data": {
          "bar": [
           {
            "error_x": {
             "color": "#2a3f5f"
            },
            "error_y": {
             "color": "#2a3f5f"
            },
            "marker": {
             "line": {
              "color": "#E5ECF6",
              "width": 0.5
             },
             "pattern": {
              "fillmode": "overlay",
              "size": 10,
              "solidity": 0.2
             }
            },
            "type": "bar"
           }
          ],
          "barpolar": [
           {
            "marker": {
             "line": {
              "color": "#E5ECF6",
              "width": 0.5
             },
             "pattern": {
              "fillmode": "overlay",
              "size": 10,
              "solidity": 0.2
             }
            },
            "type": "barpolar"
           }
          ],
          "carpet": [
           {
            "aaxis": {
             "endlinecolor": "#2a3f5f",
             "gridcolor": "white",
             "linecolor": "white",
             "minorgridcolor": "white",
             "startlinecolor": "#2a3f5f"
            },
            "baxis": {
             "endlinecolor": "#2a3f5f",
             "gridcolor": "white",
             "linecolor": "white",
             "minorgridcolor": "white",
             "startlinecolor": "#2a3f5f"
            },
            "type": "carpet"
           }
          ],
          "choropleth": [
           {
            "colorbar": {
             "outlinewidth": 0,
             "ticks": ""
            },
            "type": "choropleth"
           }
          ],
          "contour": [
           {
            "colorbar": {
             "outlinewidth": 0,
             "ticks": ""
            },
            "colorscale": [
             [
              0,
              "#0d0887"
             ],
             [
              0.1111111111111111,
              "#46039f"
             ],
             [
              0.2222222222222222,
              "#7201a8"
             ],
             [
              0.3333333333333333,
              "#9c179e"
             ],
             [
              0.4444444444444444,
              "#bd3786"
             ],
             [
              0.5555555555555556,
              "#d8576b"
             ],
             [
              0.6666666666666666,
              "#ed7953"
             ],
             [
              0.7777777777777778,
              "#fb9f3a"
             ],
             [
              0.8888888888888888,
              "#fdca26"
             ],
             [
              1,
              "#f0f921"
             ]
            ],
            "type": "contour"
           }
          ],
          "contourcarpet": [
           {
            "colorbar": {
             "outlinewidth": 0,
             "ticks": ""
            },
            "type": "contourcarpet"
           }
          ],
          "heatmap": [
           {
            "colorbar": {
             "outlinewidth": 0,
             "ticks": ""
            },
            "colorscale": [
             [
              0,
              "#0d0887"
             ],
             [
              0.1111111111111111,
              "#46039f"
             ],
             [
              0.2222222222222222,
              "#7201a8"
             ],
             [
              0.3333333333333333,
              "#9c179e"
             ],
             [
              0.4444444444444444,
              "#bd3786"
             ],
             [
              0.5555555555555556,
              "#d8576b"
             ],
             [
              0.6666666666666666,
              "#ed7953"
             ],
             [
              0.7777777777777778,
              "#fb9f3a"
             ],
             [
              0.8888888888888888,
              "#fdca26"
             ],
             [
              1,
              "#f0f921"
             ]
            ],
            "type": "heatmap"
           }
          ],
          "heatmapgl": [
           {
            "colorbar": {
             "outlinewidth": 0,
             "ticks": ""
            },
            "colorscale": [
             [
              0,
              "#0d0887"
             ],
             [
              0.1111111111111111,
              "#46039f"
             ],
             [
              0.2222222222222222,
              "#7201a8"
             ],
             [
              0.3333333333333333,
              "#9c179e"
             ],
             [
              0.4444444444444444,
              "#bd3786"
             ],
             [
              0.5555555555555556,
              "#d8576b"
             ],
             [
              0.6666666666666666,
              "#ed7953"
             ],
             [
              0.7777777777777778,
              "#fb9f3a"
             ],
             [
              0.8888888888888888,
              "#fdca26"
             ],
             [
              1,
              "#f0f921"
             ]
            ],
            "type": "heatmapgl"
           }
          ],
          "histogram": [
           {
            "marker": {
             "pattern": {
              "fillmode": "overlay",
              "size": 10,
              "solidity": 0.2
             }
            },
            "type": "histogram"
           }
          ],
          "histogram2d": [
           {
            "colorbar": {
             "outlinewidth": 0,
             "ticks": ""
            },
            "colorscale": [
             [
              0,
              "#0d0887"
             ],
             [
              0.1111111111111111,
              "#46039f"
             ],
             [
              0.2222222222222222,
              "#7201a8"
             ],
             [
              0.3333333333333333,
              "#9c179e"
             ],
             [
              0.4444444444444444,
              "#bd3786"
             ],
             [
              0.5555555555555556,
              "#d8576b"
             ],
             [
              0.6666666666666666,
              "#ed7953"
             ],
             [
              0.7777777777777778,
              "#fb9f3a"
             ],
             [
              0.8888888888888888,
              "#fdca26"
             ],
             [
              1,
              "#f0f921"
             ]
            ],
            "type": "histogram2d"
           }
          ],
          "histogram2dcontour": [
           {
            "colorbar": {
             "outlinewidth": 0,
             "ticks": ""
            },
            "colorscale": [
             [
              0,
              "#0d0887"
             ],
             [
              0.1111111111111111,
              "#46039f"
             ],
             [
              0.2222222222222222,
              "#7201a8"
             ],
             [
              0.3333333333333333,
              "#9c179e"
             ],
             [
              0.4444444444444444,
              "#bd3786"
             ],
             [
              0.5555555555555556,
              "#d8576b"
             ],
             [
              0.6666666666666666,
              "#ed7953"
             ],
             [
              0.7777777777777778,
              "#fb9f3a"
             ],
             [
              0.8888888888888888,
              "#fdca26"
             ],
             [
              1,
              "#f0f921"
             ]
            ],
            "type": "histogram2dcontour"
           }
          ],
          "mesh3d": [
           {
            "colorbar": {
             "outlinewidth": 0,
             "ticks": ""
            },
            "type": "mesh3d"
           }
          ],
          "parcoords": [
           {
            "line": {
             "colorbar": {
              "outlinewidth": 0,
              "ticks": ""
             }
            },
            "type": "parcoords"
           }
          ],
          "pie": [
           {
            "automargin": true,
            "type": "pie"
           }
          ],
          "scatter": [
           {
            "marker": {
             "colorbar": {
              "outlinewidth": 0,
              "ticks": ""
             }
            },
            "type": "scatter"
           }
          ],
          "scatter3d": [
           {
            "line": {
             "colorbar": {
              "outlinewidth": 0,
              "ticks": ""
             }
            },
            "marker": {
             "colorbar": {
              "outlinewidth": 0,
              "ticks": ""
             }
            },
            "type": "scatter3d"
           }
          ],
          "scattercarpet": [
           {
            "marker": {
             "colorbar": {
              "outlinewidth": 0,
              "ticks": ""
             }
            },
            "type": "scattercarpet"
           }
          ],
          "scattergeo": [
           {
            "marker": {
             "colorbar": {
              "outlinewidth": 0,
              "ticks": ""
             }
            },
            "type": "scattergeo"
           }
          ],
          "scattergl": [
           {
            "marker": {
             "colorbar": {
              "outlinewidth": 0,
              "ticks": ""
             }
            },
            "type": "scattergl"
           }
          ],
          "scattermapbox": [
           {
            "marker": {
             "colorbar": {
              "outlinewidth": 0,
              "ticks": ""
             }
            },
            "type": "scattermapbox"
           }
          ],
          "scatterpolar": [
           {
            "marker": {
             "colorbar": {
              "outlinewidth": 0,
              "ticks": ""
             }
            },
            "type": "scatterpolar"
           }
          ],
          "scatterpolargl": [
           {
            "marker": {
             "colorbar": {
              "outlinewidth": 0,
              "ticks": ""
             }
            },
            "type": "scatterpolargl"
           }
          ],
          "scatterternary": [
           {
            "marker": {
             "colorbar": {
              "outlinewidth": 0,
              "ticks": ""
             }
            },
            "type": "scatterternary"
           }
          ],
          "surface": [
           {
            "colorbar": {
             "outlinewidth": 0,
             "ticks": ""
            },
            "colorscale": [
             [
              0,
              "#0d0887"
             ],
             [
              0.1111111111111111,
              "#46039f"
             ],
             [
              0.2222222222222222,
              "#7201a8"
             ],
             [
              0.3333333333333333,
              "#9c179e"
             ],
             [
              0.4444444444444444,
              "#bd3786"
             ],
             [
              0.5555555555555556,
              "#d8576b"
             ],
             [
              0.6666666666666666,
              "#ed7953"
             ],
             [
              0.7777777777777778,
              "#fb9f3a"
             ],
             [
              0.8888888888888888,
              "#fdca26"
             ],
             [
              1,
              "#f0f921"
             ]
            ],
            "type": "surface"
           }
          ],
          "table": [
           {
            "cells": {
             "fill": {
              "color": "#EBF0F8"
             },
             "line": {
              "color": "white"
             }
            },
            "header": {
             "fill": {
              "color": "#C8D4E3"
             },
             "line": {
              "color": "white"
             }
            },
            "type": "table"
           }
          ]
         },
         "layout": {
          "annotationdefaults": {
           "arrowcolor": "#2a3f5f",
           "arrowhead": 0,
           "arrowwidth": 1
          },
          "autotypenumbers": "strict",
          "coloraxis": {
           "colorbar": {
            "outlinewidth": 0,
            "ticks": ""
           }
          },
          "colorscale": {
           "diverging": [
            [
             0,
             "#8e0152"
            ],
            [
             0.1,
             "#c51b7d"
            ],
            [
             0.2,
             "#de77ae"
            ],
            [
             0.3,
             "#f1b6da"
            ],
            [
             0.4,
             "#fde0ef"
            ],
            [
             0.5,
             "#f7f7f7"
            ],
            [
             0.6,
             "#e6f5d0"
            ],
            [
             0.7,
             "#b8e186"
            ],
            [
             0.8,
             "#7fbc41"
            ],
            [
             0.9,
             "#4d9221"
            ],
            [
             1,
             "#276419"
            ]
           ],
           "sequential": [
            [
             0,
             "#0d0887"
            ],
            [
             0.1111111111111111,
             "#46039f"
            ],
            [
             0.2222222222222222,
             "#7201a8"
            ],
            [
             0.3333333333333333,
             "#9c179e"
            ],
            [
             0.4444444444444444,
             "#bd3786"
            ],
            [
             0.5555555555555556,
             "#d8576b"
            ],
            [
             0.6666666666666666,
             "#ed7953"
            ],
            [
             0.7777777777777778,
             "#fb9f3a"
            ],
            [
             0.8888888888888888,
             "#fdca26"
            ],
            [
             1,
             "#f0f921"
            ]
           ],
           "sequentialminus": [
            [
             0,
             "#0d0887"
            ],
            [
             0.1111111111111111,
             "#46039f"
            ],
            [
             0.2222222222222222,
             "#7201a8"
            ],
            [
             0.3333333333333333,
             "#9c179e"
            ],
            [
             0.4444444444444444,
             "#bd3786"
            ],
            [
             0.5555555555555556,
             "#d8576b"
            ],
            [
             0.6666666666666666,
             "#ed7953"
            ],
            [
             0.7777777777777778,
             "#fb9f3a"
            ],
            [
             0.8888888888888888,
             "#fdca26"
            ],
            [
             1,
             "#f0f921"
            ]
           ]
          },
          "colorway": [
           "#636efa",
           "#EF553B",
           "#00cc96",
           "#ab63fa",
           "#FFA15A",
           "#19d3f3",
           "#FF6692",
           "#B6E880",
           "#FF97FF",
           "#FECB52"
          ],
          "font": {
           "color": "#2a3f5f"
          },
          "geo": {
           "bgcolor": "white",
           "lakecolor": "white",
           "landcolor": "#E5ECF6",
           "showlakes": true,
           "showland": true,
           "subunitcolor": "white"
          },
          "hoverlabel": {
           "align": "left"
          },
          "hovermode": "closest",
          "mapbox": {
           "style": "light"
          },
          "paper_bgcolor": "white",
          "plot_bgcolor": "#E5ECF6",
          "polar": {
           "angularaxis": {
            "gridcolor": "white",
            "linecolor": "white",
            "ticks": ""
           },
           "bgcolor": "#E5ECF6",
           "radialaxis": {
            "gridcolor": "white",
            "linecolor": "white",
            "ticks": ""
           }
          },
          "scene": {
           "xaxis": {
            "backgroundcolor": "#E5ECF6",
            "gridcolor": "white",
            "gridwidth": 2,
            "linecolor": "white",
            "showbackground": true,
            "ticks": "",
            "zerolinecolor": "white"
           },
           "yaxis": {
            "backgroundcolor": "#E5ECF6",
            "gridcolor": "white",
            "gridwidth": 2,
            "linecolor": "white",
            "showbackground": true,
            "ticks": "",
            "zerolinecolor": "white"
           },
           "zaxis": {
            "backgroundcolor": "#E5ECF6",
            "gridcolor": "white",
            "gridwidth": 2,
            "linecolor": "white",
            "showbackground": true,
            "ticks": "",
            "zerolinecolor": "white"
           }
          },
          "shapedefaults": {
           "line": {
            "color": "#2a3f5f"
           }
          },
          "ternary": {
           "aaxis": {
            "gridcolor": "white",
            "linecolor": "white",
            "ticks": ""
           },
           "baxis": {
            "gridcolor": "white",
            "linecolor": "white",
            "ticks": ""
           },
           "bgcolor": "#E5ECF6",
           "caxis": {
            "gridcolor": "white",
            "linecolor": "white",
            "ticks": ""
           }
          },
          "title": {
           "x": 0.05
          },
          "xaxis": {
           "automargin": true,
           "gridcolor": "white",
           "linecolor": "white",
           "ticks": "",
           "title": {
            "standoff": 15
           },
           "zerolinecolor": "white",
           "zerolinewidth": 2
          },
          "yaxis": {
           "automargin": true,
           "gridcolor": "white",
           "linecolor": "white",
           "ticks": "",
           "title": {
            "standoff": 15
           },
           "zerolinecolor": "white",
           "zerolinewidth": 2
          }
         }
        },
        "title": {
         "text": "Economy (GDP per Capita) Across the world in 2022)"
        }
       }
      },
      "text/html": [
       "<div>                            <div id=\"fecbf064-514a-48e8-ae53-abbcc201c636\" class=\"plotly-graph-div\" style=\"height:525px; width:100%;\"></div>            <script type=\"text/javascript\">                require([\"plotly\"], function(Plotly) {                    window.PLOTLYENV=window.PLOTLYENV || {};                                    if (document.getElementById(\"fecbf064-514a-48e8-ae53-abbcc201c636\")) {                    Plotly.newPlot(                        \"fecbf064-514a-48e8-ae53-abbcc201c636\",                        [{\"colorbar\":{\"title\":{\"text\":\"Economy (GDP per Capita)\"}},\"colorscale\":[[0.0,\"#440154\"],[0.1111111111111111,\"#482878\"],[0.2222222222222222,\"#3e4989\"],[0.3333333333333333,\"#31688e\"],[0.4444444444444444,\"#26828e\"],[0.5555555555555556,\"#1f9e89\"],[0.6666666666666666,\"#35b779\"],[0.7777777777777778,\"#6ece58\"],[0.8888888888888888,\"#b5de2b\"],[1.0,\"#fde725\"]],\"locationmode\":\"country names\",\"locations\":[\"Finland\",\"Denmark\",\"Iceland\",\"Switzerland\",\"Netherlands\",\"Sweden\",\"Norway\",\"Israel\",\"New Zealand\",\"Austria\",\"Australia\",\"Ireland\",\"Germany\",\"Canada\",\"United States\",\"United Kingdom\",\"Belgium\",\"France\",\"Bahrain\",\"Slovenia\",\"Costa Rica\",\"United Arab Emirates\",\"Saudi Arabia\",\"Singapore\",\"Romania\",\"Spain\",\"Uruguay\",\"Italy\",\"Kosovo\",\"Malta\",\"Lithuania\",\"Slovakia\",\"Estonia\",\"Panama\",\"Brazil\",\"Kazakhstan\",\"Cyprus\",\"Latvia\",\"Serbia\",\"Chile\",\"Nicaragua\",\"Mexico\",\"Croatia\",\"Poland\",\"El Salvador\",\"Hungary\",\"Mauritius\",\"Uzbekistan\",\"Japan\",\"Honduras\",\"Portugal\",\"Argentina\",\"Greece\",\"South Korea\",\"Philippines\",\"Thailand\",\"Moldova\",\"Jamaica\",\"Kyrgyzstan\",\"Colombia\",\"Bosnia and Herzegovina\",\"Mongolia\",\"Dominican Republic\",\"Malaysia\",\"Bolivia\",\"China\",\"Paraguay\",\"Peru\",\"Montenegro\",\"Ecuador\",\"Vietnam\",\"Russia\",\"Armenia\",\"Tajikistan\",\"Nepal\",\"Bulgaria\",\"Indonesia\",\"Ivory Coast\",\"Albania\",\"South Africa\",\"Bangladesh\",\"Algeria\",\"Ukraine\",\"Morocco\",\"Cameroon\",\"Senegal\",\"Georgia\",\"Gabon\",\"Iraq\",\"Venezuela\",\"Guinea\",\"Iran\",\"Ghana\",\"Turkey\",\"Burkina Faso\",\"Cambodia\",\"Benin\",\"Uganda\",\"Nigeria\",\"Kenya\",\"Tunisia\",\"Pakistan\",\"Mali\",\"Myanmar\",\"Sri Lanka\",\"Egypt\",\"Ethiopia\",\"Jordan\",\"Togo\",\"India\",\"Zambia\",\"Malawi\",\"Tanzania\",\"Sierra Leone\",\"Zimbabwe\",\"Lebanon\",\"Afghanistan\"],\"text\":[\"Finland\",\"Denmark\",\"Iceland\",\"Switzerland\",\"Netherlands\",\"Sweden\",\"Norway\",\"Israel\",\"New Zealand\",\"Austria\",\"Australia\",\"Ireland\",\"Germany\",\"Canada\",\"United States\",\"United Kingdom\",\"Belgium\",\"France\",\"Bahrain\",\"Slovenia\",\"Costa Rica\",\"United Arab Emirates\",\"Saudi Arabia\",\"Singapore\",\"Romania\",\"Spain\",\"Uruguay\",\"Italy\",\"Kosovo\",\"Malta\",\"Lithuania\",\"Slovakia\",\"Estonia\",\"Panama\",\"Brazil\",\"Kazakhstan\",\"Cyprus\",\"Latvia\",\"Serbia\",\"Chile\",\"Nicaragua\",\"Mexico\",\"Croatia\",\"Poland\",\"El Salvador\",\"Hungary\",\"Mauritius\",\"Uzbekistan\",\"Japan\",\"Honduras\",\"Portugal\",\"Argentina\",\"Greece\",\"South Korea\",\"Philippines\",\"Thailand\",\"Moldova\",\"Jamaica\",\"Kyrgyzstan\",\"Colombia\",\"Bosnia and Herzegovina\",\"Mongolia\",\"Dominican Republic\",\"Malaysia\",\"Bolivia\",\"China\",\"Paraguay\",\"Peru\",\"Montenegro\",\"Ecuador\",\"Vietnam\",\"Russia\",\"Armenia\",\"Tajikistan\",\"Nepal\",\"Bulgaria\",\"Indonesia\",\"Ivory Coast\",\"Albania\",\"South Africa\",\"Bangladesh\",\"Algeria\",\"Ukraine\",\"Morocco\",\"Cameroon\",\"Senegal\",\"Georgia\",\"Gabon\",\"Iraq\",\"Venezuela\",\"Guinea\",\"Iran\",\"Ghana\",\"Turkey\",\"Burkina Faso\",\"Cambodia\",\"Benin\",\"Uganda\",\"Nigeria\",\"Kenya\",\"Tunisia\",\"Pakistan\",\"Mali\",\"Myanmar\",\"Sri Lanka\",\"Egypt\",\"Ethiopia\",\"Jordan\",\"Togo\",\"India\",\"Zambia\",\"Malawi\",\"Tanzania\",\"Sierra Leone\",\"Zimbabwe\",\"Lebanon\",\"Afghanistan\"],\"z\":[1.892,1.953,1.936,2.026,1.945,1.92,1.997,1.826,1.852,1.931,1.9,2.129,1.924,1.886,1.982,1.867,1.907,1.863,1.854,1.81,1.584,1.998,1.87,2.149,1.719,1.808,1.615,1.834,1.362,1.838,1.804,1.736,1.793,1.715,1.462,1.668,1.815,1.732,1.55,1.651,1.105,1.552,1.705,1.758,1.265,1.748,1.591,1.219,1.835,1.111,1.76,1.592,1.703,1.851,1.268,1.535,1.417,1.296,1.069,1.452,1.468,1.393,1.538,1.689,1.256,1.508,1.409,1.397,1.573,1.352,1.252,1.685,1.434,0.966,0.984,1.625,1.382,1.094,1.439,1.425,1.06,1.363,1.411,1.208,0.968,0.933,1.467,1.459,1.289,0.0,0.848,1.41,1.112,1.707,0.779,1.019,0.932,0.777,1.079,1.032,1.35,1.049,0.792,1.038,1.415,1.388,0.788,1.324,0.771,1.167,0.93,0.648,0.848,0.686,0.947,1.392,0.758],\"type\":\"choropleth\"}],                        {\"geo\":{\"projection\":{\"type\":\"equirectangular\"},\"showframe\":true},\"template\":{\"data\":{\"barpolar\":[{\"marker\":{\"line\":{\"color\":\"#E5ECF6\",\"width\":0.5},\"pattern\":{\"fillmode\":\"overlay\",\"size\":10,\"solidity\":0.2}},\"type\":\"barpolar\"}],\"bar\":[{\"error_x\":{\"color\":\"#2a3f5f\"},\"error_y\":{\"color\":\"#2a3f5f\"},\"marker\":{\"line\":{\"color\":\"#E5ECF6\",\"width\":0.5},\"pattern\":{\"fillmode\":\"overlay\",\"size\":10,\"solidity\":0.2}},\"type\":\"bar\"}],\"carpet\":[{\"aaxis\":{\"endlinecolor\":\"#2a3f5f\",\"gridcolor\":\"white\",\"linecolor\":\"white\",\"minorgridcolor\":\"white\",\"startlinecolor\":\"#2a3f5f\"},\"baxis\":{\"endlinecolor\":\"#2a3f5f\",\"gridcolor\":\"white\",\"linecolor\":\"white\",\"minorgridcolor\":\"white\",\"startlinecolor\":\"#2a3f5f\"},\"type\":\"carpet\"}],\"choropleth\":[{\"colorbar\":{\"outlinewidth\":0,\"ticks\":\"\"},\"type\":\"choropleth\"}],\"contourcarpet\":[{\"colorbar\":{\"outlinewidth\":0,\"ticks\":\"\"},\"type\":\"contourcarpet\"}],\"contour\":[{\"colorbar\":{\"outlinewidth\":0,\"ticks\":\"\"},\"colorscale\":[[0.0,\"#0d0887\"],[0.1111111111111111,\"#46039f\"],[0.2222222222222222,\"#7201a8\"],[0.3333333333333333,\"#9c179e\"],[0.4444444444444444,\"#bd3786\"],[0.5555555555555556,\"#d8576b\"],[0.6666666666666666,\"#ed7953\"],[0.7777777777777778,\"#fb9f3a\"],[0.8888888888888888,\"#fdca26\"],[1.0,\"#f0f921\"]],\"type\":\"contour\"}],\"heatmapgl\":[{\"colorbar\":{\"outlinewidth\":0,\"ticks\":\"\"},\"colorscale\":[[0.0,\"#0d0887\"],[0.1111111111111111,\"#46039f\"],[0.2222222222222222,\"#7201a8\"],[0.3333333333333333,\"#9c179e\"],[0.4444444444444444,\"#bd3786\"],[0.5555555555555556,\"#d8576b\"],[0.6666666666666666,\"#ed7953\"],[0.7777777777777778,\"#fb9f3a\"],[0.8888888888888888,\"#fdca26\"],[1.0,\"#f0f921\"]],\"type\":\"heatmapgl\"}],\"heatmap\":[{\"colorbar\":{\"outlinewidth\":0,\"ticks\":\"\"},\"colorscale\":[[0.0,\"#0d0887\"],[0.1111111111111111,\"#46039f\"],[0.2222222222222222,\"#7201a8\"],[0.3333333333333333,\"#9c179e\"],[0.4444444444444444,\"#bd3786\"],[0.5555555555555556,\"#d8576b\"],[0.6666666666666666,\"#ed7953\"],[0.7777777777777778,\"#fb9f3a\"],[0.8888888888888888,\"#fdca26\"],[1.0,\"#f0f921\"]],\"type\":\"heatmap\"}],\"histogram2dcontour\":[{\"colorbar\":{\"outlinewidth\":0,\"ticks\":\"\"},\"colorscale\":[[0.0,\"#0d0887\"],[0.1111111111111111,\"#46039f\"],[0.2222222222222222,\"#7201a8\"],[0.3333333333333333,\"#9c179e\"],[0.4444444444444444,\"#bd3786\"],[0.5555555555555556,\"#d8576b\"],[0.6666666666666666,\"#ed7953\"],[0.7777777777777778,\"#fb9f3a\"],[0.8888888888888888,\"#fdca26\"],[1.0,\"#f0f921\"]],\"type\":\"histogram2dcontour\"}],\"histogram2d\":[{\"colorbar\":{\"outlinewidth\":0,\"ticks\":\"\"},\"colorscale\":[[0.0,\"#0d0887\"],[0.1111111111111111,\"#46039f\"],[0.2222222222222222,\"#7201a8\"],[0.3333333333333333,\"#9c179e\"],[0.4444444444444444,\"#bd3786\"],[0.5555555555555556,\"#d8576b\"],[0.6666666666666666,\"#ed7953\"],[0.7777777777777778,\"#fb9f3a\"],[0.8888888888888888,\"#fdca26\"],[1.0,\"#f0f921\"]],\"type\":\"histogram2d\"}],\"histogram\":[{\"marker\":{\"pattern\":{\"fillmode\":\"overlay\",\"size\":10,\"solidity\":0.2}},\"type\":\"histogram\"}],\"mesh3d\":[{\"colorbar\":{\"outlinewidth\":0,\"ticks\":\"\"},\"type\":\"mesh3d\"}],\"parcoords\":[{\"line\":{\"colorbar\":{\"outlinewidth\":0,\"ticks\":\"\"}},\"type\":\"parcoords\"}],\"pie\":[{\"automargin\":true,\"type\":\"pie\"}],\"scatter3d\":[{\"line\":{\"colorbar\":{\"outlinewidth\":0,\"ticks\":\"\"}},\"marker\":{\"colorbar\":{\"outlinewidth\":0,\"ticks\":\"\"}},\"type\":\"scatter3d\"}],\"scattercarpet\":[{\"marker\":{\"colorbar\":{\"outlinewidth\":0,\"ticks\":\"\"}},\"type\":\"scattercarpet\"}],\"scattergeo\":[{\"marker\":{\"colorbar\":{\"outlinewidth\":0,\"ticks\":\"\"}},\"type\":\"scattergeo\"}],\"scattergl\":[{\"marker\":{\"colorbar\":{\"outlinewidth\":0,\"ticks\":\"\"}},\"type\":\"scattergl\"}],\"scattermapbox\":[{\"marker\":{\"colorbar\":{\"outlinewidth\":0,\"ticks\":\"\"}},\"type\":\"scattermapbox\"}],\"scatterpolargl\":[{\"marker\":{\"colorbar\":{\"outlinewidth\":0,\"ticks\":\"\"}},\"type\":\"scatterpolargl\"}],\"scatterpolar\":[{\"marker\":{\"colorbar\":{\"outlinewidth\":0,\"ticks\":\"\"}},\"type\":\"scatterpolar\"}],\"scatter\":[{\"marker\":{\"colorbar\":{\"outlinewidth\":0,\"ticks\":\"\"}},\"type\":\"scatter\"}],\"scatterternary\":[{\"marker\":{\"colorbar\":{\"outlinewidth\":0,\"ticks\":\"\"}},\"type\":\"scatterternary\"}],\"surface\":[{\"colorbar\":{\"outlinewidth\":0,\"ticks\":\"\"},\"colorscale\":[[0.0,\"#0d0887\"],[0.1111111111111111,\"#46039f\"],[0.2222222222222222,\"#7201a8\"],[0.3333333333333333,\"#9c179e\"],[0.4444444444444444,\"#bd3786\"],[0.5555555555555556,\"#d8576b\"],[0.6666666666666666,\"#ed7953\"],[0.7777777777777778,\"#fb9f3a\"],[0.8888888888888888,\"#fdca26\"],[1.0,\"#f0f921\"]],\"type\":\"surface\"}],\"table\":[{\"cells\":{\"fill\":{\"color\":\"#EBF0F8\"},\"line\":{\"color\":\"white\"}},\"header\":{\"fill\":{\"color\":\"#C8D4E3\"},\"line\":{\"color\":\"white\"}},\"type\":\"table\"}]},\"layout\":{\"annotationdefaults\":{\"arrowcolor\":\"#2a3f5f\",\"arrowhead\":0,\"arrowwidth\":1},\"autotypenumbers\":\"strict\",\"coloraxis\":{\"colorbar\":{\"outlinewidth\":0,\"ticks\":\"\"}},\"colorscale\":{\"diverging\":[[0,\"#8e0152\"],[0.1,\"#c51b7d\"],[0.2,\"#de77ae\"],[0.3,\"#f1b6da\"],[0.4,\"#fde0ef\"],[0.5,\"#f7f7f7\"],[0.6,\"#e6f5d0\"],[0.7,\"#b8e186\"],[0.8,\"#7fbc41\"],[0.9,\"#4d9221\"],[1,\"#276419\"]],\"sequential\":[[0.0,\"#0d0887\"],[0.1111111111111111,\"#46039f\"],[0.2222222222222222,\"#7201a8\"],[0.3333333333333333,\"#9c179e\"],[0.4444444444444444,\"#bd3786\"],[0.5555555555555556,\"#d8576b\"],[0.6666666666666666,\"#ed7953\"],[0.7777777777777778,\"#fb9f3a\"],[0.8888888888888888,\"#fdca26\"],[1.0,\"#f0f921\"]],\"sequentialminus\":[[0.0,\"#0d0887\"],[0.1111111111111111,\"#46039f\"],[0.2222222222222222,\"#7201a8\"],[0.3333333333333333,\"#9c179e\"],[0.4444444444444444,\"#bd3786\"],[0.5555555555555556,\"#d8576b\"],[0.6666666666666666,\"#ed7953\"],[0.7777777777777778,\"#fb9f3a\"],[0.8888888888888888,\"#fdca26\"],[1.0,\"#f0f921\"]]},\"colorway\":[\"#636efa\",\"#EF553B\",\"#00cc96\",\"#ab63fa\",\"#FFA15A\",\"#19d3f3\",\"#FF6692\",\"#B6E880\",\"#FF97FF\",\"#FECB52\"],\"font\":{\"color\":\"#2a3f5f\"},\"geo\":{\"bgcolor\":\"white\",\"lakecolor\":\"white\",\"landcolor\":\"#E5ECF6\",\"showlakes\":true,\"showland\":true,\"subunitcolor\":\"white\"},\"hoverlabel\":{\"align\":\"left\"},\"hovermode\":\"closest\",\"mapbox\":{\"style\":\"light\"},\"paper_bgcolor\":\"white\",\"plot_bgcolor\":\"#E5ECF6\",\"polar\":{\"angularaxis\":{\"gridcolor\":\"white\",\"linecolor\":\"white\",\"ticks\":\"\"},\"bgcolor\":\"#E5ECF6\",\"radialaxis\":{\"gridcolor\":\"white\",\"linecolor\":\"white\",\"ticks\":\"\"}},\"scene\":{\"xaxis\":{\"backgroundcolor\":\"#E5ECF6\",\"gridcolor\":\"white\",\"gridwidth\":2,\"linecolor\":\"white\",\"showbackground\":true,\"ticks\":\"\",\"zerolinecolor\":\"white\"},\"yaxis\":{\"backgroundcolor\":\"#E5ECF6\",\"gridcolor\":\"white\",\"gridwidth\":2,\"linecolor\":\"white\",\"showbackground\":true,\"ticks\":\"\",\"zerolinecolor\":\"white\"},\"zaxis\":{\"backgroundcolor\":\"#E5ECF6\",\"gridcolor\":\"white\",\"gridwidth\":2,\"linecolor\":\"white\",\"showbackground\":true,\"ticks\":\"\",\"zerolinecolor\":\"white\"}},\"shapedefaults\":{\"line\":{\"color\":\"#2a3f5f\"}},\"ternary\":{\"aaxis\":{\"gridcolor\":\"white\",\"linecolor\":\"white\",\"ticks\":\"\"},\"baxis\":{\"gridcolor\":\"white\",\"linecolor\":\"white\",\"ticks\":\"\"},\"bgcolor\":\"#E5ECF6\",\"caxis\":{\"gridcolor\":\"white\",\"linecolor\":\"white\",\"ticks\":\"\"}},\"title\":{\"x\":0.05},\"xaxis\":{\"automargin\":true,\"gridcolor\":\"white\",\"linecolor\":\"white\",\"ticks\":\"\",\"title\":{\"standoff\":15},\"zerolinecolor\":\"white\",\"zerolinewidth\":2},\"yaxis\":{\"automargin\":true,\"gridcolor\":\"white\",\"linecolor\":\"white\",\"ticks\":\"\",\"title\":{\"standoff\":15},\"zerolinecolor\":\"white\",\"zerolinewidth\":2}}},\"title\":{\"text\":\"Economy (GDP per Capita) Across the world in 2022)\"}},                        {\"responsive\": true}                    ).then(function(){\n",
       "                            \n",
       "var gd = document.getElementById('fecbf064-514a-48e8-ae53-abbcc201c636');\n",
       "var x = new MutationObserver(function (mutations, observer) {{\n",
       "        var display = window.getComputedStyle(gd).display;\n",
       "        if (!display || display === 'none') {{\n",
       "            console.log([gd, 'removed!']);\n",
       "            Plotly.purge(gd);\n",
       "            observer.disconnect();\n",
       "        }}\n",
       "}});\n",
       "\n",
       "// Listen for the removal of the full notebook cells\n",
       "var notebookContainer = gd.closest('#notebook-container');\n",
       "if (notebookContainer) {{\n",
       "    x.observe(notebookContainer, {childList: true});\n",
       "}}\n",
       "\n",
       "// Listen for the clearing of the current output cell\n",
       "var outputEl = gd.closest('.output');\n",
       "if (outputEl) {{\n",
       "    x.observe(outputEl, {childList: true});\n",
       "}}\n",
       "\n",
       "                        })                };                });            </script>        </div>"
      ]
     },
     "metadata": {},
     "output_type": "display_data"
    }
   ],
   "source": [
    "map_happy = dict(type = 'choropleth', \n",
    "           locations = data_2022['Country'],\n",
    "           locationmode = 'country names',\n",
    "           z = data_2022['Economy (GDP per Capita)'], \n",
    "           text =data_2022['Country'],\n",
    "           colorbar = {'title':'Economy (GDP per Capita)'},\n",
    "           colorscale = 'Viridis')\n",
    "layout = dict(title = 'Economy (GDP per Capita) Across the world in 2022)', \n",
    "              geo = dict(showframe = True, projection = {'type': 'equirectangular'}))\n",
    "\n",
    "choromap3 = go.Figure(data = [map_happy], layout=layout)\n",
    "iplot(choromap3)"
   ]
  },
  {
   "cell_type": "code",
   "execution_count": null,
   "id": "9e31bbce",
   "metadata": {},
   "outputs": [],
   "source": []
  }
 ],
 "metadata": {
  "kernelspec": {
   "display_name": "Python 3 (ipykernel)",
   "language": "python",
   "name": "python3"
  },
  "language_info": {
   "codemirror_mode": {
    "name": "ipython",
    "version": 3
   },
   "file_extension": ".py",
   "mimetype": "text/x-python",
   "name": "python",
   "nbconvert_exporter": "python",
   "pygments_lexer": "ipython3",
   "version": "3.9.12"
  }
 },
 "nbformat": 4,
 "nbformat_minor": 5
}
